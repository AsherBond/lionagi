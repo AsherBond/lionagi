{
 "cells": [
  {
   "cell_type": "code",
   "execution_count": 2,
   "metadata": {},
   "outputs": [],
   "source": [
    "from lionagi.core.generic.progression import progression\n",
    "from lionagi.core.generic.component import Component"
   ]
  },
  {
   "cell_type": "markdown",
   "metadata": {},
   "source": [
    "## Create"
   ]
  },
  {
   "cell_type": "code",
   "execution_count": 3,
   "metadata": {},
   "outputs": [
    {
     "data": {
      "text/plain": [
       "{'timestamp': 1727784425.064891,\n",
       " 'ln_id': 'ln061020695f-5ca8df-661-707609abb1c0e-cc9ab1492d',\n",
       " 'order': [],\n",
       " 'name': 'new progression',\n",
       " 'lion_class': 'Progression'}"
      ]
     },
     "execution_count": 3,
     "metadata": {},
     "output_type": "execute_result"
    }
   ],
   "source": [
    "p1 = progression(name=\"new progression\")\n",
    "p1.to_dict()"
   ]
  },
  {
   "cell_type": "code",
   "execution_count": 4,
   "metadata": {},
   "outputs": [
    {
     "name": "stdout",
     "output_type": "stream",
     "text": [
      "p1 length is  0\n",
      "p1 is empty  True\n"
     ]
    }
   ],
   "source": [
    "print(\"p1 length is \", len(p1))  # 0 means empty\n",
    "print(\"p1 is empty \", p1.is_empty())  # True means empty"
   ]
  },
  {
   "cell_type": "markdown",
   "metadata": {},
   "source": [
    "## Include"
   ]
  },
  {
   "cell_type": "code",
   "execution_count": 5,
   "metadata": {},
   "outputs": [],
   "source": [
    "# create 10 nodes\n",
    "\n",
    "nodes = [Component(content=i) for i in range(10)]"
   ]
  },
  {
   "cell_type": "code",
   "execution_count": 6,
   "metadata": {},
   "outputs": [
    {
     "name": "stdout",
     "output_type": "stream",
     "text": [
      "node1 in p1  True\n"
     ]
    }
   ],
   "source": [
    "p1.include(nodes[0])  # include a single node\n",
    "len(p1)  # 1\n",
    "print(\"node1 in p1 \", nodes[0] in p1)  # True"
   ]
  },
  {
   "cell_type": "code",
   "execution_count": 7,
   "metadata": {},
   "outputs": [
    {
     "data": {
      "text/plain": [
       "5"
      ]
     },
     "execution_count": 7,
     "metadata": {},
     "output_type": "execute_result"
    }
   ],
   "source": [
    "p1.include(nodes[1:5])  # include a list of nodes\n",
    "len(p1)  # 5"
   ]
  },
  {
   "cell_type": "code",
   "execution_count": 8,
   "metadata": {},
   "outputs": [
    {
     "data": {
      "text/plain": [
       "10"
      ]
     },
     "execution_count": 8,
     "metadata": {},
     "output_type": "execute_result"
    }
   ],
   "source": [
    "node_dict = {str(i): nodes[i] for i in range(5, 10)}\n",
    "\n",
    "p1.include(node_dict)  # include a dict of nodes\n",
    "len(p1)  # 10"
   ]
  },
  {
   "cell_type": "markdown",
   "metadata": {},
   "source": [
    "include the same element twice, won't make any difference, as include only checks membership"
   ]
  },
  {
   "cell_type": "markdown",
   "metadata": {},
   "source": [
    "## Exclude"
   ]
  },
  {
   "cell_type": "code",
   "execution_count": 9,
   "metadata": {},
   "outputs": [
    {
     "name": "stdout",
     "output_type": "stream",
     "text": [
      "p1 length is  9\n",
      "node1 in p1  False\n"
     ]
    }
   ],
   "source": [
    "p1.exclude(nodes[0])  # exclude a single node\n",
    "\n",
    "print(\"p1 length is \", len(p1))  # 9\n",
    "print(\"node1 in p1 \", nodes[0] in p1)  # False"
   ]
  },
  {
   "cell_type": "code",
   "execution_count": 10,
   "metadata": {},
   "outputs": [
    {
     "name": "stdout",
     "output_type": "stream",
     "text": [
      "p1 length is  5\n"
     ]
    }
   ],
   "source": [
    "p1.exclude(nodes[1:5])  # exclude a list of nodes\n",
    "\n",
    "print(\"p1 length is \", len(p1))  # 5"
   ]
  },
  {
   "cell_type": "code",
   "execution_count": 11,
   "metadata": {},
   "outputs": [
    {
     "name": "stdout",
     "output_type": "stream",
     "text": [
      "p1 length is  0\n"
     ]
    }
   ],
   "source": [
    "p1.exclude(node_dict)  # exclude a dict of nodes\n",
    "\n",
    "print(\"p1 length is \", len(p1))  # 0"
   ]
  },
  {
   "cell_type": "code",
   "execution_count": 12,
   "metadata": {},
   "outputs": [
    {
     "data": {
      "text/plain": [
       "Progression([])"
      ]
     },
     "execution_count": 12,
     "metadata": {},
     "output_type": "execute_result"
    }
   ],
   "source": [
    "p1"
   ]
  },
  {
   "cell_type": "code",
   "execution_count": 13,
   "metadata": {},
   "outputs": [],
   "source": [
    "p1.exclude(nodes[0])"
   ]
  },
  {
   "cell_type": "code",
   "execution_count": 14,
   "metadata": {},
   "outputs": [
    {
     "data": {
      "text/plain": [
       "Progression([])"
      ]
     },
     "execution_count": 14,
     "metadata": {},
     "output_type": "execute_result"
    }
   ],
   "source": [
    "p1"
   ]
  },
  {
   "cell_type": "markdown",
   "metadata": {},
   "source": [
    "similarly, exclude the non-existent element in progression, won't make any difference, as it only checks membership"
   ]
  },
  {
   "cell_type": "markdown",
   "metadata": {},
   "source": [
    "## Getitem / Setitem"
   ]
  },
  {
   "cell_type": "code",
   "execution_count": 15,
   "metadata": {},
   "outputs": [
    {
     "data": {
      "text/plain": [
       "10"
      ]
     },
     "execution_count": 15,
     "metadata": {},
     "output_type": "execute_result"
    }
   ],
   "source": [
    "# create a new progression instance with 10 nodes\n",
    "p1 = progression([Component(content=i) for i in range(10)])\n",
    "len(p1)"
   ]
  },
  {
   "cell_type": "code",
   "execution_count": 16,
   "metadata": {},
   "outputs": [],
   "source": [
    "node1_id = p1[0]  # index with int, get the first node"
   ]
  },
  {
   "cell_type": "code",
   "execution_count": 17,
   "metadata": {},
   "outputs": [
    {
     "data": {
      "text/plain": [
       "Progression(['ln3ed9a5f522003831-8b-d385d-5c0-ba09513e8261dd65', 'ln343e217120a0-4b6535badde47e8743-b-f-5c4ba87052', 'lnf02682-a71f756a67e-8362c2-4a-35d880ad9895ccb1c', 'lnfd55444a7a2-1cebf077-45cffce3ca-46ec9d-753c62f', 'lnb6b815cc52-2c5e-ea-bd58c35094b9-57860b4ecfaf57'])"
      ]
     },
     "execution_count": 17,
     "metadata": {},
     "output_type": "execute_result"
    }
   ],
   "source": [
    "p1[:5]  # index with slice, get the first 5 nodes"
   ]
  },
  {
   "cell_type": "code",
   "execution_count": 18,
   "metadata": {},
   "outputs": [
    {
     "name": "stdout",
     "output_type": "stream",
     "text": [
      "10\n"
     ]
    }
   ],
   "source": [
    "p1[0] = Component()  # index with int, set the first node\n",
    "print(len(p1))"
   ]
  },
  {
   "cell_type": "code",
   "execution_count": 19,
   "metadata": {},
   "outputs": [
    {
     "data": {
      "text/plain": [
       "False"
      ]
     },
     "execution_count": 19,
     "metadata": {},
     "output_type": "execute_result"
    }
   ],
   "source": [
    "p1[0] == node1_id  # False, since we changed the first node"
   ]
  },
  {
   "cell_type": "code",
   "execution_count": 20,
   "metadata": {},
   "outputs": [
    {
     "name": "stdout",
     "output_type": "stream",
     "text": [
      "14\n"
     ]
    }
   ],
   "source": [
    "p1[0] = [\n",
    "    Component() for _ in range(5)\n",
    "]  # index with int, set the first node with a list of nodes\n",
    "print(len(p1))  # we replaced the first node with 5 nodes, 10 - 1 + 5 = 14"
   ]
  },
  {
   "cell_type": "code",
   "execution_count": 21,
   "metadata": {},
   "outputs": [
    {
     "data": {
      "text/plain": [
       "{'timestamp': 1727784425.135159,\n",
       " 'ln_id': 'lnb421ab-5bc-b-e21a80f7cd2bd5b3-81c817532d549ed3',\n",
       " 'order': ['ln9367cf75f7-2019-2fd0255-86-1509cb7a1010b6f6cd0',\n",
       "  'ln25e00393954cd-e7-90e0-4abc93fac-194c4637d67ff0',\n",
       "  'lnc52db3fc-cb8-e49505-f4dec3fe0810e6-71c2027a1c1',\n",
       "  'ln303b972-7b2e6c-26c167-f99ef3-3b2ec5527f72766a3',\n",
       "  'lna76e94e8b04346a75f97-d1bf08-a14ed-806-31ca6d2d',\n",
       "  'ln343e217120a0-4b6535badde47e8743-b-f-5c4ba87052',\n",
       "  'lnf02682-a71f756a67e-8362c2-4a-35d880ad9895ccb1c',\n",
       "  'lnfd55444a7a2-1cebf077-45cffce3ca-46ec9d-753c62f',\n",
       "  'lnb6b815cc52-2c5e-ea-bd58c35094b9-57860b4ecfaf57',\n",
       "  'lne99f47dd42022-18628c9453ca-422ae25-3ac-9d36c35',\n",
       "  'ln274c631ef-ebb-1e77a8c0703-358c10539b-fc66a1757',\n",
       "  'ln7852a8385efb1c5b-2a-65be02f7ab0-4-5da02f89be87',\n",
       "  'ln41756f6fc69b7edca789-4e9c461b42-21e-7-6f968c3e',\n",
       "  'lnaf6f4743d-3233b0-135676b-825f-f9e96823425f2441'],\n",
       " 'name': None,\n",
       " 'lion_class': 'Progression'}"
      ]
     },
     "execution_count": 21,
     "metadata": {},
     "output_type": "execute_result"
    }
   ],
   "source": [
    "p1.to_dict()"
   ]
  },
  {
   "cell_type": "code",
   "execution_count": 22,
   "metadata": {},
   "outputs": [
    {
     "name": "stdout",
     "output_type": "stream",
     "text": [
      "index 100 item not found\n"
     ]
    }
   ],
   "source": [
    "# getting non-existent index will raise an error\n",
    "try:\n",
    "    print(p1[100])\n",
    "except Exception as e:\n",
    "    print(e)"
   ]
  },
  {
   "cell_type": "markdown",
   "metadata": {},
   "source": [
    "## Index"
   ]
  },
  {
   "cell_type": "code",
   "execution_count": 23,
   "metadata": {},
   "outputs": [],
   "source": [
    "nodes = [Component(content=i) for i in range(100)]\n",
    "\n",
    "p1 = progression(nodes, name=\"new progression\")"
   ]
  },
  {
   "cell_type": "code",
   "execution_count": 24,
   "metadata": {},
   "outputs": [
    {
     "name": "stdout",
     "output_type": "stream",
     "text": [
      "index location is  50\n",
      "progression length is  100\n"
     ]
    }
   ],
   "source": [
    "# let us confirm the index location of item 50,\n",
    "print(\"index location is \", p1.index(nodes[50]))  # 50\n",
    "print(\"progression length is \", len(p1))  # 100"
   ]
  },
  {
   "cell_type": "code",
   "execution_count": 25,
   "metadata": {},
   "outputs": [
    {
     "name": "stdout",
     "output_type": "stream",
     "text": [
      "index location is  50\n",
      "progression length is  103\n"
     ]
    }
   ],
   "source": [
    "# let's see what will happen if we have more than one instance of the same item\n",
    "p1.append([nodes[50], nodes[50], nodes[50]])\n",
    "print(\"index location is \", p1.index(nodes[50]))\n",
    "print(\"progression length is \", len(p1))"
   ]
  },
  {
   "cell_type": "markdown",
   "metadata": {},
   "source": [
    "we still only get the index of the first item, you can decide where to start indexing"
   ]
  },
  {
   "cell_type": "code",
   "execution_count": 26,
   "metadata": {},
   "outputs": [
    {
     "name": "stdout",
     "output_type": "stream",
     "text": [
      "index location is  100\n"
     ]
    }
   ],
   "source": [
    "# the next node50 after index 50, is at index 100\n",
    "print(\"index location is \", p1.index(nodes[50], start=51))"
   ]
  },
  {
   "cell_type": "code",
   "execution_count": 27,
   "metadata": {},
   "outputs": [
    {
     "name": "stdout",
     "output_type": "stream",
     "text": [
      "index location is  101\n"
     ]
    }
   ],
   "source": [
    "# you can also use negative index as start\n",
    "print(\"index location is \", p1.index(nodes[50], start=-2))"
   ]
  },
  {
   "cell_type": "code",
   "execution_count": 28,
   "metadata": {},
   "outputs": [
    {
     "data": {
      "text/plain": [
       "4"
      ]
     },
     "execution_count": 28,
     "metadata": {},
     "output_type": "execute_result"
    }
   ],
   "source": [
    "p1.count(nodes[50])"
   ]
  },
  {
   "cell_type": "markdown",
   "metadata": {},
   "source": [
    "## Remove /Pop / Popleft"
   ]
  },
  {
   "cell_type": "code",
   "execution_count": 29,
   "metadata": {},
   "outputs": [
    {
     "name": "stdout",
     "output_type": "stream",
     "text": [
      "progression length is  103\n"
     ]
    }
   ],
   "source": [
    "# remove method, get rid of the first instance of the item of interest\n",
    "\n",
    "print(\"progression length is \", len(p1))  # 103"
   ]
  },
  {
   "cell_type": "code",
   "execution_count": 30,
   "metadata": {},
   "outputs": [
    {
     "name": "stdout",
     "output_type": "stream",
     "text": [
      "progression length is  102\n"
     ]
    }
   ],
   "source": [
    "p1.remove(nodes[50])\n",
    "print(\"progression length is \", len(p1))  # 102"
   ]
  },
  {
   "cell_type": "code",
   "execution_count": 31,
   "metadata": {},
   "outputs": [
    {
     "data": {
      "text/plain": [
       "'lnc4f4d0f68e-7fafca7ff005-2df6-8-2098d9af99036a2'"
      ]
     },
     "execution_count": 31,
     "metadata": {},
     "output_type": "execute_result"
    }
   ],
   "source": [
    "# pop method only takes int as index\n",
    "\n",
    "p1.pop(49)"
   ]
  },
  {
   "cell_type": "code",
   "execution_count": 32,
   "metadata": {},
   "outputs": [
    {
     "name": "stdout",
     "output_type": "stream",
     "text": [
      "pop index out of range\n"
     ]
    }
   ],
   "source": [
    "# will raise an error if nothing found\n",
    "\n",
    "try:\n",
    "    p1.pop(1000)\n",
    "except Exception as e:\n",
    "    print(e)"
   ]
  },
  {
   "cell_type": "code",
   "execution_count": 33,
   "metadata": {},
   "outputs": [
    {
     "data": {
      "text/plain": [
       "'ln93e7f6-953e62e2eafa64861-18-6770c725-9d2da84bf'"
      ]
     },
     "execution_count": 33,
     "metadata": {},
     "output_type": "execute_result"
    }
   ],
   "source": [
    "# similar to deque.popleft\n",
    "p1.popleft()"
   ]
  },
  {
   "cell_type": "markdown",
   "metadata": {},
   "source": [
    "## Append vs Include vs SetItem"
   ]
  },
  {
   "cell_type": "code",
   "execution_count": 34,
   "metadata": {},
   "outputs": [],
   "source": [
    "nodes = [Component(content=i) for i in range(10)]\n",
    "p1 = progression(nodes, name=\"new progression\")"
   ]
  },
  {
   "cell_type": "code",
   "execution_count": 35,
   "metadata": {},
   "outputs": [
    {
     "data": {
      "text/plain": [
       "True"
      ]
     },
     "execution_count": 35,
     "metadata": {},
     "output_type": "execute_result"
    }
   ],
   "source": [
    "## 1. append\n",
    "p1.append(nodes[0])\n",
    "len(p1)  # 11\n",
    "p1[-1] == p1[0]"
   ]
  },
  {
   "cell_type": "code",
   "execution_count": 36,
   "metadata": {},
   "outputs": [
    {
     "data": {
      "text/plain": [
       "11"
      ]
     },
     "execution_count": 36,
     "metadata": {},
     "output_type": "execute_result"
    }
   ],
   "source": [
    "## 2. include\n",
    "p1.include(nodes[1:5])\n",
    "len(p1)  # 11"
   ]
  },
  {
   "cell_type": "code",
   "execution_count": 37,
   "metadata": {},
   "outputs": [
    {
     "name": "stdout",
     "output_type": "stream",
     "text": [
      "15\n"
     ]
    }
   ],
   "source": [
    "## 3. setitem\n",
    "p1[0] = nodes[5:]\n",
    "print(len(p1))  # 15"
   ]
  },
  {
   "cell_type": "markdown",
   "metadata": {},
   "source": [
    "## Other Methods"
   ]
  },
  {
   "cell_type": "code",
   "execution_count": 38,
   "metadata": {},
   "outputs": [
    {
     "data": {
      "text/plain": [
       "['ln2a116324d9-2-fe84f253bc-bc3-ff7d70561dafbab10f',\n",
       " 'ln322da40fa0edbdf-f5975f837a43-46d72-324-f78ee0d',\n",
       " 'ln8f82b62-25-7cfd5-e31e8244ba3f88d07992-2be78e44',\n",
       " 'lnbf9d58-96ef-92d53-bd5429ef-7ef206be57a6c9e5ae1',\n",
       " 'ln7193fc2f5449b797d614c-9a-771717e8-faa-b5c26e0f',\n",
       " 'ln8c0cbfd9522cf9ae2c2-f-4359156-3-f8568033057363',\n",
       " 'ln6aa8359ca-d-22b795b93-f62dba456-5db55d83743157',\n",
       " 'lnaa49897e4c2-e-1fb655f6-005ba-7429cfe65134e789f',\n",
       " 'ln4ff9e68d620afafe5c4591-3d38-243e-5968-fa392d73',\n",
       " 'ln2a116324d9-2-fe84f253bc-bc3-ff7d70561dafbab10f',\n",
       " 'ln322da40fa0edbdf-f5975f837a43-46d72-324-f78ee0d',\n",
       " 'ln8f82b62-25-7cfd5-e31e8244ba3f88d07992-2be78e44',\n",
       " 'lnbf9d58-96ef-92d53-bd5429ef-7ef206be57a6c9e5ae1',\n",
       " 'ln7193fc2f5449b797d614c-9a-771717e8-faa-b5c26e0f',\n",
       " 'ln2e3c985-236060f57a58d9d087-5-efcd8c-23f9d66c42']"
      ]
     },
     "execution_count": 38,
     "metadata": {},
     "output_type": "execute_result"
    }
   ],
   "source": [
    "## list\n",
    "\n",
    "list(p1)"
   ]
  },
  {
   "cell_type": "code",
   "execution_count": 39,
   "metadata": {},
   "outputs": [
    {
     "data": {
      "text/plain": [
       "<reversed at 0x11d3bd780>"
      ]
     },
     "execution_count": 39,
     "metadata": {},
     "output_type": "execute_result"
    }
   ],
   "source": [
    "## reverse\n",
    "\n",
    "reversed(p1)"
   ]
  },
  {
   "cell_type": "code",
   "execution_count": 40,
   "metadata": {},
   "outputs": [
    {
     "data": {
      "text/plain": [
       "\"Progression(name=new progression, size=15, items=['ln2a116324d9-2-fe84f253bc-bc3-ff7d70561dafbab10f...)\""
      ]
     },
     "execution_count": 40,
     "metadata": {},
     "output_type": "execute_result"
    }
   ],
   "source": [
    "str(p1)"
   ]
  },
  {
   "cell_type": "code",
   "execution_count": 41,
   "metadata": {},
   "outputs": [
    {
     "data": {
      "text/plain": [
       "\"Progression(['ln2a116324d9-2-fe84f253bc-bc3-ff7d70561dafbab10f', 'ln322da40fa0edbdf-f5975f837a43-46d72-324-f78ee0d', 'ln8f82b62-25-7cfd5-e31e8244ba3f88d07992-2be78e44', 'lnbf9d58-96ef-92d53-bd5429ef-7ef206be57a6c9e5ae1', 'ln7193fc2f5449b797d614c-9a-771717e8-faa-b5c26e0f', 'ln8c0cbfd9522cf9ae2c2-f-4359156-3-f8568033057363', 'ln6aa8359ca-d-22b795b93-f62dba456-5db55d83743157', 'lnaa49897e4c2-e-1fb655f6-005ba-7429cfe65134e789f', 'ln4ff9e68d620afafe5c4591-3d38-243e-5968-fa392d73', 'ln2a116324d9-2-fe84f253bc-bc3-ff7d70561dafbab10f', 'ln322da40fa0edbdf-f5975f837a43-46d72-324-f78ee0d', 'ln8f82b62-25-7cfd5-e31e8244ba3f88d07992-2be78e44', 'lnbf9d58-96ef-92d53-bd5429ef-7ef206be57a6c9e5ae1', 'ln7193fc2f5449b797d614c-9a-771717e8-faa-b5c26e0f', 'ln2e3c985-236060f57a58d9d087-5-efcd8c-23f9d66c42'])\""
      ]
     },
     "execution_count": 41,
     "metadata": {},
     "output_type": "execute_result"
    }
   ],
   "source": [
    "repr(p1)"
   ]
  },
  {
   "cell_type": "code",
   "execution_count": 42,
   "metadata": {},
   "outputs": [],
   "source": [
    "nodes1 = [Component(content=i) for i in range(10)]\n",
    "nodes2 = [Component(content=i) for i in range(10, 20)]\n",
    "\n",
    "p1 = progression(nodes1, name=\"new progression\")\n",
    "p2 = progression(nodes2, name=\"new progression2\")"
   ]
  },
  {
   "cell_type": "code",
   "execution_count": 43,
   "metadata": {},
   "outputs": [
    {
     "name": "stdout",
     "output_type": "stream",
     "text": [
      "11\n",
      "10\n"
     ]
    }
   ],
   "source": [
    "# add\n",
    "print(len(p1 + p2))  # 20\n",
    "print(len(p1))  # 10, not in-place"
   ]
  },
  {
   "cell_type": "code",
   "execution_count": 44,
   "metadata": {},
   "outputs": [
    {
     "name": "stdout",
     "output_type": "stream",
     "text": [
      "9\n",
      "10\n"
     ]
    }
   ],
   "source": [
    "# subtract\n",
    "print(len(p1 - p1[0]))  # 9\n",
    "print(len(p1))  # 10, not in-place"
   ]
  },
  {
   "cell_type": "code",
   "execution_count": 45,
   "metadata": {},
   "outputs": [
    {
     "name": "stdout",
     "output_type": "stream",
     "text": [
      "11\n"
     ]
    }
   ],
   "source": [
    "# iadd\n",
    "p1 += p2[0]\n",
    "print(len(p1))  # 11, in-place"
   ]
  },
  {
   "cell_type": "code",
   "execution_count": 46,
   "metadata": {},
   "outputs": [
    {
     "name": "stdout",
     "output_type": "stream",
     "text": [
      "10\n"
     ]
    }
   ],
   "source": [
    "# isub\n",
    "p1 -= p2[0]\n",
    "print(len(p1))  # 10, in-place"
   ]
  },
  {
   "cell_type": "code",
   "execution_count": 47,
   "metadata": {},
   "outputs": [
    {
     "name": "stdout",
     "output_type": "stream",
     "text": [
      "20\n"
     ]
    }
   ],
   "source": [
    "# extend, only works between Progression instances\n",
    "\n",
    "p1.extend(p2)\n",
    "print(len(p1))  # 20"
   ]
  },
  {
   "cell_type": "code",
   "execution_count": 48,
   "metadata": {},
   "outputs": [
    {
     "name": "stdout",
     "output_type": "stream",
     "text": [
      "21\n"
     ]
    }
   ],
   "source": [
    "# insert\n",
    "\n",
    "p1.insert(5, p2)\n",
    "print(len(p1))  # 29"
   ]
  },
  {
   "cell_type": "code",
   "execution_count": 49,
   "metadata": {},
   "outputs": [
    {
     "data": {
      "text/plain": [
       "21"
      ]
     },
     "execution_count": 49,
     "metadata": {},
     "output_type": "execute_result"
    }
   ],
   "source": [
    "# size\n",
    "\n",
    "p1.size()"
   ]
  },
  {
   "cell_type": "code",
   "execution_count": 50,
   "metadata": {},
   "outputs": [
    {
     "name": "stdout",
     "output_type": "stream",
     "text": [
      "ln0072c7d-6ae60bf4e26315342b68-15-aa9d82-a5f0d1f\n",
      "ln5f07184e87eafb-0687684a6-af-f680d69-39cc592201\n",
      "ln60869ccb5f6db5daa4-8-e4a1674-c4-137478e57e1a53\n",
      "ln77780e6ee3-6-62c362-952acaf9014cff-1588809ded5\n",
      "ln6e1bd5ce93c1-8e7d-00b64-84f368df8a-ee3841dcbe4\n"
     ]
    }
   ],
   "source": [
    "# iter\n",
    "\n",
    "ctr = 0\n",
    "for i in p1:\n",
    "    print(i)\n",
    "    ctr += 1\n",
    "    if ctr == 5:\n",
    "        break"
   ]
  }
 ],
 "metadata": {
  "kernelspec": {
   "display_name": "Python 3",
   "language": "python",
   "name": "python3"
  },
  "language_info": {
   "codemirror_mode": {
    "name": "ipython",
    "version": 3
   },
   "file_extension": ".py",
   "mimetype": "text/x-python",
   "name": "python",
   "nbconvert_exporter": "python",
   "pygments_lexer": "ipython3",
   "version": "3.12.4"
  }
 },
 "nbformat": 4,
 "nbformat_minor": 2
}
