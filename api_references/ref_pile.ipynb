{
 "cells": [
  {
   "cell_type": "markdown",
   "metadata": {},
   "source": [
    "## LION pile\n",
    "\n",
    "pile object is used throughout LION system, it's an async-compatible strong-typed ordered dict contains only instances of subclasses of `lionabc.Observable`\n",
    "\n",
    "`Observable` objects has `ln_id`\n"
   ]
  },
  {
   "cell_type": "code",
   "execution_count": 1,
   "metadata": {},
   "outputs": [],
   "source": [
    "import lionfuncs as ln\n",
    "from lion_core.generic.component import Component\n",
    "from lion_core.generic.element import Element\n",
    "from lion_core.generic.pile import Pile"
   ]
  },
  {
   "cell_type": "markdown",
   "metadata": {},
   "source": [
    "## Setitem / getitem\n",
    "\n",
    "The heart of LION system data structure philosophy"
   ]
  },
  {
   "cell_type": "code",
   "execution_count": 2,
   "metadata": {},
   "outputs": [],
   "source": [
    "from pydantic import Field\n",
    "\n",
    "\n",
    "# Example Element class for demonstration\n",
    "class Book(Element):\n",
    "    title: str = Field(..., title=\"The title of the book\")\n",
    "    author: str = Field(..., title=\"The author of the book\")\n",
    "\n",
    "    def __init__(self, title: str, author: str):\n",
    "        super().__init__(title=title, author=author)\n",
    "\n",
    "    def __repr__(self):\n",
    "        return f\"Book('{self.title}' by {self.author})\""
   ]
  },
  {
   "cell_type": "code",
   "execution_count": 3,
   "metadata": {},
   "outputs": [
    {
     "data": {
      "text/plain": [
       "{'timestamp': 1727789378.053981,\n",
       " 'ln_id': 'ln8fbd85-9ac5e4c842fab5-29f7a45da-5a003c-e24862b',\n",
       " 'pile': [],\n",
       " 'strict_type': False,\n",
       " 'lion_class': 'Pile'}"
      ]
     },
     "execution_count": 3,
     "metadata": {},
     "output_type": "execute_result"
    }
   ],
   "source": [
    "books = Pile(\n",
    "    item_type=Book, strict_type=True\n",
    ")  # this means we can only add Book objects to the pile\n",
    "books.to_dict()  # strict_type=True means, not even Book subclasses can be added"
   ]
  },
  {
   "cell_type": "code",
   "execution_count": 4,
   "metadata": {},
   "outputs": [
    {
     "name": "stdout",
     "output_type": "stream",
     "text": [
      "1\n"
     ]
    }
   ],
   "source": [
    "# set item and the many ways of using it\n",
    "\n",
    "# 1. set item by item\n",
    "book1 = Book(title=\"The Hobbit\", author=\"J.R.R. Tolkien\")\n",
    "books[book1] = book1\n",
    "print(len(books))"
   ]
  },
  {
   "cell_type": "code",
   "execution_count": 5,
   "metadata": {},
   "outputs": [
    {
     "name": "stdout",
     "output_type": "stream",
     "text": [
      "2\n"
     ]
    }
   ],
   "source": [
    "# 2. set a list of items by int\n",
    "_books = [\n",
    "    Book(title=\"The Hobbit\", author=\"J.R.R. Tolkien\"),\n",
    "    Book(title=\"The Lord of the Rings\", author=\"J.R.R. Tolkien\"),\n",
    "]\n",
    "books[0] = _books\n",
    "\n",
    "print(len(books))"
   ]
  },
  {
   "cell_type": "code",
   "execution_count": 6,
   "metadata": {},
   "outputs": [
    {
     "name": "stdout",
     "output_type": "stream",
     "text": [
      "4\n"
     ]
    }
   ],
   "source": [
    "# 3. set a list of items by slice\n",
    "_books = [\n",
    "    Book(title=\"The Hobbit\", author=\"J.R.R. Tolkien\"),\n",
    "    Book(title=\"The Lord of the Rings\", author=\"J.R.R. Tolkien\"),\n",
    "    Book(\"1984\", \"George Orwell\"),\n",
    "]\n",
    "books[1:] = _books\n",
    "\n",
    "print(len(books))"
   ]
  },
  {
   "cell_type": "code",
   "execution_count": 7,
   "metadata": {},
   "outputs": [
    {
     "data": {
      "text/plain": [
       "True"
      ]
     },
     "execution_count": 7,
     "metadata": {},
     "output_type": "execute_result"
    }
   ],
   "source": [
    "# 4. set item by item id\n",
    "book2 = Book(title=\"The Hobbit\", author=\"J.R.R. Tolkien\")\n",
    "books[book2.ln_id] = book2\n",
    "book2 in books"
   ]
  },
  {
   "cell_type": "code",
   "execution_count": 8,
   "metadata": {},
   "outputs": [
    {
     "data": {
      "text/plain": [
       "True"
      ]
     },
     "execution_count": 8,
     "metadata": {},
     "output_type": "execute_result"
    }
   ],
   "source": [
    "# 5. set a dict of item, by a dict of items\n",
    "book_dict_ = {\n",
    "    \"1\": Book(title=\"The Hobbit\", author=\"J.R.R. Tolkien\"),\n",
    "    \"2\": Book(title=\"The Lord of the Rings\", author=\"J.R.R. Tolkien\"),\n",
    "    \"3\": Book(title=\"1984\", author=\"George Orwell\"),\n",
    "}\n",
    "\n",
    "books[book_dict_] = book_dict_\n",
    "book_dict_ in books"
   ]
  },
  {
   "cell_type": "code",
   "execution_count": 9,
   "metadata": {},
   "outputs": [
    {
     "data": {
      "text/plain": [
       "8"
      ]
     },
     "execution_count": 9,
     "metadata": {},
     "output_type": "execute_result"
    }
   ],
   "source": [
    "len(books)"
   ]
  },
  {
   "cell_type": "markdown",
   "metadata": {},
   "source": [
    "There are more ways of using setitem/getitem, it supports many input data types (but must be of LION objects)"
   ]
  },
  {
   "cell_type": "code",
   "execution_count": 10,
   "metadata": {},
   "outputs": [
    {
     "name": "stdout",
     "output_type": "stream",
     "text": [
      "8\n"
     ]
    }
   ],
   "source": [
    "# get item and the equally many ways of using it, by int\n",
    "books[0]\n",
    "print(len(books))"
   ]
  },
  {
   "cell_type": "code",
   "execution_count": 11,
   "metadata": {},
   "outputs": [
    {
     "data": {
      "text/plain": [
       "[Book('The Hobbit' by J.R.R. Tolkien),\n",
       " Book('The Lord of the Rings' by J.R.R. Tolkien)]"
      ]
     },
     "execution_count": 11,
     "metadata": {},
     "output_type": "execute_result"
    }
   ],
   "source": [
    "books[1:3]  # by slice"
   ]
  },
  {
   "cell_type": "code",
   "execution_count": 12,
   "metadata": {},
   "outputs": [
    {
     "data": {
      "text/plain": [
       "Book('The Hobbit' by J.R.R. Tolkien)"
      ]
     },
     "execution_count": 12,
     "metadata": {},
     "output_type": "execute_result"
    }
   ],
   "source": [
    "books[book2.ln_id]  # by item ln_id"
   ]
  },
  {
   "cell_type": "code",
   "execution_count": 13,
   "metadata": {},
   "outputs": [
    {
     "data": {
      "text/plain": [
       "Book('The Hobbit' by J.R.R. Tolkien)"
      ]
     },
     "execution_count": 13,
     "metadata": {},
     "output_type": "execute_result"
    }
   ],
   "source": [
    "books[book2]  # by item, i'm not sure why you would want to do this, but it's possible"
   ]
  },
  {
   "cell_type": "code",
   "execution_count": 14,
   "metadata": {},
   "outputs": [
    {
     "name": "stdout",
     "output_type": "stream",
     "text": [
      "None\n"
     ]
    }
   ],
   "source": [
    "print(books.get(10, None))  # by index, with default value for error handling"
   ]
  },
  {
   "cell_type": "markdown",
   "metadata": {},
   "source": [
    "## Include / Update / Insert / Append"
   ]
  },
  {
   "cell_type": "code",
   "execution_count": 15,
   "metadata": {},
   "outputs": [],
   "source": [
    "# Initialize a Pile\n",
    "library = Pile(item_type=Book)"
   ]
  },
  {
   "cell_type": "code",
   "execution_count": 16,
   "metadata": {},
   "outputs": [
    {
     "name": "stdout",
     "output_type": "stream",
     "text": [
      "Library after include: Pile(3)\n"
     ]
    }
   ],
   "source": [
    "# include: Add an item or items to the pile\n",
    "library.include(Book(\"1984\", \"George Orwell\"))\n",
    "library.include(\n",
    "    [\n",
    "        Book(\"To Kill a Mockingbird\", \"Harper Lee\"),\n",
    "        Book(\"Pride and Prejudice\", \"Jane Austen\"),\n",
    "    ]\n",
    ")\n",
    "print(f\"Library after include: {library}\")"
   ]
  },
  {
   "cell_type": "code",
   "execution_count": 17,
   "metadata": {},
   "outputs": [
    {
     "name": "stdout",
     "output_type": "stream",
     "text": [
      "Library after update: Pile(5)\n"
     ]
    }
   ],
   "source": [
    "# update: Update the pile with items from another iterable\n",
    "new_books = [\n",
    "    Book(\"The Great Gatsby\", \"F. Scott Fitzgerald\"),\n",
    "    Book(\"One Hundred Years of Solitude\", \"Gabriel García Márquez\"),\n",
    "]\n",
    "library.update(new_books)\n",
    "print(f\"Library after update: {library}\")"
   ]
  },
  {
   "cell_type": "code",
   "execution_count": 18,
   "metadata": {},
   "outputs": [
    {
     "name": "stdout",
     "output_type": "stream",
     "text": [
      "Library after insert: Pile(6)\n"
     ]
    }
   ],
   "source": [
    "# insert: Insert an item at a specific position\n",
    "library.insert(2, Book(\"Moby-Dick\", \"Herman Melville\"))\n",
    "print(f\"Library after insert: {library}\")"
   ]
  },
  {
   "cell_type": "code",
   "execution_count": 19,
   "metadata": {},
   "outputs": [
    {
     "name": "stdout",
     "output_type": "stream",
     "text": [
      "Library after append: Pile(7)\n"
     ]
    }
   ],
   "source": [
    "# append: Add an item to the end of the pile\n",
    "library.append(Book(\"The Hobbit\", \"J.R.R. Tolkien\"))\n",
    "print(f\"Library after append: {library}\")"
   ]
  },
  {
   "cell_type": "code",
   "execution_count": 20,
   "metadata": {},
   "outputs": [],
   "source": [
    "# Demonstrate error handling and type checking\n",
    "try:\n",
    "    library.include(\"Not a Book object\")\n",
    "except Exception as e:\n",
    "    print(f\"Error when trying to include non-Book object: {e}\")"
   ]
  },
  {
   "cell_type": "code",
   "execution_count": 21,
   "metadata": {},
   "outputs": [
    {
     "name": "stdout",
     "output_type": "stream",
     "text": [
      "Error when trying to add non-Book to strict pile: Invalid item type in pile. Expected {<class '__main__.Book'>} or the subclasses\n"
     ]
    }
   ],
   "source": [
    "# Showcase the use of strict type checking\n",
    "strict_library = Pile(item_type=Book, strict_type=True)\n",
    "try:\n",
    "    strict_library.include(Element())  # This should raise an error\n",
    "except Exception as e:\n",
    "    print(f\"Error when trying to add non-Book to strict pile: {e}\")"
   ]
  },
  {
   "cell_type": "code",
   "execution_count": 22,
   "metadata": {},
   "outputs": [
    {
     "name": "stdout",
     "output_type": "stream",
     "text": [
      "\n",
      "Demonstrating effect on internal order:\n",
      "Initial order: ['Book A', 'Book B', 'Book C']\n",
      "Order after insert: ['Book A', 'Book X', 'Book B', 'Book C']\n",
      "Order after append: ['Book A', 'Book X', 'Book B', 'Book C', 'Book Y']\n",
      "\n",
      "Note: `Append` and `insert` write operations on Pile are thread-safe.\n",
      "Note: Pile supports both sync and async operations. Use 'a'-prefixed methods for async (e.g., ainclude, aupdate).\n"
     ]
    }
   ],
   "source": [
    "# Demonstrate how these methods affect the internal order\n",
    "print(\"\\nDemonstrating effect on internal order:\")\n",
    "ordered_library = Pile(\n",
    "    items=[\n",
    "        Book(\"Book A\", \"Author A\"),\n",
    "        Book(\"Book B\", \"Author B\"),\n",
    "        Book(\"Book C\", \"Author C\"),\n",
    "    ]\n",
    ")\n",
    "print(f\"Initial order: {[book.title for book in ordered_library]}\")\n",
    "\n",
    "ordered_library.insert(1, Book(\"Book X\", \"Author X\"))\n",
    "print(f\"Order after insert: {[book.title for book in ordered_library]}\")\n",
    "\n",
    "ordered_library.append(Book(\"Book Y\", \"Author Y\"))\n",
    "print(f\"Order after append: {[book.title for book in ordered_library]}\")\n",
    "\n",
    "# Note on thread safety and asynchronous operations\n",
    "print(\"\\nNote: `Append` and `insert` write operations on Pile are thread-safe.\")\n",
    "print(\n",
    "    \"Note: Pile supports both sync and async operations. Use 'a'-prefixed methods for async (e.g., ainclude, aupdate).\"\n",
    ")"
   ]
  },
  {
   "cell_type": "markdown",
   "metadata": {},
   "source": [
    "## Pop/Remove/Exclude/Clear"
   ]
  },
  {
   "cell_type": "code",
   "execution_count": 23,
   "metadata": {},
   "outputs": [
    {
     "name": "stdout",
     "output_type": "stream",
     "text": [
      "Initial library:\n",
      "Pile(5)\n",
      "\n",
      "Demonstrating 'pop' method:\n",
      "Removed book: Book(ln_id=ln23e1.., timestamp=2024-10-01T13:29+00:00)\n",
      "Library after pop: Pile(4)\n",
      "Error when trying to pop non-existent index: Item not found. Error: index 10 item not found\n",
      "\n",
      "Demonstrating 'remove' method:\n",
      "Removed book: Book(ln_id=ln49c0.., timestamp=2024-10-01T13:29+00:00)\n",
      "Library after remove: Pile(3)\n",
      "Error when trying to remove non-existent book: Book(ln_id=ln754c.., timestamp=2024-10-01T13:29+00:00)\n",
      "\n",
      "Demonstrating 'exclude' method:\n",
      "Library after exclude: Pile(3)\n",
      "\n",
      "Demonstrating 'clear' method:\n",
      "Library after clear: Pile(0)\n",
      "\n",
      "Demonstrating 'is_empty' method:\n",
      "Is the library empty? True\n",
      "Is the library empty after adding a book? False\n",
      "\n",
      "Demonstrating the difference between remove and exclude:\n",
      "Initial library: Pile(3)\n",
      "Error when using remove: Book(ln_id=ln6526.., timestamp=2024-10-01T13:29+00:00)\n",
      "Library after exclude (no exception raised): Pile(3)\n",
      "\n",
      "Demonstrating effect on internal order:\n",
      "Initial order: ['Book A', 'Book B', 'Book C', 'Book D', 'Book E']\n",
      "Order after pop: ['Book A', 'Book B', 'Book D', 'Book E']\n",
      "Order after remove: ['Book B', 'Book D', 'Book E']\n",
      "Order after exclude: ['Book D', 'Book E']\n",
      "\n",
      "Note: `pop`, `clear` operations on Pile are thread-safe.\n",
      "Note: Pile supports both sync and async operations. Use 'a'-prefixed methods for async (e.g., apop, aremove).\n"
     ]
    }
   ],
   "source": [
    "# Initialize a Pile with some books\n",
    "library = Pile(\n",
    "    [\n",
    "        Book(\"1984\", \"George Orwell\"),\n",
    "        Book(\"To Kill a Mockingbird\", \"Harper Lee\"),\n",
    "        Book(\"Pride and Prejudice\", \"Jane Austen\"),\n",
    "        Book(\"The Great Gatsby\", \"F. Scott Fitzgerald\"),\n",
    "        Book(\"Moby-Dick\", \"Herman Melville\"),\n",
    "    ],\n",
    "    item_type=Book,\n",
    ")\n",
    "\n",
    "print(\"Initial library:\")\n",
    "print(library)\n",
    "\n",
    "# pop: Remove and return an item by index or key\n",
    "print(\"\\nDemonstrating 'pop' method:\")\n",
    "removed_book = library.pop(2)  # Remove the book at index 2\n",
    "print(f\"Removed book: {removed_book}\")\n",
    "print(f\"Library after pop: {library}\")\n",
    "\n",
    "# Try to pop a non-existent index\n",
    "try:\n",
    "    library.pop(10)\n",
    "except Exception as e:\n",
    "    print(f\"Error when trying to pop non-existent index: {e}\")\n",
    "\n",
    "# remove: Remove a specific item\n",
    "print(\"\\nDemonstrating 'remove' method:\")\n",
    "book_to_remove = library[0]\n",
    "library.remove(book_to_remove)\n",
    "print(f\"Removed book: {book_to_remove}\")\n",
    "print(f\"Library after remove: {library}\")\n",
    "\n",
    "# Try to remove a non-existent item\n",
    "try:\n",
    "    library.remove(Book(\"Non-existent Book\", \"Unknown Author\"))\n",
    "except Exception as e:\n",
    "    print(f\"Error when trying to remove non-existent book: {e}\")\n",
    "\n",
    "# exclude: Remove item(s) if present\n",
    "print(\"\\nDemonstrating 'exclude' method:\")\n",
    "books_to_exclude = [\n",
    "    Book(\"The Great Gatsby\", \"F. Scott Fitzgerald\"),\n",
    "    Book(\"Non-existent Book\", \"Unknown Author\"),\n",
    "]\n",
    "library.exclude(books_to_exclude)\n",
    "print(f\"Library after exclude: {library}\")\n",
    "\n",
    "# clear: Remove all items\n",
    "print(\"\\nDemonstrating 'clear' method:\")\n",
    "library.clear()\n",
    "print(f\"Library after clear: {library}\")\n",
    "\n",
    "# is_empty: Check if the pile is empty\n",
    "print(\"\\nDemonstrating 'is_empty' method:\")\n",
    "print(f\"Is the library empty? {library.is_empty()}\")\n",
    "\n",
    "# Add a book to the empty library\n",
    "library.include(Book(\"Dune\", \"Frank Herbert\"))\n",
    "print(f\"Is the library empty after adding a book? {library.is_empty()}\")\n",
    "\n",
    "# Demonstrate the difference between remove and exclude\n",
    "print(\"\\nDemonstrating the difference between remove and exclude:\")\n",
    "library = Pile(\n",
    "    [\n",
    "        Book(\"Book A\", \"Author A\"),\n",
    "        Book(\"Book B\", \"Author B\"),\n",
    "        Book(\"Book C\", \"Author C\"),\n",
    "    ],\n",
    "    item_type=Book,\n",
    ")\n",
    "\n",
    "print(\"Initial library:\", library)\n",
    "\n",
    "# remove raises an exception if the item is not found\n",
    "try:\n",
    "    library.remove(Book(\"Non-existent Book\", \"Unknown Author\"))\n",
    "except Exception as e:\n",
    "    print(f\"Error when using remove: {e}\")\n",
    "\n",
    "# exclude does not raise an exception if the item is not found\n",
    "library.exclude(Book(\"Non-existent Book\", \"Unknown Author\"))\n",
    "print(\"Library after exclude (no exception raised):\", library)\n",
    "\n",
    "# Demonstrate how these methods affect the internal order\n",
    "print(\"\\nDemonstrating effect on internal order:\")\n",
    "ordered_library = Pile(\n",
    "    [\n",
    "        Book(\"Book A\", \"Author A\"),\n",
    "        Book(\"Book B\", \"Author B\"),\n",
    "        Book(\"Book C\", \"Author C\"),\n",
    "        Book(\"Book D\", \"Author D\"),\n",
    "        Book(\"Book E\", \"Author E\"),\n",
    "    ],\n",
    "    item_type=Book,\n",
    ")\n",
    "\n",
    "print(\"Initial order:\", [book.title for book in ordered_library])\n",
    "\n",
    "ordered_library.pop(2)\n",
    "print(\"Order after pop:\", [book.title for book in ordered_library])\n",
    "\n",
    "ordered_library.remove(ordered_library[0])\n",
    "print(\"Order after remove:\", [book.title for book in ordered_library])\n",
    "\n",
    "ordered_library.exclude([ordered_library[0], Book(\"Non-existent\", \"Author\")])\n",
    "print(\"Order after exclude:\", [book.title for book in ordered_library])\n",
    "\n",
    "# Note on thread safety and asynchronous operations\n",
    "print(\"\\nNote: `pop`, `clear` operations on Pile are thread-safe.\")\n",
    "print(\n",
    "    \"Note: Pile supports both sync and async operations. Use 'a'-prefixed methods for async (e.g., apop, aremove).\"\n",
    ")"
   ]
  },
  {
   "cell_type": "markdown",
   "metadata": {},
   "source": [
    "## Get / Keys / Values / Items / Size / len / list"
   ]
  },
  {
   "cell_type": "code",
   "execution_count": 24,
   "metadata": {},
   "outputs": [
    {
     "name": "stdout",
     "output_type": "stream",
     "text": [
      "Initial library:\n",
      "Pile(5)\n",
      "\n",
      "Demonstrating 'get' method:\n",
      "Book at index 0: Book(ln_id=ln8ea1.., timestamp=2024-10-01T13:29+00:00)\n",
      "Book at index 10: Book not found\n",
      "\n",
      "Demonstrating 'keys' method:\n",
      "Book keys: ['ln8ea157-810a903d0be486a2-dd-746d-cc399a8c3e425d', 'lned14db-60b1656-8ec066-d7228637fe730d-9b3b6e4a8', 'ln775dd30dac6ac67-9c1f-2e-bb-f1648a9c093350844e8', 'lne6a4836-cf7ff336798-e05fde66-12b0b-de172508630', 'ln7bd495e2-93-c8fe59d6bd11c3e0c0ac6-56a8-294cc01']\n",
      "\n",
      "Demonstrating 'values' method:\n",
      "Books: [Book('1984' by George Orwell), Book('To Kill a Mockingbird' by Harper Lee), Book('Pride and Prejudice' by Jane Austen), Book('The Great Gatsby' by F. Scott Fitzgerald), Book('Moby-Dick' by Herman Melville)]\n",
      "\n",
      "Demonstrating 'items' method:\n",
      "Book items: [('ln8ea157-810a903d0be486a2-dd-746d-cc399a8c3e425d', Book('1984' by George Orwell)), ('lned14db-60b1656-8ec066-d7228637fe730d-9b3b6e4a8', Book('To Kill a Mockingbird' by Harper Lee)), ('ln775dd30dac6ac67-9c1f-2e-bb-f1648a9c093350844e8', Book('Pride and Prejudice' by Jane Austen)), ('lne6a4836-cf7ff336798-e05fde66-12b0b-de172508630', Book('The Great Gatsby' by F. Scott Fitzgerald)), ('ln7bd495e2-93-c8fe59d6bd11c3e0c0ac6-56a8-294cc01', Book('Moby-Dick' by Herman Melville))]\n",
      "\n",
      "Demonstrating 'size' method:\n",
      "Library size: 5\n",
      "\n",
      "Demonstrating 'len' function:\n",
      "Library length: 5\n",
      "\n",
      "Demonstrating conversion to list:\n",
      "Book list: [Book('1984' by George Orwell), Book('To Kill a Mockingbird' by Harper Lee), Book('Pride and Prejudice' by Jane Austen), Book('The Great Gatsby' by F. Scott Fitzgerald), Book('Moby-Dick' by Herman Melville)]\n",
      "\n",
      "Practical usage scenarios:\n",
      "\n",
      "1. Finding a book by its index:\n",
      "The third book in the library is: Book(ln_id=ln775d.., timestamp=2024-10-01T13:29+00:00)\n",
      "\n",
      "2. Listing all book titles:\n",
      "Book titles: ['1984', 'To Kill a Mockingbird', 'Pride and Prejudice', 'The Great Gatsby', 'Moby-Dick']\n",
      "\n",
      "3. Creating a dictionary of books with their Lion IDs:\n",
      "Book dictionary: {'ln8ea157-810a903d0be486a2-dd-746d-cc399a8c3e425d': '1984', 'lned14db-60b1656-8ec066-d7228637fe730d-9b3b6e4a8': 'To Kill a Mockingbird', 'ln775dd30dac6ac67-9c1f-2e-bb-f1648a9c093350844e8': 'Pride and Prejudice', 'lne6a4836-cf7ff336798-e05fde66-12b0b-de172508630': 'The Great Gatsby', 'ln7bd495e2-93-c8fe59d6bd11c3e0c0ac6-56a8-294cc01': 'Moby-Dick'}\n",
      "\n",
      "4. Checking if the library has a specific number of books:\n",
      "The library has the expected 5 books.\n",
      "\n",
      "5. Processing books in batches:\n",
      "Processing batch 1: [Book('1984' by George Orwell), Book('To Kill a Mockingbird' by Harper Lee)]\n",
      "Processing batch 2: [Book('Pride and Prejudice' by Jane Austen), Book('The Great Gatsby' by F. Scott Fitzgerald)]\n",
      "Processing batch 3: [Book('Moby-Dick' by Herman Melville)]\n",
      "\n",
      "Note: For large collections, consider the performance implications:\n",
      "- 'keys()', 'values()', and 'items()' return sequences, not iterators.\n",
      "- For very large Piles, these methods may consume significant memory.\n",
      "- Consider using iteration directly on the Pile for large datasets.\n",
      "\n",
      "Demonstrating direct iteration on the Pile:\n",
      "1984\n",
      "To Kill a Mockingbird\n",
      "Pride and Prejudice\n",
      "The Great Gatsby\n",
      "Moby-Dick\n"
     ]
    }
   ],
   "source": [
    "# Initialize a Pile with some books\n",
    "library = Pile(\n",
    "    [\n",
    "        Book(\"1984\", \"George Orwell\"),\n",
    "        Book(\"To Kill a Mockingbird\", \"Harper Lee\"),\n",
    "        Book(\"Pride and Prejudice\", \"Jane Austen\"),\n",
    "        Book(\"The Great Gatsby\", \"F. Scott Fitzgerald\"),\n",
    "        Book(\"Moby-Dick\", \"Herman Melville\"),\n",
    "    ],\n",
    "    item_type=Book,\n",
    ")\n",
    "\n",
    "print(\"Initial library:\")\n",
    "print(library)\n",
    "\n",
    "# get: Retrieve an item by key with a default value\n",
    "print(\"\\nDemonstrating 'get' method:\")\n",
    "book = library.get(0, \"Book not found\")\n",
    "print(f\"Book at index 0: {book}\")\n",
    "\n",
    "non_existent_book = library.get(10, \"Book not found\")\n",
    "print(f\"Book at index 10: {non_existent_book}\")\n",
    "\n",
    "# keys: Get all keys (Lion IDs) in the Pile\n",
    "print(\"\\nDemonstrating 'keys' method:\")\n",
    "book_keys = library.keys()\n",
    "print(f\"Book keys: {book_keys}\")\n",
    "\n",
    "# values: Get all values in the Pile\n",
    "print(\"\\nDemonstrating 'values' method:\")\n",
    "books = library.values()\n",
    "print(f\"Books: {books}\")\n",
    "\n",
    "# items: Get all (key, value) pairs in the Pile\n",
    "print(\"\\nDemonstrating 'items' method:\")\n",
    "book_items = library.items()\n",
    "print(f\"Book items: {book_items}\")\n",
    "\n",
    "# size: Get the number of items in the Pile\n",
    "print(\"\\nDemonstrating 'size' method:\")\n",
    "library_size = library.size()\n",
    "print(f\"Library size: {library_size}\")\n",
    "\n",
    "# len: Get the number of items in the Pile using len()\n",
    "print(\"\\nDemonstrating 'len' function:\")\n",
    "library_len = len(library)\n",
    "print(f\"Library length: {library_len}\")\n",
    "\n",
    "# list: Convert the Pile to a list\n",
    "print(\"\\nDemonstrating conversion to list:\")\n",
    "book_list = list(library)\n",
    "print(f\"Book list: {book_list}\")\n",
    "\n",
    "# Demonstrate how these methods can be used in practical scenarios\n",
    "print(\"\\nPractical usage scenarios:\")\n",
    "\n",
    "# 1. Finding a book by its index\n",
    "print(\"\\n1. Finding a book by its index:\")\n",
    "third_book = library.get(2, \"Book not found\")\n",
    "print(f\"The third book in the library is: {third_book}\")\n",
    "\n",
    "# 2. Listing all book titles\n",
    "print(\"\\n2. Listing all book titles:\")\n",
    "book_titles = [book.title for book in library.values()]\n",
    "print(f\"Book titles: {book_titles}\")\n",
    "\n",
    "# 3. Creating a dictionary of books with their Lion IDs\n",
    "print(\"\\n3. Creating a dictionary of books with their Lion IDs:\")\n",
    "book_dict = {key: book.title for key, book in library.items()}\n",
    "print(f\"Book dictionary: {book_dict}\")\n",
    "\n",
    "# 4. Checking if the library has a specific number of books\n",
    "print(\"\\n4. Checking if the library has a specific number of books:\")\n",
    "expected_size = 5\n",
    "if library.size() == expected_size:\n",
    "    print(f\"The library has the expected {expected_size} books.\")\n",
    "else:\n",
    "    print(\n",
    "        f\"The library size ({library.size()}) doesn't match the expected size ({expected_size}).\"\n",
    "    )\n",
    "\n",
    "# 5. Processing books in batches\n",
    "print(\"\\n5. Processing books in batches:\")\n",
    "batch_size = 2\n",
    "for i in range(0, len(library), batch_size):\n",
    "    batch = list(library)[i : i + batch_size]\n",
    "    print(f\"Processing batch {i//batch_size + 1}: {batch}\")\n",
    "\n",
    "# Note on performance considerations\n",
    "print(\"\\nNote: For large collections, consider the performance implications:\")\n",
    "print(\"- 'keys()', 'values()', and 'items()' return sequences, not iterators.\")\n",
    "print(\"- For very large Piles, these methods may consume significant memory.\")\n",
    "print(\"- Consider using iteration directly on the Pile for large datasets.\")\n",
    "\n",
    "# Demonstrate iteration directly on the Pile\n",
    "print(\"\\nDemonstrating direct iteration on the Pile:\")\n",
    "for book in library:\n",
    "    print(book.title)"
   ]
  },
  {
   "cell_type": "markdown",
   "metadata": {},
   "source": [
    "## Async Methods"
   ]
  },
  {
   "cell_type": "code",
   "execution_count": 25,
   "metadata": {},
   "outputs": [
    {
     "name": "stdout",
     "output_type": "stream",
     "text": [
      "Initial library:\n",
      "Pile(3)\n"
     ]
    }
   ],
   "source": [
    "import asyncio\n",
    "\n",
    "\n",
    "# Helper function to simulate an asynchronous operation\n",
    "async def async_operation(duration):\n",
    "    await asyncio.sleep(duration)\n",
    "\n",
    "\n",
    "# Initialize a Pile with some books\n",
    "library = Pile(\n",
    "    [\n",
    "        Book(\"1984\", \"George Orwell\"),\n",
    "        Book(\"To Kill a Mockingbird\", \"Harper Lee\"),\n",
    "        Book(\"Pride and Prejudice\", \"Jane Austen\"),\n",
    "    ],\n",
    "    item_type=Book,\n",
    ")\n",
    "\n",
    "print(\"Initial library:\")\n",
    "print(library)"
   ]
  },
  {
   "cell_type": "code",
   "execution_count": 26,
   "metadata": {},
   "outputs": [
    {
     "name": "stdout",
     "output_type": "stream",
     "text": [
      "Sync include result: Pile(4)\n",
      "Async include result: Pile(5)\n"
     ]
    }
   ],
   "source": [
    "# Sync\n",
    "library.include(Book(\"The Great Gatsby\", \"F. Scott Fitzgerald\"))\n",
    "print(\"Sync include result:\", library)\n",
    "\n",
    "# Async\n",
    "await library.ainclude(Book(\"Moby-Dick\", \"Herman Melville\"))\n",
    "print(\"Async include result:\", library)"
   ]
  },
  {
   "cell_type": "markdown",
   "metadata": {},
   "source": [
    "**Explanation**: The `include` method adds an item to the Pile immediately. The ainclude method is the asynchronous version, which allows other operations to occur while the inclusion is being processed."
   ]
  },
  {
   "cell_type": "code",
   "execution_count": 27,
   "metadata": {},
   "outputs": [
    {
     "name": "stdout",
     "output_type": "stream",
     "text": [
      "Sync pop result: Book(ln_id=ln2c0e.., timestamp=2024-10-01T13:29+00:00)\n",
      "Async pop result: Book(ln_id=lnf1b6.., timestamp=2024-10-01T13:29+00:00)\n"
     ]
    }
   ],
   "source": [
    "# Sync\n",
    "popped_book = library.pop(0)\n",
    "print(\"Sync pop result:\", popped_book)\n",
    "\n",
    "# Async\n",
    "apopped_book = await library.apop(0)\n",
    "print(\"Async pop result:\", apopped_book)"
   ]
  },
  {
   "cell_type": "markdown",
   "metadata": {},
   "source": [
    "**Explanation**: The pop method removes and returns an item from the Pile immediately. The apop method is the asynchronous version, which can be useful when removing items in a concurrent environment."
   ]
  },
  {
   "cell_type": "code",
   "execution_count": 28,
   "metadata": {},
   "outputs": [
    {
     "name": "stdout",
     "output_type": "stream",
     "text": [
      "Sync remove result: Pile(2)\n",
      "Async remove result: Pile(1)\n"
     ]
    }
   ],
   "source": [
    "book_to_remove = library[0]\n",
    "\n",
    "# Sync\n",
    "library.remove(book_to_remove)\n",
    "print(\"Sync remove result:\", library)\n",
    "\n",
    "# Async\n",
    "await library.aremove(library[0])\n",
    "print(\"Async remove result:\", library)"
   ]
  },
  {
   "cell_type": "markdown",
   "metadata": {},
   "source": [
    "**Explanation**: The remove method removes a specific item from the Pile immediately. The aremove method is the asynchronous version, allowing for non-blocking removal operations."
   ]
  },
  {
   "cell_type": "code",
   "execution_count": 29,
   "metadata": {},
   "outputs": [
    {
     "name": "stdout",
     "output_type": "stream",
     "text": [
      "Sync update result: Pile(3)\n",
      "Async update result: Pile(5)\n"
     ]
    }
   ],
   "source": [
    "new_books = [Book(\"Dune\", \"Frank Herbert\"), Book(\"Neuromancer\", \"William Gibson\")]\n",
    "\n",
    "# Sync\n",
    "library.update(new_books)\n",
    "print(\"Sync update result:\", library)\n",
    "\n",
    "# Async\n",
    "await library.aupdate(\n",
    "    [Book(\"Foundation\", \"Isaac Asimov\"), Book(\"The Hobbit\", \"J.R.R. Tolkien\")]\n",
    ")\n",
    "print(\"Async update result:\", library)"
   ]
  },
  {
   "cell_type": "code",
   "execution_count": 30,
   "metadata": {},
   "outputs": [
    {
     "name": "stdout",
     "output_type": "stream",
     "text": [
      "Sync get result: Book(ln_id=ln7fb6.., timestamp=2024-10-01T13:29+00:00)\n",
      "Async get result: Book(ln_id=ln7fb6.., timestamp=2024-10-01T13:29+00:00)\n"
     ]
    }
   ],
   "source": [
    "# Sync\n",
    "sync_get = library.get(0, \"Not found\")\n",
    "print(\"Sync get result:\", sync_get)\n",
    "\n",
    "# Async\n",
    "async_get = await library.aget(0, \"Not found\")\n",
    "print(\"Async get result:\", async_get)"
   ]
  },
  {
   "cell_type": "code",
   "execution_count": 31,
   "metadata": {},
   "outputs": [
    {
     "name": "stdout",
     "output_type": "stream",
     "text": [
      "Sync clear result: Pile(0)\n",
      "Async clear result: Pile(0)\n"
     ]
    }
   ],
   "source": [
    "# We'll use new piles for this example\n",
    "sync_pile = Pile(library.values(), item_type=Book)\n",
    "async_pile = Pile(library.values(), item_type=Book)\n",
    "\n",
    "# Sync\n",
    "sync_pile.clear()\n",
    "print(\"Sync clear result:\", sync_pile)\n",
    "\n",
    "# Async\n",
    "await async_pile.aclear()\n",
    "print(\"Async clear result:\", async_pile)"
   ]
  },
  {
   "cell_type": "code",
   "execution_count": 32,
   "metadata": {},
   "outputs": [
    {
     "name": "stdout",
     "output_type": "stream",
     "text": [
      "Sync iteration:\n",
      "Book(ln_id=ln5094.., timestamp=2024-10-01T13:29+00:00)\n",
      "Book(ln_id=ln20da.., timestamp=2024-10-01T13:29+00:00)\n",
      "Book(ln_id=ln7c69.., timestamp=2024-10-01T13:29+00:00)\n",
      "\n",
      "Async iteration:\n",
      "Book(ln_id=ln5094.., timestamp=2024-10-01T13:29+00:00)\n",
      "Book(ln_id=ln20da.., timestamp=2024-10-01T13:29+00:00)\n",
      "Book(ln_id=ln7c69.., timestamp=2024-10-01T13:29+00:00)\n"
     ]
    }
   ],
   "source": [
    "library = Pile(\n",
    "    [\n",
    "        Book(\"Book A\", \"Author A\"),\n",
    "        Book(\"Book B\", \"Author B\"),\n",
    "        Book(\"Book C\", \"Author C\"),\n",
    "    ],\n",
    "    item_type=Book,\n",
    ")\n",
    "\n",
    "print(\"Sync iteration:\")\n",
    "for book in library:\n",
    "    print(book)\n",
    "\n",
    "print(\"\\nAsync iteration:\")\n",
    "async for book in library:\n",
    "    print(book)\n",
    "    await async_operation(0.1)  # Simulate some async processing"
   ]
  },
  {
   "cell_type": "markdown",
   "metadata": {},
   "source": [
    "## Others"
   ]
  },
  {
   "cell_type": "code",
   "execution_count": 33,
   "metadata": {},
   "outputs": [],
   "source": [
    "# Helper function to create a pile of books\n",
    "def create_book_pile(*titles_and_authors):\n",
    "    return Pile(\n",
    "        [Book(title, author) for title, author in titles_and_authors], item_type=Book\n",
    "    )"
   ]
  },
  {
   "cell_type": "code",
   "execution_count": 34,
   "metadata": {},
   "outputs": [
    {
     "name": "stdout",
     "output_type": "stream",
     "text": [
      "Union result: Pile(4)\n"
     ]
    }
   ],
   "source": [
    "# Or\n",
    "\n",
    "pile1 = create_book_pile(\n",
    "    (\"1984\", \"George Orwell\"), (\"To Kill a Mockingbird\", \"Harper Lee\")\n",
    ")\n",
    "pile2 = create_book_pile(\n",
    "    (\"Pride and Prejudice\", \"Jane Austen\"), (\"1984\", \"George Orwell\")\n",
    ")\n",
    "\n",
    "union_pile = pile1 | pile2\n",
    "print(\"Union result:\", union_pile)"
   ]
  },
  {
   "cell_type": "code",
   "execution_count": 35,
   "metadata": {},
   "outputs": [
    {
     "name": "stdout",
     "output_type": "stream",
     "text": [
      "In-place union result: Pile(4)\n"
     ]
    }
   ],
   "source": [
    "# ior\n",
    "\n",
    "pile1 |= pile2\n",
    "print(\"In-place union result:\", pile1)"
   ]
  },
  {
   "cell_type": "code",
   "execution_count": 36,
   "metadata": {},
   "outputs": [
    {
     "name": "stdout",
     "output_type": "stream",
     "text": [
      "Symmetric difference result: Pile(4)\n"
     ]
    }
   ],
   "source": [
    "# xor\n",
    "\n",
    "pile1 = create_book_pile(\n",
    "    (\"1984\", \"George Orwell\"), (\"To Kill a Mockingbird\", \"Harper Lee\")\n",
    ")\n",
    "pile2 = create_book_pile(\n",
    "    (\"Pride and Prejudice\", \"Jane Austen\"), (\"1984\", \"George Orwell\")\n",
    ")\n",
    "\n",
    "sym_diff_pile = pile1 ^ pile2\n",
    "print(\"Symmetric difference result:\", sym_diff_pile)"
   ]
  },
  {
   "cell_type": "code",
   "execution_count": 37,
   "metadata": {},
   "outputs": [
    {
     "name": "stdout",
     "output_type": "stream",
     "text": [
      "In-place symmetric difference result: Pile(4)\n"
     ]
    }
   ],
   "source": [
    "# ixor\n",
    "\n",
    "pile1 ^= pile2\n",
    "print(\"In-place symmetric difference result:\", pile1)"
   ]
  },
  {
   "cell_type": "code",
   "execution_count": 38,
   "metadata": {},
   "outputs": [
    {
     "name": "stdout",
     "output_type": "stream",
     "text": [
      "Intersection result: Pile(0)\n"
     ]
    }
   ],
   "source": [
    "# and\n",
    "\n",
    "pile1 = create_book_pile(\n",
    "    (\"1984\", \"George Orwell\"), (\"To Kill a Mockingbird\", \"Harper Lee\")\n",
    ")\n",
    "pile2 = create_book_pile(\n",
    "    (\"Pride and Prejudice\", \"Jane Austen\"), (\"1984\", \"George Orwell\")\n",
    ")\n",
    "\n",
    "intersection_pile = pile1 & pile2\n",
    "print(\"Intersection result:\", intersection_pile)"
   ]
  },
  {
   "cell_type": "code",
   "execution_count": 39,
   "metadata": {},
   "outputs": [
    {
     "name": "stdout",
     "output_type": "stream",
     "text": [
      "In-place intersection result: Pile(0)\n"
     ]
    }
   ],
   "source": [
    "# iand\n",
    "\n",
    "pile1 &= pile2\n",
    "print(\"In-place intersection result:\", pile1)"
   ]
  },
  {
   "cell_type": "code",
   "execution_count": 40,
   "metadata": {},
   "outputs": [
    {
     "name": "stdout",
     "output_type": "stream",
     "text": [
      "Empty pile is truthy: False\n",
      "Non-empty pile is truthy: True\n"
     ]
    }
   ],
   "source": [
    "# bool\n",
    "\n",
    "empty_pile = Pile(item_type=Book)\n",
    "non_empty_pile = create_book_pile((\"1984\", \"George Orwell\"))\n",
    "\n",
    "print(\"Empty pile is truthy:\", bool(empty_pile))\n",
    "print(\"Non-empty pile is truthy:\", bool(non_empty_pile))"
   ]
  },
  {
   "cell_type": "code",
   "execution_count": 41,
   "metadata": {},
   "outputs": [
    {
     "name": "stdout",
     "output_type": "stream",
     "text": [
      "Str representation: Pile(2)\n",
      "Repr representation: Pile(2)\n"
     ]
    }
   ],
   "source": [
    "book_pile = create_book_pile(\n",
    "    (\"1984\", \"George Orwell\"), (\"To Kill a Mockingbird\", \"Harper Lee\")\n",
    ")\n",
    "print(\"Str representation:\", str(book_pile))\n",
    "print(\"Repr representation:\", repr(book_pile))"
   ]
  },
  {
   "cell_type": "code",
   "execution_count": 42,
   "metadata": {},
   "outputs": [
    {
     "name": "stdout",
     "output_type": "stream",
     "text": [
      "Pile created from dict: Pile(0)\n"
     ]
    }
   ],
   "source": [
    "pile_dict = {\n",
    "    \"pile_\": [\n",
    "        {\"title\": \"1984\", \"author\": \"George Orwell\"},\n",
    "        {\"title\": \"To Kill a Mockingbird\", \"author\": \"Harper Lee\"},\n",
    "    ],\n",
    "    \"item_type\": \"Book\",\n",
    "}\n",
    "\n",
    "new_pile = Pile.from_dict(pile_dict)\n",
    "print(\"Pile created from dict:\", new_pile)"
   ]
  },
  {
   "cell_type": "markdown",
   "metadata": {},
   "source": [
    "## Key Concepts\n",
    "\n",
    "1. **Elements**: Base objects in lion_core. Inherit from `Element` class.\n",
    "2. **Pile**: Thread-safe, ordered collection of Elements.\n",
    "3. **Asynchronous Support**: Many operations have sync and async versions.\n",
    "\n",
    "## Best Practices\n",
    "\n",
    "1. Use type hints:\n",
    "   ```python\n",
    "   from lion_core.generic.pile import Pile\n",
    "   def process(elements: Pile[YourElement]) -> None: ...\n",
    "   ```\n",
    "\n",
    "2. Choose sync or async consistently within a module.\n",
    "\n",
    "3. Handle lionabc exceptions:\n",
    "   ```python\n",
    "   from lionabc.exceptions import LionValueError, LionTypeError\n",
    "   try:\n",
    "       # lion_core operation\n",
    "   except (LionValueError, LionTypeError) as e:\n",
    "       # Handle error\n",
    "   ```\n",
    "\n",
    "4. Don't modify `ln_id` of Elements.\n",
    "\n",
    "5. Use Pile's methods over direct list operations.\n",
    "\n",
    "6. In custom Elements, always call `super().__init__()`.\n",
    "\n",
    "7. Use `to_dict()` and `from_dict()` for serialization.\n",
    "\n",
    "## Performance Tips\n",
    "\n",
    "1. For large collections, prefer direct iteration over `keys()`, `values()`, `items()`.\n",
    "2. Use async methods for I/O bound or high-concurrency scenarios.\n",
    "3. Use batch operations where available.\n",
    "\n",
    "## Extending lion_core\n",
    "\n",
    "1. Inherit from appropriate base classes when creating custom managers.\n",
    "2. Write comprehensive tests for extensions.\n",
    "\n",
    "## Common Pitfalls\n",
    "\n",
    "1. Avoid mixing sync and async code.\n",
    "2. Be cautious about modifying a Pile during iteration.\n",
    "3. Don't ignore type check errors.\n",
    "4. Be careful when overriding core class methods.\n",
    "\n",
    "Remember to consult the official documentation for detailed information."
   ]
  }
 ],
 "metadata": {
  "kernelspec": {
   "display_name": ".venv",
   "language": "python",
   "name": "python3"
  },
  "language_info": {
   "codemirror_mode": {
    "name": "ipython",
    "version": 3
   },
   "file_extension": ".py",
   "mimetype": "text/x-python",
   "name": "python",
   "nbconvert_exporter": "python",
   "pygments_lexer": "ipython3",
   "version": "3.12.4"
  }
 },
 "nbformat": 4,
 "nbformat_minor": 2
}
