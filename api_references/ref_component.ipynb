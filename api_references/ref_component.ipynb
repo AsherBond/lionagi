{
 "cells": [
  {
   "cell_type": "markdown",
   "metadata": {},
   "source": [
    "Best Practices: do not use `pydantic.BaseModel` methods."
   ]
  },
  {
   "cell_type": "code",
   "execution_count": null,
   "metadata": {},
   "outputs": [],
   "source": [
    "# %pip install lionagi\n",
    "# !pip install lionagi"
   ]
  },
  {
   "cell_type": "code",
   "execution_count": null,
   "metadata": {},
   "outputs": [],
   "source": [
    "from lionagi import __version__\n",
    "\n",
    "print(__version__)"
   ]
  },
  {
   "cell_type": "code",
   "execution_count": 1,
   "metadata": {},
   "outputs": [],
   "source": [
    "from IPython.display import display, Markdown"
   ]
  },
  {
   "cell_type": "markdown",
   "metadata": {},
   "source": [
    "## ufuncs - universal functions for all nodes"
   ]
  },
  {
   "cell_type": "markdown",
   "metadata": {},
   "source": [
    "### DEPRECATION WARNING"
   ]
  },
  {
   "cell_type": "markdown",
   "metadata": {},
   "source": [
    "timestamp is now really `timestamp(float)`, not `iso` format\n",
    "\n",
    "### Remaining attr/methods (compatible with v1.0+)\n",
    "\n",
    "\n",
    "1. `ln_id(str)`: frozen\n",
    "2. `timestamp(float)`: frozen\n",
    "3. `metadata(Note)`: constrained operations\n",
    "4. `content(Any)`\n",
    "5. `embedding(list[float])`\n",
    "6. `extra_fields(dict[str, pydantic.fields.FieldInfo])`\n",
    "7. `_converter_registry(ClassVar)`\n",
    "8. `from_dict()`\n",
    "9. `convert_from()`\n",
    "10. `register_converter()`\n",
    "11. `from_obj()`\n",
    "12. `all_fields`\n",
    "13. `add_field()`\n",
    "14. `update_field()`\n",
    "15. `to_dict()`\n",
    "16. `to_note()`\n",
    "17. `convert_to()`\n",
    "18. `field_setattr()`\n",
    "19. `field_hasattr()`\n",
    "20. `field_getattr()`\n",
    "21. `field_annotation()`\n",
    "\n",
    "### the following methods are deprecated since **v0.3.0** and will be **removed** in **v1.0.0**:\n",
    "\n",
    "1. `_all_fields` -> `self.all_fields`\n",
    "2. `_field_annotations` -> `self.field_annotation()`\n",
    "3. `to_json_str` -> `self.convert_to('json')`\n",
    "4. `to_json_file` -> `self.convert_to('json_file')`\n",
    "5. `to_xml` -> `self.convert_to('xml')`\n",
    "6. `to_xml_file` -> `self.convert_to('xml_file')`\n",
    "7. `to_pd_series` -> `self.convert_to('pd_series')`\n",
    "8. `to_llama_index_node` -> `self.convert_to('llamaindex')`\n",
    "9. `to_langchain_doc` -> `self.convert_to('langchain')`\n",
    "10. `to_pd_dataframe` -> `self.convert_to('pd_dataframe')`\n",
    "11. `_meta_pop` -> `self.metadata.pop()`\n",
    "12. `_meta_get` -> `self.metadata.get()`\n",
    "13. `_meta_set` -> `self.metadata.set()`\n",
    "14. `_meta_insert` -> `self.metadata.insert()`\n",
    "15. `_get_field_attr` -> `self.field_getattr()`\n",
    "16. `_set_field_attr` -> `self.field_setattr()`\n",
    "17. `_get_field_attr` -> `self.field_getattr()`\n",
    "18. `_add_field` -> `self.add_field()`"
   ]
  },
  {
   "cell_type": "markdown",
   "metadata": {},
   "source": [
    "### API Reference"
   ]
  },
  {
   "cell_type": "code",
   "execution_count": 3,
   "metadata": {},
   "outputs": [],
   "source": [
    "from lionagi.core.generic.component import Component\n",
    "import lionfuncs as ln"
   ]
  },
  {
   "cell_type": "markdown",
   "metadata": {},
   "source": [
    "#### 1. Basic"
   ]
  },
  {
   "cell_type": "code",
   "execution_count": 4,
   "metadata": {},
   "outputs": [
    {
     "data": {
      "text/plain": [
       "{'timestamp': 1727619354.845272,\n",
       " 'ln_id': 'ln588a506eb48c9b479c7b5bcfc8eff9-28-6d-4-eb3dc96',\n",
       " 'metadata': {},\n",
       " 'content': None,\n",
       " 'embedding': [],\n",
       " 'lion_class': 'Component'}"
      ]
     },
     "execution_count": 4,
     "metadata": {},
     "output_type": "execute_result"
    }
   ],
   "source": [
    "a = Component()\n",
    "a.to_dict()"
   ]
  },
  {
   "cell_type": "code",
   "execution_count": 5,
   "metadata": {},
   "outputs": [
    {
     "data": {
      "text/plain": [
       "{'timestamp': 1727619354.845272,\n",
       " 'ln_id': 'ln588a506eb48c9b479c7b5bcfc8eff9-28-6d-4-eb3dc96',\n",
       " 'metadata': {'last_updated': {'content': 1727619354.849222}},\n",
       " 'content': 1,\n",
       " 'embedding': [],\n",
       " 'lion_class': 'Component'}"
      ]
     },
     "execution_count": 5,
     "metadata": {},
     "output_type": "execute_result"
    }
   ],
   "source": [
    "a.content = 1\n",
    "a.to_dict()"
   ]
  },
  {
   "cell_type": "code",
   "execution_count": 6,
   "metadata": {},
   "outputs": [
    {
     "data": {
      "text/plain": [
       "'Component'"
      ]
     },
     "execution_count": 6,
     "metadata": {},
     "output_type": "execute_result"
    }
   ],
   "source": [
    "a.class_name()"
   ]
  },
  {
   "cell_type": "code",
   "execution_count": 7,
   "metadata": {},
   "outputs": [
    {
     "name": "stdout",
     "output_type": "stream",
     "text": [
      "ln_id: \t\t\t ln588a506eb48c9b479c7b5bcfc8eff9-28-6d-4-eb3dc96\n",
      "created at: \t\t 1727619354.845272\n",
      "metadata: \t\t {'last_updated': {'content': 1727619354.849222}}\n",
      "content: \t\t 1\n",
      "extra_fields: \t\t {}\n"
     ]
    }
   ],
   "source": [
    "print(\"ln_id: \\t\\t\\t\", a.ln_id)  # unique lion id\n",
    "print(\"created at: \\t\\t\", a.timestamp)\n",
    "print(\"metadata: \\t\\t\", a.metadata)\n",
    "print(\"content: \\t\\t\", a.content)\n",
    "print(\"extra_fields: \\t\\t\", a.extra_fields)"
   ]
  },
  {
   "cell_type": "code",
   "execution_count": 8,
   "metadata": {},
   "outputs": [
    {
     "data": {
      "text/plain": [
       "{'content': ['Any']}"
      ]
     },
     "execution_count": 8,
     "metadata": {},
     "output_type": "execute_result"
    }
   ],
   "source": [
    "a.field_annotation(\"content\")"
   ]
  },
  {
   "cell_type": "code",
   "execution_count": 9,
   "metadata": {},
   "outputs": [
    {
     "data": {
      "text/plain": [
       "{'timestamp': FieldInfo(annotation=float, required=False, default_factory=<lambda>, alias='created', alias_priority=2, title='Creation Timestamp', frozen=True),\n",
       " 'ln_id': FieldInfo(annotation=str, required=False, default_factory=id, title='Lion ID', description='Unique identifier for the element', frozen=True),\n",
       " 'metadata': FieldInfo(annotation=Note, required=False, default_factory=Note, description='Additional metadata for the component'),\n",
       " 'content': FieldInfo(annotation=Any, required=False, default=None, description='The main content of the Component'),\n",
       " 'embedding': FieldInfo(annotation=list[float], required=False, default_factory=list),\n",
       " 'extra_fields': FieldInfo(annotation=dict[str, Any], required=False, default_factory=dict)}"
      ]
     },
     "execution_count": 9,
     "metadata": {},
     "output_type": "execute_result"
    }
   ],
   "source": [
    "a.all_fields"
   ]
  },
  {
   "cell_type": "markdown",
   "metadata": {},
   "source": [
    "#### 2. Inherit from Component Class"
   ]
  },
  {
   "cell_type": "code",
   "execution_count": 10,
   "metadata": {},
   "outputs": [],
   "source": [
    "from pydantic import Field\n",
    "\n",
    "\n",
    "class Form(Component):\n",
    "    form_name: str = Field(default=\"form\", title=\"Form Name\")\n",
    "    date: str = \"today\"\n",
    "\n",
    "\n",
    "a = Form()"
   ]
  },
  {
   "cell_type": "code",
   "execution_count": 11,
   "metadata": {},
   "outputs": [
    {
     "data": {
      "text/plain": [
       "True"
      ]
     },
     "execution_count": 11,
     "metadata": {},
     "output_type": "execute_result"
    }
   ],
   "source": [
    "a.field_hasattr(\"form_name\", \"title\")"
   ]
  },
  {
   "cell_type": "code",
   "execution_count": 12,
   "metadata": {},
   "outputs": [
    {
     "data": {
      "text/plain": [
       "'Form Name'"
      ]
     },
     "execution_count": 12,
     "metadata": {},
     "output_type": "execute_result"
    }
   ],
   "source": [
    "a.field_getattr(\"form_name\", \"title\", None)"
   ]
  },
  {
   "cell_type": "code",
   "execution_count": 13,
   "metadata": {},
   "outputs": [
    {
     "data": {
      "text/plain": [
       "{'welcome': ['str']}"
      ]
     },
     "execution_count": 13,
     "metadata": {},
     "output_type": "execute_result"
    }
   ],
   "source": [
    "a.add_field(\"welcome\", annotation=str, default=\"new value\", value=\"hello world again\")\n",
    "\n",
    "a.field_annotation(\"welcome\")"
   ]
  },
  {
   "cell_type": "code",
   "execution_count": 14,
   "metadata": {},
   "outputs": [
    {
     "name": "stdout",
     "output_type": "stream",
     "text": [
      "default value: \t new value\n",
      "current value: \t hello world again\n"
     ]
    }
   ],
   "source": [
    "print(\"default value: \\t\", a.field_getattr(\"welcome\", \"default\", None))\n",
    "print(\"current value: \\t\", getattr(a, \"welcome\", None))"
   ]
  },
  {
   "cell_type": "markdown",
   "metadata": {},
   "source": [
    "#### 3. Conversion Methods"
   ]
  },
  {
   "cell_type": "code",
   "execution_count": 15,
   "metadata": {},
   "outputs": [
    {
     "name": "stdout",
     "output_type": "stream",
     "text": [
      "json_str: \n",
      "\n",
      " {\"timestamp\": 1727619354.869144, \"ln_id\": \"lnf498f3-9722-7f654fffacc6-9361a526022-b8595e73a\", \"metadata\": {\"last_updated\": {\"welcome\": 1727619354.879452}}, \"content\": null, \"embedding\": [], \"form_name\": \"form\", \"date\": \"today\", \"welcome\": \"hello world again\", \"lion_class\": \"Form\"}\n"
     ]
    }
   ],
   "source": [
    "print(\"json_str: \\n\\n\", a.convert_to(\"json\"))"
   ]
  },
  {
   "cell_type": "code",
   "execution_count": 16,
   "metadata": {},
   "outputs": [
    {
     "name": "stdout",
     "output_type": "stream",
     "text": [
      "dict: \n",
      "\n",
      " {'timestamp': 1727619354.869144, 'ln_id': 'lnf498f3-9722-7f654fffacc6-9361a526022-b8595e73a', 'metadata': {'last_updated': {'welcome': 1727619354.879452}}, 'content': None, 'embedding': [], 'form_name': 'form', 'date': 'today', 'welcome': 'hello world again', 'lion_class': 'Form'}\n"
     ]
    }
   ],
   "source": [
    "print(\"dict: \\n\\n\", a.to_dict())"
   ]
  },
  {
   "cell_type": "code",
   "execution_count": 17,
   "metadata": {},
   "outputs": [
    {
     "name": "stdout",
     "output_type": "stream",
     "text": [
      "xml: \n",
      "\n",
      " <root><timestamp>1727619354.869144</timestamp><ln_id>lnf498f3-9722-7f654fffacc6-9361a526022-b8595e73a</ln_id><metadata><last_updated><welcome>1727619354.879452</welcome></last_updated></metadata><content>None</content><embedding>[]</embedding><form_name>form</form_name><date>today</date><welcome>hello world again</welcome><lion_class>Form</lion_class></root>\n"
     ]
    }
   ],
   "source": [
    "print(\"xml: \\n\\n\", a.convert_to(\"xml\"))"
   ]
  },
  {
   "cell_type": "code",
   "execution_count": 18,
   "metadata": {},
   "outputs": [
    {
     "name": "stdout",
     "output_type": "stream",
     "text": [
      "pd.Series: \n",
      "\n",
      " timestamp                                    1727619354.869144\n",
      "ln_id         lnf498f3-9722-7f654fffacc6-9361a526022-b8595e73a\n",
      "metadata      {'last_updated': {'welcome': 1727619354.879452}}\n",
      "content                                                   None\n",
      "embedding                                                   []\n",
      "form_name                                                 form\n",
      "date                                                     today\n",
      "welcome                                      hello world again\n",
      "lion_class                                                Form\n",
      "dtype: object\n"
     ]
    }
   ],
   "source": [
    "print(\"pd.Series: \\n\\n\", a.convert_to(\"pd_series\"))"
   ]
  },
  {
   "cell_type": "code",
   "execution_count": 19,
   "metadata": {},
   "outputs": [
    {
     "name": "stdout",
     "output_type": "stream",
     "text": [
      "<class 'llama_index.core.schema.TextNode'>\n"
     ]
    },
    {
     "data": {
      "text/plain": [
       "{'id_': 'af54f7dc-aad8-4dca-937b-00a55e4a2aa1',\n",
       " 'embedding': [],\n",
       " 'metadata': {},\n",
       " 'excluded_embed_metadata_keys': [],\n",
       " 'excluded_llm_metadata_keys': [],\n",
       " 'relationships': {},\n",
       " 'text': '',\n",
       " 'mimetype': 'text/plain',\n",
       " 'start_char_idx': None,\n",
       " 'end_char_idx': None,\n",
       " 'text_template': '{metadata_str}\\n\\n{content}',\n",
       " 'metadata_template': '{key}: {value}',\n",
       " 'metadata_seperator': '\\n',\n",
       " 'class_name': 'TextNode'}"
      ]
     },
     "execution_count": 19,
     "metadata": {},
     "output_type": "execute_result"
    }
   ],
   "source": [
    "llama_node = a.convert_to(\"llamaindex\")\n",
    "print(type(llama_node))\n",
    "ln.to_dict(llama_node)"
   ]
  },
  {
   "cell_type": "code",
   "execution_count": 20,
   "metadata": {},
   "outputs": [
    {
     "name": "stdout",
     "output_type": "stream",
     "text": [
      "<class 'langchain_core.documents.base.Document'>\n"
     ]
    },
    {
     "data": {
      "text/plain": [
       "{'id': None, 'metadata': {}, 'page_content': '', 'type': 'Document'}"
      ]
     },
     "execution_count": 20,
     "metadata": {},
     "output_type": "execute_result"
    }
   ],
   "source": [
    "langchain_doc = a.convert_to(\"langchain\")\n",
    "print(type(langchain_doc))\n",
    "ln.to_dict(langchain_doc)"
   ]
  },
  {
   "cell_type": "markdown",
   "metadata": {},
   "source": [
    "### from_obj method"
   ]
  },
  {
   "cell_type": "markdown",
   "metadata": {},
   "source": [
    "#### dict, json with fuzzy parse"
   ]
  },
  {
   "cell_type": "code",
   "execution_count": 21,
   "metadata": {},
   "outputs": [
    {
     "data": {
      "text/plain": [
       "{'timestamp': 1727619354.947375,\n",
       " 'ln_id': 'ln15f840fb05015c8-1-a6c2dbe1b2-bd0-3fff410f57252',\n",
       " 'metadata': {},\n",
       " 'content': None,\n",
       " 'embedding': [],\n",
       " 'a': 1,\n",
       " 'b': 2,\n",
       " 'lion_class': 'Component'}"
      ]
     },
     "execution_count": 21,
     "metadata": {},
     "output_type": "execute_result"
    }
   ],
   "source": [
    "dict_obj = {\"a\": 1, \"b\": 2}\n",
    "\n",
    "b = Component.from_obj(dict_obj)\n",
    "b.to_dict()"
   ]
  },
  {
   "cell_type": "code",
   "execution_count": 22,
   "metadata": {},
   "outputs": [
    {
     "data": {
      "text/plain": [
       "{'timestamp': 1727619354.951297,\n",
       " 'ln_id': 'ln36c351-9b-f1362dc-51-4badd4879497d3a09516c3bb5',\n",
       " 'metadata': {},\n",
       " 'content': None,\n",
       " 'embedding': [],\n",
       " 'a': 1,\n",
       " 'b': 2,\n",
       " 'lion_class': 'Component'}"
      ]
     },
     "execution_count": 22,
     "metadata": {},
     "output_type": "execute_result"
    }
   ],
   "source": [
    "json_str_obj = '{\"a\": 1, \"b\": 2}'\n",
    "\n",
    "a = Component.from_obj(json_str_obj)\n",
    "a.to_dict()"
   ]
  },
  {
   "cell_type": "code",
   "execution_count": 23,
   "metadata": {},
   "outputs": [
    {
     "data": {
      "text/plain": [
       "{'timestamp': 1727619354.955281,\n",
       " 'ln_id': 'lnd13168a-d8dbf1e7a7f7-f6cf-c5fe97db-c3485a689d4',\n",
       " 'metadata': {},\n",
       " 'content': None,\n",
       " 'embedding': [],\n",
       " 'name': 'John',\n",
       " 'age': 30,\n",
       " 'city': ['New York', 'DC', 'LA'],\n",
       " 'lion_class': 'Component'}"
      ]
     },
     "execution_count": 23,
     "metadata": {},
     "output_type": "execute_result"
    }
   ],
   "source": [
    "# the json str also supports fuzzy parse\n",
    "# here is an incorrectly formated json_str for example (missing \"}\")\n",
    "json_str_obj = '{\"name\": \"John\", \"age\": 30, \"city\": [\"New York\", \"DC\", \"LA\"]'\n",
    "\n",
    "a = Component.from_obj(json_str_obj, fuzzy_parse=True)\n",
    "a.to_dict()"
   ]
  },
  {
   "cell_type": "markdown",
   "metadata": {},
   "source": [
    "#### pandas series and dataframe"
   ]
  },
  {
   "cell_type": "code",
   "execution_count": 24,
   "metadata": {},
   "outputs": [
    {
     "data": {
      "text/plain": [
       "{'a': 1, 'b': 2}"
      ]
     },
     "execution_count": 24,
     "metadata": {},
     "output_type": "execute_result"
    }
   ],
   "source": [
    "import pandas as pd\n",
    "\n",
    "series_obj = pd.Series({\"a\": 1, \"b\": 2})\n",
    "series_obj.to_dict()"
   ]
  },
  {
   "cell_type": "code",
   "execution_count": 25,
   "metadata": {},
   "outputs": [],
   "source": [
    "a = Component.from_dict({\"a\": 1, \"b\": 2})"
   ]
  },
  {
   "cell_type": "code",
   "execution_count": 26,
   "metadata": {},
   "outputs": [
    {
     "data": {
      "text/plain": [
       "{'timestamp': 1727619354.969616,\n",
       " 'ln_id': 'lnabf4c81-49988-303d064882d9c0164-6d9-10b5dea390',\n",
       " 'metadata': {},\n",
       " 'content': None,\n",
       " 'embedding': [],\n",
       " 'a': 1,\n",
       " 'b': 2,\n",
       " 'lion_class': 'Component'}"
      ]
     },
     "execution_count": 26,
     "metadata": {},
     "output_type": "execute_result"
    }
   ],
   "source": [
    "# you can create a component object from pandas series / dataframe\n",
    "import pandas as pd\n",
    "\n",
    "series_obj = pd.Series({\"a\": 1, \"b\": 2})\n",
    "\n",
    "a = Component.from_obj(series_obj)\n",
    "a.to_dict()"
   ]
  },
  {
   "cell_type": "code",
   "execution_count": 27,
   "metadata": {},
   "outputs": [
    {
     "data": {
      "text/plain": [
       "Index(['a', 'b'], dtype='object')"
      ]
     },
     "execution_count": 27,
     "metadata": {},
     "output_type": "execute_result"
    }
   ],
   "source": [
    "series_obj.index"
   ]
  },
  {
   "cell_type": "code",
   "execution_count": 28,
   "metadata": {},
   "outputs": [
    {
     "data": {
      "text/html": [
       "<div>\n",
       "<style scoped>\n",
       "    .dataframe tbody tr th:only-of-type {\n",
       "        vertical-align: middle;\n",
       "    }\n",
       "\n",
       "    .dataframe tbody tr th {\n",
       "        vertical-align: top;\n",
       "    }\n",
       "\n",
       "    .dataframe thead th {\n",
       "        text-align: right;\n",
       "    }\n",
       "</style>\n",
       "<table border=\"1\" class=\"dataframe\">\n",
       "  <thead>\n",
       "    <tr style=\"text-align: right;\">\n",
       "      <th></th>\n",
       "      <th>a</th>\n",
       "      <th>b</th>\n",
       "    </tr>\n",
       "  </thead>\n",
       "  <tbody>\n",
       "    <tr>\n",
       "      <th>row1</th>\n",
       "      <td>1</td>\n",
       "      <td>3</td>\n",
       "    </tr>\n",
       "    <tr>\n",
       "      <th>row2</th>\n",
       "      <td>2</td>\n",
       "      <td>4</td>\n",
       "    </tr>\n",
       "  </tbody>\n",
       "</table>\n",
       "</div>"
      ],
      "text/plain": [
       "      a  b\n",
       "row1  1  3\n",
       "row2  2  4"
      ]
     },
     "execution_count": 28,
     "metadata": {},
     "output_type": "execute_result"
    }
   ],
   "source": [
    "df = pd.DataFrame({\"a\": [1, 2], \"b\": [3, 4]}, index=[\"row1\", \"row2\"])\n",
    "df"
   ]
  },
  {
   "cell_type": "code",
   "execution_count": 29,
   "metadata": {},
   "outputs": [
    {
     "data": {
      "text/plain": [
       "list"
      ]
     },
     "execution_count": 29,
     "metadata": {},
     "output_type": "execute_result"
    }
   ],
   "source": [
    "# when you create component object from dataframe, the output will be a list of component objects\n",
    "a = Component.from_obj(df)\n",
    "type(a)"
   ]
  },
  {
   "cell_type": "code",
   "execution_count": 30,
   "metadata": {},
   "outputs": [
    {
     "name": "stdout",
     "output_type": "stream",
     "text": [
      "{'timestamp': 1727619354.983505, 'ln_id': 'lnc4852d2f20e62e54d9d1f-e-3-9-e23e6b9fd1f79a2b5b', 'metadata': {}, 'content': None, 'embedding': [], 'a': 1, 'b': 3, 'lion_class': 'Component'}\n",
      "{'timestamp': 1727619354.98373, 'ln_id': 'ln14d876f0a8-7fec5b-a88e-adbf2f70d50c-f03a2a13a8', 'metadata': {}, 'content': None, 'embedding': [], 'a': 2, 'b': 4, 'lion_class': 'Component'}\n"
     ]
    }
   ],
   "source": [
    "# if from df, the index of the row will be saved into the metadata\n",
    "\n",
    "for i in a:\n",
    "    print(i.to_dict())"
   ]
  },
  {
   "cell_type": "markdown",
   "metadata": {},
   "source": [
    "#### LlamaIndex and LangChain"
   ]
  },
  {
   "cell_type": "code",
   "execution_count": 31,
   "metadata": {},
   "outputs": [
    {
     "data": {
      "text/plain": [
       "lionagi.core.generic.component.Component"
      ]
     },
     "execution_count": 31,
     "metadata": {},
     "output_type": "execute_result"
    }
   ],
   "source": [
    "a = Component.from_obj(llama_node)\n",
    "type(a)"
   ]
  },
  {
   "cell_type": "code",
   "execution_count": 32,
   "metadata": {},
   "outputs": [
    {
     "data": {
      "text/plain": [
       "{'timestamp': 1727619354.990721,\n",
       " 'ln_id': 'ln0c736df25caa-1-8412e-39f4129dde89-8e4a0ad145a5',\n",
       " 'metadata': {},\n",
       " 'content': '',\n",
       " 'embedding': [],\n",
       " 'id_': 'af54f7dc-aad8-4dca-937b-00a55e4a2aa1',\n",
       " 'excluded_embed_metadata_keys': [],\n",
       " 'excluded_llm_metadata_keys': [],\n",
       " 'relationships': {},\n",
       " 'mimetype': 'text/plain',\n",
       " 'start_char_idx': None,\n",
       " 'end_char_idx': None,\n",
       " 'text_template': '{metadata_str}\\n\\n{content}',\n",
       " 'metadata_template': '{key}: {value}',\n",
       " 'metadata_seperator': '\\n',\n",
       " 'llama_index_class_name': 'TextNode',\n",
       " 'llama_index_metadata': {},\n",
       " 'lion_class': 'Component'}"
      ]
     },
     "execution_count": 32,
     "metadata": {},
     "output_type": "execute_result"
    }
   ],
   "source": [
    "a.to_dict()"
   ]
  },
  {
   "cell_type": "code",
   "execution_count": 33,
   "metadata": {},
   "outputs": [
    {
     "data": {
      "text/plain": [
       "lionagi.core.generic.component.Component"
      ]
     },
     "execution_count": 33,
     "metadata": {},
     "output_type": "execute_result"
    }
   ],
   "source": [
    "a = Component.from_obj(langchain_doc)\n",
    "type(a)"
   ]
  },
  {
   "cell_type": "code",
   "execution_count": 34,
   "metadata": {},
   "outputs": [
    {
     "data": {
      "text/plain": [
       "{'timestamp': 1727619354.997919,\n",
       " 'ln_id': 'ln779ed85a-e9b0ac9-66-c-d9778edba019a9ce44f1bf99',\n",
       " 'metadata': {},\n",
       " 'content': '',\n",
       " 'embedding': [],\n",
       " 'id': None,\n",
       " 'lc_metadata': {},\n",
       " 'lc_type': 'Document',\n",
       " 'lion_class': 'Component'}"
      ]
     },
     "execution_count": 34,
     "metadata": {},
     "output_type": "execute_result"
    }
   ],
   "source": [
    "a.to_dict()"
   ]
  },
  {
   "cell_type": "markdown",
   "metadata": {},
   "source": [
    "### MetaData Manipulation"
   ]
  },
  {
   "cell_type": "code",
   "execution_count": 35,
   "metadata": {},
   "outputs": [
    {
     "name": "stdout",
     "output_type": "stream",
     "text": [
      "{'last_updated': {'welcome': 1727619355.005214}}\n"
     ]
    },
    {
     "data": {
      "text/plain": [
       "lion_core.generic.note.Note"
      ]
     },
     "execution_count": 35,
     "metadata": {},
     "output_type": "execute_result"
    }
   ],
   "source": [
    "a.add_field(\"welcome\", annotation=str, default=\"new value\", value=\"hello world again\")\n",
    "a.welcome = \"hi\"\n",
    "\n",
    "print(a.metadata)\n",
    "type(a.metadata)  # note is an advanced dict"
   ]
  },
  {
   "cell_type": "code",
   "execution_count": 36,
   "metadata": {},
   "outputs": [
    {
     "name": "stdout",
     "output_type": "stream",
     "text": [
      "Cannot directly assign to metadata.\n"
     ]
    }
   ],
   "source": [
    "# you cannot directly modify the metadata by assigning a new value\n",
    "try:\n",
    "    a.metadata = {}\n",
    "except Exception as e:\n",
    "    print(e)"
   ]
  },
  {
   "cell_type": "markdown",
   "metadata": {},
   "source": [
    "use the following methods to modify the metadata"
   ]
  },
  {
   "cell_type": "code",
   "execution_count": 37,
   "metadata": {},
   "outputs": [
    {
     "data": {
      "text/plain": [
       "{'last_updated': {'welcome': 1727619355.005214}, 'new_key2': 'new_value2'}"
      ]
     },
     "execution_count": 37,
     "metadata": {},
     "output_type": "execute_result"
    }
   ],
   "source": [
    "# however, you can modify the metadata in the following ways\n",
    "a.metadata.insert(\"new_key2\", \"new_value2\")\n",
    "a.metadata"
   ]
  },
  {
   "cell_type": "code",
   "execution_count": 38,
   "metadata": {},
   "outputs": [],
   "source": [
    "# the meta insert also support nested data structure\n",
    "\n",
    "a.metadata.insert([\"nested\", 0], {\"a\": 1, \"b\": 2})"
   ]
  },
  {
   "cell_type": "code",
   "execution_count": 39,
   "metadata": {},
   "outputs": [
    {
     "data": {
      "text/plain": [
       "{'last_updated': {'welcome': 1727619355.005214}, 'new_key2': 'new_value2', 'nested': [{'a': 1, 'b': 2}]}"
      ]
     },
     "execution_count": 39,
     "metadata": {},
     "output_type": "execute_result"
    }
   ],
   "source": [
    "a.metadata"
   ]
  },
  {
   "cell_type": "code",
   "execution_count": 40,
   "metadata": {},
   "outputs": [
    {
     "data": {
      "text/plain": [
       "1"
      ]
     },
     "execution_count": 40,
     "metadata": {},
     "output_type": "execute_result"
    }
   ],
   "source": [
    "# similarly you can get a deeply nested value from meta data\n",
    "\n",
    "a.metadata.get([\"nested\", 0, \"a\"])"
   ]
  },
  {
   "cell_type": "code",
   "execution_count": 41,
   "metadata": {},
   "outputs": [
    {
     "data": {
      "text/plain": [
       "{'last_updated': {'welcome': 1727619355.005214}, 'new_key2': 'new_value2', 'nested': [{'a': 1, 'b': 2}]}"
      ]
     },
     "execution_count": 41,
     "metadata": {},
     "output_type": "execute_result"
    }
   ],
   "source": [
    "a.metadata"
   ]
  }
 ],
 "metadata": {
  "kernelspec": {
   "display_name": ".venv",
   "language": "python",
   "name": "python3"
  },
  "language_info": {
   "codemirror_mode": {
    "name": "ipython",
    "version": 3
   },
   "file_extension": ".py",
   "mimetype": "text/x-python",
   "name": "python",
   "nbconvert_exporter": "python",
   "pygments_lexer": "ipython3",
   "version": "3.12.4"
  }
 },
 "nbformat": 4,
 "nbformat_minor": 2
}
