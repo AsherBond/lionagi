{
 "cells": [
  {
   "cell_type": "code",
   "execution_count": 1,
   "metadata": {},
   "outputs": [],
   "source": [
    "from lionagi import Branch, iModel"
   ]
  },
  {
   "cell_type": "markdown",
   "metadata": {},
   "source": [
    "first make sure you have local ollama client installed, and running\n",
    "\n",
    "check   https://ollama.com/"
   ]
  },
  {
   "cell_type": "code",
   "execution_count": 2,
   "metadata": {},
   "outputs": [],
   "source": [
    "llama3 = iModel(model=\"llama3.2:1b\", provider=\"ollama\")\n",
    "\n",
    "a = Branch(imodel=llama3)"
   ]
  },
  {
   "cell_type": "code",
   "execution_count": 4,
   "metadata": {},
   "outputs": [
    {
     "data": {
      "text/markdown": [
       "I can provide you with an overview of the fundamental concepts that govern the world around us.\n",
       "\n",
       "**The Physical World:**\n",
       "\n",
       "1. **Space and Time**: The universe is made up of space, which is the three-dimensional expanse that contains all matter and energy. Time is a fundamental concept that governs the sequence of events in the universe.\n",
       "2. **Atoms and Molecules**: Atoms are the basic building blocks of everything around us, from the smallest particles like electrons to the largest structures like galaxies.\n",
       "3. **Elements and Compounds**: Atoms are composed of protons, neutrons, and electrons, which are held together by chemical bonds to form molecules.\n",
       "\n",
       "**The Biological World:**\n",
       "\n",
       "1. **Organisms**: Living organisms are made up of cells, which are the basic units of life. These cells contain genetic material that determines an organism's characteristics.\n",
       "2. **Ecosystems**: Ecosystems are communities of living organisms and their interactions with the physical environment.\n",
       "3. **Evolution**: Evolution is the process by which species change over time through genetic variation, mutation, and natural selection.\n",
       "\n",
       "**The Social and Cultural World:**\n",
       "\n",
       "1. **Societies and Cultures**: Human societies have developed complex social structures, norms, and values that shape individual behavior and interactions with others.\n",
       "2. **Languages and Communication**: Humans use languages to convey meaning, express themselves, and communicate with each other.\n",
       "3. **Culture and History**: Our shared cultural heritage is shaped by historical events, traditions, and values.\n",
       "\n",
       "**The Psychological and Economic World:**\n",
       "\n",
       "1. **Mind and Behavior**: The human mind is a complex system that processes information, learns, and responds to stimuli.\n",
       "2. **Economy and Finance**: The economy is driven by supply and demand, with individuals and organizations seeking to maximize their wealth and well-being.\n",
       "3. **Politics and Society**: Societies are governed by laws, institutions, and leaders who make decisions for the greater good.\n",
       "\n",
       "**The Interconnectedness of Systems:**\n",
       "\n",
       "1. **Systems Thinking**: Understanding the interconnectedness of different systems, such as social-ecological systems or biological systems, is crucial to grasping how they work together.\n",
       "2. **Feedback Loops**: Feedback loops are critical mechanisms that allow us to monitor and adjust our behavior in response to changing circumstances.\n",
       "3. **Holism**: The study of complex systems that consider the interactions between different components can help us understand the emergent properties of the world.\n",
       "\n",
       "**The Laws of Motion:**\n",
       "\n",
       "1. **Newton's Laws**: Newton's laws describe the relationship between an object and the forces acting upon it, providing a fundamental understanding of motion.\n",
       "2. **Gravity**: Gravity is a universal force that attracts objects with mass towards each other.\n",
       "3. **Friction**: Friction is a force that opposes motion between two surfaces in contact.\n",
       "\n",
       "**The Principles of Thermodynamics:**\n",
       "\n",
       "1. **Zeroth Law**: The zeroth law of thermodynamics establishes a common temperature scale, allowing us to compare temperatures across different systems.\n",
       "2. **First Law**: The first law of thermodynamics describes the conservation of energy, stating that energy cannot be created or destroyed, only transformed from one form to another.\n",
       "3. **Second Law**: The second law of thermodynamics explains the direction of spontaneous processes and the increasing entropy of a closed system.\n",
       "\n",
       "**The Science of Biology:**\n",
       "\n",
       "1. **Cellular Structure and Function**: Cells are the basic units of life, consisting of organelles that perform specific functions.\n",
       "2. **Genetics and Evolution**: Genetics is the study of heredity and variation, while evolution is the process by which species change over time through natural selection.\n",
       "3. **Ecological Interactions**: The interactions between living organisms and their environment are crucial for understanding ecosystems and biodiversity.\n",
       "\n",
       "This overview should give you a good starting point for exploring the complex world around us."
      ],
      "text/plain": [
       "<IPython.core.display.Markdown object>"
      ]
     },
     "execution_count": 4,
     "metadata": {},
     "output_type": "execute_result"
    }
   ],
   "source": [
    "# first time running will be very slow, ollama needs to download the model first\n",
    "\n",
    "from IPython.display import Markdown\n",
    "\n",
    "Markdown(await a.chat(\"explain to me how does the world work\"))"
   ]
  }
 ],
 "metadata": {
  "kernelspec": {
   "display_name": ".venv",
   "language": "python",
   "name": "python3"
  },
  "language_info": {
   "codemirror_mode": {
    "name": "ipython",
    "version": 3
   },
   "file_extension": ".py",
   "mimetype": "text/x-python",
   "name": "python",
   "nbconvert_exporter": "python",
   "pygments_lexer": "ipython3",
   "version": "3.12.6"
  }
 },
 "nbformat": 4,
 "nbformat_minor": 2
}
