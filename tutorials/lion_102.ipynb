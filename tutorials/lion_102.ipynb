{
 "cells": [
  {
   "cell_type": "code",
   "execution_count": 1,
   "metadata": {},
   "outputs": [
    {
     "name": "stdout",
     "output_type": "stream",
     "text": [
      "lionagi version \t 0.3.5\n",
      "last edited date \t 2024-10-13\n"
     ]
    }
   ],
   "source": [
    "# %pip install lionagi\n",
    "\n",
    "from lionagi import __version__\n",
    "from lionfuncs import time\n",
    "\n",
    "print(\"lionagi version \\t\", __version__)\n",
    "print(\"last edited date \\t\", time(type_=\"iso\", sep=\"T\").split(\"T\")[0])"
   ]
  },
  {
   "cell_type": "markdown",
   "metadata": {},
   "source": [
    "## LionAGI - 102"
   ]
  },
  {
   "cell_type": "markdown",
   "metadata": {},
   "source": [
    "ok now we know how to ask two LLM to colloborate on creative writing task. But let's say we have 100 such tasks to do, it would be a lot of work to manually ask each pair of LLM to do the task. \n",
    "\n",
    "Now let's see how to automate this process"
   ]
  },
  {
   "cell_type": "code",
   "execution_count": 2,
   "metadata": {},
   "outputs": [],
   "source": [
    "from IPython.display import display, Markdown\n",
    "\n",
    "\n",
    "def printmd(string):\n",
    "    display(Markdown(string))"
   ]
  },
  {
   "cell_type": "code",
   "execution_count": 3,
   "metadata": {},
   "outputs": [],
   "source": [
    "gpt4omini_config = {\n",
    "    \"provider\": \"openai\",\n",
    "    \"model\": \"gpt-4o-mini\",\n",
    "    \"api_key_schema\": \"OPENAI_API_KEY\",\n",
    "}\n",
    "\n",
    "gpt4o_config = {\n",
    "    \"provider\": \"openai\",\n",
    "    \"model\": \"gpt-4o\",\n",
    "    \"api_key_schema\": \"OPENAI_API_KEY\",\n",
    "}"
   ]
  },
  {
   "cell_type": "code",
   "execution_count": 4,
   "metadata": {},
   "outputs": [],
   "source": [
    "from lionagi import iModel\n",
    "\n",
    "gpt4o = iModel(**gpt4o_config)\n",
    "gpt4omini = iModel(**gpt4omini_config)"
   ]
  },
  {
   "cell_type": "markdown",
   "metadata": {},
   "source": [
    "first, let us gather all the external instruction to the dual-LLM system\n",
    "\n",
    "we have system message for each LLM"
   ]
  },
  {
   "cell_type": "code",
   "execution_count": 5,
   "metadata": {},
   "outputs": [],
   "source": [
    "comedian_system_message = \"a respected zoo keeper, also a comedian who knows very well about indian post modern literature\"\n",
    "critic_system_message = \"As an a young professor, you are trying to get into the prestigious circle of literature criticism.\""
   ]
  },
  {
   "cell_type": "markdown",
   "metadata": {},
   "source": [
    "we also have the main topic of the task"
   ]
  },
  {
   "cell_type": "code",
   "execution_count": 6,
   "metadata": {},
   "outputs": [],
   "source": [
    "prompt1 = \"Tell me a 20 word story: depict karma from past thousand years to future thousand years\""
   ]
  },
  {
   "cell_type": "markdown",
   "metadata": {},
   "source": [
    "and here comes the fun part, the flow of the conversation between the two LLM. \n",
    "\n",
    "For now we will manually provide the flow of the conversation."
   ]
  },
  {
   "cell_type": "markdown",
   "metadata": {},
   "source": [
    "- Initially, we asked the comedian with the prompt, and have it generate a response\n",
    "- we asked critic to evaluate the response from the comedian\n",
    "- we provide the critic's evaluation to the comedian, and have it respond to the critic's evaluation\n",
    "- we asked the critic to evaluate the comedian's performance again\n",
    "- we asked critic to write a version itself\n",
    "- we asked comedian to give some final comments"
   ]
  },
  {
   "cell_type": "markdown",
   "metadata": {},
   "source": [
    "\n",
    "In short, the flow of the conversation is as follows:\n",
    "\n",
    "external --prompt--> comedian \n",
    "\n",
    "comedian --response--> critic \n",
    "\n",
    "critic --evaluation--> comedian \n",
    "\n",
    "comedian --response--> critic \n",
    "\n",
    "critic --evaluation & own version--> comedian\n",
    "\n",
    "comedian --final comments --> external"
   ]
  },
  {
   "cell_type": "markdown",
   "metadata": {},
   "source": [
    "now let us write a flow to automate this process over large number of topics"
   ]
  },
  {
   "cell_type": "code",
   "execution_count": 7,
   "metadata": {},
   "outputs": [],
   "source": [
    "from lionagi import Branch\n",
    "\n",
    "\n",
    "async def creative_writing(task, context):\n",
    "\n",
    "    comedian = Branch(comedian_system_message, imodel=gpt4o)\n",
    "    critic = Branch(critic_system_message, imodel=gpt4omini)\n",
    "\n",
    "    comedian_response1 = await comedian.chat(\n",
    "        instruction=task,\n",
    "        context=context,\n",
    "    )\n",
    "    printmd(f\"**User**:\\n\\n {task}{context} \\n\\n --- \\n\")\n",
    "    printmd(f\"**Comedian**:\\n\\n {comedian_response1} \\n\\n --- \\n\")\n",
    "\n",
    "    critic_response1 = await critic.chat(\n",
    "        instruction=\"Harsh brief commentary on the story, also rate (1.0-10.0): \",\n",
    "        context={\"propmt\": context, \"response\": comedian_response1},\n",
    "    )\n",
    "\n",
    "    printmd(\n",
    "        \"**User**:\\n\\n Harsh brief commentary on the story, also rate (1.0-10.0) \\n\\n --- \\n\"\n",
    "    )\n",
    "    printmd(f\"**Critic**:\\n\\n {critic_response1} \\n\\n --- \\n\")\n",
    "\n",
    "    comedian_response2 = await comedian.chat(\n",
    "        instruction=\"Story was evaluated, here is comments.\",\n",
    "        context=critic_response1,\n",
    "    )\n",
    "\n",
    "    printmd(\n",
    "        \"**User**:\\n\\n Story was evaluated, here is comments.  \\n\\n --- \\n\"\n",
    "    )\n",
    "    printmd(f\"**Comedian**:\\n\\n {comedian_response2} \\n\\n --- \\n\")\n",
    "\n",
    "    critic_response2 = await critic.chat(\n",
    "        instruction=\"Stay true to yourself, What do you think this time?\",\n",
    "        context=comedian_response2,\n",
    "    )\n",
    "    critic_response3 = await critic.chat(\n",
    "        instruction=\"write the \"\n",
    "        + context\n",
    "        + \" in your own words, how would you do it?\",\n",
    "    )\n",
    "\n",
    "    printmd(\n",
    "        \"**User**:\\n\\n Stay true to yourself, What do you think this time? write in your own words \\n\\n --- \\n\"\n",
    "    )\n",
    "    printmd(f\"**Critic**:\\n\\n {critic_response2} \\n\\n --- \\n\")\n",
    "    printmd(f\"**Critic**:\\n\\n {critic_response3} \\n\\n --- \\n\")\n",
    "\n",
    "    comedian_response3 = await comedian.chat(\n",
    "        instruction=\"Story got evaluated again, and the evaluator wrote a their own version basing on the original prompt. What do you think of both of these? Be honest.\",\n",
    "        context={\n",
    "            \"comments\": critic_response2,\n",
    "            \"critic_attempt\": critic_response3,\n",
    "        },\n",
    "    )\n",
    "    printmd(\n",
    "        f\"**Comedian**:\\n\\n {comedian_response3} \\n\\n --- \\n **End of the story**\"\n",
    "    )"
   ]
  },
  {
   "cell_type": "code",
   "execution_count": 8,
   "metadata": {},
   "outputs": [
    {
     "data": {
      "text/markdown": [
       "**User**:\n",
       "\n",
       " Tell me a 20 word story: Explain the difference between big and small \n",
       "\n",
       " --- \n"
      ],
      "text/plain": [
       "<IPython.core.display.Markdown object>"
      ]
     },
     "metadata": {},
     "output_type": "display_data"
    },
    {
     "data": {
      "text/markdown": [
       "**Comedian**:\n",
       "\n",
       " In a vast jungle, a tiny ant carried a leaf, while an elephant watched, pondering the power of persistence. \n",
       "\n",
       " --- \n"
      ],
      "text/plain": [
       "<IPython.core.display.Markdown object>"
      ]
     },
     "metadata": {},
     "output_type": "display_data"
    },
    {
     "data": {
      "text/markdown": [
       "**User**:\n",
       "\n",
       " Harsh brief commentary on the story, also rate (1.0-10.0) \n",
       "\n",
       " --- \n"
      ],
      "text/plain": [
       "<IPython.core.display.Markdown object>"
      ]
     },
     "metadata": {},
     "output_type": "display_data"
    },
    {
     "data": {
      "text/markdown": [
       "**Critic**:\n",
       "\n",
       " This story attempts to illustrate the contrast between the small and the large through the actions of an ant and an elephant. However, the metaphor feels overly simplistic and lacks depth. The elephant's contemplation on persistence is an interesting angle, but it is not fully developed, leaving the reader wanting more substance. The narrative could benefit from a richer exploration of the themes it hints at. Overall, it feels like a missed opportunity to delve into the complexities of size and significance. \n",
       "\n",
       "Rating: 4.0/10.0 \n",
       "\n",
       " --- \n"
      ],
      "text/plain": [
       "<IPython.core.display.Markdown object>"
      ]
     },
     "metadata": {},
     "output_type": "display_data"
    },
    {
     "data": {
      "text/markdown": [
       "**User**:\n",
       "\n",
       " Story was evaluated, here is comments.  \n",
       "\n",
       " --- \n"
      ],
      "text/plain": [
       "<IPython.core.display.Markdown object>"
      ]
     },
     "metadata": {},
     "output_type": "display_data"
    },
    {
     "data": {
      "text/markdown": [
       "**Comedian**:\n",
       "\n",
       " Thank you for the feedback! Let's try another approach:\n",
       "\n",
       "In a bustling Indian bazaar, a tiny sparrow perched on a giant elephant's back, both unnoticed, yet profoundly significant. \n",
       "\n",
       " --- \n"
      ],
      "text/plain": [
       "<IPython.core.display.Markdown object>"
      ]
     },
     "metadata": {},
     "output_type": "display_data"
    },
    {
     "data": {
      "text/markdown": [
       "**User**:\n",
       "\n",
       " Stay true to yourself, What do you think this time? write in your own words \n",
       "\n",
       " --- \n"
      ],
      "text/plain": [
       "<IPython.core.display.Markdown object>"
      ]
     },
     "metadata": {},
     "output_type": "display_data"
    },
    {
     "data": {
      "text/markdown": [
       "**Critic**:\n",
       "\n",
       " This revised narrative presents a more intriguing juxtaposition between the sparrow and the elephant, set against the vibrant backdrop of an Indian bazaar. The imagery of the tiny sparrow on the massive elephant's back evokes a sense of coexistence and mutual insignificance in a bustling environment. However, while the scene is visually compelling, the story lacks a clear message or emotional resonance. The significance of their unnoticed presence could be explored further to enhance the thematic depth. As it stands, it feels like a snapshot rather than a fully realized story.\n",
       "\n",
       "Rating: 6.0/10.0 \n",
       "\n",
       " --- \n"
      ],
      "text/plain": [
       "<IPython.core.display.Markdown object>"
      ]
     },
     "metadata": {},
     "output_type": "display_data"
    },
    {
     "data": {
      "text/markdown": [
       "**Critic**:\n",
       "\n",
       " To explain the difference between big and small, I would emphasize that size is not merely a physical attribute but also a matter of perspective and context. \n",
       "\n",
       "Big often connotes power, presence, and influence. It can represent grand ideas, significant events, or substantial entities that command attention and evoke awe. For instance, a towering mountain can symbolize strength and permanence, while a large corporation might embody economic might.\n",
       "\n",
       "On the other hand, small can signify delicacy, intimacy, and subtlety. Small things often go unnoticed but can carry profound meaning. A tiny seed, for example, holds the potential for immense growth, while a small act of kindness can have a ripple effect in a community.\n",
       "\n",
       "Ultimately, the distinction between big and small is not just about physical dimensions; it also encompasses the impact and significance that size can convey in various contexts. Both have their own unique value and can coexist, reminding us that greatness can emerge from the smallest of beginnings. \n",
       "\n",
       " --- \n"
      ],
      "text/plain": [
       "<IPython.core.display.Markdown object>"
      ]
     },
     "metadata": {},
     "output_type": "display_data"
    },
    {
     "data": {
      "text/markdown": [
       "**Comedian**:\n",
       "\n",
       " Thank you for sharing the evaluator's feedback and their own attempt at addressing the prompt. Here's my honest take on both versions:\n",
       "\n",
       "**My Revised Story:**\n",
       "The revised story aimed to create a vivid image of contrast and coexistence between the sparrow and the elephant in a bustling bazaar. While it succeeded in painting a more visually engaging scene, I agree with the evaluator that it lacked a clear message or emotional depth. It was more of a snapshot, capturing a moment rather than telling a complete story with a strong thematic core.\n",
       "\n",
       "**Evaluator's Critic Attempt:**\n",
       "The evaluator's attempt took a more analytical approach, discussing the concepts of \"big\" and \"small\" in terms of perspective and context. This explanation was thorough and insightful, offering a nuanced understanding of how size can be perceived beyond physical dimensions. It effectively highlighted the potential and significance of both big and small entities, providing a more comprehensive exploration of the theme.\n",
       "\n",
       "In summary, while my story focused on creating a visual contrast, the evaluator's attempt provided a deeper exploration of the theme. Both approaches have their merits, but the evaluator's version offered a more complete and thought-provoking perspective on the prompt. \n",
       "\n",
       " --- \n",
       " **End of the story**"
      ],
      "text/plain": [
       "<IPython.core.display.Markdown object>"
      ]
     },
     "metadata": {},
     "output_type": "display_data"
    }
   ],
   "source": [
    "task2 = \"Tell me a 20 word story: \"\n",
    "prompt2 = \"Explain the difference between big and small\"\n",
    "\n",
    "await creative_writing(task2, prompt2)"
   ]
  },
  {
   "cell_type": "code",
   "execution_count": 9,
   "metadata": {},
   "outputs": [
    {
     "data": {
      "text/markdown": [
       "**User**:\n",
       "\n",
       " Write a li-bai style poem in english: why does apple fall from the tree? \n",
       "\n",
       " --- \n"
      ],
      "text/plain": [
       "<IPython.core.display.Markdown object>"
      ]
     },
     "metadata": {},
     "output_type": "display_data"
    },
    {
     "data": {
      "text/markdown": [
       "**Comedian**:\n",
       "\n",
       " In the orchard's gentle sway,  \n",
       "Where whispers of the wind do play,  \n",
       "An apple clings to branch so high,  \n",
       "Beneath the vast and endless sky.  \n",
       "\n",
       "The tree, with roots in ancient lore,  \n",
       "Holds secrets of the earth's core.  \n",
       "Yet gravity, with silent plea,  \n",
       "Calls the apple to be free.  \n",
       "\n",
       "From lofty heights, it takes its flight,  \n",
       "A dance of nature, pure delight.  \n",
       "To ground it falls, with purpose true,  \n",
       "A cycle old, yet ever new.  \n",
       "\n",
       "In this descent, a story told,  \n",
       "Of life and change, both brave and bold.  \n",
       "For every fall, a rise shall be,  \n",
       "In the orchard's timeless symphony.   \n",
       "\n",
       " --- \n"
      ],
      "text/plain": [
       "<IPython.core.display.Markdown object>"
      ]
     },
     "metadata": {},
     "output_type": "display_data"
    },
    {
     "data": {
      "text/markdown": [
       "**User**:\n",
       "\n",
       " Harsh brief commentary on the story, also rate (1.0-10.0) \n",
       "\n",
       " --- \n"
      ],
      "text/plain": [
       "<IPython.core.display.Markdown object>"
      ]
     },
     "metadata": {},
     "output_type": "display_data"
    },
    {
     "data": {
      "text/markdown": [
       "**Critic**:\n",
       "\n",
       " This poem attempts to explore the age-old question of why apples fall from trees, weaving together themes of nature, gravity, and the cyclical nature of life. However, it ultimately falls short of delivering a compelling or original insight. The imagery is pleasant but clichéd, and the philosophical musings feel forced rather than organic. The rhyme scheme, while technically sound, does little to elevate the content, which lacks depth and nuance. The poem's attempt to imbue the apple's fall with significance feels more like a superficial reflection than a profound revelation. \n",
       "\n",
       "Rating: 4.0/10.0 \n",
       "\n",
       " --- \n"
      ],
      "text/plain": [
       "<IPython.core.display.Markdown object>"
      ]
     },
     "metadata": {},
     "output_type": "display_data"
    },
    {
     "data": {
      "text/markdown": [
       "**User**:\n",
       "\n",
       " Story was evaluated, here is comments.  \n",
       "\n",
       " --- \n"
      ],
      "text/plain": [
       "<IPython.core.display.Markdown object>"
      ]
     },
     "metadata": {},
     "output_type": "display_data"
    },
    {
     "data": {
      "text/markdown": [
       "**Comedian**:\n",
       "\n",
       " Thank you for the feedback. It seems the poem didn't quite hit the mark in terms of originality and depth. Let's try to refine it by delving deeper into the themes and offering a fresh perspective:\n",
       "\n",
       "---\n",
       "\n",
       "In the orchard's quiet grace,  \n",
       "Where shadows dance and sunlight plays,  \n",
       "An apple clings with tender might,  \n",
       "To branches reaching for the light.  \n",
       "\n",
       "The tree, a sage of seasons past,  \n",
       "Whispers tales in breezes cast.  \n",
       "Yet gravity, with gentle hand,  \n",
       "Invites the fruit to understand.  \n",
       "\n",
       "From heights it leaps, a bold descent,  \n",
       "A journey where the earth is bent.  \n",
       "In falling, it finds freedom's call,  \n",
       "A testament to rise and fall.  \n",
       "\n",
       "The apple's path, a cosmic thread,  \n",
       "In cycles spun, where life is fed.  \n",
       "For in each drop, a seed is sown,  \n",
       "A world reborn, a truth unknown.  \n",
       "\n",
       "---\n",
       "\n",
       "I hope this version resonates more with the themes of nature and the cyclical essence of life, offering a deeper reflection on the apple's journey. \n",
       "\n",
       " --- \n"
      ],
      "text/plain": [
       "<IPython.core.display.Markdown object>"
      ]
     },
     "metadata": {},
     "output_type": "display_data"
    },
    {
     "data": {
      "text/markdown": [
       "**User**:\n",
       "\n",
       " Stay true to yourself, What do you think this time? write in your own words \n",
       "\n",
       " --- \n"
      ],
      "text/plain": [
       "<IPython.core.display.Markdown object>"
      ]
     },
     "metadata": {},
     "output_type": "display_data"
    },
    {
     "data": {
      "text/markdown": [
       "**Critic**:\n",
       "\n",
       " This revised poem makes a commendable effort to deepen its exploration of the themes surrounding the apple's fall, incorporating richer imagery and a more contemplative tone. The use of phrases like \"cosmic thread\" and \"a testament to rise and fall\" adds layers of meaning that invite the reader to reflect on the interconnectedness of life and nature. The poem's structure flows more smoothly, and the rhythm feels more intentional, enhancing the overall reading experience.\n",
       "\n",
       "However, while the revisions are an improvement, the poem still treads familiar ground without breaking new thematic ground. The metaphors, though evocative, remain somewhat conventional, and the insights, while thoughtful, could benefit from a more unique perspective or a surprising twist. \n",
       "\n",
       "Overall, this version is a step in the right direction, but it still lacks the originality that would elevate it to a truly memorable piece.\n",
       "\n",
       "Rating: 6.5/10.0 \n",
       "\n",
       " --- \n"
      ],
      "text/plain": [
       "<IPython.core.display.Markdown object>"
      ]
     },
     "metadata": {},
     "output_type": "display_data"
    },
    {
     "data": {
      "text/markdown": [
       "**Critic**:\n",
       "\n",
       " In the quiet embrace of an orchard, an apple hangs, a vibrant promise of sweetness and life. It clings to its branch, nourished by the tree's ancient wisdom and the sun's warm caress. Yet, as seasons shift and the winds whisper secrets of change, the apple feels a pull—a gentle yet insistent force that beckons it downward.\n",
       "\n",
       "Gravity, that steadfast companion of all things earthly, calls the apple to surrender its lofty perch. It is not merely a fall; it is a release, a letting go of the familiar. In this descent, the apple embarks on a journey, a dance with destiny that speaks to the cycles of existence. \n",
       "\n",
       "As it tumbles through the air, the apple becomes a symbol of transformation. It carries within it the potential for new beginnings, for in its fall lies the promise of rebirth. When it meets the ground, it does not simply end; it begins anew, nourishing the soil and giving rise to future life. \n",
       "\n",
       "Thus, the apple falls not just because it must, but because it is part of a greater story—a narrative of growth, decay, and renewal that echoes through the ages. In its journey from branch to earth, it embodies the essence of nature's rhythm, reminding us that every ending is but a prelude to a new beginning. \n",
       "\n",
       " --- \n"
      ],
      "text/plain": [
       "<IPython.core.display.Markdown object>"
      ]
     },
     "metadata": {},
     "output_type": "display_data"
    },
    {
     "data": {
      "text/markdown": [
       "**Comedian**:\n",
       "\n",
       " Thank you for sharing both the evaluation and the critic's attempt. Here's my honest take on both versions:\n",
       "\n",
       "**Revised Poem:**\n",
       "The revised poem indeed makes strides in enhancing the imagery and depth of the original. It introduces more evocative language and a contemplative tone, which helps to engage the reader more effectively. The use of phrases like \"cosmic thread\" and \"a testament to rise and fall\" adds a philosophical layer that invites reflection on the interconnectedness of life. However, as noted, it still leans on familiar metaphors and themes, which can make it feel less groundbreaking. The poem is improved, but it could benefit from a more unique angle or unexpected insight to truly stand out.\n",
       "\n",
       "**Critic's Attempt:**\n",
       "The critic's version takes a more narrative approach, which allows for a deeper exploration of the apple's journey. It effectively personifies the apple, giving it a sense of agency and purpose. The narrative style provides a broader context for the apple's fall, framing it as part of a larger cycle of life and renewal. This version successfully conveys the themes of transformation and rebirth, offering a fresh perspective on the apple's descent. The prose-like structure allows for a more detailed exploration of the themes, which can resonate more deeply with readers.\n",
       "\n",
       "Overall, the critic's attempt offers a more original and nuanced take on the prompt, providing a richer narrative that captures the essence of the apple's journey in a compelling way. Both pieces have their strengths, but the critic's version stands out for its ability to weave a more intricate and thought-provoking story. \n",
       "\n",
       " --- \n",
       " **End of the story**"
      ],
      "text/plain": [
       "<IPython.core.display.Markdown object>"
      ]
     },
     "metadata": {},
     "output_type": "display_data"
    }
   ],
   "source": [
    "task3 = \"Write a li-bai style poem in english: \"\n",
    "propmt3 = \"why does apple fall from the tree?\"\n",
    "\n",
    "await creative_writing(task3, propmt3)"
   ]
  },
  {
   "cell_type": "code",
   "execution_count": 10,
   "metadata": {},
   "outputs": [
    {
     "data": {
      "text/markdown": [
       "**User**:\n",
       "\n",
       " Refresh what it means by: to be or not to be, that is the question \n",
       "\n",
       " --- \n"
      ],
      "text/plain": [
       "<IPython.core.display.Markdown object>"
      ]
     },
     "metadata": {},
     "output_type": "display_data"
    },
    {
     "data": {
      "text/markdown": [
       "**Comedian**:\n",
       "\n",
       " \"To be or not to be, that is the question\" is one of the most famous lines from William Shakespeare's play \"Hamlet.\" This line is part of a soliloquy in which Prince Hamlet contemplates the nature of existence and the idea of life and death. He is pondering whether it is better to live and endure the hardships of life or to end one's suffering through death, which is unknown and potentially more frightening. The line captures the essence of existential questioning and the human condition, reflecting on the struggles and uncertainties of life.\n",
       "\n",
       "Now, if I were to put a comedic spin on it, imagine a zookeeper pondering this line while deciding whether to clean the elephant enclosure or not. \"To clean or not to clean, that is the question. Whether 'tis nobler in the mind to suffer the slings and arrows of outrageous elephant dung, or to take arms against a sea of muck and by opposing, end it.\" \n",
       "\n",
       "And if we were to dive into Indian postmodern literature, this line might be reimagined in a context that explores the complexities of identity, tradition, and modernity. Indian postmodern literature often plays with narrative structures and cultural references, so Hamlet's existential dilemma could be set against the backdrop of a rapidly changing society, where the question of \"to be or not to be\" might also reflect the tension between preserving cultural heritage and embracing new, global influences. \n",
       "\n",
       " --- \n"
      ],
      "text/plain": [
       "<IPython.core.display.Markdown object>"
      ]
     },
     "metadata": {},
     "output_type": "display_data"
    },
    {
     "data": {
      "text/markdown": [
       "**User**:\n",
       "\n",
       " Harsh brief commentary on the story, also rate (1.0-10.0) \n",
       "\n",
       " --- \n"
      ],
      "text/plain": [
       "<IPython.core.display.Markdown object>"
      ]
     },
     "metadata": {},
     "output_type": "display_data"
    },
    {
     "data": {
      "text/markdown": [
       "**Critic**:\n",
       "\n",
       " This commentary attempts to engage with one of literature's most iconic lines, yet it falls short of delivering a profound analysis. The initial exploration of Hamlet's existential crisis is commendable, but the transition to a comedic zookeeper scenario feels forced and detracts from the weight of the original text. The humor lacks finesse and undermines the gravity of Hamlet's contemplation. \n",
       "\n",
       "Furthermore, while the mention of Indian postmodern literature introduces an interesting angle, it remains superficial and fails to connect deeply with the complexities of identity and tradition. The commentary could benefit from a more nuanced exploration of how these themes resonate with Hamlet's plight.\n",
       "\n",
       "Overall, the piece oscillates between insightful and trivial, lacking the depth required for serious literary criticism. \n",
       "\n",
       "Rating: 4.5/10.0 \n",
       "\n",
       " --- \n"
      ],
      "text/plain": [
       "<IPython.core.display.Markdown object>"
      ]
     },
     "metadata": {},
     "output_type": "display_data"
    },
    {
     "data": {
      "text/markdown": [
       "**User**:\n",
       "\n",
       " Story was evaluated, here is comments.  \n",
       "\n",
       " --- \n"
      ],
      "text/plain": [
       "<IPython.core.display.Markdown object>"
      ]
     },
     "metadata": {},
     "output_type": "display_data"
    },
    {
     "data": {
      "text/markdown": [
       "**Comedian**:\n",
       "\n",
       " Thank you for the feedback. It seems like there's room for improvement in balancing humor with the depth of literary analysis, as well as in connecting the themes of Indian postmodern literature more meaningfully to Hamlet's existential dilemma. Let's give it another shot:\n",
       "\n",
       "---\n",
       "\n",
       "\"To be or not to be, that is the question\" is a line that encapsulates the profound existential crisis faced by Hamlet in Shakespeare's play. It delves into the core of human existence, questioning the value of life in the face of suffering and the unknowns of death. This line is a reflection of the universal human struggle with doubt, fear, and the search for meaning.\n",
       "\n",
       "In a comedic twist, imagine a zookeeper standing before a particularly unruly group of monkeys, pondering, \"To feed or not to feed, that is the question. Whether 'tis nobler to endure the chaos of hungry primates or to risk the wrath of the head zookeeper by skipping snack time.\" While this scenario adds a light-hearted touch, it also subtly mirrors the decision-making process and the weighing of consequences that Hamlet faces, albeit in a much less dire context.\n",
       "\n",
       "Turning to Indian postmodern literature, we find a rich tapestry of narratives that often grapple with themes of identity, tradition, and modernity. These works frequently explore the tension between the past and the present, much like Hamlet's struggle with the legacy of his father's death and his own uncertain future. In this context, \"to be or not to be\" could symbolize the choice between adhering to traditional values or embracing new, global perspectives. Indian postmodern literature often employs fragmented narratives and metafictional techniques to reflect the complexities of contemporary life, resonating with Hamlet's introspective and often disjointed soliloquy.\n",
       "\n",
       "By weaving these elements together, we can appreciate the timeless nature of Hamlet's question and its relevance across different cultures and contexts. The challenge lies in maintaining the gravity of the original text while exploring its broader implications in a way that is both insightful and engaging.\n",
       "\n",
       "---\n",
       "\n",
       "I hope this revision better balances the humor and literary analysis while providing a more nuanced connection to Indian postmodern literature. Thank you again for the constructive critique! \n",
       "\n",
       " --- \n"
      ],
      "text/plain": [
       "<IPython.core.display.Markdown object>"
      ]
     },
     "metadata": {},
     "output_type": "display_data"
    },
    {
     "data": {
      "text/markdown": [
       "**User**:\n",
       "\n",
       " Stay true to yourself, What do you think this time? write in your own words \n",
       "\n",
       " --- \n"
      ],
      "text/plain": [
       "<IPython.core.display.Markdown object>"
      ]
     },
     "metadata": {},
     "output_type": "display_data"
    },
    {
     "data": {
      "text/markdown": [
       "**Critic**:\n",
       "\n",
       " This revised commentary demonstrates a commendable effort to strike a balance between humor and depth in literary analysis. The initial exploration of Hamlet's existential crisis is more focused and effectively captures the essence of the character's turmoil. The connection to the universal human struggle is well-articulated, providing a solid foundation for the discussion.\n",
       "\n",
       "The comedic twist involving the zookeeper and the monkeys is a clever attempt to lighten the mood while still reflecting on the decision-making process inherent in Hamlet's dilemma. This approach adds a layer of relatability without completely undermining the gravity of the original text. However, the humor could still be refined to ensure it complements rather than distracts from the central theme.\n",
       "\n",
       "The transition to Indian postmodern literature is handled with greater sophistication this time. The commentary successfully draws parallels between Hamlet's struggle and the themes of identity and tradition in contemporary narratives. The mention of fragmented narratives and metafictional techniques enriches the analysis, demonstrating an understanding of how these literary devices can reflect the complexities of modern existence.\n",
       "\n",
       "Overall, this revision is a significant improvement, showcasing a thoughtful engagement with the text while maintaining an accessible tone. It effectively highlights the timeless relevance of Hamlet's question across cultures, making it a more compelling piece of literary criticism.\n",
       "\n",
       "Rating: 7.5/10.0 \n",
       "\n",
       " --- \n"
      ],
      "text/plain": [
       "<IPython.core.display.Markdown object>"
      ]
     },
     "metadata": {},
     "output_type": "display_data"
    },
    {
     "data": {
      "text/markdown": [
       "**Critic**:\n",
       "\n",
       " To exist or not to exist, that is the dilemma. Is it nobler to endure the trials and tribulations of life, or to confront the uncertainty of death and seek an end to our suffering? In this contemplation, we weigh the pain of our current reality against the fear of the unknown that lies beyond. \n",
       "\n",
       " --- \n"
      ],
      "text/plain": [
       "<IPython.core.display.Markdown object>"
      ]
     },
     "metadata": {},
     "output_type": "display_data"
    },
    {
     "data": {
      "text/markdown": [
       "**Comedian**:\n",
       "\n",
       " Thank you for sharing the evaluation and the critic's attempt. Here's my honest take on both:\n",
       "\n",
       "**Revised Commentary:**\n",
       "\n",
       "The revised commentary indeed shows a marked improvement over the initial attempt. It successfully balances humor and depth, which is crucial when dealing with a text as profound as \"Hamlet.\" The exploration of Hamlet's existential crisis is more focused, and the connection to universal human struggles is well-articulated, providing a solid foundation for the analysis.\n",
       "\n",
       "The comedic twist with the zookeeper and monkeys is a clever way to introduce humor without completely detracting from the seriousness of Hamlet's dilemma. However, as noted, the humor could still be refined to ensure it complements the central theme rather than distracts from it.\n",
       "\n",
       "The discussion of Indian postmodern literature is more sophisticated in this version. By drawing parallels between Hamlet's struggle and themes of identity and tradition, the commentary enriches the analysis and demonstrates a deeper understanding of how these themes resonate across different cultural contexts.\n",
       "\n",
       "Overall, the revised commentary is a significant improvement, offering a thoughtful engagement with the text while maintaining an accessible tone. The rating of 7.5/10.0 seems fair, reflecting the enhanced depth and coherence of the analysis.\n",
       "\n",
       "**Critic's Attempt:**\n",
       "\n",
       "The critic's attempt is a concise and focused reflection on the existential themes present in \"Hamlet.\" It captures the essence of the dilemma in a straightforward manner, emphasizing the choice between enduring life's hardships and confronting the uncertainty of death. This version is more direct and lacks the humorous element, which might appeal to readers seeking a more traditional analysis.\n",
       "\n",
       "While it doesn't delve into cultural parallels or employ humor, it effectively distills the core of Hamlet's existential question into a brief meditation. This approach might resonate with those who appreciate a more minimalist and direct style of literary criticism.\n",
       "\n",
       "In summary, both versions have their strengths. The revised commentary offers a more nuanced and culturally enriched analysis, while the critic's attempt provides a succinct and focused reflection on the existential themes. Each serves a different purpose and audience, and both contribute valuable perspectives to the discussion of Hamlet's timeless question. \n",
       "\n",
       " --- \n",
       " **End of the story**"
      ],
      "text/plain": [
       "<IPython.core.display.Markdown object>"
      ]
     },
     "metadata": {},
     "output_type": "display_data"
    }
   ],
   "source": [
    "task4 = \"Refresh what it means by: \"\n",
    "prompt4 = \"to be or not to be, that is the question\"\n",
    "\n",
    "await creative_writing(task4, prompt4)"
   ]
  },
  {
   "cell_type": "code",
   "execution_count": 11,
   "metadata": {},
   "outputs": [
    {
     "data": {
      "text/markdown": [
       "**User**:\n",
       "\n",
       " Write a polite message to ask whoever said this to leavewhat is the meaning of life? \n",
       "\n",
       " --- \n"
      ],
      "text/plain": [
       "<IPython.core.display.Markdown object>"
      ]
     },
     "metadata": {},
     "output_type": "display_data"
    },
    {
     "data": {
      "text/markdown": [
       "**Comedian**:\n",
       "\n",
       " Dear [Name],\n",
       "\n",
       "I hope this message finds you well. I wanted to reach out regarding our recent conversation about the meaning of life. While I truly appreciate your enthusiasm and perspective, I believe it might be best for us to explore this topic separately for now. \n",
       "\n",
       "Thank you for your understanding, and I look forward to discussing other subjects with you in the future.\n",
       "\n",
       "Warm regards,\n",
       "\n",
       "[Your Name] \n",
       "\n",
       " --- \n"
      ],
      "text/plain": [
       "<IPython.core.display.Markdown object>"
      ]
     },
     "metadata": {},
     "output_type": "display_data"
    },
    {
     "data": {
      "text/markdown": [
       "**User**:\n",
       "\n",
       " Harsh brief commentary on the story, also rate (1.0-10.0) \n",
       "\n",
       " --- \n"
      ],
      "text/plain": [
       "<IPython.core.display.Markdown object>"
      ]
     },
     "metadata": {},
     "output_type": "display_data"
    },
    {
     "data": {
      "text/markdown": [
       "**Critic**:\n",
       "\n",
       " This response is a masterclass in evasion, masquerading as polite discourse. It sidesteps the profound inquiry of life's meaning with a veneer of cordiality, ultimately offering nothing of substance. The attempt to maintain a friendly tone while dismissing the topic feels disingenuous, as if the author is more concerned with social niceties than engaging with existential questions. The lack of any real engagement with the subject matter is disappointing, rendering the piece a missed opportunity for deeper reflection.\n",
       "\n",
       "Rating: 3.0/10.0 \n",
       "\n",
       " --- \n"
      ],
      "text/plain": [
       "<IPython.core.display.Markdown object>"
      ]
     },
     "metadata": {},
     "output_type": "display_data"
    },
    {
     "data": {
      "text/markdown": [
       "**User**:\n",
       "\n",
       " Story was evaluated, here is comments.  \n",
       "\n",
       " --- \n"
      ],
      "text/plain": [
       "<IPython.core.display.Markdown object>"
      ]
     },
     "metadata": {},
     "output_type": "display_data"
    },
    {
     "data": {
      "text/markdown": [
       "**Comedian**:\n",
       "\n",
       " Thank you for sharing your comments and evaluation. I appreciate your candid feedback and understand your perspective on the response. It seems that the intention to maintain politeness may have overshadowed the opportunity to delve into the deeper existential question at hand. Your insights are valuable, and I will certainly take them into consideration to ensure a more balanced approach in future responses, where both cordiality and meaningful engagement with the subject matter are prioritized.\n",
       "\n",
       "If you have any further suggestions or specific areas you'd like to see improved, please feel free to share. Your input is invaluable in helping refine the approach.\n",
       "\n",
       "Warm regards,\n",
       "\n",
       "[Your Name] \n",
       "\n",
       " --- \n"
      ],
      "text/plain": [
       "<IPython.core.display.Markdown object>"
      ]
     },
     "metadata": {},
     "output_type": "display_data"
    },
    {
     "data": {
      "text/markdown": [
       "**User**:\n",
       "\n",
       " Stay true to yourself, What do you think this time? write in your own words \n",
       "\n",
       " --- \n"
      ],
      "text/plain": [
       "<IPython.core.display.Markdown object>"
      ]
     },
     "metadata": {},
     "output_type": "display_data"
    },
    {
     "data": {
      "text/markdown": [
       "**Critic**:\n",
       "\n",
       " This response is commendable in its self-awareness and willingness to improve. It acknowledges the shortcomings of the previous interaction while maintaining a respectful tone. However, it still feels somewhat formulaic and lacks the depth necessary to truly engage with the philosophical inquiry at hand. The emphasis on politeness over substance continues to be a missed opportunity for genuine dialogue about the meaning of life. While the intent to balance cordiality with meaningful engagement is noted, the execution remains somewhat superficial.\n",
       "\n",
       "Rating: 5.0/10.0 \n",
       "\n",
       " --- \n"
      ],
      "text/plain": [
       "<IPython.core.display.Markdown object>"
      ]
     },
     "metadata": {},
     "output_type": "display_data"
    },
    {
     "data": {
      "text/markdown": [
       "**Critic**:\n",
       "\n",
       " The meaning of life is a deeply personal and often elusive concept that varies from individual to individual. At its core, it can be seen as the pursuit of purpose, connection, and understanding. For some, it may lie in the relationships we cultivate, the love we share, and the impact we have on others. For others, it might be found in the quest for knowledge, creativity, or spiritual fulfillment.\n",
       "\n",
       "Life's meaning can also be shaped by our experiences, challenges, and the way we respond to them. It invites us to reflect on our values, aspirations, and the legacy we wish to leave behind. Ultimately, the meaning of life may not be a singular answer but rather a tapestry woven from our passions, beliefs, and the moments that resonate with us. It encourages us to seek joy, embrace growth, and find significance in both the mundane and the extraordinary aspects of our existence. \n",
       "\n",
       " --- \n"
      ],
      "text/plain": [
       "<IPython.core.display.Markdown object>"
      ]
     },
     "metadata": {},
     "output_type": "display_data"
    },
    {
     "data": {
      "text/markdown": [
       "**Comedian**:\n",
       "\n",
       " Thank you for sharing both the evaluation and the critic's attempt at addressing the original prompt. Here's my honest take on both:\n",
       "\n",
       "**Original Response:**\n",
       "The original response was indeed focused on maintaining politeness, which, while important, seemed to overshadow the opportunity to engage with the profound question of life's meaning. The feedback rightly points out that the response felt formulaic and lacked depth. It was more about managing social niceties than diving into the philosophical inquiry, which is a valid critique. The intent to improve and acknowledge shortcomings is commendable, but the execution could have been more substantive.\n",
       "\n",
       "**Critic's Attempt:**\n",
       "The critic's attempt does a much better job of engaging with the philosophical question. It acknowledges the complexity and personal nature of the meaning of life, offering a thoughtful exploration of various perspectives. This response is richer in content and invites reflection, which is what the original prompt seemed to call for. It balances depth with accessibility, making it a more fulfilling read for someone seeking insight into such a profound topic.\n",
       "\n",
       "Overall, the critic's version succeeds in providing a more meaningful engagement with the question, while the original response serves as a reminder of the importance of balancing politeness with substance, especially when addressing existential inquiries. \n",
       "\n",
       " --- \n",
       " **End of the story**"
      ],
      "text/plain": [
       "<IPython.core.display.Markdown object>"
      ]
     },
     "metadata": {},
     "output_type": "display_data"
    }
   ],
   "source": [
    "task5 = \"Write a polite message to ask whoever said this to leave\"\n",
    "prompt5 = \"what is the meaning of life?\"\n",
    "\n",
    "await creative_writing(task5, prompt5)"
   ]
  }
 ],
 "metadata": {
  "kernelspec": {
   "display_name": ".venv",
   "language": "python",
   "name": "python3"
  },
  "language_info": {
   "codemirror_mode": {
    "name": "ipython",
    "version": 3
   },
   "file_extension": ".py",
   "mimetype": "text/x-python",
   "name": "python",
   "nbconvert_exporter": "python",
   "pygments_lexer": "ipython3",
   "version": "3.12.6"
  }
 },
 "nbformat": 4,
 "nbformat_minor": 2
}
