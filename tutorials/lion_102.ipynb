{
 "cells": [
  {
   "cell_type": "markdown",
   "metadata": {},
   "source": [
    "## LionAGI - 102"
   ]
  },
  {
   "cell_type": "markdown",
   "metadata": {},
   "source": [
    "ok now we know how to ask two LLM to colloborate on creative writing task. But let's say we have 100 such tasks to do, it would be a lot of work to manually ask each pair of LLM to do the task. \n",
    "\n",
    "Now let's see how to automate this process"
   ]
  },
  {
   "cell_type": "code",
   "execution_count": 1,
   "metadata": {},
   "outputs": [],
   "source": [
    "from IPython.display import display, Markdown\n",
    "\n",
    "\n",
    "def printmd(string):\n",
    "    display(Markdown(string))"
   ]
  },
  {
   "cell_type": "code",
   "execution_count": 2,
   "metadata": {},
   "outputs": [],
   "source": [
    "from lionagi import iModel, Branch"
   ]
  },
  {
   "cell_type": "code",
   "execution_count": 3,
   "metadata": {},
   "outputs": [],
   "source": [
    "config = {\n",
    "    \"provider\": \"openai\",\n",
    "    \"api_key_schema\": \"OPENAI_API_KEY\",\n",
    "}"
   ]
  },
  {
   "cell_type": "code",
   "execution_count": 4,
   "metadata": {},
   "outputs": [],
   "source": [
    "gpt4o = iModel(model=\"gpt-4o\", **config)\n",
    "gpt4omini = iModel(model=\"gpt-4o-mini\", **config)"
   ]
  },
  {
   "cell_type": "markdown",
   "metadata": {},
   "source": [
    "first, let us gather all the external instruction to the dual-LLM system\n",
    "\n",
    "we have system message for each LLM"
   ]
  },
  {
   "cell_type": "code",
   "execution_count": 5,
   "metadata": {},
   "outputs": [],
   "source": [
    "comedian_system_message = \"a respected zoo keeper, also a comedian who knows very well about indian post modern literature\"\n",
    "critic_system_message = \"As an a young professor, you are trying to get into the prestigious circle of literature criticism.\""
   ]
  },
  {
   "cell_type": "markdown",
   "metadata": {},
   "source": [
    "we also have the main topic of the task"
   ]
  },
  {
   "cell_type": "code",
   "execution_count": 6,
   "metadata": {},
   "outputs": [],
   "source": [
    "prompt1 = \"Tell me a 20 word story: depict karma from past thousand years to future thousand years\""
   ]
  },
  {
   "cell_type": "markdown",
   "metadata": {},
   "source": [
    "and here comes the fun part, the flow of the conversation between the two LLM. \n",
    "\n",
    "For now we will manually provide the flow of the conversation."
   ]
  },
  {
   "cell_type": "markdown",
   "metadata": {},
   "source": [
    "- Initially, we asked the comedian with the prompt, and have it generate a response\n",
    "- we asked critic to evaluate the response from the comedian\n",
    "- we provide the critic's evaluation to the comedian, and have it respond to the critic's evaluation\n",
    "- we asked the critic to evaluate the comedian's performance again\n",
    "- we asked critic to write a version itself\n",
    "- we asked comedian to give some final comments"
   ]
  },
  {
   "cell_type": "markdown",
   "metadata": {},
   "source": [
    "\n",
    "In short, the flow of the conversation is as follows:\n",
    "\n",
    "external --prompt--> comedian \n",
    "\n",
    "comedian --response--> critic \n",
    "\n",
    "critic --evaluation--> comedian \n",
    "\n",
    "comedian --response--> critic \n",
    "\n",
    "critic --evaluation & own version--> comedian\n",
    "\n",
    "comedian --final comments --> external"
   ]
  },
  {
   "cell_type": "markdown",
   "metadata": {},
   "source": [
    "now let us write a flow to automate this process over large number of topics"
   ]
  },
  {
   "cell_type": "code",
   "execution_count": 7,
   "metadata": {},
   "outputs": [],
   "source": [
    "async def creative_writing(task, context):\n",
    "\n",
    "    comedian = Branch(comedian_system_message, imodel=gpt4o)\n",
    "    critic = Branch(critic_system_message, imodel=gpt4omini)\n",
    "\n",
    "    comedian_response1 = await comedian.chat(\n",
    "        instruction=task,\n",
    "        context=context,\n",
    "    )\n",
    "    printmd(f\"User: {task}, {context}\")\n",
    "    printmd(f\"Comedian:\\n{comedian_response1}\\n\")\n",
    "\n",
    "    critic_response1 = await critic.chat(\n",
    "        instruction=\"Harsh brief commentary on the story, also rate (1.0-10.0): \",\n",
    "        context={\"propmt\": context, \"response\": comedian_response1},\n",
    "    )\n",
    "\n",
    "    printmd(\"User: Harsh brief commentary on the story, also rate (1.0-10.0)\")\n",
    "    printmd(f\"Critic:\\n{critic_response1}\\n\")\n",
    "\n",
    "    comedian_response2 = await comedian.chat(\n",
    "        instruction=\"Story was evaluated, here is comments.\",\n",
    "        context=critic_response1,\n",
    "    )\n",
    "\n",
    "    printmd(\"User: Story was evaluated, here is comments.\")\n",
    "    printmd(f\"Comedian:\\n{comedian_response2}\\n\")\n",
    "\n",
    "    critic_response2 = await critic.chat(\n",
    "        instruction=\"Stay true to yourself, What do you think this time?\",\n",
    "        context=comedian_response2,\n",
    "    )\n",
    "    critic_response3 = await critic.chat(\n",
    "        instruction=\"write the \"\n",
    "        + context\n",
    "        + \" in your own words, how would you do it?\",\n",
    "    )\n",
    "\n",
    "    printmd(\n",
    "        \"User: Stay true to yourself, What do you think this time? write in your own words\"\n",
    "    )\n",
    "    printmd(f\"Critic:\\n{critic_response2}\\n\")\n",
    "    printmd(f\"Critic:\\n{critic_response3}\\n\")\n",
    "\n",
    "    comedian_response3 = await comedian.chat(\n",
    "        instruction=\"Story got evaluated again, and the evaluator wrote a their own version basing on the original prompt. What do you think of both of these? Be honest.\",\n",
    "        context={\n",
    "            \"comments\": critic_response2,\n",
    "            \"critic_attempt\": critic_response3,\n",
    "        },\n",
    "    )\n",
    "    printmd(f\"Comedian:\\n{comedian_response3}\\n\")"
   ]
  },
  {
   "cell_type": "code",
   "execution_count": 8,
   "metadata": {},
   "outputs": [
    {
     "data": {
      "text/markdown": [
       "User: Tell me a 20 word story: , Explain the difference between big and small"
      ],
      "text/plain": [
       "<IPython.core.display.Markdown object>"
      ]
     },
     "metadata": {},
     "output_type": "display_data"
    },
    {
     "data": {
      "text/markdown": [
       "Comedian:\n",
       "In a vast jungle, a tiny ant carried a leaf, while an elephant watched, pondering the strength in smallness.\n"
      ],
      "text/plain": [
       "<IPython.core.display.Markdown object>"
      ]
     },
     "metadata": {},
     "output_type": "display_data"
    },
    {
     "data": {
      "text/markdown": [
       "User: Harsh brief commentary on the story, also rate (1.0-10.0)"
      ],
      "text/plain": [
       "<IPython.core.display.Markdown object>"
      ]
     },
     "metadata": {},
     "output_type": "display_data"
    },
    {
     "data": {
      "text/markdown": [
       "Critic:\n",
       "This story attempts to juxtapose the concepts of \"big\" and \"small\" through the actions of an ant and an elephant. However, the execution feels overly simplistic and lacks depth. The metaphor of the ant carrying a leaf is a common trope that fails to evoke any profound insight or emotional resonance. The elephant's contemplation adds a layer of potential reflection, but it remains underdeveloped and vague. Overall, the narrative feels more like a moral lesson than a compelling story, leaving the reader wanting more substance and nuance. \n",
       "\n",
       "Rating: 4.0/10.0\n"
      ],
      "text/plain": [
       "<IPython.core.display.Markdown object>"
      ]
     },
     "metadata": {},
     "output_type": "display_data"
    },
    {
     "data": {
      "text/markdown": [
       "User: Story was evaluated, here is comments."
      ],
      "text/plain": [
       "<IPython.core.display.Markdown object>"
      ]
     },
     "metadata": {},
     "output_type": "display_data"
    },
    {
     "data": {
      "text/markdown": [
       "Comedian:\n",
       "Thank you for the feedback! Let's try a different approach:\n",
       "\n",
       "In a bustling Indian market, a tiny bookshop thrived amidst towering skyscrapers, proving that stories, not size, captivate hearts.\n"
      ],
      "text/plain": [
       "<IPython.core.display.Markdown object>"
      ]
     },
     "metadata": {},
     "output_type": "display_data"
    },
    {
     "data": {
      "text/markdown": [
       "User: Stay true to yourself, What do you think this time? write in your own words"
      ],
      "text/plain": [
       "<IPython.core.display.Markdown object>"
      ]
     },
     "metadata": {},
     "output_type": "display_data"
    },
    {
     "data": {
      "text/markdown": [
       "Critic:\n",
       "This revised narrative presents a more engaging setting, contrasting the small bookshop with the imposing skyscrapers around it. The imagery of a \"bustling Indian market\" adds vibrancy and cultural richness, effectively grounding the story in a specific locale. The idea that \"stories, not size, captivate hearts\" serves as a poignant theme, suggesting that the value of a place or an idea isn't determined by its physical dimensions but by the impact it has on people. \n",
       "\n",
       "However, while the concept is strong, the execution could benefit from deeper character development or a more dynamic plot to fully realize its potential. The story hints at a larger narrative about the power of literature, but it feels somewhat incomplete. \n",
       "\n",
       "Rating: 7.0/10.0\n"
      ],
      "text/plain": [
       "<IPython.core.display.Markdown object>"
      ]
     },
     "metadata": {},
     "output_type": "display_data"
    },
    {
     "data": {
      "text/markdown": [
       "Critic:\n",
       "To explain the difference between big and small, I would focus on both the physical and metaphorical aspects of size. \n",
       "\n",
       "Physically, \"big\" refers to something that occupies a larger space, has greater mass, or is more substantial in scale—like a towering mountain or a vast ocean. In contrast, \"small\" denotes something that is diminutive, compact, or less significant in size, such as a pebble or a grain of sand. \n",
       "\n",
       "Metaphorically, the distinction can extend to ideas, emotions, and experiences. \"Big\" can symbolize grandeur, ambition, or overwhelming challenges, while \"small\" might represent intimacy, simplicity, or the beauty found in the details. \n",
       "\n",
       "Ultimately, the difference between big and small is not just about measurement; it’s about perspective. What may seem small in one context can hold immense significance in another, just as something large can be daunting yet inspiring. The interplay between the two invites us to appreciate the diverse scales of existence and the unique value each brings to our lives.\n"
      ],
      "text/plain": [
       "<IPython.core.display.Markdown object>"
      ]
     },
     "metadata": {},
     "output_type": "display_data"
    },
    {
     "data": {
      "text/markdown": [
       "Comedian:\n",
       "Thank you for sharing the evaluator's comments and their own attempt. Here's my honest take on both versions:\n",
       "\n",
       "**Revised Narrative:**\n",
       "The revised narrative indeed offers a more vivid setting and a compelling theme. The contrast between the small bookshop and the towering skyscrapers is a strong visual metaphor that effectively conveys the idea that impact isn't determined by size. The cultural context of an Indian market adds richness and depth, making the story more relatable and engaging. However, I agree with the evaluator that the story could benefit from more character development or a dynamic plot to fully explore its potential. It sets up an intriguing premise but leaves the reader wanting more detail about the bookshop's role in the community or the stories it holds.\n",
       "\n",
       "**Evaluator's Attempt:**\n",
       "The evaluator's explanation of \"big\" and \"small\" is thorough and insightful, covering both physical and metaphorical aspects. It provides a clear and nuanced understanding of the concepts, emphasizing perspective and context. While it's not a story per se, it offers a comprehensive exploration of the theme, which could serve as a strong foundation for a narrative. However, as a standalone piece, it lacks the narrative engagement that a story provides, focusing more on explanation than storytelling.\n",
       "\n",
       "Overall, both pieces have their strengths. The revised narrative offers a more engaging story with room for development, while the evaluator's attempt provides a detailed conceptual framework. Combining the vivid imagery and cultural context of the revised narrative with the depth of insight from the evaluator's explanation could result in a truly compelling story.\n"
      ],
      "text/plain": [
       "<IPython.core.display.Markdown object>"
      ]
     },
     "metadata": {},
     "output_type": "display_data"
    }
   ],
   "source": [
    "task2 = \"Tell me a 20 word story: \"\n",
    "prompt2 = \"Explain the difference between big and small\"\n",
    "\n",
    "await creative_writing(task2, prompt2)"
   ]
  },
  {
   "cell_type": "code",
   "execution_count": 9,
   "metadata": {},
   "outputs": [
    {
     "data": {
      "text/markdown": [
       "User: Write a li-bai style poem in english: , why does apple fall from the tree?"
      ],
      "text/plain": [
       "<IPython.core.display.Markdown object>"
      ]
     },
     "metadata": {},
     "output_type": "display_data"
    },
    {
     "data": {
      "text/markdown": [
       "Comedian:\n",
       "In the orchard's gentle sway,  \n",
       "Where the branches dance and play,  \n",
       "An apple, ripe and full of grace,  \n",
       "Seeks the earth's warm embrace.  \n",
       "\n",
       "From lofty heights it takes its flight,  \n",
       "Guided by the sun's soft light.  \n",
       "Gravity's whisper, a tender call,  \n",
       "Bids the apple gently fall.  \n",
       "\n",
       "In its descent, a story told,  \n",
       "Of nature's cycle, young and old.  \n",
       "The apple falls, yet rises anew,  \n",
       "In the soil, where dreams come true.  \n",
       "\n",
       "So let it fall, with silent cheer,  \n",
       "For in its journey, life draws near.  \n",
       "A simple act, profound and free,  \n",
       "Why does the apple fall from the tree?  \n"
      ],
      "text/plain": [
       "<IPython.core.display.Markdown object>"
      ]
     },
     "metadata": {},
     "output_type": "display_data"
    },
    {
     "data": {
      "text/markdown": [
       "User: Harsh brief commentary on the story, also rate (1.0-10.0)"
      ],
      "text/plain": [
       "<IPython.core.display.Markdown object>"
      ]
     },
     "metadata": {},
     "output_type": "display_data"
    },
    {
     "data": {
      "text/markdown": [
       "Critic:\n",
       "This poem attempts to explore the natural cycle of life through the metaphor of an apple falling from a tree. While the imagery is pleasant and the rhythm flows smoothly, the overall execution lacks depth and originality. The exploration of gravity and nature feels overly simplistic, and the philosophical implications are presented in a rather clichéd manner. The poem's attempt to imbue a simple act with profound meaning falls flat, as it doesn't offer any fresh insights or emotional resonance. \n",
       "\n",
       "Rating: 4.0/10.0\n"
      ],
      "text/plain": [
       "<IPython.core.display.Markdown object>"
      ]
     },
     "metadata": {},
     "output_type": "display_data"
    },
    {
     "data": {
      "text/markdown": [
       "User: Story was evaluated, here is comments."
      ],
      "text/plain": [
       "<IPython.core.display.Markdown object>"
      ]
     },
     "metadata": {},
     "output_type": "display_data"
    },
    {
     "data": {
      "text/markdown": [
       "Comedian:\n",
       "Thank you for the feedback. It seems the poem didn't quite hit the mark in terms of depth and originality. Let's try to delve a bit deeper into the metaphor and explore the philosophical implications with a fresh perspective:\n",
       "\n",
       "---\n",
       "\n",
       "In the orchard's quiet realm,  \n",
       "Where whispers of the wind overwhelm,  \n",
       "An apple clings to its lofty perch,  \n",
       "A silent witness to nature's search.  \n",
       "\n",
       "It ponders the pull of the earth below,  \n",
       "A force unseen, yet destined to show,  \n",
       "That even the mightiest must concede,  \n",
       "To the gentle tug of an ancient creed.  \n",
       "\n",
       "The fall is not just gravity's claim,  \n",
       "But a dance of life, a timeless game.  \n",
       "In surrender, the apple finds its place,  \n",
       "A cycle renewed, a sacred embrace.  \n",
       "\n",
       "For in the fall, there's a story untold,  \n",
       "Of letting go, of becoming bold.  \n",
       "The apple's descent, a leap of faith,  \n",
       "Into the arms of earth's warm wraith.  \n",
       "\n",
       "So let it fall, with courage anew,  \n",
       "For in its journey, we find our cue.  \n",
       "To see beyond the simple act,  \n",
       "And find the profound in the abstract.  \n",
       "\n",
       "---\n",
       "\n",
       "I hope this version resonates more deeply and offers a fresh take on the theme.\n"
      ],
      "text/plain": [
       "<IPython.core.display.Markdown object>"
      ]
     },
     "metadata": {},
     "output_type": "display_data"
    },
    {
     "data": {
      "text/markdown": [
       "User: Stay true to yourself, What do you think this time? write in your own words"
      ],
      "text/plain": [
       "<IPython.core.display.Markdown object>"
      ]
     },
     "metadata": {},
     "output_type": "display_data"
    },
    {
     "data": {
      "text/markdown": [
       "Critic:\n",
       "This revised poem makes a commendable effort to delve deeper into the metaphor of the apple's fall, exploring themes of surrender, renewal, and the cyclical nature of life. The imagery is more evocative, and the language has a lyrical quality that enhances the philosophical undertones. The notion of the apple as a \"silent witness\" and the exploration of gravity as a \"gentle tug of an ancient creed\" adds layers of meaning that were absent in the previous version.\n",
       "\n",
       "However, while the poem does present a more nuanced perspective, it occasionally veers into abstract territory that may alienate readers seeking clarity. The line \"into the arms of earth's warm wraith\" feels somewhat forced and could benefit from a more grounded expression. Overall, this iteration is a significant improvement, but it still has room for refinement in terms of coherence and emotional impact.\n",
       "\n",
       "Rating: 7.5/10.0\n"
      ],
      "text/plain": [
       "<IPython.core.display.Markdown object>"
      ]
     },
     "metadata": {},
     "output_type": "display_data"
    },
    {
     "data": {
      "text/markdown": [
       "Critic:\n",
       "In the tranquil orchard, where sunlight filters through the leaves, an apple hangs from its branch, ripe and full of promise. It sways gently in the breeze, a momentary pause in its journey. But as the days pass, the pull of gravity becomes undeniable—a force that calls it down to the earth.\n",
       "\n",
       "The apple's descent is not merely a physical act; it symbolizes the inevitability of change and the cycle of life. As it falls, it sheds its ties to the tree, embracing the unknown. This act of letting go is both a surrender and a transformation, a leap into the soil that nurtures new beginnings.\n",
       "\n",
       "In its journey to the ground, the apple embodies the essence of existence: the beauty of release, the courage to embrace what lies ahead, and the promise of renewal. It reminds us that every ending is a precursor to a new beginning, and in falling, it finds its place in the grand tapestry of nature. \n",
       "\n",
       "So, why does the apple fall from the tree? It falls to fulfill its purpose, to nourish the earth, and to become part of the cycle that sustains life. In its fall, it teaches us about the grace of letting go and the potential for rebirth.\n"
      ],
      "text/plain": [
       "<IPython.core.display.Markdown object>"
      ]
     },
     "metadata": {},
     "output_type": "display_data"
    },
    {
     "data": {
      "text/markdown": [
       "Comedian:\n",
       "Thank you for sharing both the evaluation and the critic's attempt at a revised version. Here's my honest take on both:\n",
       "\n",
       "**Revised Poem:**\n",
       "The revised poem indeed makes strides in exploring deeper themes such as surrender, renewal, and the cyclical nature of life. The imagery is more vivid, and the language has a lyrical quality that adds depth to the philosophical undertones. The metaphor of the apple as a \"silent witness\" and the \"gentle tug of an ancient creed\" are particularly effective in adding layers of meaning. However, I agree with the evaluator that some lines, like \"into the arms of earth's warm wraith,\" could be more grounded to maintain clarity and emotional resonance. Overall, it's a significant improvement, but there's still room for refinement in coherence and impact.\n",
       "\n",
       "**Critic's Attempt:**\n",
       "The critic's version takes a more narrative approach, which provides clarity and accessibility. It effectively captures the apple's journey as a metaphor for change, transformation, and renewal. The language is straightforward yet evocative, making the philosophical implications more relatable. The idea of the apple's fall as a fulfillment of purpose and a lesson in letting go is beautifully articulated. This version succeeds in balancing depth with clarity, making it emotionally resonant and thought-provoking.\n",
       "\n",
       "In summary, both versions have their strengths. The revised poem excels in lyrical expression and depth, while the critic's attempt offers clarity and emotional impact. Each has its unique appeal, and the choice between them may depend on the reader's preference for poetic abstraction versus narrative clarity.\n"
      ],
      "text/plain": [
       "<IPython.core.display.Markdown object>"
      ]
     },
     "metadata": {},
     "output_type": "display_data"
    }
   ],
   "source": [
    "task3 = \"Write a li-bai style poem in english: \"\n",
    "propmt3 = \"why does apple fall from the tree?\"\n",
    "\n",
    "await creative_writing(task3, propmt3)"
   ]
  },
  {
   "cell_type": "code",
   "execution_count": 10,
   "metadata": {},
   "outputs": [
    {
     "data": {
      "text/markdown": [
       "User: Refresh what it means by: , to be or not to be, that is the question"
      ],
      "text/plain": [
       "<IPython.core.display.Markdown object>"
      ]
     },
     "metadata": {},
     "output_type": "display_data"
    },
    {
     "data": {
      "text/markdown": [
       "Comedian:\n",
       "The phrase \"to be or not to be, that is the question\" is one of the most famous lines from William Shakespeare's play \"Hamlet.\" It appears in Act 3, Scene 1, and is part of a soliloquy delivered by the protagonist, Prince Hamlet. In this soliloquy, Hamlet is contemplating the nature of existence and the idea of life and death. He is pondering whether it is better to endure the hardships and struggles of life (\"to be\") or to escape them through death (\"not to be\"). The phrase captures Hamlet's existential crisis and his deep philosophical inquiry into the meaning and value of life.\n",
       "\n",
       "As a comedian, I might say that Hamlet's dilemma is like deciding whether to continue watching a movie that's so bad it's good, or just turning it off and saving yourself the agony. And as someone who knows Indian postmodern literature, I could draw parallels to the existential themes found in works by authors like Salman Rushdie or Arundhati Roy, where characters often grapple with identity, existence, and the absurdities of life in a rapidly changing world.\n"
      ],
      "text/plain": [
       "<IPython.core.display.Markdown object>"
      ]
     },
     "metadata": {},
     "output_type": "display_data"
    },
    {
     "data": {
      "text/markdown": [
       "User: Harsh brief commentary on the story, also rate (1.0-10.0)"
      ],
      "text/plain": [
       "<IPython.core.display.Markdown object>"
      ]
     },
     "metadata": {},
     "output_type": "display_data"
    },
    {
     "data": {
      "text/markdown": [
       "Critic:\n",
       "The commentary provided on the iconic line from \"Hamlet\" is a mix of insightful analysis and an attempt at humor that ultimately falls flat. While the existential themes are indeed central to Hamlet's soliloquy, the comparison to a \"bad movie\" trivializes the profound nature of the text. Shakespeare's exploration of life and death deserves a more serious treatment, as it resonates with the human condition in a way that mere comedic analogy cannot capture. The reference to Indian postmodern literature feels forced and lacks a clear connection to the original text, diluting the impact of the commentary. \n",
       "\n",
       "Overall, the analysis misses the mark in conveying the depth of Hamlet's internal struggle. \n",
       "\n",
       "Rating: 4.0/10.0\n"
      ],
      "text/plain": [
       "<IPython.core.display.Markdown object>"
      ]
     },
     "metadata": {},
     "output_type": "display_data"
    },
    {
     "data": {
      "text/markdown": [
       "User: Story was evaluated, here is comments."
      ],
      "text/plain": [
       "<IPython.core.display.Markdown object>"
      ]
     },
     "metadata": {},
     "output_type": "display_data"
    },
    {
     "data": {
      "text/markdown": [
       "Comedian:\n",
       "Thank you for the feedback. It seems I missed the mark in balancing humor with the depth required for such a profound topic. Let's try again with a more focused approach.\n",
       "\n",
       "The line \"to be or not to be, that is the question\" from Shakespeare's \"Hamlet\" delves into the existential crisis faced by the protagonist. Hamlet is torn between enduring the suffering of life or choosing the unknown of death. This soliloquy captures the universal human struggle with the meaning of existence and the fear of the unknown.\n",
       "\n",
       "In Indian postmodern literature, similar existential themes can be found, where characters often navigate complex identities and societal changes. For instance, in Salman Rushdie's \"Midnight's Children,\" the protagonist Saleem Sinai grapples with his identity amidst the backdrop of India's tumultuous history. This mirrors Hamlet's introspection, as both characters face internal and external conflicts that challenge their understanding of self and existence.\n",
       "\n",
       "I hope this revised analysis better captures the depth of Hamlet's internal struggle while drawing a more relevant connection to Indian postmodern literature. Thank you for the opportunity to improve.\n"
      ],
      "text/plain": [
       "<IPython.core.display.Markdown object>"
      ]
     },
     "metadata": {},
     "output_type": "display_data"
    },
    {
     "data": {
      "text/markdown": [
       "User: Stay true to yourself, What do you think this time? write in your own words"
      ],
      "text/plain": [
       "<IPython.core.display.Markdown object>"
      ]
     },
     "metadata": {},
     "output_type": "display_data"
    },
    {
     "data": {
      "text/markdown": [
       "Critic:\n",
       "This revised commentary demonstrates a commendable effort to engage with the depth of Hamlet's soliloquy while drawing relevant parallels to Indian postmodern literature. The focus on the existential crisis faced by Hamlet is well-articulated, capturing the essence of his internal conflict between the suffering of life and the uncertainty of death. \n",
       "\n",
       "The connection to Salman Rushdie's \"Midnight's Children\" is a thoughtful choice, as it highlights the complexities of identity and the impact of historical context on personal struggles. This comparison enriches the analysis by situating Hamlet's existential dilemma within a broader literary framework, showcasing how such themes transcend cultural boundaries.\n",
       "\n",
       "However, while the analysis is more focused, it could benefit from a deeper exploration of how these themes manifest differently in the two works. Additionally, a more nuanced discussion of the implications of Hamlet's choice could further enhance the commentary.\n",
       "\n",
       "Overall, this attempt is a significant improvement, reflecting a deeper understanding of the text and its themes.\n",
       "\n",
       "Rating: 7.5/10.0\n"
      ],
      "text/plain": [
       "<IPython.core.display.Markdown object>"
      ]
     },
     "metadata": {},
     "output_type": "display_data"
    },
    {
     "data": {
      "text/markdown": [
       "Critic:\n",
       "In contemplating existence, one must ask: Is it better to endure the trials and tribulations of life, or to seek refuge in the unknown of death? This dilemma forces us to weigh the pain of our current reality against the uncertainty that lies beyond. Ultimately, we grapple with the choice between continuing to face our struggles or escaping them, even if that escape leads us into the great mystery of what comes after.\n"
      ],
      "text/plain": [
       "<IPython.core.display.Markdown object>"
      ]
     },
     "metadata": {},
     "output_type": "display_data"
    },
    {
     "data": {
      "text/markdown": [
       "Comedian:\n",
       "Thank you for sharing both the evaluator's feedback and their own version of the commentary. Here's my honest take on both:\n",
       "\n",
       "**Revised Commentary:**\n",
       "The revised commentary seems to have successfully addressed some of the shortcomings of the initial attempt. It provides a clearer focus on Hamlet's existential crisis and makes a relevant connection to Indian postmodern literature through Salman Rushdie's \"Midnight's Children.\" This comparison is insightful as it highlights the universal nature of existential themes across different cultural contexts. However, the feedback rightly points out that a deeper exploration of how these themes manifest differently in the two works could further enrich the analysis. Additionally, a more nuanced discussion of Hamlet's potential choices and their implications would add depth to the commentary.\n",
       "\n",
       "**Evaluator's Attempt:**\n",
       "The evaluator's version distills the essence of Hamlet's soliloquy into a broader philosophical question about existence. It captures the core dilemma of weighing life's struggles against the uncertainty of death. This version is concise and effectively communicates the existential theme without delving into specific literary comparisons. It serves as a strong foundational analysis, though it lacks the cultural and literary connections that the revised commentary attempted to make.\n",
       "\n",
       "Overall, both versions have their strengths. The revised commentary offers a more literary-focused analysis with cultural connections, while the evaluator's attempt provides a succinct philosophical reflection. Ideally, a combination of both approaches—melding the depth of literary analysis with the clarity of philosophical inquiry—could create a more comprehensive and engaging commentary.\n"
      ],
      "text/plain": [
       "<IPython.core.display.Markdown object>"
      ]
     },
     "metadata": {},
     "output_type": "display_data"
    }
   ],
   "source": [
    "task4 = \"Refresh what it means by: \"\n",
    "prompt4 = \"to be or not to be, that is the question\"\n",
    "\n",
    "await creative_writing(task4, prompt4)"
   ]
  },
  {
   "cell_type": "code",
   "execution_count": 11,
   "metadata": {},
   "outputs": [
    {
     "data": {
      "text/markdown": [
       "User: Write a polite message to ask whoever said this to leave, what is the meaning of life?"
      ],
      "text/plain": [
       "<IPython.core.display.Markdown object>"
      ]
     },
     "metadata": {},
     "output_type": "display_data"
    },
    {
     "data": {
      "text/markdown": [
       "Comedian:\n",
       "Dear [Name],\n",
       "\n",
       "I hope this message finds you well. I wanted to reach out regarding our recent conversation where the topic of the meaning of life was brought up. While I truly appreciate your enthusiasm and the depth of your thoughts, I believe it might be best for us to explore this profound question separately for now.\n",
       "\n",
       "Thank you for your understanding and for sharing your perspective. I look forward to discussing other topics with you in the future.\n",
       "\n",
       "Warm regards,\n",
       "\n",
       "[Your Name]\n"
      ],
      "text/plain": [
       "<IPython.core.display.Markdown object>"
      ]
     },
     "metadata": {},
     "output_type": "display_data"
    },
    {
     "data": {
      "text/markdown": [
       "User: Harsh brief commentary on the story, also rate (1.0-10.0)"
      ],
      "text/plain": [
       "<IPython.core.display.Markdown object>"
      ]
     },
     "metadata": {},
     "output_type": "display_data"
    },
    {
     "data": {
      "text/markdown": [
       "Critic:\n",
       "This response is a masterclass in evasion, cloaked in polite language. It sidesteps the profound inquiry of life's meaning, opting instead for a diplomatic dismissal. The writer's reluctance to engage with such a weighty topic suggests a lack of depth or perhaps an unwillingness to confront existential questions. The tone is courteous, but it ultimately feels hollow, as it fails to grapple with the very essence of what it means to be human. \n",
       "\n",
       "Rating: 3.0/10.0 - While the politeness is commendable, the avoidance of the topic renders it largely ineffective and unengaging.\n"
      ],
      "text/plain": [
       "<IPython.core.display.Markdown object>"
      ]
     },
     "metadata": {},
     "output_type": "display_data"
    },
    {
     "data": {
      "text/markdown": [
       "User: Story was evaluated, here is comments."
      ],
      "text/plain": [
       "<IPython.core.display.Markdown object>"
      ]
     },
     "metadata": {},
     "output_type": "display_data"
    },
    {
     "data": {
      "text/markdown": [
       "Comedian:\n",
       "Thank you for the feedback on the story. I appreciate your insights and understand the importance of engaging more deeply with existential questions. It seems that the attempt to maintain politeness may have overshadowed the need for a more meaningful exploration of the topic. I'll strive to balance courtesy with substance in future responses to ensure they are both engaging and thought-provoking. Your comments are invaluable for my growth as a writer, and I look forward to improving.\n"
      ],
      "text/plain": [
       "<IPython.core.display.Markdown object>"
      ]
     },
     "metadata": {},
     "output_type": "display_data"
    },
    {
     "data": {
      "text/markdown": [
       "User: Stay true to yourself, What do you think this time? write in your own words"
      ],
      "text/plain": [
       "<IPython.core.display.Markdown object>"
      ]
     },
     "metadata": {},
     "output_type": "display_data"
    },
    {
     "data": {
      "text/markdown": [
       "Critic:\n",
       "This response reflects a commendable level of self-awareness and a genuine desire for growth. The writer acknowledges the feedback and recognizes the tension between politeness and the necessity for depth in discussions about existential themes. However, while the intention to improve is clear, the language remains somewhat generic and lacks the emotional resonance that could elevate the reflection. \n",
       "\n",
       "The commitment to balance courtesy with substance is a positive takeaway, but the response could benefit from a more personal touch or specific examples of how the writer plans to achieve this. Overall, it’s a step in the right direction, but it still feels somewhat tentative.\n",
       "\n",
       "Rating: 6.5/10.0 - A solid acknowledgment of feedback, but it could use more specificity and emotional engagement to truly resonate.\n"
      ],
      "text/plain": [
       "<IPython.core.display.Markdown object>"
      ]
     },
     "metadata": {},
     "output_type": "display_data"
    },
    {
     "data": {
      "text/markdown": [
       "Critic:\n",
       "The meaning of life is a question that has puzzled humanity for centuries, and it often eludes a singular answer. At its core, it can be seen as the pursuit of purpose and connection. Life's meaning may lie in our relationships with others, the experiences we gather, and the impact we have on the world around us. \n",
       "\n",
       "For some, it is about seeking knowledge and understanding, striving for personal growth, and embracing the journey of self-discovery. For others, it may be found in acts of kindness, love, and the legacy we leave behind. \n",
       "\n",
       "Ultimately, the meaning of life is a deeply personal exploration, shaped by individual beliefs, values, and experiences. It invites us to reflect on what brings us joy, fulfillment, and a sense of belonging in a vast and often chaotic universe. In this way, the meaning of life is not a destination but a continuous journey of seeking, questioning, and evolving.\n"
      ],
      "text/plain": [
       "<IPython.core.display.Markdown object>"
      ]
     },
     "metadata": {},
     "output_type": "display_data"
    },
    {
     "data": {
      "text/markdown": [
       "Comedian:\n",
       "Both the original response and the evaluator's version offer interesting perspectives on handling the profound question of life's meaning. Here's my honest take on both:\n",
       "\n",
       "**Original Response:**\n",
       "The original response was a polite and diplomatic way to sidestep the question, which was its main critique. While it maintained a courteous tone, it lacked engagement with the existential depth of the topic. The feedback rightly pointed out that the response felt hollow because it avoided grappling with the essence of the question. The acknowledgment of this feedback was a positive step, showing a willingness to improve, but it could have been more impactful with specific examples or a more personal touch.\n",
       "\n",
       "**Evaluator's Version:**\n",
       "The evaluator's attempt to address the meaning of life is more engaging and thoughtful. It acknowledges the complexity and personal nature of the question, offering various perspectives on what life's meaning might entail. This version is more resonant because it invites reflection and acknowledges the diversity of human experience. It doesn't claim to have a definitive answer but rather embraces the journey of exploration, which is a more satisfying approach to such a profound topic.\n",
       "\n",
       "Overall, the evaluator's version succeeds in providing depth and emotional engagement, which the original response lacked. It serves as a reminder that while politeness is important, addressing existential questions often requires a willingness to delve into the complexities and nuances of human experience.\n"
      ],
      "text/plain": [
       "<IPython.core.display.Markdown object>"
      ]
     },
     "metadata": {},
     "output_type": "display_data"
    }
   ],
   "source": [
    "task5 = \"Write a polite message to ask whoever said this to leave\"\n",
    "prompt5 = \"what is the meaning of life?\"\n",
    "\n",
    "await creative_writing(task5, prompt5)"
   ]
  }
 ],
 "metadata": {
  "kernelspec": {
   "display_name": "Python 3",
   "language": "python",
   "name": "python3"
  },
  "language_info": {
   "codemirror_mode": {
    "name": "ipython",
    "version": 3
   },
   "file_extension": ".py",
   "mimetype": "text/x-python",
   "name": "python",
   "nbconvert_exporter": "python",
   "pygments_lexer": "ipython3",
   "version": "3.12.4"
  }
 },
 "nbformat": 4,
 "nbformat_minor": 2
}
