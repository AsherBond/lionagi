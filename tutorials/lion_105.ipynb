{
 "cells": [
  {
   "cell_type": "markdown",
   "metadata": {},
   "source": [
    "## LionAGI - 105"
   ]
  },
  {
   "cell_type": "markdown",
   "metadata": {},
   "source": [
    "Interacting with external environment. \n",
    "\n",
    "AI models such as LLM, have a \"knowledge cutoff\" meaning they do not have access to information after they have been trained. This is a problem, \n",
    "\n",
    "especially because neural network inheritantly have **\"hallucination\"** problem.\n",
    "\n",
    "How can we solve this?\n",
    "\n",
    "One way is to feed LLM with the best information so that it can give more appropriate response due to the additional information, context. This approach is called **Retrieval Augmented Generation (RAG)**."
   ]
  },
  {
   "cell_type": "markdown",
   "metadata": {},
   "source": [
    "In this tutorial we will walk through how to use llamaindex as a retrieval tool to let a LLM interact with github repositories."
   ]
  },
  {
   "cell_type": "markdown",
   "metadata": {},
   "source": [
    "----"
   ]
  },
  {
   "cell_type": "code",
   "execution_count": 1,
   "metadata": {},
   "outputs": [],
   "source": [
    "from IPython.display import display, Markdown\n",
    "\n",
    "\n",
    "def printmd(string):\n",
    "    display(Markdown(string))\n",
    "\n",
    "\n",
    "from pathlib import Path\n",
    "\n",
    "datapath = Path.cwd() / \"data\" / \"lion-core-source\""
   ]
  },
  {
   "cell_type": "markdown",
   "metadata": {},
   "source": [
    "### Install LLamaIndex (RAG Tool provider)"
   ]
  },
  {
   "cell_type": "code",
   "execution_count": 2,
   "metadata": {},
   "outputs": [],
   "source": [
    "# %pip install lionagi llama-index nbconvert"
   ]
  },
  {
   "cell_type": "code",
   "execution_count": 3,
   "metadata": {},
   "outputs": [],
   "source": [
    "from llama_index.core import SimpleDirectoryReader, VectorStoreIndex\n",
    "from llama_index.llms.openai import OpenAI\n",
    "\n",
    "llm = OpenAI(model=\"gpt-4o-mini\")\n",
    "\n",
    "docs = SimpleDirectoryReader(\n",
    "    input_dir=datapath, recursive=True, required_exts=[\".py\", \".md\", \".ipynb\"]\n",
    ").load_data()\n",
    "\n",
    "index = VectorStoreIndex.from_documents(documents=docs)\n",
    "query_engine = index.as_query_engine(llm=llm)"
   ]
  },
  {
   "cell_type": "code",
   "execution_count": 4,
   "metadata": {},
   "outputs": [
    {
     "data": {
      "text/markdown": [
       "A `Note` in the Lion framework is a flexible container specifically designed for managing nested dictionary data structures, allowing for complex and hierarchical information storage. In contrast, a dictionary is a standard data structure in Python that stores key-value pairs without the additional methods and functionalities provided by the `Note` class for manipulating and accessing nested data. The `Note` class enhances the capabilities of a dictionary by offering a rich set of methods tailored for hierarchical data management."
      ],
      "text/plain": [
       "<IPython.core.display.Markdown object>"
      ]
     },
     "metadata": {},
     "output_type": "display_data"
    }
   ],
   "source": [
    "response = query_engine.query(\n",
    "    \"What is the difference between an lion-core Note and a dictionary??\",\n",
    ")\n",
    "\n",
    "\n",
    "printmd(response.response)"
   ]
  },
  {
   "cell_type": "markdown",
   "metadata": {},
   "source": [
    "### Create Tool for Branch"
   ]
  },
  {
   "cell_type": "markdown",
   "metadata": {},
   "source": [
    "great. \n",
    "\n",
    "let's add this tool to our branch such that, if needed, it can refer to `lion-core` repo for future conversations. \n",
    "\n",
    "We define a tool in LION system by wrapping it as a python function with docstring as tool manual."
   ]
  },
  {
   "cell_type": "code",
   "execution_count": 5,
   "metadata": {},
   "outputs": [],
   "source": [
    "from lionfuncs import to_dict\n",
    "\n",
    "\n",
    "async def query_lion_core(query: str):\n",
    "    \"\"\"\n",
    "    Use this tool to query the lion-core repository for information.\n",
    "    you should frequently refer to this if you are unsure about anything.\n",
    "\n",
    "    Args:\n",
    "        query: str: A question, term or query about lion-core.\n",
    "    \"\"\"\n",
    "    response = await query_engine.aquery(query)\n",
    "    return to_dict(\n",
    "        response,\n",
    "        recursive=True,\n",
    "        recursive_python_only=False,\n",
    "        max_recursive_depth=4,\n",
    "    )"
   ]
  },
  {
   "cell_type": "markdown",
   "metadata": {},
   "source": [
    "### Let us try it out"
   ]
  },
  {
   "cell_type": "code",
   "execution_count": 6,
   "metadata": {},
   "outputs": [],
   "source": [
    "question1 = \"Articulate the various features and mechanism behind branch in lion-core? You must use query tool to help.\""
   ]
  },
  {
   "cell_type": "code",
   "execution_count": 7,
   "metadata": {},
   "outputs": [],
   "source": [
    "from lionagi import Branch\n",
    "\n",
    "branch = Branch(\n",
    "    system=\"you are a QA bot with access to real code\",\n",
    "    tools=query_lion_core,\n",
    ")\n",
    "\n",
    "await branch.chat(instruction=question1, tools=True)"
   ]
  },
  {
   "cell_type": "markdown",
   "metadata": {},
   "source": [
    "we can check all the messages directly related to branch by the following ways"
   ]
  },
  {
   "cell_type": "code",
   "execution_count": 8,
   "metadata": {},
   "outputs": [],
   "source": [
    "# convert messages directly into a pandas dataframe\n",
    "# df = branch.messages.to_df()"
   ]
  },
  {
   "cell_type": "code",
   "execution_count": 9,
   "metadata": {},
   "outputs": [
    {
     "data": {
      "text/html": [
       "<div>\n",
       "<style scoped>\n",
       "    .dataframe tbody tr th:only-of-type {\n",
       "        vertical-align: middle;\n",
       "    }\n",
       "\n",
       "    .dataframe tbody tr th {\n",
       "        vertical-align: top;\n",
       "    }\n",
       "\n",
       "    .dataframe thead th {\n",
       "        text-align: right;\n",
       "    }\n",
       "</style>\n",
       "<table border=\"1\" class=\"dataframe\">\n",
       "  <thead>\n",
       "    <tr style=\"text-align: right;\">\n",
       "      <th></th>\n",
       "      <th>ln_id</th>\n",
       "      <th>message_type</th>\n",
       "      <th>timestamp</th>\n",
       "      <th>role</th>\n",
       "      <th>content</th>\n",
       "      <th>metadata</th>\n",
       "      <th>sender</th>\n",
       "      <th>recipient</th>\n",
       "    </tr>\n",
       "  </thead>\n",
       "  <tbody>\n",
       "    <tr>\n",
       "      <th>0</th>\n",
       "      <td>0536326e2ed90e795dc300b47bc4e557</td>\n",
       "      <td>System</td>\n",
       "      <td>2024-10-08T16:41:49.304167</td>\n",
       "      <td>system</td>\n",
       "      <td>{'system_info': 'you are a QA bot with access ...</td>\n",
       "      <td>{'last_updated': {'recipient': '2024-10-08T16:...</td>\n",
       "      <td>system</td>\n",
       "      <td>46ce6f32efc98c1b3b27da6c8a019a28</td>\n",
       "    </tr>\n",
       "    <tr>\n",
       "      <th>1</th>\n",
       "      <td>d9076cde3f34ead74d9b62397000e25d</td>\n",
       "      <td>Instruction</td>\n",
       "      <td>2024-10-08T16:41:49.304765</td>\n",
       "      <td>user</td>\n",
       "      <td>{'instruction': 'Articulate the various featur...</td>\n",
       "      <td>{'last_updated': {'sender': '2024-10-08T16:41:...</td>\n",
       "      <td>user</td>\n",
       "      <td>46ce6f32efc98c1b3b27da6c8a019a28</td>\n",
       "    </tr>\n",
       "    <tr>\n",
       "      <th>2</th>\n",
       "      <td>0733df0c91bdea10652092c85bbaed7f</td>\n",
       "      <td>AssistantResponse</td>\n",
       "      <td>2024-10-08T16:41:49.997432</td>\n",
       "      <td>assistant</td>\n",
       "      <td>{'assistant_response': None}</td>\n",
       "      <td>{'last_updated': {'sender': '2024-10-08T16:41:...</td>\n",
       "      <td>46ce6f32efc98c1b3b27da6c8a019a28</td>\n",
       "      <td>user</td>\n",
       "    </tr>\n",
       "    <tr>\n",
       "      <th>3</th>\n",
       "      <td>7d31a9616741039a161c06affe6f6094</td>\n",
       "      <td>ActionRequest</td>\n",
       "      <td>2024-10-08T16:41:50.000540</td>\n",
       "      <td>assistant</td>\n",
       "      <td>{'action_request': {'function': 'query_lion_co...</td>\n",
       "      <td>{'last_updated': {'function': '2024-10-08T16:4...</td>\n",
       "      <td>46ce6f32efc98c1b3b27da6c8a019a28</td>\n",
       "      <td>8840df96fdaa62fcef36c72625af90bf</td>\n",
       "    </tr>\n",
       "    <tr>\n",
       "      <th>4</th>\n",
       "      <td>601c46b2bf263f0a90bf682aaf49b05f</td>\n",
       "      <td>ActionResponse</td>\n",
       "      <td>2024-10-08T16:41:51.943388</td>\n",
       "      <td>assistant</td>\n",
       "      <td>{'action_response': {'function': 'query_lion_c...</td>\n",
       "      <td>{'last_updated': {'function': '2024-10-08T16:4...</td>\n",
       "      <td>8840df96fdaa62fcef36c72625af90bf</td>\n",
       "      <td>46ce6f32efc98c1b3b27da6c8a019a28</td>\n",
       "    </tr>\n",
       "  </tbody>\n",
       "</table>\n",
       "</div>"
      ],
      "text/plain": [
       "                              ln_id       message_type  \\\n",
       "0  0536326e2ed90e795dc300b47bc4e557             System   \n",
       "1  d9076cde3f34ead74d9b62397000e25d        Instruction   \n",
       "2  0733df0c91bdea10652092c85bbaed7f  AssistantResponse   \n",
       "3  7d31a9616741039a161c06affe6f6094      ActionRequest   \n",
       "4  601c46b2bf263f0a90bf682aaf49b05f     ActionResponse   \n",
       "\n",
       "                    timestamp       role  \\\n",
       "0  2024-10-08T16:41:49.304167     system   \n",
       "1  2024-10-08T16:41:49.304765       user   \n",
       "2  2024-10-08T16:41:49.997432  assistant   \n",
       "3  2024-10-08T16:41:50.000540  assistant   \n",
       "4  2024-10-08T16:41:51.943388  assistant   \n",
       "\n",
       "                                             content  \\\n",
       "0  {'system_info': 'you are a QA bot with access ...   \n",
       "1  {'instruction': 'Articulate the various featur...   \n",
       "2                       {'assistant_response': None}   \n",
       "3  {'action_request': {'function': 'query_lion_co...   \n",
       "4  {'action_response': {'function': 'query_lion_c...   \n",
       "\n",
       "                                            metadata  \\\n",
       "0  {'last_updated': {'recipient': '2024-10-08T16:...   \n",
       "1  {'last_updated': {'sender': '2024-10-08T16:41:...   \n",
       "2  {'last_updated': {'sender': '2024-10-08T16:41:...   \n",
       "3  {'last_updated': {'function': '2024-10-08T16:4...   \n",
       "4  {'last_updated': {'function': '2024-10-08T16:4...   \n",
       "\n",
       "                             sender                         recipient  \n",
       "0                            system  46ce6f32efc98c1b3b27da6c8a019a28  \n",
       "1                              user  46ce6f32efc98c1b3b27da6c8a019a28  \n",
       "2  46ce6f32efc98c1b3b27da6c8a019a28                              user  \n",
       "3  46ce6f32efc98c1b3b27da6c8a019a28  8840df96fdaa62fcef36c72625af90bf  \n",
       "4  8840df96fdaa62fcef36c72625af90bf  46ce6f32efc98c1b3b27da6c8a019a28  "
      ]
     },
     "execution_count": 9,
     "metadata": {},
     "output_type": "execute_result"
    }
   ],
   "source": [
    "# convert formatteded messages into a pandas dataframe\n",
    "df = branch.to_df()\n",
    "df"
   ]
  },
  {
   "cell_type": "code",
   "execution_count": 10,
   "metadata": {},
   "outputs": [
    {
     "data": {
      "text/markdown": [
       "{\n",
       "    \"assistant_response\": {}\n",
       "}\n",
       "\n",
       " --- \n"
      ],
      "text/plain": [
       "<IPython.core.display.Markdown object>"
      ]
     },
     "metadata": {},
     "output_type": "display_data"
    },
    {
     "data": {
      "text/markdown": [
       "{\n",
       "    \"action_request\": {\n",
       "        \"function\": \"query_lion_core\",\n",
       "        \"arguments\": {\n",
       "            \"query\": \"branch features and mechanism in lion-core\"\n",
       "        }\n",
       "    }\n",
       "}\n",
       "\n",
       " --- \n"
      ],
      "text/plain": [
       "<IPython.core.display.Markdown object>"
      ]
     },
     "metadata": {},
     "output_type": "display_data"
    },
    {
     "data": {
      "text/markdown": [
       "{\n",
       "    \"action_response\": {\n",
       "        \"function\": \"query_lion_core\",\n",
       "        \"arguments\": {\n",
       "            \"query\": \"branch features and mechanism in lion-core\"\n",
       "        },\n",
       "        \"output\": {\n",
       "            \"response\": \"The `Branch` class in the Lion framework is designed to represent a branch in the conversation tree. It manages messages, tools, and communication within that branch. This class offers a comprehensive set of methods that facilitate the handling of various types of interactions and data, enhancing the overall functionality and user experience within the framework.\",\n",
       "            \"source_nodes\": [\n",
       "                {\n",
       "                    \"node\": {\n",
       "                        \"id_\": \"5cd1692b-4860-4724-b04c-4edb977f3abb\",\n",
       "                        \"embedding\": null,\n",
       "                        \"metadata\": {\n",
       "                            \"file_path\": \"/Users/lion/playground/tutorials/data/lion-core-source/md_docs/api_reference/branch.md\",\n",
       "                            \"file_name\": \"branch.md\",\n",
       "                            \"file_type\": \"text/markdown\",\n",
       "                            \"file_size\": 5919,\n",
       "                            \"creation_date\": \"2024-10-08\",\n",
       "                            \"last_modified_date\": \"2024-10-08\"\n",
       "                        },\n",
       "                        \"excluded_embed_metadata_keys\": [\n",
       "                            \"file_name\",\n",
       "                            \"file_type\",\n",
       "                            \"file_size\",\n",
       "                            \"creation_date\",\n",
       "                            \"last_modified_date\",\n",
       "                            \"last_accessed_date\"\n",
       "                        ],\n",
       "                        \"excluded_llm_metadata_keys\": [\n",
       "                            \"file_name\",\n",
       "                            \"file_type\",\n",
       "                            \"file_size\",\n",
       "                            \"creation_date\",\n",
       "                            \"last_modified_date\",\n",
       "                            \"last_accessed_date\"\n",
       "                        ],\n",
       "                        \"relationships\": {\n",
       "                            \"1\": {\n",
       "                                \"node_id\": \"69cbd6d9-a78a-44f9-8ba7-ae5826dbb834\",\n",
       "                                \"node_type\": \"4\",\n",
       "                                \"metadata\": {\n",
       "                                    \"file_path\": \"/Users/lion/playground/tutorials/data/lion-core-source/md_docs/api_reference/branch.md\",\n",
       "                                    \"file_name\": \"branch.md\",\n",
       "                                    \"file_type\": \"text/markdown\",\n",
       "                                    \"file_size\": 5919,\n",
       "                                    \"creation_date\": \"2024-10-08\",\n",
       "                                    \"last_modified_date\": \"2024-10-08\"\n",
       "                                },\n",
       "                                \"hash\": \"0e884b953536e98b170a81a7318b756d382e48641c6c74876fccde767173dea3\",\n",
       "                                \"class_name\": \"RelatedNodeInfo\"\n",
       "                            }\n",
       "                        },\n",
       "                        \"text\": \"Overview\\n\\nThe `Branch` class represents a branch in the conversation tree within the Lion framework. It manages messages, tools, and communication within the branch, providing a rich set of methods for handling various types of interactions and data.\",\n",
       "                        \"mimetype\": \"text/plain\",\n",
       "                        \"start_char_idx\": 2,\n",
       "                        \"end_char_idx\": 252,\n",
       "                        \"text_template\": \"{metadata_str}\\n\\n{content}\",\n",
       "                        \"metadata_template\": \"{key}: {value}\",\n",
       "                        \"metadata_seperator\": \"\\n\",\n",
       "                        \"class_name\": \"TextNode\"\n",
       "                    },\n",
       "                    \"score\": 0.8207475210721997,\n",
       "                    \"class_name\": \"NodeWithScore\"\n",
       "                },\n",
       "                {\n",
       "                    \"node\": {\n",
       "                        \"id_\": \"fef1c5c5-d14b-45dc-8b2c-92b2588716ea\",\n",
       "                        \"embedding\": null,\n",
       "                        \"metadata\": {\n",
       "                            \"file_path\": \"/Users/lion/playground/tutorials/data/lion-core-source/README.md\",\n",
       "                            \"file_name\": \"README.md\",\n",
       "                            \"file_type\": \"text/markdown\",\n",
       "                            \"file_size\": 8855,\n",
       "                            \"creation_date\": \"2024-10-08\",\n",
       "                            \"last_modified_date\": \"2024-10-08\"\n",
       "                        },\n",
       "                        \"excluded_embed_metadata_keys\": [\n",
       "                            \"file_name\",\n",
       "                            \"file_type\",\n",
       "                            \"file_size\",\n",
       "                            \"creation_date\",\n",
       "                            \"last_modified_date\",\n",
       "                            \"last_accessed_date\"\n",
       "                        ],\n",
       "                        \"excluded_llm_metadata_keys\": [\n",
       "                            \"file_name\",\n",
       "                            \"file_type\",\n",
       "                            \"file_size\",\n",
       "                            \"creation_date\",\n",
       "                            \"last_modified_date\",\n",
       "                            \"last_accessed_date\"\n",
       "                        ],\n",
       "                        \"relationships\": {\n",
       "                            \"1\": {\n",
       "                                \"node_id\": \"5766a4d6-102d-43c3-a297-cc1e3f923e3e\",\n",
       "                                \"node_type\": \"4\",\n",
       "                                \"metadata\": {\n",
       "                                    \"file_path\": \"/Users/lion/playground/tutorials/data/lion-core-source/README.md\",\n",
       "                                    \"file_name\": \"README.md\",\n",
       "                                    \"file_type\": \"text/markdown\",\n",
       "                                    \"file_size\": 8855,\n",
       "                                    \"creation_date\": \"2024-10-08\",\n",
       "                                    \"last_modified_date\": \"2024-10-08\"\n",
       "                                },\n",
       "                                \"hash\": \"8bbc88734958ad2c4897ac6b0494164ffbeb1607d13ab36727716ddbcc4d276e\",\n",
       "                                \"class_name\": \"RelatedNodeInfo\"\n",
       "                            }\n",
       "                        },\n",
       "                        \"text\": \"\\ud83d\\ude80 Features\",\n",
       "                        \"mimetype\": \"text/plain\",\n",
       "                        \"start_char_idx\": 2,\n",
       "                        \"end_char_idx\": 12,\n",
       "                        \"text_template\": \"{metadata_str}\\n\\n{content}\",\n",
       "                        \"metadata_template\": \"{key}: {value}\",\n",
       "                        \"metadata_seperator\": \"\\n\",\n",
       "                        \"class_name\": \"TextNode\"\n",
       "                    },\n",
       "                    \"score\": 0.8169916159758592,\n",
       "                    \"class_name\": \"NodeWithScore\"\n",
       "                }\n",
       "            ],\n",
       "            \"metadata\": {\n",
       "                \"5cd1692b-4860-4724-b04c-4edb977f3abb\": {\n",
       "                    \"file_path\": \"/Users/lion/playground/tutorials/data/lion-core-source/md_docs/api_reference/branch.md\",\n",
       "                    \"file_name\": \"branch.md\",\n",
       "                    \"file_type\": \"text/markdown\",\n",
       "                    \"file_size\": 5919,\n",
       "                    \"creation_date\": \"2024-10-08\",\n",
       "                    \"last_modified_date\": \"2024-10-08\"\n",
       "                },\n",
       "                \"fef1c5c5-d14b-45dc-8b2c-92b2588716ea\": {\n",
       "                    \"file_path\": \"/Users/lion/playground/tutorials/data/lion-core-source/README.md\",\n",
       "                    \"file_name\": \"README.md\",\n",
       "                    \"file_type\": \"text/markdown\",\n",
       "                    \"file_size\": 8855,\n",
       "                    \"creation_date\": \"2024-10-08\",\n",
       "                    \"last_modified_date\": \"2024-10-08\"\n",
       "                }\n",
       "            }\n",
       "        }\n",
       "    }\n",
       "}\n",
       "\n",
       " --- \n"
      ],
      "text/plain": [
       "<IPython.core.display.Markdown object>"
      ]
     },
     "metadata": {},
     "output_type": "display_data"
    }
   ],
   "source": [
    "# now let's examine the various messages assisatnt sent back\n",
    "\n",
    "from lionfuncs import as_readable_json\n",
    "\n",
    "for i in branch.messages:\n",
    "    if i.role == \"assistant\":\n",
    "        content = to_dict(\n",
    "            i.content,\n",
    "            recursive=True,\n",
    "            recursive_python_only=False,\n",
    "            max_recursive_depth=5,\n",
    "        )\n",
    "        printmd(as_readable_json(content) + \"\\n\\n --- \\n\")"
   ]
  },
  {
   "cell_type": "code",
   "execution_count": 11,
   "metadata": {},
   "outputs": [
    {
     "data": {
      "text/plain": [
       "{'response': 'The `Branch` class in the Lion framework is designed to represent a branch in the conversation tree. It manages messages, tools, and communication within that branch. This class offers a comprehensive set of methods that facilitate the handling of various types of interactions and data, enhancing the overall functionality and user experience within the framework.',\n",
       " 'source_nodes': [{'node': {'id_': '5cd1692b-4860-4724-b04c-4edb977f3abb',\n",
       "    'embedding': None,\n",
       "    'metadata': {'file_path': '/Users/lion/playground/tutorials/data/lion-core-source/md_docs/api_reference/branch.md',\n",
       "     'file_name': 'branch.md',\n",
       "     'file_type': 'text/markdown',\n",
       "     'file_size': 5919,\n",
       "     'creation_date': '2024-10-08',\n",
       "     'last_modified_date': '2024-10-08'},\n",
       "    'excluded_embed_metadata_keys': ['file_name',\n",
       "     'file_type',\n",
       "     'file_size',\n",
       "     'creation_date',\n",
       "     'last_modified_date',\n",
       "     'last_accessed_date'],\n",
       "    'excluded_llm_metadata_keys': ['file_name',\n",
       "     'file_type',\n",
       "     'file_size',\n",
       "     'creation_date',\n",
       "     'last_modified_date',\n",
       "     'last_accessed_date'],\n",
       "    'relationships': {<NodeRelationship.SOURCE: '1'>: {'node_id': '69cbd6d9-a78a-44f9-8ba7-ae5826dbb834',\n",
       "      'node_type': <ObjectType.DOCUMENT: '4'>,\n",
       "      'metadata': {'file_path': '/Users/lion/playground/tutorials/data/lion-core-source/md_docs/api_reference/branch.md',\n",
       "       'file_name': 'branch.md',\n",
       "       'file_type': 'text/markdown',\n",
       "       'file_size': 5919,\n",
       "       'creation_date': '2024-10-08',\n",
       "       'last_modified_date': '2024-10-08'},\n",
       "      'hash': '0e884b953536e98b170a81a7318b756d382e48641c6c74876fccde767173dea3',\n",
       "      'class_name': 'RelatedNodeInfo'}},\n",
       "    'text': 'Overview\\n\\nThe `Branch` class represents a branch in the conversation tree within the Lion framework. It manages messages, tools, and communication within the branch, providing a rich set of methods for handling various types of interactions and data.',\n",
       "    'mimetype': 'text/plain',\n",
       "    'start_char_idx': 2,\n",
       "    'end_char_idx': 252,\n",
       "    'text_template': '{metadata_str}\\n\\n{content}',\n",
       "    'metadata_template': '{key}: {value}',\n",
       "    'metadata_seperator': '\\n',\n",
       "    'class_name': 'TextNode'},\n",
       "   'score': 0.8207475210721997,\n",
       "   'class_name': 'NodeWithScore'},\n",
       "  {'node': {'id_': 'fef1c5c5-d14b-45dc-8b2c-92b2588716ea',\n",
       "    'embedding': None,\n",
       "    'metadata': {'file_path': '/Users/lion/playground/tutorials/data/lion-core-source/README.md',\n",
       "     'file_name': 'README.md',\n",
       "     'file_type': 'text/markdown',\n",
       "     'file_size': 8855,\n",
       "     'creation_date': '2024-10-08',\n",
       "     'last_modified_date': '2024-10-08'},\n",
       "    'excluded_embed_metadata_keys': ['file_name',\n",
       "     'file_type',\n",
       "     'file_size',\n",
       "     'creation_date',\n",
       "     'last_modified_date',\n",
       "     'last_accessed_date'],\n",
       "    'excluded_llm_metadata_keys': ['file_name',\n",
       "     'file_type',\n",
       "     'file_size',\n",
       "     'creation_date',\n",
       "     'last_modified_date',\n",
       "     'last_accessed_date'],\n",
       "    'relationships': {<NodeRelationship.SOURCE: '1'>: {'node_id': '5766a4d6-102d-43c3-a297-cc1e3f923e3e',\n",
       "      'node_type': <ObjectType.DOCUMENT: '4'>,\n",
       "      'metadata': {'file_path': '/Users/lion/playground/tutorials/data/lion-core-source/README.md',\n",
       "       'file_name': 'README.md',\n",
       "       'file_type': 'text/markdown',\n",
       "       'file_size': 8855,\n",
       "       'creation_date': '2024-10-08',\n",
       "       'last_modified_date': '2024-10-08'},\n",
       "      'hash': '8bbc88734958ad2c4897ac6b0494164ffbeb1607d13ab36727716ddbcc4d276e',\n",
       "      'class_name': 'RelatedNodeInfo'}},\n",
       "    'text': '🚀 Features',\n",
       "    'mimetype': 'text/plain',\n",
       "    'start_char_idx': 2,\n",
       "    'end_char_idx': 12,\n",
       "    'text_template': '{metadata_str}\\n\\n{content}',\n",
       "    'metadata_template': '{key}: {value}',\n",
       "    'metadata_seperator': '\\n',\n",
       "    'class_name': 'TextNode'},\n",
       "   'score': 0.8169916159758592,\n",
       "   'class_name': 'NodeWithScore'}],\n",
       " 'metadata': {'5cd1692b-4860-4724-b04c-4edb977f3abb': {'file_path': '/Users/lion/playground/tutorials/data/lion-core-source/md_docs/api_reference/branch.md',\n",
       "   'file_name': 'branch.md',\n",
       "   'file_type': 'text/markdown',\n",
       "   'file_size': 5919,\n",
       "   'creation_date': '2024-10-08',\n",
       "   'last_modified_date': '2024-10-08'},\n",
       "  'fef1c5c5-d14b-45dc-8b2c-92b2588716ea': {'file_path': '/Users/lion/playground/tutorials/data/lion-core-source/README.md',\n",
       "   'file_name': 'README.md',\n",
       "   'file_type': 'text/markdown',\n",
       "   'file_size': 8855,\n",
       "   'creation_date': '2024-10-08',\n",
       "   'last_modified_date': '2024-10-08'}}}"
      ]
     },
     "execution_count": 11,
     "metadata": {},
     "output_type": "execute_result"
    }
   ],
   "source": [
    "branch.messages[-1].content[\"action_response\"][\"output\"]"
   ]
  },
  {
   "cell_type": "markdown",
   "metadata": {},
   "source": [
    "### finally you can save all these messages"
   ]
  },
  {
   "cell_type": "code",
   "execution_count": 12,
   "metadata": {},
   "outputs": [
    {
     "name": "stdout",
     "output_type": "stream",
     "text": [
      "Data saved to data/lion_core_branch_features-c98da.csv\n"
     ]
    }
   ],
   "source": [
    "from pathlib import Path\n",
    "from lionfuncs import create_path\n",
    "\n",
    "fp = create_path(\n",
    "    directory=Path(\".\") / \"data\",\n",
    "    filename=\"lion_core_branch_features\",\n",
    "    extension=\".csv\",\n",
    "    random_hash_digits=5,  # we add random hash digits to ensure file uniqueness\n",
    ")\n",
    "\n",
    "df = branch.to_df()\n",
    "df.to_csv(fp, index=False)\n",
    "print(f\"Data saved to {fp}\")"
   ]
  }
 ],
 "metadata": {
  "kernelspec": {
   "display_name": ".venv",
   "language": "python",
   "name": "python3"
  },
  "language_info": {
   "codemirror_mode": {
    "name": "ipython",
    "version": 3
   },
   "file_extension": ".py",
   "mimetype": "text/x-python",
   "name": "python",
   "nbconvert_exporter": "python",
   "pygments_lexer": "ipython3",
   "version": "3.12.6"
  }
 },
 "nbformat": 4,
 "nbformat_minor": 2
}
