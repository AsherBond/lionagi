{
 "cells": [
  {
   "cell_type": "markdown",
   "metadata": {},
   "source": [
    "## LionAGI - 104"
   ]
  },
  {
   "cell_type": "markdown",
   "metadata": {},
   "source": [
    "**Voting**\n",
    "\n",
    "Quality is always hard to control for LLMs due to their inherent randomness. How can we assure our system always perform to our expectation?\n",
    "\n",
    "for example, let's say we have 5 different generation of the same topic, with random configurations, how do we know which one is the best with having to read through all of them?"
   ]
  },
  {
   "cell_type": "code",
   "execution_count": 1,
   "metadata": {},
   "outputs": [],
   "source": [
    "from IPython.display import display, Markdown\n",
    "\n",
    "\n",
    "def printmd(string):\n",
    "    display(Markdown(string))\n",
    "\n",
    "\n",
    "openai_models = [\"gpt-4o\", \"gpt-4o-mini\", \"gpt-4-turbo\"]\n",
    "\n",
    "config = {\n",
    "    \"provider\": \"openai\",\n",
    "    \"api_key_schema\": \"OPENAI_API_KEY\",\n",
    "}"
   ]
  },
  {
   "cell_type": "markdown",
   "metadata": {},
   "source": [
    "### Random Model\n",
    "\n",
    "let us create a function to generate random intelligent models"
   ]
  },
  {
   "cell_type": "code",
   "execution_count": 2,
   "metadata": {},
   "outputs": [],
   "source": [
    "import random\n",
    "from lionagi import iModel, Branch\n",
    "\n",
    "\n",
    "def generate_random_imodel(verbose=True):\n",
    "    model = random.choice(openai_models)\n",
    "    temperature = random.uniform(0.1, 1.0)\n",
    "    top_p = random.uniform(0.7, 1.0)\n",
    "    imodel = iModel(\n",
    "        model=model,\n",
    "        temperature=temperature,\n",
    "        top_p=top_p,\n",
    "        **config,\n",
    "    )\n",
    "    if verbose:\n",
    "        printmd(\n",
    "            f\"Successfully generated a random Intelligent Model:\\n\\n{model},\"\n",
    "            f\" \\n\\ntemperature: {temperature}, \\n\\ntop_p: {top_p}. \\n\\n ---\"\n",
    "        )\n",
    "    return imodel"
   ]
  },
  {
   "cell_type": "markdown",
   "metadata": {},
   "source": [
    "### Write explaination"
   ]
  },
  {
   "cell_type": "markdown",
   "metadata": {},
   "source": [
    "now let us write a function to write a simple explaination"
   ]
  },
  {
   "cell_type": "code",
   "execution_count": 3,
   "metadata": {},
   "outputs": [],
   "source": [
    "prompt = (\n",
    "    \"On balance sheet, we want to know equity vs liability \"\n",
    "    \"vs assets. Accurately explain to a college freshman, around\"\n",
    "    \" 200 words, organize in md style\"\n",
    ")\n",
    "\n",
    "system_msg = (\n",
    "    \"you are a seasoned accountant, reply to prompt, no comments from you\"\n",
    ")"
   ]
  },
  {
   "cell_type": "markdown",
   "metadata": {},
   "source": [
    "we will write a function to wrap the `Branch.chat` method inside"
   ]
  },
  {
   "cell_type": "code",
   "execution_count": 4,
   "metadata": {},
   "outputs": [
    {
     "data": {
      "text/markdown": [
       "Successfully generated a random Intelligent Model:\n",
       "\n",
       "gpt-4o-mini, \n",
       "\n",
       "temperature: 0.6599793885679598, \n",
       "\n",
       "top_p: 0.7572243238244627. \n",
       "\n",
       " ---"
      ],
      "text/plain": [
       "<IPython.core.display.Markdown object>"
      ]
     },
     "metadata": {},
     "output_type": "display_data"
    },
    {
     "data": {
      "text/markdown": [
       "### Response: \n",
       " # Understanding Balance Sheet Components\n",
       "\n",
       "A balance sheet is a financial statement that provides a snapshot of a company's financial position at a specific point in time. It consists of three main components: **assets**, **liabilities**, and **equity**.\n",
       "\n",
       "## Assets\n",
       "Assets are resources owned by the company that have economic value. They can be classified into two categories:\n",
       "- **Current Assets**: These are assets that are expected to be converted into cash or used up within one year, such as cash, accounts receivable, and inventory.\n",
       "- **Non-Current Assets**: These are long-term investments that will provide value over time, such as property, equipment, and intangible assets like patents.\n",
       "\n",
       "## Liabilities\n",
       "Liabilities represent the company's obligations or debts that it owes to outside parties. Like assets, they can also be classified:\n",
       "- **Current Liabilities**: These are debts due within one year, such as accounts payable and short-term loans.\n",
       "- **Long-Term Liabilities**: These are obligations that are due beyond one year, such as bonds payable and long-term loans.\n",
       "\n",
       "## Equity\n",
       "Equity, also known as shareholders' equity, represents the owners' claim on the assets after all liabilities have been settled. It includes common stock, retained earnings, and additional paid-in capital. \n",
       "\n",
       "The fundamental equation of a balance sheet is:\n",
       "**Assets = Liabilities + Equity** \n",
       "\n",
       "This equation shows that what the company owns (assets) is financed either by borrowing (liabilities) or by the owners' investment (equity). \n",
       " --- \n"
      ],
      "text/plain": [
       "<IPython.core.display.Markdown object>"
      ]
     },
     "metadata": {},
     "output_type": "display_data"
    }
   ],
   "source": [
    "async def explain_balance_sheet(imodel, verbose=True):\n",
    "    branch = Branch(system=system_msg, imodel=imodel)\n",
    "    response = await branch.chat(instruction=prompt)\n",
    "    if verbose:\n",
    "        printmd(f\"### Response: \\n {response} \\n --- \\n\")\n",
    "    return response\n",
    "\n",
    "\n",
    "model1 = generate_random_imodel()\n",
    "response1 = await explain_balance_sheet(imodel=model1)"
   ]
  },
  {
   "cell_type": "markdown",
   "metadata": {},
   "source": [
    "now let us generate 5 versions of these as our samples to select the best from. \n",
    "\n",
    "we will use a function called `alcall` to help us do asynchronous parallel API calls to LLMs."
   ]
  },
  {
   "cell_type": "code",
   "execution_count": 5,
   "metadata": {},
   "outputs": [
    {
     "data": {
      "text/markdown": [
       "Successfully generated a random Intelligent Model:\n",
       "\n",
       "gpt-4o-mini, \n",
       "\n",
       "temperature: 0.9688446743678979, \n",
       "\n",
       "top_p: 0.9325781413815237. \n",
       "\n",
       " ---"
      ],
      "text/plain": [
       "<IPython.core.display.Markdown object>"
      ]
     },
     "metadata": {},
     "output_type": "display_data"
    },
    {
     "data": {
      "text/markdown": [
       "Successfully generated a random Intelligent Model:\n",
       "\n",
       "gpt-4-turbo, \n",
       "\n",
       "temperature: 0.8580176992323317, \n",
       "\n",
       "top_p: 0.9970266777779504. \n",
       "\n",
       " ---"
      ],
      "text/plain": [
       "<IPython.core.display.Markdown object>"
      ]
     },
     "metadata": {},
     "output_type": "display_data"
    },
    {
     "data": {
      "text/markdown": [
       "Successfully generated a random Intelligent Model:\n",
       "\n",
       "gpt-4o, \n",
       "\n",
       "temperature: 0.8587724923453689, \n",
       "\n",
       "top_p: 0.8390517485163145. \n",
       "\n",
       " ---"
      ],
      "text/plain": [
       "<IPython.core.display.Markdown object>"
      ]
     },
     "metadata": {},
     "output_type": "display_data"
    },
    {
     "data": {
      "text/markdown": [
       "Successfully generated a random Intelligent Model:\n",
       "\n",
       "gpt-4o-mini, \n",
       "\n",
       "temperature: 0.9673632222842298, \n",
       "\n",
       "top_p: 0.7915172546989881. \n",
       "\n",
       " ---"
      ],
      "text/plain": [
       "<IPython.core.display.Markdown object>"
      ]
     },
     "metadata": {},
     "output_type": "display_data"
    },
    {
     "data": {
      "text/markdown": [
       "Successfully generated a random Intelligent Model:\n",
       "\n",
       "gpt-4o-mini, \n",
       "\n",
       "temperature: 0.707219117168443, \n",
       "\n",
       "top_p: 0.8052999894942017. \n",
       "\n",
       " ---"
      ],
      "text/plain": [
       "<IPython.core.display.Markdown object>"
      ]
     },
     "metadata": {},
     "output_type": "display_data"
    }
   ],
   "source": [
    "from lionfuncs import alcall\n",
    "\n",
    "models = [generate_random_imodel() for _ in range(5)]\n",
    "samples = await alcall(models, explain_balance_sheet, verbose=False)"
   ]
  },
  {
   "cell_type": "markdown",
   "metadata": {},
   "source": [
    "let's take a look at one of them"
   ]
  },
  {
   "cell_type": "code",
   "execution_count": 6,
   "metadata": {},
   "outputs": [
    {
     "data": {
      "text/markdown": [
       "# Understanding the Balance Sheet: Assets, Liabilities, and Equity\n",
       "\n",
       "The balance sheet is a financial statement that provides a snapshot of a company's financial position at a specific point in time. It follows the fundamental accounting equation:\n",
       "\n",
       "**Assets = Liabilities + Equity**\n",
       "\n",
       "## Assets\n",
       "Assets are what a company owns and can be classified into two main categories:\n",
       "\n",
       "- **Current Assets**: These are short-term assets expected to be converted into cash within a year, like cash, inventory, and accounts receivable.\n",
       "- **Non-Current Assets**: These are long-term assets that a company uses to generate revenue over time, such as property, plant, and equipment.\n",
       "\n",
       "## Liabilities\n",
       "Liabilities are what a company owes to others. They can also be divided into two types:\n",
       "\n",
       "- **Current Liabilities**: Obligations that are due within one year, such as accounts payable and short-term loans.\n",
       "- **Long-Term Liabilities**: These are obligations due in more than one year, such as bonds payable and long-term loans.\n",
       "\n",
       "## Equity\n",
       "Equity represents the ownership interest in the company. It is calculated as the difference between assets and liabilities. Equity can include:\n",
       "\n",
       "- **Common Stock**: The amount invested by shareholders.\n",
       "- **Retained Earnings**: Profits reinvested in the business rather than distributed as dividends.\n",
       "\n",
       "In summary, the balance sheet provides vital information about a company's financial health, detailing how assets are financed through liabilities and equity."
      ],
      "text/plain": [
       "<IPython.core.display.Markdown object>"
      ]
     },
     "metadata": {},
     "output_type": "display_data"
    }
   ],
   "source": [
    "printmd(samples[0])"
   ]
  },
  {
   "cell_type": "markdown",
   "metadata": {},
   "source": [
    "---\n"
   ]
  },
  {
   "cell_type": "markdown",
   "metadata": {},
   "source": [
    "## Rank"
   ]
  },
  {
   "cell_type": "markdown",
   "metadata": {},
   "source": [
    "now we have the samples, it's time to invite a group of judge to vote for the best one. First we should instruct judge to respond in certain format"
   ]
  },
  {
   "cell_type": "code",
   "execution_count": null,
   "metadata": {},
   "outputs": [],
   "source": [
    "propmt = \"evaluate/score the quality of the response as if you are evaluating a PhD dissertation \"\n",
    "requested_fields = {\"score\": \"integer 1-10\", \"reason\": \"string\"}"
   ]
  },
  {
   "cell_type": "code",
   "execution_count": 7,
   "metadata": {},
   "outputs": [
    {
     "data": {
      "text/markdown": [
       "{\n",
       "    \"score\": 5,\n",
       "    \"reason\": \"The explanation provided in the dissertation lacks depth and critical analysis essential for a PhD level submission. While it accurately describes the basic components of a balance sheet, it fails to engage with more complex financial theories or provide any innovative perspectives that would demonstrate a doctoral level of understanding or contribution to the field of financial studies. Furthermore, the text could be improved by including examples, case studies, or recent research to support the explanations and enhance the academic rigor of the work.\"\n",
       "}"
      ],
      "text/plain": [
       "<IPython.core.display.Markdown object>"
      ]
     },
     "metadata": {},
     "output_type": "display_data"
    }
   ],
   "source": [
    "from lionfuncs import as_readable_json\n",
    "\n",
    "\n",
    "async def score_sample(sample):\n",
    "    imodel = generate_random_imodel(verbose=False)\n",
    "    branch = Branch(system=\"A harsh professor\", imodel=imodel)\n",
    "    responses = await branch.chat(\n",
    "        instruction=prompt,\n",
    "        context=sample,\n",
    "        requested_fields=requested_fields,\n",
    "    )\n",
    "    return responses\n",
    "\n",
    "\n",
    "response = await score_sample(samples[0])\n",
    "printmd(as_readable_json(response))"
   ]
  },
  {
   "cell_type": "markdown",
   "metadata": {},
   "source": [
    "now it is attempting to directly use the response as a dict\n",
    "and average the score, however, we need to remember that\n",
    "\n",
    "LLM responses are not always in the same format, so we need\n",
    "to parse the data into proper data types"
   ]
  },
  {
   "cell_type": "code",
   "execution_count": 8,
   "metadata": {},
   "outputs": [],
   "source": [
    "from lionfuncs import to_num, to_dict"
   ]
  },
  {
   "cell_type": "code",
   "execution_count": 9,
   "metadata": {},
   "outputs": [],
   "source": [
    "def get_average_score(responses):\n",
    "    scores = 0\n",
    "    for res in responses:\n",
    "        res = to_dict(res, fuzzy_parse=True)\n",
    "        scores += to_num(res[\"score\"])\n",
    "    return scores / len(responses)"
   ]
  },
  {
   "cell_type": "code",
   "execution_count": 10,
   "metadata": {},
   "outputs": [],
   "source": [
    "# now we are ready to score each sample with a group of judge LLM.\n",
    "\n",
    "\n",
    "async def group_judge(idx, sample):\n",
    "    responses = await alcall(\n",
    "        [sample for _ in range(10)], score_sample\n",
    "    )  # using 10 judge\n",
    "    avg_score = get_average_score(responses=responses)\n",
    "    print(f\"Finished evaluating sample {idx}, score: {avg_score:.02f}\")\n",
    "    return {\n",
    "        \"idx\": idx,\n",
    "        \"original_sample\": sample,\n",
    "        \"response_content\": responses,\n",
    "        \"score\": avg_score,\n",
    "    }"
   ]
  },
  {
   "cell_type": "code",
   "execution_count": 11,
   "metadata": {},
   "outputs": [],
   "source": [
    "import asyncio\n",
    "\n",
    "\n",
    "# let us run all judging together\n",
    "async def rank_samples(samples):\n",
    "\n",
    "    tasks = [\n",
    "        asyncio.create_task(group_judge(idx, sample))\n",
    "        for idx, sample in enumerate(samples)\n",
    "    ]\n",
    "    results = await asyncio.gather(*tasks)\n",
    "    sorted_results = sorted(results, key=lambda x: x[\"score\"], reverse=True)\n",
    "    return sorted_results"
   ]
  },
  {
   "cell_type": "code",
   "execution_count": 12,
   "metadata": {},
   "outputs": [
    {
     "name": "stdout",
     "output_type": "stream",
     "text": [
      "Finished evaluating sample 1, score: 6.90\n",
      "Finished evaluating sample 3, score: 7.10\n",
      "Finished evaluating sample 4, score: 7.60\n",
      "Finished evaluating sample 0, score: 7.20\n",
      "Finished evaluating sample 2, score: 6.60\n"
     ]
    }
   ],
   "source": [
    "final_results = await rank_samples(samples)"
   ]
  },
  {
   "cell_type": "code",
   "execution_count": 13,
   "metadata": {},
   "outputs": [
    {
     "name": "stdout",
     "output_type": "stream",
     "text": [
      "Sample No.4, Final Score: 7.6\n"
     ]
    },
    {
     "data": {
      "text/markdown": [
       "# Understanding the Balance Sheet: Assets, Liabilities, and Equity\n",
       "\n",
       "The balance sheet is a financial statement that provides a snapshot of a company's financial position at a specific point in time. It is based on the accounting equation:\n",
       "\n",
       "**Assets = Liabilities + Equity**\n",
       "\n",
       "## Assets\n",
       "Assets are everything the company owns that has value. This includes cash, inventory, buildings, equipment, and accounts receivable. Assets are typically categorized as either current (to be used or converted into cash within a year) or non-current (long-term investments).\n",
       "\n",
       "## Liabilities\n",
       "Liabilities represent what the company owes to others. These are obligations that must be settled in the future, such as loans, accounts payable, and mortgages. Like assets, liabilities are divided into current (due within one year) and long-term (due in more than one year).\n",
       "\n",
       "## Equity\n",
       "Equity, often referred to as shareholders' equity or owner's equity, represents the owners' claim on the assets after all liabilities have been settled. It includes common stock, retained earnings, and additional paid-in capital. Essentially, equity reflects the net worth of the company.\n",
       "\n",
       "In summary, the balance sheet illustrates the relationship between what a company owns (assets), what it owes (liabilities), and the residual interest of the owners (equity)."
      ],
      "text/plain": [
       "<IPython.core.display.Markdown object>"
      ]
     },
     "metadata": {},
     "output_type": "display_data"
    }
   ],
   "source": [
    "# best\n",
    "\n",
    "print(\n",
    "    f\"Sample No.{final_results[0][\"idx\"]}, Final Score: {final_results[0][\"score\"]}\"\n",
    ")\n",
    "printmd(final_results[0][\"original_sample\"])"
   ]
  },
  {
   "cell_type": "code",
   "execution_count": 14,
   "metadata": {},
   "outputs": [
    {
     "name": "stdout",
     "output_type": "stream",
     "text": [
      "Sample No.2, Final Score: 6.6\n"
     ]
    },
    {
     "data": {
      "text/markdown": [
       "# Understanding the Balance Sheet: Equity, Liability, and Assets\n",
       "\n",
       "A balance sheet is a financial statement that provides a snapshot of a company’s financial position at a specific point in time. It is structured around three main components: assets, liabilities, and equity.\n",
       "\n",
       "## Assets\n",
       "Assets represent everything the company owns and uses to generate revenue. They are typically classified into two categories:\n",
       "- **Current Assets**: These are assets that are expected to be converted into cash or used up within one year, such as cash, accounts receivable, and inventory.\n",
       "- **Non-current Assets**: These include long-term investments and property, plant, and equipment (PPE) that provide value over time.\n",
       "\n",
       "## Liabilities\n",
       "Liabilities are what the company owes to others. They are also divided into:\n",
       "- **Current Liabilities**: These are obligations due within one year, such as accounts payable, short-term loans, and other short-term debts.\n",
       "- **Non-current Liabilities**: These include long-term debts like bonds payable and long-term leases.\n",
       "\n",
       "## Equity\n",
       "Equity represents the owners' claims on the company after liabilities are settled. It includes:\n",
       "- **Common Stock**: The value of shares issued to investors.\n",
       "- **Retained Earnings**: Profits that have been reinvested in the business rather than distributed as dividends.\n",
       "\n",
       "The fundamental accounting equation is:\n",
       "\\[ \\text{Assets} = \\text{Liabilities} + \\text{Equity} \\]\n",
       "This equation must always balance, reflecting the financial stability of the company."
      ],
      "text/plain": [
       "<IPython.core.display.Markdown object>"
      ]
     },
     "metadata": {},
     "output_type": "display_data"
    }
   ],
   "source": [
    "# worst\n",
    "\n",
    "print(\n",
    "    f\"Sample No.{final_results[-1][\"idx\"]}, Final Score: {final_results[-1][\"score\"]}\"\n",
    ")\n",
    "printmd(final_results[-1][\"original_sample\"])"
   ]
  }
 ],
 "metadata": {
  "kernelspec": {
   "display_name": ".venv",
   "language": "python",
   "name": "python3"
  },
  "language_info": {
   "codemirror_mode": {
    "name": "ipython",
    "version": 3
   },
   "file_extension": ".py",
   "mimetype": "text/x-python",
   "name": "python",
   "nbconvert_exporter": "python",
   "pygments_lexer": "ipython3",
   "version": "3.12.6"
  }
 },
 "nbformat": 4,
 "nbformat_minor": 2
}
