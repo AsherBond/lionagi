{
 "cells": [
  {
   "cell_type": "markdown",
   "metadata": {},
   "source": [
    "## Getting Pydantic Output from LLM message"
   ]
  },
  {
   "cell_type": "markdown",
   "metadata": {},
   "source": [
    "pydantic is a commonly used library for data validation and parsing in Python. It is used to define data schemas and parse data into those schemas. In this notebook, we will see how to get pydantic output from the LLM message."
   ]
  },
  {
   "cell_type": "code",
   "execution_count": 1,
   "metadata": {},
   "outputs": [],
   "source": [
    "from pydantic import BaseModel, Field\n",
    "\n",
    "\n",
    "class ReasonModel(BaseModel):\n",
    "    title: str | None = Field(\n",
    "        None,\n",
    "        description=\"brief title of reasoning\",\n",
    "    )\n",
    "    motivation: str | None = Field(\n",
    "        None,\n",
    "        description=\"explain the various motivations behind different stakeholders\",\n",
    "    )\n",
    "    content: str | None = None"
   ]
  },
  {
   "cell_type": "code",
   "execution_count": 2,
   "metadata": {},
   "outputs": [
    {
     "name": "stdout",
     "output_type": "stream",
     "text": [
      "True\n"
     ]
    }
   ],
   "source": [
    "from lionagi import Branch\n",
    "\n",
    "a = Branch()\n",
    "\n",
    "response = await a.chat(\n",
    "    \"A surgeon said, I cannot conduct surgery on this boy, because he is my son. Please explain.\",\n",
    "    pydantic_model=ReasonModel,\n",
    "    return_pydantic_model=True,\n",
    ")\n",
    "\n",
    "print(isinstance(response, ReasonModel))"
   ]
  },
  {
   "cell_type": "code",
   "execution_count": 3,
   "metadata": {},
   "outputs": [
    {
     "name": "stdout",
     "output_type": "stream",
     "text": [
      "{\n",
      "    \"title\": \"Understanding the Surgeon's Statement\",\n",
      "    \"motivation\": \"The statement challenges traditional gender assumptions and highlights the importance of recognizing diverse family structures.\",\n",
      "    \"content\": \"The statement can be explained by considering that the surgeon is the boy's mother. This scenario challenges the common stereotype that surgeons are typically male, and it serves as a reminder to consider gender equality and diversity in professional roles. Additionally, it emphasizes the need to acknowledge and respect various family dynamics and roles beyond traditional expectations.\"\n",
      "}\n"
     ]
    }
   ],
   "source": [
    "from lionfuncs import as_readable_json\n",
    "\n",
    "print(as_readable_json(response))"
   ]
  },
  {
   "cell_type": "code",
   "execution_count": 4,
   "metadata": {},
   "outputs": [
    {
     "name": "stdout",
     "output_type": "stream",
     "text": [
      "The statement can be explained by considering that the surgeon is the boy's mother. This scenario challenges the common stereotype that surgeons are typically male, and it serves as a reminder to consider gender equality and diversity in professional roles. Additionally, it emphasizes the need to acknowledge and respect various family dynamics and roles beyond traditional expectations.\n"
     ]
    }
   ],
   "source": [
    "print(response.content)"
   ]
  }
 ],
 "metadata": {
  "kernelspec": {
   "display_name": ".venv",
   "language": "python",
   "name": "python3"
  },
  "language_info": {
   "codemirror_mode": {
    "name": "ipython",
    "version": 3
   },
   "file_extension": ".py",
   "mimetype": "text/x-python",
   "name": "python",
   "nbconvert_exporter": "python",
   "pygments_lexer": "ipython3",
   "version": "3.12.6"
  }
 },
 "nbformat": 4,
 "nbformat_minor": 2
}
