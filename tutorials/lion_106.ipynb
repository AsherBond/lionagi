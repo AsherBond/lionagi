{
 "cells": [
  {
   "cell_type": "markdown",
   "metadata": {},
   "source": [
    "## LionAGI - 106\n",
    "\n",
    "\n",
    "Planning & Pydantic Structured Output: Build your own self-optimizing ReAct agent (pt 1)"
   ]
  },
  {
   "cell_type": "code",
   "execution_count": 1,
   "metadata": {},
   "outputs": [],
   "source": [
    "# %pip install lionagi"
   ]
  },
  {
   "cell_type": "code",
   "execution_count": 2,
   "metadata": {},
   "outputs": [
    {
     "name": "stdout",
     "output_type": "stream",
     "text": [
      "lionagi version \t 0.3.5\n",
      "last edited date \t 2024-10-13\n"
     ]
    }
   ],
   "source": [
    "from lionagi import __version__\n",
    "from lionfuncs import time\n",
    "\n",
    "print(\"lionagi version \\t\", __version__)\n",
    "print(\"last edited date \\t\", time(type_=\"iso\", sep=\"T\").split(\"T\")[0])"
   ]
  },
  {
   "cell_type": "code",
   "execution_count": 3,
   "metadata": {},
   "outputs": [],
   "source": [
    "from IPython.display import display, Markdown\n",
    "\n",
    "\n",
    "def printmd(string):\n",
    "    display(Markdown(string))\n",
    "\n",
    "\n",
    "from pathlib import Path\n",
    "\n",
    "datapath = Path.cwd() / \"data\" / \"lion-core-source\""
   ]
  },
  {
   "cell_type": "markdown",
   "metadata": {},
   "source": [
    "### Install LLamaIndex (RAG Tool provider)"
   ]
  },
  {
   "cell_type": "code",
   "execution_count": 4,
   "metadata": {},
   "outputs": [],
   "source": [
    "# %pip install lionagi llama-index nbconvert"
   ]
  },
  {
   "cell_type": "code",
   "execution_count": 5,
   "metadata": {},
   "outputs": [
    {
     "data": {
      "text/markdown": [
       "The `Note` class is a flexible container specifically designed for managing nested dictionary data structures, allowing for complex and hierarchical information storage. In contrast, a dictionary is a standard data structure in Python that stores key-value pairs without the additional methods and functionalities provided by the `Note` class for manipulating and accessing nested data. Essentially, while a dictionary is a basic data structure, the `Note` class enhances this functionality with specialized methods tailored for more complex data management."
      ],
      "text/plain": [
       "<IPython.core.display.Markdown object>"
      ]
     },
     "metadata": {},
     "output_type": "display_data"
    }
   ],
   "source": [
    "from llama_index.core import SimpleDirectoryReader, VectorStoreIndex\n",
    "from llama_index.llms.openai import OpenAI\n",
    "\n",
    "llm = OpenAI(model=\"gpt-4o-mini\")\n",
    "\n",
    "docs = SimpleDirectoryReader(\n",
    "    input_dir=datapath, recursive=True, required_exts=[\".py\", \".md\", \".ipynb\"]\n",
    ").load_data()\n",
    "\n",
    "index = VectorStoreIndex.from_documents(documents=docs)\n",
    "query_engine = index.as_query_engine(llm=llm)\n",
    "\n",
    "response = query_engine.query(\n",
    "    \"What is the difference between an lion-core Note and a dictionary??\",\n",
    ")\n",
    "\n",
    "printmd(response.response)"
   ]
  },
  {
   "cell_type": "code",
   "execution_count": 6,
   "metadata": {},
   "outputs": [],
   "source": [
    "from lionfuncs import to_dict\n",
    "\n",
    "\n",
    "async def query_lion_core(query: str):\n",
    "    \"\"\"\n",
    "    Use this tool to query the lion-core repository for information.\n",
    "    you should frequently refer to this if you are unsure about anything.\n",
    "\n",
    "    Args:\n",
    "        query: str: A question, term or query about lion-core.\n",
    "    \"\"\"\n",
    "    response = await query_engine.aquery(query)\n",
    "    return to_dict(\n",
    "        response,\n",
    "        recursive=True,\n",
    "        recursive_python_only=False,\n",
    "        max_recursive_depth=4,\n",
    "    )"
   ]
  },
  {
   "cell_type": "markdown",
   "metadata": {},
   "source": [
    "---"
   ]
  },
  {
   "cell_type": "markdown",
   "metadata": {},
   "source": [
    "what is reason action? in terms of AI? And why is it useful?\n",
    "\n",
    "In tutorial 105, we saw how to use a branch to do function calling. Function Calling is in essence, a type of structured output, and we can do these easier ourselves. \n",
    "\n",
    "Let's build our own reason action agent capable of planning using pydantic. A simple illustration of agentic research."
   ]
  },
  {
   "cell_type": "code",
   "execution_count": 7,
   "metadata": {},
   "outputs": [],
   "source": [
    "from lionfuncs import to_num\n",
    "from pydantic import BaseModel, Field\n",
    "\n",
    "\n",
    "class ReasonModel(BaseModel):\n",
    "    title: str = Field(\n",
    "        ...,\n",
    "        title=\"Title\",\n",
    "        description=\"The title of the reason.\",\n",
    "    )\n",
    "    content: str = Field(\n",
    "        ...,\n",
    "        title=\"Content\",\n",
    "        description=\"The content that supports or explains the reason.\",\n",
    "    )\n",
    "    rating: float = Field(\n",
    "        ...,\n",
    "        title=\"Rating\",\n",
    "        description=(\n",
    "            \"The critical objective self rating (1-10) of the reason in terms of correctness.\"\n",
    "            \" >8 means can continue the path of reasoning, \"\n",
    "            \"5-7 you need to recheck your reasoning and consider reversing to previously more confident reason path, \"\n",
    "            \"below 5 means you need to stop, must mark more_reason_needed as False, and flag failed as True\"\n",
    "        ),\n",
    "    )\n",
    "    more_reason_needed: bool = Field(\n",
    "        False,\n",
    "        description=(\n",
    "            \"A flag to indicate whether there are more reasons needed to solve the task.\"\n",
    "            \"if you are confident that you have enough reasons, set this to False. and stop the reasoning.\"\n",
    "        ),\n",
    "    )\n",
    "\n",
    "    def is_valid_reason(self):\n",
    "        try:\n",
    "            if to_num(self.rating) < 5:\n",
    "                return False\n",
    "            if self.content == \"\":\n",
    "                return False\n",
    "            if self.title == \"\":\n",
    "                return False\n",
    "            return True\n",
    "        except Exception:\n",
    "            return False"
   ]
  },
  {
   "cell_type": "markdown",
   "metadata": {},
   "source": [
    "let us try it out"
   ]
  },
  {
   "cell_type": "code",
   "execution_count": 8,
   "metadata": {},
   "outputs": [],
   "source": [
    "from lionagi import Branch, iModel\n",
    "\n",
    "system_prompt = \"\"\"\n",
    "you are an expert in python and coding, you are asked to provide guidance on how to use the lion-core library.\n",
    "you have access to the lion-core repository query engine, you can ask questions and get answers.\n",
    "\"\"\"\n",
    "\n",
    "instruction1 = \"\"\"\n",
    "From given context, reason the approach of querying the lion-core repository for information.\n",
    "\"\"\""
   ]
  },
  {
   "cell_type": "code",
   "execution_count": 10,
   "metadata": {},
   "outputs": [],
   "source": [
    "imodel = iModel(model=\"o1-mini\", temperature=1)\n",
    "branch = Branch(imodel=imodel)\n",
    "\n",
    "response = await branch.chat(\n",
    "    instruction=system_prompt + instruction1,\n",
    "    pydantic_model=ReasonModel,\n",
    "    return_pydantic_model=True,\n",
    ")"
   ]
  },
  {
   "cell_type": "code",
   "execution_count": 11,
   "metadata": {},
   "outputs": [
    {
     "name": "stdout",
     "output_type": "stream",
     "text": [
      "{\n",
      "    \"title\": \"Approach for Querying the lion-core Repository\",\n",
      "    \"content\": \"To effectively utilize the lion-core library, begin by accessing its repository query engine. Start by identifying the specific functionalities or modules you need assistance with. Formulate precise queries related to those areas, such as requesting examples, documentation references, or best practices. Analyze the responses to gain a deeper understanding of the library's capabilities and integration methods. This systematic querying approach will streamline your development process and ensure you leverage the lion-core library efficiently.\",\n",
      "    \"rating\": 9.0,\n",
      "    \"more_reason_needed\": false\n",
      "}\n"
     ]
    }
   ],
   "source": [
    "from lionfuncs import as_readable_json\n",
    "\n",
    "str_ = as_readable_json(response)\n",
    "\n",
    "print(str_)"
   ]
  },
  {
   "cell_type": "code",
   "execution_count": 12,
   "metadata": {},
   "outputs": [],
   "source": [
    "class QueryModel(BaseModel):\n",
    "    function_name: str = Field(\n",
    "        ...,\n",
    "        title=\"Function Name\",\n",
    "        description=\"The name of the function to be called. Must pick from given options.\",\n",
    "    )\n",
    "    query: str = Field(\n",
    "        ...,\n",
    "        title=\"Query\",\n",
    "        description=\"A detailed precise query to be made to a query engine bot with natural language interface.\",\n",
    "    )\n",
    "\n",
    "\n",
    "class PlanModel(BaseModel):\n",
    "    title: str = Field(\n",
    "        ...,\n",
    "        title=\"Title\",\n",
    "        description=\"The title of the plan.\",\n",
    "    )\n",
    "    reasons: list[ReasonModel] = Field(\n",
    "        ...,\n",
    "        title=\"Reason\",\n",
    "        description=\"The reason for the plan.\",\n",
    "    )\n",
    "    content: str = Field(\n",
    "        ...,\n",
    "        title=\"Content\",\n",
    "        description=\"The detailed plan content\",\n",
    "    )\n",
    "    actions: list[QueryModel] = Field(\n",
    "        default_factory=list,\n",
    "        title=\"Actions\",\n",
    "        description=\"The actions to be taken., You must use action if you don't have information to provide evidence-backed information.\",\n",
    "    )"
   ]
  },
  {
   "cell_type": "code",
   "execution_count": 13,
   "metadata": {},
   "outputs": [
    {
     "name": "stdout",
     "output_type": "stream",
     "text": [
      "{\n",
      "    \"title\": \"Step-by-Step Query Plan for Building an Agent using lion-core\",\n",
      "    \"reasons\": [\n",
      "        {\n",
      "            \"title\": \"Understand Core Architecture\",\n",
      "            \"content\": \"To build an effective agent, it's crucial to comprehend the fundamental architecture of lion-core, including its primary modules and their interactions.\",\n",
      "            \"rating\": 9.0,\n",
      "            \"more_reason_needed\": false\n",
      "        },\n",
      "        {\n",
      "            \"title\": \"Identify Integration Points\",\n",
      "            \"content\": \"Determining where and how to integrate the agent within lion-core ensures seamless functionality and leverages existing features.\",\n",
      "            \"rating\": 8.5,\n",
      "            \"more_reason_needed\": false\n",
      "        },\n",
      "        {\n",
      "            \"title\": \"Determine Extension Capabilities\",\n",
      "            \"content\": \"Knowing how lion-core can be extended or customized allows for tailoring the agent to specific requirements and use cases.\",\n",
      "            \"rating\": 8.0,\n",
      "            \"more_reason_needed\": false\n",
      "        },\n",
      "        {\n",
      "            \"title\": \"Assess Available APIs\",\n",
      "            \"content\": \"Evaluating the APIs provided by lion-core is essential for effective communication between the agent and the core system.\",\n",
      "            \"rating\": 8.5,\n",
      "            \"more_reason_needed\": false\n",
      "        },\n",
      "        {\n",
      "            \"title\": \"Explore Authentication Mechanisms\",\n",
      "            \"content\": \"Understanding the authentication and authorization mechanisms ensures that the agent interacts securely with lion-core.\",\n",
      "            \"rating\": 7.5,\n",
      "            \"more_reason_needed\": false\n",
      "        },\n",
      "        {\n",
      "            \"title\": \"Identify Data Models\",\n",
      "            \"content\": \"Familiarizing with the data models used by lion-core aids in managing and manipulating data within the agent.\",\n",
      "            \"rating\": 7.0,\n",
      "            \"more_reason_needed\": true\n",
      "        }\n",
      "    ],\n",
      "    \"content\": \"This query plan is designed to systematically gather essential information from the lion-core repository to facilitate the development of a robust and integrated agent. By following the sequence of queries, developers can build a comprehensive understanding of lion-core's architecture, integration points, extensibility, and security features, ensuring that the agent is well-aligned with the core system's capabilities and best practices.\",\n",
      "    \"actions\": [\n",
      "        {\n",
      "            \"function_name\": \"query_lion_core\",\n",
      "            \"query\": \"What are the main modules and components of lion-core?\"\n",
      "        },\n",
      "        {\n",
      "            \"function_name\": \"query_lion_core\",\n",
      "            \"query\": \"How can external agents be integrated with lion-core?\"\n",
      "        },\n",
      "        {\n",
      "            \"function_name\": \"query_lion_core\",\n",
      "            \"query\": \"What customization and extension points does lion-core offer for developing agents?\"\n",
      "        },\n",
      "        {\n",
      "            \"function_name\": \"query_lion_core\",\n",
      "            \"query\": \"What APIs are available in lion-core for agent communication?\"\n",
      "        },\n",
      "        {\n",
      "            \"function_name\": \"query_lion_core\",\n",
      "            \"query\": \"What are the authentication and authorization protocols used by lion-core?\"\n",
      "        },\n",
      "        {\n",
      "            \"function_name\": \"query_lion_core\",\n",
      "            \"query\": \"Can you provide details on the data models and schemas used in lion-core?\"\n",
      "        },\n",
      "        {\n",
      "            \"function_name\": \"query_lion_core\",\n",
      "            \"query\": \"What are the best practices for error handling and logging in lion-core when developing an agent?\"\n",
      "        },\n",
      "        {\n",
      "            \"function_name\": \"query_lion_core\",\n",
      "            \"query\": \"Are there any existing agents built with lion-core that can be referenced?\"\n",
      "        },\n",
      "        {\n",
      "            \"function_name\": \"query_lion_core\",\n",
      "            \"query\": \"What testing frameworks are recommended for ensuring the reliability of an agent within lion-core?\"\n",
      "        },\n",
      "        {\n",
      "            \"function_name\": \"query_lion_core\",\n",
      "            \"query\": \"What performance optimization techniques are suggested for agents interacting with lion-core?\"\n",
      "        }\n",
      "    ]\n",
      "}\n"
     ]
    }
   ],
   "source": [
    "from lionfuncs import function_to_schema\n",
    "\n",
    "instruction = \"\"\"\n",
    "perform agentic RAG, prepare step by query plan, you should provide 5-10 questions to ask our query engine, the questions should be logically sequenced and should help in reasoning the approach to build an agent using lion-core.\n",
    "\"\"\"\n",
    "\n",
    "response = await branch.chat(\n",
    "    instruction=instruction,\n",
    "    context={\n",
    "        \"tool_schema\": function_to_schema(query_lion_core),\n",
    "    },\n",
    "    pydantic_model=PlanModel,\n",
    "    return_pydantic_model=True,\n",
    "    clear_messages=True,\n",
    ")\n",
    "\n",
    "str_ = as_readable_json(response)\n",
    "\n",
    "print(str_)"
   ]
  },
  {
   "cell_type": "code",
   "execution_count": 14,
   "metadata": {},
   "outputs": [
    {
     "data": {
      "text/plain": [
       "[QueryModel(function_name='query_lion_core', query='What are the main modules and components of lion-core?'),\n",
       " QueryModel(function_name='query_lion_core', query='How can external agents be integrated with lion-core?'),\n",
       " QueryModel(function_name='query_lion_core', query='What customization and extension points does lion-core offer for developing agents?'),\n",
       " QueryModel(function_name='query_lion_core', query='What APIs are available in lion-core for agent communication?'),\n",
       " QueryModel(function_name='query_lion_core', query='What are the authentication and authorization protocols used by lion-core?'),\n",
       " QueryModel(function_name='query_lion_core', query='Can you provide details on the data models and schemas used in lion-core?'),\n",
       " QueryModel(function_name='query_lion_core', query='What are the best practices for error handling and logging in lion-core when developing an agent?'),\n",
       " QueryModel(function_name='query_lion_core', query='Are there any existing agents built with lion-core that can be referenced?'),\n",
       " QueryModel(function_name='query_lion_core', query='What testing frameworks are recommended for ensuring the reliability of an agent within lion-core?'),\n",
       " QueryModel(function_name='query_lion_core', query='What performance optimization techniques are suggested for agents interacting with lion-core?')]"
      ]
     },
     "execution_count": 14,
     "metadata": {},
     "output_type": "execute_result"
    }
   ],
   "source": [
    "response.actions"
   ]
  },
  {
   "cell_type": "code",
   "execution_count": 15,
   "metadata": {},
   "outputs": [
    {
     "data": {
      "text/markdown": [
       "Query No. 1: What are the main modules and components of lion-core? \n",
       " --- \n"
      ],
      "text/plain": [
       "<IPython.core.display.Markdown object>"
      ]
     },
     "metadata": {},
     "output_type": "display_data"
    },
    {
     "data": {
      "text/markdown": [
       "The main modules and components of Lion-Core include:\n",
       "\n",
       "1. **Core Components**:\n",
       "   - **Element**: A foundational class for creating modular and composable components.\n",
       "   - **Node**: An extension of Element for creating interconnected components in a graph-like structure.\n",
       "\n",
       "2. **Data Structures**:\n",
       "   - **Pile**\n",
       "   - **Progression**\n",
       "   - **Flow**\n",
       "\n",
       "3. **Communication**:\n",
       "   - **Message System**\n",
       "   - **Mail Manager**\n",
       "   - **Exchange**: Manages asynchronous communication between components.\n",
       "\n",
       "4. **Utility Systems**:\n",
       "   - **Converter System**\n",
       "   - **Form & Validator**\n",
       "   - **Rule System**\n",
       "\n",
       "5. **AI and ML Tools**:\n",
       "   - **Action System**\n",
       "   - **Session Management**\n",
       "\n",
       "These components can be used independently or in combination, allowing for modular and scalable application development.\n",
       "\n",
       " --- \n",
       "\n"
      ],
      "text/plain": [
       "<IPython.core.display.Markdown object>"
      ]
     },
     "metadata": {},
     "output_type": "display_data"
    },
    {
     "data": {
      "text/markdown": [
       "Query No. 2: How can external agents be integrated with lion-core? \n",
       " --- \n"
      ],
      "text/plain": [
       "<IPython.core.display.Markdown object>"
      ]
     },
     "metadata": {},
     "output_type": "display_data"
    },
    {
     "data": {
      "text/markdown": [
       "Integration of external agents with Lion-Core can be achieved through the framework's flexible architecture, which allows for the incorporation of various components and functionalities. By utilizing the existing classes and structures, such as `Node`, `Edge`, and `Pile`, external agents can interact with the graph system effectively. Additionally, leveraging community resources like GitHub Issues for feature requests and discussions on the Discord server can facilitate collaboration and support for integrating new functionalities.\n",
       "\n",
       " --- \n",
       "\n"
      ],
      "text/plain": [
       "<IPython.core.display.Markdown object>"
      ]
     },
     "metadata": {},
     "output_type": "display_data"
    },
    {
     "data": {
      "text/markdown": [
       "Query No. 3: What customization and extension points does lion-core offer for developing agents? \n",
       " --- \n"
      ],
      "text/plain": [
       "<IPython.core.display.Markdown object>"
      ]
     },
     "metadata": {},
     "output_type": "display_data"
    },
    {
     "data": {
      "text/markdown": [
       "The provided information does not specify the customization and extension points that lion-core offers for developing agents. It primarily discusses the community aspects, integration of the Graph class within the Lion framework, and the relationship between Lion-Core and the lionagi project. For detailed information on customization and extension points, further documentation or resources specific to lion-core would be needed.\n",
       "\n",
       " --- \n",
       "\n"
      ],
      "text/plain": [
       "<IPython.core.display.Markdown object>"
      ]
     },
     "metadata": {},
     "output_type": "display_data"
    },
    {
     "data": {
      "text/markdown": [
       "Query No. 4: What APIs are available in lion-core for agent communication? \n",
       " --- \n"
      ],
      "text/plain": [
       "<IPython.core.display.Markdown object>"
      ]
     },
     "metadata": {},
     "output_type": "display_data"
    },
    {
     "data": {
      "text/markdown": [
       "The available APIs for agent communication in lion-core can be found in the documentation files related to communication, specifically in the session and branch sections.\n",
       "\n",
       " --- \n",
       "\n"
      ],
      "text/plain": [
       "<IPython.core.display.Markdown object>"
      ]
     },
     "metadata": {},
     "output_type": "display_data"
    },
    {
     "data": {
      "text/markdown": [
       "Query No. 5: What are the authentication and authorization protocols used by lion-core? \n",
       " --- \n"
      ],
      "text/plain": [
       "<IPython.core.display.Markdown object>"
      ]
     },
     "metadata": {},
     "output_type": "display_data"
    },
    {
     "data": {
      "text/markdown": [
       "The provided information does not specify the authentication and authorization protocols used by lion-core.\n",
       "\n",
       " --- \n",
       "\n"
      ],
      "text/plain": [
       "<IPython.core.display.Markdown object>"
      ]
     },
     "metadata": {},
     "output_type": "display_data"
    },
    {
     "data": {
      "text/markdown": [
       "Query No. 6: Can you provide details on the data models and schemas used in lion-core? \n",
       " --- \n"
      ],
      "text/plain": [
       "<IPython.core.display.Markdown object>"
      ]
     },
     "metadata": {},
     "output_type": "display_data"
    },
    {
     "data": {
      "text/markdown": [
       "The data models in Lion-Core are represented through various data structures, including Pile, Progression, and Flow. These components are designed to facilitate the organization and manipulation of data within the library. Each data structure can be utilized independently or in conjunction with others, allowing for flexible and scalable application development. The architecture supports a modular approach, enabling developers to choose the most suitable data models for their specific needs.\n",
       "\n",
       " --- \n",
       "\n"
      ],
      "text/plain": [
       "<IPython.core.display.Markdown object>"
      ]
     },
     "metadata": {},
     "output_type": "display_data"
    },
    {
     "data": {
      "text/markdown": [
       "Query No. 7: What are the best practices for error handling and logging in lion-core when developing an agent? \n",
       " --- \n"
      ],
      "text/plain": [
       "<IPython.core.display.Markdown object>"
      ]
     },
     "metadata": {},
     "output_type": "display_data"
    },
    {
     "data": {
      "text/markdown": [
       "For effective error handling and logging in lion-core while developing an agent, consider the following best practices:\n",
       "\n",
       "1. **Utilize the LogManager**: Leverage the LogManager for structured logging. This allows you to manage logs efficiently, including specifying directories and file prefixes for event logs.\n",
       "\n",
       "2. **Set Appropriate Log Levels**: Use different logging levels (e.g., INFO, WARNING, ERROR) to categorize log messages. This helps in filtering logs based on severity.\n",
       "\n",
       "3. **Centralized Logging**: Ensure that all components of your agent log to a centralized location. This makes it easier to track issues and analyze behavior across different parts of the application.\n",
       "\n",
       "4. **Error Handling Mechanisms**: Implement try-except blocks to catch exceptions and log them appropriately. This ensures that errors are recorded without crashing the application.\n",
       "\n",
       "5. **Informative Log Messages**: Write clear and informative log messages that provide context about the operation being performed and the state of the application when an error occurs.\n",
       "\n",
       "6. **Regular Log Review**: Periodically review logs to identify patterns or recurring issues. This can help in proactive maintenance and improvement of the agent.\n",
       "\n",
       "7. **Community Engagement**: Engage with the community for support and to share best practices. Utilize platforms like GitHub Issues and Discord for discussions related to error handling and logging strategies.\n",
       "\n",
       "By following these practices, you can enhance the reliability and maintainability of your agent within the lion-core framework.\n",
       "\n",
       " --- \n",
       "\n"
      ],
      "text/plain": [
       "<IPython.core.display.Markdown object>"
      ]
     },
     "metadata": {},
     "output_type": "display_data"
    },
    {
     "data": {
      "text/markdown": [
       "Query No. 8: Are there any existing agents built with lion-core that can be referenced? \n",
       " --- \n"
      ],
      "text/plain": [
       "<IPython.core.display.Markdown object>"
      ]
     },
     "metadata": {},
     "output_type": "display_data"
    },
    {
     "data": {
      "text/markdown": [
       "The provided information does not mention any existing agents built with Lion-Core. For inquiries about specific agents or examples, it may be helpful to check the community discussions or GitHub repository for any shared projects or references.\n",
       "\n",
       " --- \n",
       "\n"
      ],
      "text/plain": [
       "<IPython.core.display.Markdown object>"
      ]
     },
     "metadata": {},
     "output_type": "display_data"
    },
    {
     "data": {
      "text/markdown": [
       "Query No. 9: What testing frameworks are recommended for ensuring the reliability of an agent within lion-core? \n",
       " --- \n"
      ],
      "text/plain": [
       "<IPython.core.display.Markdown object>"
      ]
     },
     "metadata": {},
     "output_type": "display_data"
    },
    {
     "data": {
      "text/markdown": [
       "The provided information does not specify any testing frameworks for ensuring the reliability of an agent within lion-core. For details on recommended testing frameworks, further resources or documentation specific to testing in the lion-core environment would be needed.\n",
       "\n",
       " --- \n",
       "\n"
      ],
      "text/plain": [
       "<IPython.core.display.Markdown object>"
      ]
     },
     "metadata": {},
     "output_type": "display_data"
    },
    {
     "data": {
      "text/markdown": [
       "Query No. 10: What performance optimization techniques are suggested for agents interacting with lion-core? \n",
       " --- \n"
      ],
      "text/plain": [
       "<IPython.core.display.Markdown object>"
      ]
     },
     "metadata": {},
     "output_type": "display_data"
    },
    {
     "data": {
      "text/markdown": [
       "The provided information does not include specific performance optimization techniques for agents interacting with Lion-Core. It primarily focuses on community engagement, development goals, and the roadmap for enhancing the library. For detailed performance optimization techniques, further documentation or resources would be needed.\n",
       "\n",
       " --- \n",
       "\n"
      ],
      "text/plain": [
       "<IPython.core.display.Markdown object>"
      ]
     },
     "metadata": {},
     "output_type": "display_data"
    }
   ],
   "source": [
    "for idx, item in enumerate(response.actions):\n",
    "    printmd(f\"Query No. {idx + 1}: {item.query} \\n --- \\n\")\n",
    "    query_response = (await query_lion_core(item.query))[\"response\"]\n",
    "    printmd(query_response + \"\\n\\n --- \\n\\n\")"
   ]
  }
 ],
 "metadata": {
  "kernelspec": {
   "display_name": ".venv",
   "language": "python",
   "name": "python3"
  },
  "language_info": {
   "codemirror_mode": {
    "name": "ipython",
    "version": 3
   },
   "file_extension": ".py",
   "mimetype": "text/x-python",
   "name": "python",
   "nbconvert_exporter": "python",
   "pygments_lexer": "ipython3",
   "version": "3.12.6"
  }
 },
 "nbformat": 4,
 "nbformat_minor": 2
}
