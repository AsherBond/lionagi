{
 "cells": [
  {
   "cell_type": "markdown",
   "metadata": {},
   "source": [
    "## LionAGI - 106\n",
    "\n",
    "\n",
    "Planning & Pydantic Structured Output: Build your own self-optimizing ReAct agent (pt 1)"
   ]
  },
  {
   "cell_type": "code",
   "execution_count": 1,
   "metadata": {},
   "outputs": [],
   "source": [
    "# %pip install lionagi"
   ]
  },
  {
   "cell_type": "code",
   "execution_count": 2,
   "metadata": {},
   "outputs": [
    {
     "name": "stdout",
     "output_type": "stream",
     "text": [
      "0.3.4\n"
     ]
    }
   ],
   "source": [
    "from lionagi import __version__\n",
    "\n",
    "print(__version__)"
   ]
  },
  {
   "cell_type": "code",
   "execution_count": 3,
   "metadata": {},
   "outputs": [],
   "source": [
    "from IPython.display import display, Markdown\n",
    "\n",
    "def printmd(string):\n",
    "    display(Markdown(string))\n",
    "    \n",
    "from pathlib import Path\n",
    "datapath = Path.cwd() / 'data' / \"lion-core-source\""
   ]
  },
  {
   "cell_type": "markdown",
   "metadata": {},
   "source": [
    "### Install LLamaIndex (RAG Tool provider)"
   ]
  },
  {
   "cell_type": "code",
   "execution_count": 4,
   "metadata": {},
   "outputs": [],
   "source": [
    "# %pip install lionagi llama-index nbconvert"
   ]
  },
  {
   "cell_type": "code",
   "execution_count": 5,
   "metadata": {},
   "outputs": [
    {
     "data": {
      "text/markdown": [
       "The `Note` class is designed to manage nested dictionary data structures, providing a flexible way to handle complex, hierarchical information. In contrast, a dictionary is a basic data structure that stores key-value pairs without the additional methods and functionalities that the `Note` class offers for manipulating and accessing nested data. Essentially, while a dictionary is a simple container for data, the `Note` class enhances this capability with specialized methods for more sophisticated data management."
      ],
      "text/plain": [
       "<IPython.core.display.Markdown object>"
      ]
     },
     "metadata": {},
     "output_type": "display_data"
    }
   ],
   "source": [
    "from llama_index.core import SimpleDirectoryReader, VectorStoreIndex\n",
    "from llama_index.llms.openai import OpenAI\n",
    "\n",
    "llm = OpenAI(model=\"gpt-4o-mini\")\n",
    "\n",
    "docs = SimpleDirectoryReader(\n",
    "    input_dir=datapath,\n",
    "    recursive=True,\n",
    "    required_exts=[\".py\", \".md\", \".ipynb\"]\n",
    ").load_data()\n",
    "\n",
    "index = VectorStoreIndex.from_documents(documents=docs)\n",
    "query_engine = index.as_query_engine(llm=llm)\n",
    "\n",
    "response = query_engine.query(\n",
    "    \"What is the difference between an lion-core Note and a dictionary??\",\n",
    ")\n",
    "\n",
    "printmd(response.response)"
   ]
  },
  {
   "cell_type": "code",
   "execution_count": 6,
   "metadata": {},
   "outputs": [],
   "source": [
    "from lionfuncs import to_dict\n",
    "\n",
    "async def query_lion_core(query: str):\n",
    "    \"\"\"\n",
    "    Use this tool to query the lion-core repository for information.\n",
    "    you should frequently refer to this if you are unsure about anything.\n",
    "    \n",
    "    Args:\n",
    "        query: str: A question, term or query about lion-core.\n",
    "    \"\"\"\n",
    "    response = await query_engine.aquery(query)\n",
    "    return to_dict(\n",
    "        response,\n",
    "        recursive=True,\n",
    "        recursive_python_only=False,\n",
    "        max_recursive_depth=4,\n",
    "    )"
   ]
  },
  {
   "cell_type": "markdown",
   "metadata": {},
   "source": [
    "---"
   ]
  },
  {
   "cell_type": "markdown",
   "metadata": {},
   "source": [
    "what is reason action? in terms of AI? And why is it useful?\n",
    "\n",
    "In tutorial 105, we saw how to use a branch to do function calling. Function Calling is in essence, a type of structured output, and we can do these easier ourselves. \n",
    "\n",
    "Let's build our own reason action agent capable of planning using pydantic. A simple illustration of agentic research."
   ]
  },
  {
   "cell_type": "code",
   "execution_count": 7,
   "metadata": {},
   "outputs": [],
   "source": [
    "from lionfuncs import to_num\n",
    "from pydantic import BaseModel, Field\n",
    "\n",
    "\n",
    "class ReasonModel(BaseModel):\n",
    "    title: str = Field(\n",
    "        ...,\n",
    "        title=\"Title\",\n",
    "        description=\"The title of the reason.\",\n",
    "    )\n",
    "    content: str = Field(\n",
    "        ...,\n",
    "        title=\"Content\",\n",
    "        description=\"The content that supports or explains the reason.\",\n",
    "    )\n",
    "    rating: float = Field(\n",
    "        ...,\n",
    "        title=\"Rating\",\n",
    "        description=(\n",
    "            \"The critical objective self rating (1-10) of the reason in terms of correctness.\"\n",
    "            \" >8 means can continue the path of reasoning, \"\n",
    "            \"5-7 you need to recheck your reasoning and consider reversing to previously more confident reason path, \"\n",
    "            \"below 5 means you need to stop, must mark more_reason_needed as False, and flag failed as True\"\n",
    "        ),\n",
    "    )\n",
    "    more_reason_needed: bool = Field(\n",
    "        False,\n",
    "        description=(\n",
    "            \"A flag to indicate whether there are more reasons needed to solve the task.\"\n",
    "            \"if you are confident that you have enough reasons, set this to False. and stop the reasoning.\"\n",
    "            ),)\n",
    "    \n",
    "    def is_valid_reason(self):\n",
    "        try:\n",
    "            if to_num(self.rating) < 5:\n",
    "                return False\n",
    "            if self.content == \"\":\n",
    "                return False\n",
    "            if self.title == \"\":\n",
    "                return False\n",
    "            return True\n",
    "        except Exception:\n",
    "            return False"
   ]
  },
  {
   "cell_type": "markdown",
   "metadata": {},
   "source": [
    "let us try it out"
   ]
  },
  {
   "cell_type": "code",
   "execution_count": 8,
   "metadata": {},
   "outputs": [],
   "source": [
    "from lionagi import Branch, iModel\n",
    "\n",
    "system_prompt = \"\"\"\n",
    "you are an expert in python and coding, you are asked to provide guidance on how to use the lion-core library.\n",
    "you have access to the lion-core repository query engine, you can ask questions and get answers.\n",
    "\"\"\"\n",
    "\n",
    "instruction1 = \"\"\"\n",
    "From given context, reason the approach of querying the lion-core repository for information.\n",
    "\"\"\""
   ]
  },
  {
   "cell_type": "code",
   "execution_count": 10,
   "metadata": {},
   "outputs": [],
   "source": [
    "branch = Branch(\n",
    "    imodel=iModel(model=\"o1-preview\", temperature=1),\n",
    "    tools=query_lion_core,\n",
    ")\n",
    "\n",
    "response = await branch.chat(\n",
    "    instruction=system_prompt+instruction1,\n",
    "    pydantic_model=ReasonModel,\n",
    "    return_pydantic_model=True,\n",
    ")"
   ]
  },
  {
   "cell_type": "code",
   "execution_count": 11,
   "metadata": {},
   "outputs": [
    {
     "name": "stdout",
     "output_type": "stream",
     "text": [
      "{\n",
      "    \"title\": \"Approach to Querying the Lion-Core Repository for Information\",\n",
      "    \"content\": \"To provide guidance on using the lion-core library, I should utilize the lion-core repository query engine efficiently. This involves formulating specific questions about the library's features, usage patterns, and implementation details. By querying for documentation, code examples, and API references within the repository, I can gather accurate and detailed information. This approach ensures that the guidance I provide is based on the most current and relevant data available in the repository.\",\n",
      "    \"rating\": 9.0,\n",
      "    \"more_reason_needed\": false\n",
      "}\n"
     ]
    }
   ],
   "source": [
    "from lionfuncs import as_readable_json\n",
    "print(as_readable_json(response.model_dump()))"
   ]
  },
  {
   "cell_type": "code",
   "execution_count": 12,
   "metadata": {},
   "outputs": [],
   "source": [
    "class QueryModel(BaseModel):\n",
    "    function_name: str = Field(\n",
    "        ...,\n",
    "        title=\"Function Name\",\n",
    "        description=\"The name of the function to be called. Must pick from given options.\",\n",
    "    )\n",
    "    query: str = Field(\n",
    "        ...,\n",
    "        title=\"Query\",\n",
    "        description=\"A detailed precise query to be made to a query engine bot with natural language interface.\",\n",
    "    )\n",
    "\n",
    "\n",
    "class PlanModel(BaseModel):\n",
    "    title: str = Field(\n",
    "        ...,\n",
    "        title=\"Title\",\n",
    "        description=\"The title of the plan.\",\n",
    "    )\n",
    "    reasons: list[ReasonModel] = Field(\n",
    "        ...,\n",
    "        title=\"Reason\",\n",
    "        description=\"The reason for the plan.\",\n",
    "    )\n",
    "    content: str = Field(\n",
    "        ...,\n",
    "        title=\"Content\",\n",
    "        description=\"The detailed plan content\",\n",
    "    )\n",
    "    actions: list[QueryModel] = Field(\n",
    "        default_factory=list,\n",
    "        title=\"Actions\",\n",
    "        description=\"The actions to be taken., You must use action if you don't have information to provide evidence-backed information.\",\n",
    "    )\n"
   ]
  },
  {
   "cell_type": "code",
   "execution_count": 13,
   "metadata": {},
   "outputs": [
    {
     "name": "stdout",
     "output_type": "stream",
     "text": [
      "{\n",
      "    \"title\": \"Plan for Building an Agent Using lion-core\",\n",
      "    \"reasons\": [\n",
      "        {\n",
      "            \"title\": \"Understanding lion-core\",\n",
      "            \"content\": \"To effectively build an agent, it's crucial to understand what lion-core is and its core functionalities.\",\n",
      "            \"rating\": 5.0,\n",
      "            \"more_reason_needed\": false\n",
      "        },\n",
      "        {\n",
      "            \"title\": \"Setting Up the Development Environment\",\n",
      "            \"content\": \"Proper setup ensures all necessary tools and dependencies for lion-core are installed correctly.\",\n",
      "            \"rating\": 4.8,\n",
      "            \"more_reason_needed\": false\n",
      "        },\n",
      "        {\n",
      "            \"title\": \"Learning lion-core's Agent Architecture\",\n",
      "            \"content\": \"Understanding the architecture helps in designing the agent according to best practices.\",\n",
      "            \"rating\": 5.0,\n",
      "            \"more_reason_needed\": false\n",
      "        },\n",
      "        {\n",
      "            \"title\": \"Implementing Custom Agent Behavior\",\n",
      "            \"content\": \"Defining specific behaviors tailors the agent to meet project requirements.\",\n",
      "            \"rating\": 4.7,\n",
      "            \"more_reason_needed\": false\n",
      "        },\n",
      "        {\n",
      "            \"title\": \"Testing and Validation\",\n",
      "            \"content\": \"Testing ensures the agent operates as intended before deployment.\",\n",
      "            \"rating\": 4.5,\n",
      "            \"more_reason_needed\": false\n",
      "        },\n",
      "        {\n",
      "            \"title\": \"Deployment Strategies\",\n",
      "            \"content\": \"Understanding deployment options helps in efficiently launching the agent into production.\",\n",
      "            \"rating\": 4.6,\n",
      "            \"more_reason_needed\": false\n",
      "        }\n",
      "    ],\n",
      "    \"content\": \"This plan outlines a step-by-step approach to build an agent using lion-core. It starts with gaining a foundational understanding of lion-core, setting up the necessary development environment, and learning about the agent architecture. The plan then moves on to implementing custom behaviors, followed by thorough testing and validation. Finally, it covers strategies for deploying the agent into a production environment.\",\n",
      "    \"actions\": [\n",
      "        {\n",
      "            \"function_name\": \"query_lion_core\",\n",
      "            \"query\": \"What is lion-core and what are its main functionalities?\"\n",
      "        },\n",
      "        {\n",
      "            \"function_name\": \"query_lion_core\",\n",
      "            \"query\": \"How do I install lion-core and what are its prerequisites?\"\n",
      "        },\n",
      "        {\n",
      "            \"function_name\": \"query_lion_core\",\n",
      "            \"query\": \"Where can I find documentation or tutorials on lion-core's agent architecture?\"\n",
      "        },\n",
      "        {\n",
      "            \"function_name\": \"query_lion_core\",\n",
      "            \"query\": \"How do I create a basic agent using lion-core?\"\n",
      "        },\n",
      "        {\n",
      "            \"function_name\": \"query_lion_core\",\n",
      "            \"query\": \"How can I define and implement custom behaviors for an agent in lion-core?\"\n",
      "        },\n",
      "        {\n",
      "            \"function_name\": \"query_lion_core\",\n",
      "            \"query\": \"What are the best practices for testing an agent built with lion-core?\"\n",
      "        },\n",
      "        {\n",
      "            \"function_name\": \"query_lion_core\",\n",
      "            \"query\": \"How do I deploy an agent built with lion-core to a production environment?\"\n",
      "        },\n",
      "        {\n",
      "            \"function_name\": \"query_lion_core\",\n",
      "            \"query\": \"What deployment strategies are recommended for lion-core agents?\"\n",
      "        }\n",
      "    ]\n",
      "}\n"
     ]
    }
   ],
   "source": [
    "from lionfuncs import function_to_schema\n",
    "\n",
    "instruction = \"\"\"\n",
    "perform agentic RAG, prepare step by query plan, you should provide 5-10 questions to ask our query engine,\n",
    "the questions should be logically sequenced and should help in reasoning the approach to build an agent using lion-core.\n",
    "\"\"\"\n",
    "\n",
    "response = await branch.chat(\n",
    "    instruction=instruction,\n",
    "    context={\n",
    "        \"tool_schema\": function_to_schema(query_lion_core), \n",
    "        \"task\": \"build an agent using lion-core.\"\n",
    "    },\n",
    "    pydantic_model=PlanModel,\n",
    "    return_pydantic_model=True,\n",
    "    clear_messages=True,\n",
    ")\n",
    "\n",
    "print(as_readable_json(response.model_dump()))"
   ]
  },
  {
   "cell_type": "code",
   "execution_count": 14,
   "metadata": {},
   "outputs": [
    {
     "data": {
      "text/plain": [
       "[QueryModel(function_name='query_lion_core', query='What is lion-core and what are its main functionalities?'),\n",
       " QueryModel(function_name='query_lion_core', query='How do I install lion-core and what are its prerequisites?'),\n",
       " QueryModel(function_name='query_lion_core', query=\"Where can I find documentation or tutorials on lion-core's agent architecture?\"),\n",
       " QueryModel(function_name='query_lion_core', query='How do I create a basic agent using lion-core?'),\n",
       " QueryModel(function_name='query_lion_core', query='How can I define and implement custom behaviors for an agent in lion-core?'),\n",
       " QueryModel(function_name='query_lion_core', query='What are the best practices for testing an agent built with lion-core?'),\n",
       " QueryModel(function_name='query_lion_core', query='How do I deploy an agent built with lion-core to a production environment?'),\n",
       " QueryModel(function_name='query_lion_core', query='What deployment strategies are recommended for lion-core agents?')]"
      ]
     },
     "execution_count": 14,
     "metadata": {},
     "output_type": "execute_result"
    }
   ],
   "source": [
    "response.actions"
   ]
  },
  {
   "cell_type": "code",
   "execution_count": 18,
   "metadata": {},
   "outputs": [
    {
     "data": {
      "text/markdown": [
       "Query No. 0: What is lion-core and what are its main functionalities? \n",
       " --- \n"
      ],
      "text/plain": [
       "<IPython.core.display.Markdown object>"
      ]
     },
     "metadata": {},
     "output_type": "display_data"
    },
    {
     "data": {
      "text/markdown": [
       "Lion-Core is an extraction and refinement of core components from the larger lionagi project, designed to facilitate the development of complex AI and machine learning applications. Its main functionalities are organized into several key components:\n",
       "\n",
       "1. **Core Components**: Fundamental building blocks for application development, including elements and nodes that can be extended for various purposes.\n",
       "\n",
       "2. **Data Structures**: Provides essential data management tools such as piles, progressions, and flows to handle data efficiently.\n",
       "\n",
       "3. **Communication**: Includes systems for messaging and mail management, enabling effective communication within applications.\n",
       "\n",
       "4. **Utility Systems**: Offers various utility functions, including converters, form validation, and rule systems to support application logic.\n",
       "\n",
       "5. **AI and ML Tools**: Contains tools for action management and session handling, specifically tailored for AI and machine learning tasks.\n",
       "\n",
       "These components can be utilized independently or in combination, allowing for modular and scalable application development.\n",
       "\n",
       " --- \n",
       "\n"
      ],
      "text/plain": [
       "<IPython.core.display.Markdown object>"
      ]
     },
     "metadata": {},
     "output_type": "display_data"
    },
    {
     "data": {
      "text/markdown": [
       "Query No. 1: How do I install lion-core and what are its prerequisites? \n",
       " --- \n"
      ],
      "text/plain": [
       "<IPython.core.display.Markdown object>"
      ]
     },
     "metadata": {},
     "output_type": "display_data"
    },
    {
     "data": {
      "text/markdown": [
       "To install lion-core, you can choose between two options:\n",
       "\n",
       "1. For the latest stable version, use the following command:\n",
       "   ```bash\n",
       "   pip install lion-core\n",
       "   ```\n",
       "\n",
       "2. For the latest development version, use:\n",
       "   ```bash\n",
       "   pip install git+https://github.com/lion-agi/lion-core.git\n",
       "   ```\n",
       "\n",
       "As for prerequisites, it is recommended to set up a virtual environment before installing dependencies. This can be done using the following commands:\n",
       "```bash\n",
       "python -m venv venv\n",
       "source venv/bin/activate  # On Windows use `venv\\Scripts\\activate`\n",
       "```\n",
       "\n",
       "After activating the virtual environment, you can install the necessary dependencies for development.\n",
       "\n",
       " --- \n",
       "\n"
      ],
      "text/plain": [
       "<IPython.core.display.Markdown object>"
      ]
     },
     "metadata": {},
     "output_type": "display_data"
    },
    {
     "data": {
      "text/markdown": [
       "Query No. 2: Where can I find documentation or tutorials on lion-core's agent architecture? \n",
       " --- \n"
      ],
      "text/plain": [
       "<IPython.core.display.Markdown object>"
      ]
     },
     "metadata": {},
     "output_type": "display_data"
    },
    {
     "data": {
      "text/markdown": [
       "Documentation and tutorials on Lion-Core's architecture can be found in the reference documentation, which includes comprehensive API documentation and explanations of key concepts. Additionally, examples and tutorials are planned to be available in the `examples/` directory, although they are not yet released.\n",
       "\n",
       " --- \n",
       "\n"
      ],
      "text/plain": [
       "<IPython.core.display.Markdown object>"
      ]
     },
     "metadata": {},
     "output_type": "display_data"
    },
    {
     "data": {
      "text/markdown": [
       "Query No. 3: How do I create a basic agent using lion-core? \n",
       " --- \n"
      ],
      "text/plain": [
       "<IPython.core.display.Markdown object>"
      ]
     },
     "metadata": {},
     "output_type": "display_data"
    },
    {
     "data": {
      "text/markdown": [
       "To create a basic agent using Lion-Core, you would typically start by importing the necessary components from the library. You can utilize the `LogManager` for logging events and configure any required settings using the constants defined in the module. \n",
       "\n",
       "Here’s a general outline of steps you might follow:\n",
       "\n",
       "1. **Import the necessary modules** from Lion-Core.\n",
       "2. **Initialize the LogManager** to handle event logging.\n",
       "3. **Set up any configurations** using the provided constants like `BASE_LION_FIELDS` and `DEFAULT_LION_ID_CONFIG`.\n",
       "4. **Implement the agent's functionality** by defining its behavior and how it interacts with the environment.\n",
       "\n",
       "Make sure to refer to the documentation or community resources for specific examples and detailed guidance on implementing the agent's logic.\n",
       "\n",
       " --- \n",
       "\n"
      ],
      "text/plain": [
       "<IPython.core.display.Markdown object>"
      ]
     },
     "metadata": {},
     "output_type": "display_data"
    },
    {
     "data": {
      "text/markdown": [
       "Query No. 4: How can I define and implement custom behaviors for an agent in lion-core? \n",
       " --- \n"
      ],
      "text/plain": [
       "<IPython.core.display.Markdown object>"
      ]
     },
     "metadata": {},
     "output_type": "display_data"
    },
    {
     "data": {
      "text/markdown": [
       "To define and implement custom behaviors for an agent in the Lion framework, you would typically utilize the Action System. This framework allows you to create and execute AI actions tailored to your specific needs. You can define custom actions by creating ActionRequests, which the ActionExecutor processes. Additionally, you can manage conversational contexts and multi-turn interactions through the Session Management tools, ensuring that your agent can handle complex dialogues effectively. For detailed implementation, you may refer to the ActionExecutor API documentation for guidance on creating and managing actions.\n",
       "\n",
       " --- \n",
       "\n"
      ],
      "text/plain": [
       "<IPython.core.display.Markdown object>"
      ]
     },
     "metadata": {},
     "output_type": "display_data"
    },
    {
     "data": {
      "text/markdown": [
       "Query No. 5: What are the best practices for testing an agent built with lion-core? \n",
       " --- \n"
      ],
      "text/plain": [
       "<IPython.core.display.Markdown object>"
      ]
     },
     "metadata": {},
     "output_type": "display_data"
    },
    {
     "data": {
      "text/markdown": [
       "The provided information does not include specific best practices for testing an agent built with Lion-Core. It focuses on community engagement, development goals, and the roadmap for enhancing the library. For best practices, it would be advisable to refer to the official documentation or community discussions related to Lion-Core.\n",
       "\n",
       " --- \n",
       "\n"
      ],
      "text/plain": [
       "<IPython.core.display.Markdown object>"
      ]
     },
     "metadata": {},
     "output_type": "display_data"
    },
    {
     "data": {
      "text/markdown": [
       "Query No. 6: How do I deploy an agent built with lion-core to a production environment? \n",
       " --- \n"
      ],
      "text/plain": [
       "<IPython.core.display.Markdown object>"
      ]
     },
     "metadata": {},
     "output_type": "display_data"
    },
    {
     "data": {
      "text/markdown": [
       "The provided information does not include specific instructions on deploying an agent built with lion-core to a production environment. For deployment guidance, it may be helpful to consult the project's documentation or community resources, such as GitHub Issues or the Discord server, where you can seek support and share experiences with other developers.\n",
       "\n",
       " --- \n",
       "\n"
      ],
      "text/plain": [
       "<IPython.core.display.Markdown object>"
      ]
     },
     "metadata": {},
     "output_type": "display_data"
    },
    {
     "data": {
      "text/markdown": [
       "Query No. 7: What deployment strategies are recommended for lion-core agents? \n",
       " --- \n"
      ],
      "text/plain": [
       "<IPython.core.display.Markdown object>"
      ]
     },
     "metadata": {},
     "output_type": "display_data"
    },
    {
     "data": {
      "text/markdown": [
       "The provided information does not include any details about deployment strategies for lion-core agents.\n",
       "\n",
       " --- \n",
       "\n"
      ],
      "text/plain": [
       "<IPython.core.display.Markdown object>"
      ]
     },
     "metadata": {},
     "output_type": "display_data"
    }
   ],
   "source": [
    "for idx, item in enumerate(response.actions):\n",
    "    printmd(f\"Query No. {idx}: {item.query} \\n --- \\n\")\n",
    "    query_response = (await query_lion_core(item.query))[\"response\"]\n",
    "    printmd(query_response + \"\\n\\n --- \\n\\n\")"
   ]
  }
 ],
 "metadata": {
  "kernelspec": {
   "display_name": ".venv",
   "language": "python",
   "name": "python3"
  },
  "language_info": {
   "codemirror_mode": {
    "name": "ipython",
    "version": 3
   },
   "file_extension": ".py",
   "mimetype": "text/x-python",
   "name": "python",
   "nbconvert_exporter": "python",
   "pygments_lexer": "ipython3",
   "version": "3.12.6"
  }
 },
 "nbformat": 4,
 "nbformat_minor": 2
}
