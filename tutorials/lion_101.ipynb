{
 "cells": [
  {
   "cell_type": "markdown",
   "metadata": {},
   "source": [
    "## LionAGI - 101\n",
    "\n"
   ]
  },
  {
   "cell_type": "code",
   "execution_count": 1,
   "metadata": {},
   "outputs": [],
   "source": [
    "from lionagi import Branch, iModel"
   ]
  },
  {
   "cell_type": "code",
   "execution_count": 2,
   "metadata": {},
   "outputs": [],
   "source": [
    "imodel = iModel(\n",
    "    provider=\"openai\",\n",
    "    model=\"gpt-4o-mini\",\n",
    "    api_key_schema=\"OPENAI_API_KEY\",\n",
    ")"
   ]
  },
  {
   "cell_type": "code",
   "execution_count": 3,
   "metadata": {},
   "outputs": [],
   "source": [
    "# we set up a Branch with the Intelligent Model\n",
    "# a branch is an orchestrator that manages the interaction of the system with the Intelligent Model\n",
    "comedian = Branch(\n",
    "    system=\"a respected zoo keeper, also a comedian who knows very well about indian post modern literature\",\n",
    "    imodel=imodel,\n",
    ")"
   ]
  },
  {
   "cell_type": "code",
   "execution_count": 4,
   "metadata": {},
   "outputs": [],
   "source": [
    "prompt1 = \"Tell me a 20 word story: depict karma from past thousand years to future thousand years\""
   ]
  },
  {
   "cell_type": "code",
   "execution_count": 5,
   "metadata": {},
   "outputs": [
    {
     "name": "stdout",
     "output_type": "stream",
     "text": [
      "In ancient times, a selfish king hoarded wealth; centuries later, his descendants faced poverty, learning that karma transcends time.\n"
     ]
    }
   ],
   "source": [
    "response = await comedian.chat(instruction=prompt1)\n",
    "print(response)"
   ]
  },
  {
   "cell_type": "markdown",
   "metadata": {},
   "source": [
    "the quality of the joke is up for debate, therefore why don't we invite a few more LLMs to join the conversation?"
   ]
  },
  {
   "cell_type": "code",
   "execution_count": 6,
   "metadata": {},
   "outputs": [],
   "source": [
    "# let's introduce a different model to be critic of the joke\n",
    "imodel1 = iModel(\n",
    "    provider=\"openai\",\n",
    "    model=\"gpt-4o\",\n",
    "    temperature=0.2,\n",
    "    api_key_schema=\"OPENAI_API_KEY\",\n",
    ")\n",
    "\n",
    "\n",
    "critic = Branch(\n",
    "    system=\"As a young professor, you want to get into a prestigous criticism club.\",\n",
    "    imodel=imodel,\n",
    ")"
   ]
  },
  {
   "cell_type": "code",
   "execution_count": 7,
   "metadata": {},
   "outputs": [
    {
     "name": "stdout",
     "output_type": "stream",
     "text": [
      "This story attempts to encapsulate the concept of karma across millennia but falls short in depth and nuance. The narrative feels rushed and lacks emotional resonance, reducing complex themes to a simplistic moral lesson. The idea of karma is intriguing, yet the execution is superficial, leaving little for the reader to ponder. Overall, it feels more like a fable than a profound exploration of its themes. \n",
      "\n",
      "Rating: 4.0/10.0\n"
     ]
    }
   ],
   "source": [
    "# now we need to give the critic the information about the joke\n",
    "# and ask it to judge it\n",
    "\n",
    "context = {\"propmt\": prompt1, \"response\": response}\n",
    "\n",
    "critic_response1 = await critic.chat(\n",
    "    instruction=\"Harsh brief commentary on the story, also rate (1.0-10.0): \",\n",
    "    context=context,\n",
    ")\n",
    "print(critic_response1)"
   ]
  },
  {
   "cell_type": "markdown",
   "metadata": {},
   "source": [
    "now, let us turn our attention back to comedian"
   ]
  },
  {
   "cell_type": "code",
   "execution_count": 8,
   "metadata": {},
   "outputs": [
    {
     "name": "stdout",
     "output_type": "stream",
     "text": [
      "Thank you for the feedback! I appreciate the insights and will strive for more depth and emotional resonance in future stories. Here’s another attempt:\n",
      "\n",
      "---\n",
      "\n",
      "A greedy merchant's betrayal echoed through generations; centuries later, his lineage faced ruin, realizing kindness sows seeds of redemption. \n",
      "\n",
      "---\n",
      "\n",
      "How does this one resonate with you?\n"
     ]
    }
   ],
   "source": [
    "comedian_response2 = await comedian.chat(\n",
    "    instruction=\"Story was evaluated, here is comments.\",\n",
    "    context=critic_response1,\n",
    ")\n",
    "print(comedian_response2)"
   ]
  },
  {
   "cell_type": "code",
   "execution_count": 9,
   "metadata": {},
   "outputs": [
    {
     "name": "stdout",
     "output_type": "stream",
     "text": [
      "This attempt shows a marked improvement in thematic depth and emotional resonance. The narrative effectively conveys the cyclical nature of karma through the lens of a greedy merchant and his descendants. The idea that kindness can lead to redemption adds a layer of complexity that invites reflection. However, the brevity still limits the potential for a more immersive experience. While the moral is clear, the story could benefit from more vivid imagery or character development to enhance its impact. \n",
      "\n",
      "Overall, this piece is more engaging than the previous one, but it still has room for growth.\n",
      "\n",
      "Rating: 6.5/10.0\n"
     ]
    }
   ],
   "source": [
    "critic_response2 = await critic.chat(\n",
    "    instruction=\"Stay true to yourself, What do you think this time?\",\n",
    "    context=comedian_response2,\n",
    ")\n",
    "print(critic_response2)"
   ]
  },
  {
   "cell_type": "code",
   "execution_count": 10,
   "metadata": {},
   "outputs": [
    {
     "name": "stdout",
     "output_type": "stream",
     "text": [
      "A tyrant's cruelty echoed through ages; a millennium later, his descendants faced justice, learning that actions shape destinies across time.\n"
     ]
    }
   ],
   "source": [
    "critic_response3 = await critic.chat(\n",
    "    instruction=\"write the \"\n",
    "    + prompt1\n",
    "    + \" in your own words, how would you do it?\",\n",
    ")\n",
    "print(critic_response3)"
   ]
  },
  {
   "cell_type": "code",
   "execution_count": 11,
   "metadata": {},
   "outputs": [
    {
     "name": "stdout",
     "output_type": "stream",
     "text": [
      "I appreciate the evaluation and the constructive criticism! It’s encouraging to see that the second attempt resonated more, even if it still has room for improvement. The critic's version effectively captures the essence of karma with a strong sense of consequence and justice, which adds a compelling layer to the narrative.\n",
      "\n",
      "Both stories have their strengths and weaknesses. My version emphasizes kindness and redemption, while the critic's version focuses on the inevitability of justice, which is equally powerful. I agree that both could benefit from more vivid imagery and character development to create a more immersive experience.\n",
      "\n",
      "Overall, I see the value in both approaches and will take these insights to heart for future storytelling. Thank you for sharing the feedback!\n"
     ]
    }
   ],
   "source": [
    "context = {\"comments\": critic_response2, \"critic_attempt\": critic_response3}\n",
    "\n",
    "comedian_response3 = await comedian.chat(\n",
    "    instruction=(\n",
    "        \"Story got evaluated again, and the evaluator wrote their own\"\n",
    "        \" version basing on the original prompt. What do you think of both\"\n",
    "        \" of these? Be honest.\"\n",
    "    ),\n",
    "    context=context,\n",
    ")\n",
    "print(comedian_response3)"
   ]
  }
 ],
 "metadata": {
  "kernelspec": {
   "display_name": "Python 3",
   "language": "python",
   "name": "python3"
  },
  "language_info": {
   "codemirror_mode": {
    "name": "ipython",
    "version": 3
   },
   "file_extension": ".py",
   "mimetype": "text/x-python",
   "name": "python",
   "nbconvert_exporter": "python",
   "pygments_lexer": "ipython3",
   "version": "3.12.4"
  }
 },
 "nbformat": 4,
 "nbformat_minor": 2
}
