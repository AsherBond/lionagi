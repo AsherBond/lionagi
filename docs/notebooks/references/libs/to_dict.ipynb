{
 "cells": [
  {
   "cell_type": "markdown",
   "metadata": {},
   "source": [
    "# to_dict Function Documentation\n",
    "\n",
    "The [to_dict](cci:1://file:///Users/lion/untitled%20folder/lion-os/tests/test_libs_data_handlers/test_to_dict.py:17:4-18:31) function is a versatile utility that converts various Python objects into dictionary format. It supports a wide range of input types and provides flexible configuration options for handling different scenarios.\n",
    "\n",
    "## Key Features\n",
    "\n",
    "- **Type Flexibility**: Handles various Python types including None, strings (JSON/XML), custom models, enums, and more\n",
    "- **Recursive Conversion**: Optional deep conversion of nested objects\n",
    "- **Custom Parser Support**: Allows custom parsing logic for special cases\n",
    "- **Error Handling**: Built-in error suppression option\n",
    "- **Model Integration**: Special handling for Pydantic and custom model classes\n",
    "\n",
    "## Function Signature\n",
    "\n",
    "```python\n",
    "def to_dict(\n",
    "    input_: Any,\n",
    "    use_model_dump: bool = True,\n",
    "    fuzzy_parse: bool = False,\n",
    "    suppress: bool = False,\n",
    "    str_type: Literal[\"json\", \"xml\"] | None = \"json\",\n",
    "    parser: Callable[[str], Any] | None = None,\n",
    "    recursive: bool = False,\n",
    "    max_recursive_depth: int = None,\n",
    "    recursive_python_only: bool = True,\n",
    "    use_enum_values: bool = False,\n",
    "    **kwargs: Any,\n",
    ") -> dict"
   ]
  },
  {
   "cell_type": "code",
   "execution_count": 1,
   "metadata": {},
   "outputs": [],
   "source": [
    "from lion.libs.parse import to_dict"
   ]
  },
  {
   "cell_type": "markdown",
   "metadata": {},
   "source": [
    "## Type-Specific Behavior\n",
    "\n",
    "The function handles different types with specialized logic:"
   ]
  },
  {
   "cell_type": "markdown",
   "metadata": {},
   "source": [
    "### 1. NoneType"
   ]
  },
  {
   "cell_type": "code",
   "execution_count": 2,
   "metadata": {},
   "outputs": [
    {
     "name": "stdout",
     "output_type": "stream",
     "text": [
      "{}\n",
      "{}\n",
      "{}\n"
     ]
    }
   ],
   "source": [
    "from pydantic_core import PydanticUndefined\n",
    "from lion.utils import UNDEFINED\n",
    "\n",
    "print(to_dict(None))\n",
    "print(to_dict(PydanticUndefined))\n",
    "print(to_dict(UNDEFINED))"
   ]
  },
  {
   "cell_type": "markdown",
   "metadata": {},
   "source": [
    "### String Handling\n",
    "\n",
    "The function can parse both JSON and XML strings:\n",
    "- **JSON Mode**: Default parser that handles both well-formed and malformed JSON (with fuzzy parsing)\n",
    "- **XML Mode**: Converts XML strings to dictionary format with optional root tag removal"
   ]
  },
  {
   "cell_type": "markdown",
   "metadata": {},
   "source": [
    "### 2. String"
   ]
  },
  {
   "cell_type": "code",
   "execution_count": 3,
   "metadata": {},
   "outputs": [
    {
     "data": {
      "text/plain": [
       "{'a': 1, 'b': 2, 'c': 3}"
      ]
     },
     "execution_count": 3,
     "metadata": {},
     "output_type": "execute_result"
    }
   ],
   "source": [
    "# proper json\n",
    "\n",
    "json_str = '{\"a\": 1, \"b\": 2, \"c\": 3}'\n",
    "to_dict(json_str)"
   ]
  },
  {
   "cell_type": "code",
   "execution_count": 4,
   "metadata": {},
   "outputs": [
    {
     "data": {
      "text/plain": [
       "{'name': 'lion', 'age': 3}"
      ]
     },
     "execution_count": 4,
     "metadata": {},
     "output_type": "execute_result"
    }
   ],
   "source": [
    "# partial json\n",
    "\n",
    "json_str1 = '{\"name\": \"lion\", \"age\": 3'\n",
    "to_dict(json_str1, fuzzy_parse=True)"
   ]
  },
  {
   "cell_type": "code",
   "execution_count": 5,
   "metadata": {},
   "outputs": [
    {
     "name": "stdout",
     "output_type": "stream",
     "text": [
      "{'a': {'b': '1', 'c': '2'}}\n"
     ]
    }
   ],
   "source": [
    "# proper xml\n",
    "\n",
    "xml_str = \"<a><b>1</b><c>2</c></a>\"\n",
    "print(to_dict(xml_str, str_type=\"xml\"))"
   ]
  },
  {
   "cell_type": "code",
   "execution_count": 6,
   "metadata": {},
   "outputs": [
    {
     "name": "stdout",
     "output_type": "stream",
     "text": [
      "{'a': {'b': '1', 'c': '2'}}\n"
     ]
    }
   ],
   "source": [
    "# remvoe xml root tag\n",
    "\n",
    "print(to_dict(xml_str, str_type=\"xml\"))"
   ]
  },
  {
   "cell_type": "markdown",
   "metadata": {},
   "source": [
    "### Model Conversion\n",
    "\n",
    "For custom model classes, the function attempts to use built-in serialization methods in the following order:\n",
    "1. model_dump()\n",
    "2. to_dict()\n",
    "3. `to_json()`\n",
    "4. dict()\n",
    "5. json()\n",
    "\n",
    "The `use_model_dump` parameter controls whether to prioritize using model_dump() or fall back to other methods."
   ]
  },
  {
   "cell_type": "markdown",
   "metadata": {},
   "source": [
    "### 3. Custom Models\n",
    "\n",
    "we check for the following methods:\n",
    "- `model_dump`\n",
    "- `to_dict`\n",
    "- `to_json`\n",
    "- `dict`\n",
    "- `json`"
   ]
  },
  {
   "cell_type": "code",
   "execution_count": 7,
   "metadata": {},
   "outputs": [],
   "source": [
    "from lion.protocols.component import Component\n",
    "\n",
    "a = Component()"
   ]
  },
  {
   "cell_type": "code",
   "execution_count": 8,
   "metadata": {},
   "outputs": [
    {
     "name": "stdout",
     "output_type": "stream",
     "text": [
      "dict_keys(['id', 'created_timestamp', 'metadata', 'embedding'])\n"
     ]
    }
   ],
   "source": [
    "# default is model_dump method\n",
    "\n",
    "print(to_dict(a).keys())"
   ]
  },
  {
   "cell_type": "code",
   "execution_count": 9,
   "metadata": {},
   "outputs": [
    {
     "name": "stdout",
     "output_type": "stream",
     "text": [
      "dict_keys(['id', 'created_timestamp', 'metadata', 'embedding', 'lion_class'])\n"
     ]
    }
   ],
   "source": [
    "# using the model's custom methods instead of model_dump\n",
    "\n",
    "print(to_dict(a, use_model_dump=False).keys())"
   ]
  },
  {
   "cell_type": "markdown",
   "metadata": {},
   "source": [
    "### Recursive Conversion\n",
    "\n",
    "The recursive mode allows deep conversion of nested objects:\n",
    "- Controls depth with `max_recursive_depth` (default: 5, max: 10)\n",
    "- Option to only convert Python built-in types (`recursive_python_only=True`)\n",
    "- Handles circular references and complex object hierarchies"
   ]
  },
  {
   "cell_type": "markdown",
   "metadata": {},
   "source": [
    "### 4. Recursive to_dict"
   ]
  },
  {
   "cell_type": "code",
   "execution_count": 10,
   "metadata": {},
   "outputs": [],
   "source": [
    "from pydantic import BaseModel\n",
    "\n",
    "\n",
    "class NestedModel(BaseModel):\n",
    "    a: Component\n",
    "    b: Component\n",
    "\n",
    "\n",
    "nested = {\"a\": NestedModel(a=Component(), b=Component())}"
   ]
  },
  {
   "cell_type": "code",
   "execution_count": 11,
   "metadata": {},
   "outputs": [
    {
     "data": {
      "text/plain": [
       "{'a': NestedModel(a=Component(id=IDType('9ba8c7966d722e0cfd0c64fc230b3814'), created_timestamp=1734042137.588441, metadata={}, embedding=[]), b=Component(id=IDType('f7acac98689653fbb1fd93dd36b573bf'), created_timestamp=1734042137.58849, metadata={}, embedding=[]))}"
      ]
     },
     "execution_count": 11,
     "metadata": {},
     "output_type": "execute_result"
    }
   ],
   "source": [
    "to_dict(nested)"
   ]
  },
  {
   "cell_type": "code",
   "execution_count": 12,
   "metadata": {},
   "outputs": [
    {
     "data": {
      "text/plain": [
       "{'a': {'a': {'id': '9ba8c7966d722e0cfd0c64fc230b3814',\n",
       "   'created_timestamp': 1734042137.588441,\n",
       "   'metadata': {},\n",
       "   'embedding': []},\n",
       "  'b': {'id': 'f7acac98689653fbb1fd93dd36b573bf',\n",
       "   'created_timestamp': 1734042137.58849,\n",
       "   'metadata': {},\n",
       "   'embedding': []}}}"
      ]
     },
     "execution_count": 12,
     "metadata": {},
     "output_type": "execute_result"
    }
   ],
   "source": [
    "to_dict(nested, recursive=True, recursive_python_only=False)"
   ]
  },
  {
   "cell_type": "markdown",
   "metadata": {},
   "source": [
    "### Enum Handling\n",
    "\n",
    "Special handling for Python's Enum types:\n",
    "- Can preserve enum members as enum objects or convert to their values\n",
    "- Handles nested enums with recursive conversion\n",
    "- Supports None and UNDEFINED as valid enum values"
   ]
  },
  {
   "cell_type": "markdown",
   "metadata": {},
   "source": [
    "### 5. Enum"
   ]
  },
  {
   "cell_type": "code",
   "execution_count": 13,
   "metadata": {},
   "outputs": [
    {
     "data": {
      "text/plain": [
       "{'RED': <Color.RED: 1>,\n",
       " 'GREEN': <Color.GREEN: 2>,\n",
       " 'BLUE': <Color.BLUE: 3>,\n",
       " 'ORANGE': <Color.BLUE: 3>,\n",
       " 'PURPLE': <Color.PURPLE: None>,\n",
       " 'YELLOW': <Color.YELLOW: UNDEFINED>}"
      ]
     },
     "execution_count": 13,
     "metadata": {},
     "output_type": "execute_result"
    }
   ],
   "source": [
    "from enum import Enum\n",
    "from lion.utils import UNDEFINED\n",
    "\n",
    "\n",
    "class Color(Enum):\n",
    "    RED = 1\n",
    "    GREEN = 2\n",
    "    BLUE = 3\n",
    "    ORANGE = 3\n",
    "    PURPLE = None\n",
    "    YELLOW = UNDEFINED\n",
    "\n",
    "\n",
    "to_dict(Color)"
   ]
  },
  {
   "cell_type": "code",
   "execution_count": 14,
   "metadata": {},
   "outputs": [
    {
     "data": {
      "text/plain": [
       "{'RED': 1,\n",
       " 'GREEN': 2,\n",
       " 'BLUE': 3,\n",
       " 'ORANGE': 3,\n",
       " 'PURPLE': None,\n",
       " 'YELLOW': UNDEFINED}"
      ]
     },
     "execution_count": 14,
     "metadata": {},
     "output_type": "execute_result"
    }
   ],
   "source": [
    "# use enum values instead of names\n",
    "\n",
    "to_dict(Color, use_enum_values=True)"
   ]
  },
  {
   "cell_type": "code",
   "execution_count": 15,
   "metadata": {},
   "outputs": [
    {
     "data": {
      "text/plain": [
       "{'DARK': <BrightColor.DARK: <enum 'Color'>>,\n",
       " 'BRIGHT': <BrightColor.DARK: <enum 'Color'>>}"
      ]
     },
     "execution_count": 15,
     "metadata": {},
     "output_type": "execute_result"
    }
   ],
   "source": [
    "class BrightColor(Enum):\n",
    "    DARK = Color\n",
    "    BRIGHT = Color\n",
    "\n",
    "\n",
    "to_dict(BrightColor)"
   ]
  },
  {
   "cell_type": "code",
   "execution_count": 16,
   "metadata": {},
   "outputs": [
    {
     "data": {
      "text/plain": [
       "{'DARK': <enum 'Color'>, 'BRIGHT': <enum 'Color'>}"
      ]
     },
     "execution_count": 16,
     "metadata": {},
     "output_type": "execute_result"
    }
   ],
   "source": [
    "to_dict(BrightColor, use_enum_values=True)"
   ]
  },
  {
   "cell_type": "code",
   "execution_count": 17,
   "metadata": {},
   "outputs": [
    {
     "data": {
      "text/plain": [
       "{'DARK': {'RED': 1,\n",
       "  'GREEN': 2,\n",
       "  'BLUE': 3,\n",
       "  'ORANGE': 3,\n",
       "  'PURPLE': None,\n",
       "  'YELLOW': UNDEFINED},\n",
       " 'BRIGHT': {'RED': 1,\n",
       "  'GREEN': 2,\n",
       "  'BLUE': 3,\n",
       "  'ORANGE': 3,\n",
       "  'PURPLE': None,\n",
       "  'YELLOW': UNDEFINED}}"
      ]
     },
     "execution_count": 17,
     "metadata": {},
     "output_type": "execute_result"
    }
   ],
   "source": [
    "# recursive enum values\n",
    "\n",
    "to_dict(\n",
    "    BrightColor,\n",
    "    recursive=True,\n",
    "    use_enum_values=True,\n",
    ")"
   ]
  },
  {
   "cell_type": "markdown",
   "metadata": {},
   "source": [
    "### Other Types\n",
    "\n",
    "The function provides consistent handling for various Python collections:\n",
    "- **Sets**: Converted to dictionaries with elements as both keys and values\n",
    "- **Iterables**: Converted to dictionaries with index-based keys\n",
    "- **Mappings**: Preserved as-is with potential recursive conversion of values"
   ]
  },
  {
   "cell_type": "markdown",
   "metadata": {},
   "source": [
    "### 6. Others"
   ]
  },
  {
   "cell_type": "code",
   "execution_count": 18,
   "metadata": {},
   "outputs": [
    {
     "data": {
      "text/plain": [
       "{'a': 'a', 1: 1, 5: 5, 'c': 'c'}"
      ]
     },
     "execution_count": 18,
     "metadata": {},
     "output_type": "execute_result"
    }
   ],
   "source": [
    "# set (key and value are the same)\n",
    "\n",
    "from lion.libs.parse import to_dict\n",
    "\n",
    "\n",
    "a = {1, \"a\", \"c\", 5}\n",
    "to_dict(a)"
   ]
  },
  {
   "cell_type": "code",
   "execution_count": 19,
   "metadata": {},
   "outputs": [
    {
     "data": {
      "text/plain": [
       "{0: 1, 1: 'a', 2: 'c', 3: 5}"
      ]
     },
     "execution_count": 19,
     "metadata": {},
     "output_type": "execute_result"
    }
   ],
   "source": [
    "# Iterable (keys are numbers starting from 0)\n",
    "\n",
    "a = [1, \"a\", \"c\", 5]\n",
    "to_dict(a)"
   ]
  }
 ],
 "metadata": {
  "kernelspec": {
   "display_name": ".venv",
   "language": "python",
   "name": "python3"
  },
  "language_info": {
   "codemirror_mode": {
    "name": "ipython",
    "version": 3
   },
   "file_extension": ".py",
   "mimetype": "text/x-python",
   "name": "python",
   "nbconvert_exporter": "python",
   "pygments_lexer": "ipython3",
   "version": "3.12.7"
  }
 },
 "nbformat": 4,
 "nbformat_minor": 2
}
