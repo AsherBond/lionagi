{
 "cells": [
  {
   "cell_type": "code",
   "execution_count": 1,
   "metadata": {},
   "outputs": [],
   "source": [
    "from lionagi.libs.parse import to_list"
   ]
  },
  {
   "cell_type": "markdown",
   "metadata": {},
   "source": [
    "\n",
    "```python\n",
    "\n",
    "def to_list(\n",
    "    input_: Any,\n",
    "    /,\n",
    "    *,\n",
    "    flatten: bool = False,\n",
    "    dropna: bool = False,\n",
    "    unique: bool = False,\n",
    "    use_values: bool = False,\n",
    ") -> list:\n",
    "    \"\"\"Convert various input types to a list.\n",
    "\n",
    "    Handles different input types and converts them to a list, with options\n",
    "    for flattening nested structures and removing None values.\n",
    "\n",
    "    Args:\n",
    "        input_: The input to be converted to a list.\n",
    "        flatten: If True, flattens nested list structures.\n",
    "        dropna: If True, removes None values from the result.\n",
    "        unique: If True, returns only unique values (requires flatten=True).\n",
    "        use_values: If True, uses .values() for dict-like inputs.\n",
    "\n",
    "    Returns:\n",
    "        A list derived from the input, processed as specified.\n",
    "\n",
    "    Raises:\n",
    "        ValueError: If unique=True and flatten=False.\n",
    "\n",
    "    Examples:\n",
    "        >>> to_list(1)\n",
    "        [1]\n",
    "        >>> to_list([1, [2, 3]], flatten=True)\n",
    "        [1, 2, 3]\n",
    "        >>> to_list([1, None, 2], dropna=True)\n",
    "        [1, 2]\n",
    "        >>> to_list({'a': 1, 'b': 2}, use_values=True)\n",
    "        [1, 2]\n",
    "    \"\"\"\n",
    "```\n",
    "\n",
    "\n",
    "\n",
    "\n",
    "\n"
   ]
  },
  {
   "cell_type": "markdown",
   "metadata": {},
   "source": [
    "### 1. NoneType"
   ]
  },
  {
   "cell_type": "code",
   "execution_count": 2,
   "metadata": {},
   "outputs": [
    {
     "name": "stdout",
     "output_type": "stream",
     "text": [
      "[]\n",
      "[]\n",
      "[]\n"
     ]
    }
   ],
   "source": [
    "from pydantic_core import PydanticUndefined\n",
    "from lionagi.libs.constants import UNDEFINED\n",
    "\n",
    "print(to_list(None))\n",
    "print(to_list(PydanticUndefined))\n",
    "print(to_list(UNDEFINED))"
   ]
  },
  {
   "cell_type": "markdown",
   "metadata": {},
   "source": [
    "### 1. Basic Types"
   ]
  },
  {
   "cell_type": "code",
   "execution_count": 3,
   "metadata": {},
   "outputs": [
    {
     "name": "stdout",
     "output_type": "stream",
     "text": [
      "[True] [False]\n",
      "[1] [1.0]\n"
     ]
    }
   ],
   "source": [
    "# boolean\n",
    "print(to_list(True), to_list(False))\n",
    "\n",
    "# int float\n",
    "print(to_list(1), to_list(1.0))"
   ]
  },
  {
   "cell_type": "markdown",
   "metadata": {},
   "source": [
    "### 2. String\n",
    "\n",
    "- str\n",
    "- bytes\n",
    "- bytearray"
   ]
  },
  {
   "cell_type": "code",
   "execution_count": 4,
   "metadata": {},
   "outputs": [
    {
     "name": "stdout",
     "output_type": "stream",
     "text": [
      "['strings']\n",
      "[b'strings']\n",
      "[bytearray(b'stringarrays')]\n"
     ]
    }
   ],
   "source": [
    "a = \"strings\"\n",
    "b = b\"strings\"\n",
    "c = bytearray(b\"stringarrays\")\n",
    "\n",
    "print(to_list(a))\n",
    "print(to_list(b))\n",
    "print(to_list(c))"
   ]
  },
  {
   "cell_type": "code",
   "execution_count": 5,
   "metadata": {},
   "outputs": [
    {
     "name": "stdout",
     "output_type": "stream",
     "text": [
      "['s', 't', 'r', 'i', 'n', 'g', 's']\n",
      "[115, 116, 114, 105, 110, 103, 115]\n",
      "[115, 116, 114, 105, 110, 103, 97, 114, 114, 97, 121, 115]\n"
     ]
    }
   ],
   "source": [
    "## Use Values\n",
    "\n",
    "print(to_list(a, use_values=True))\n",
    "print(to_list(b, use_values=True))\n",
    "print(to_list(c, use_values=True))"
   ]
  },
  {
   "cell_type": "code",
   "execution_count": 6,
   "metadata": {},
   "outputs": [
    {
     "name": "stdout",
     "output_type": "stream",
     "text": [
      "['s', 't', 'r', 'i', 'n', 'g']\n",
      "[115, 116, 114, 105, 110, 103]\n",
      "[115, 116, 114, 105, 110, 103, 97, 121]\n"
     ]
    }
   ],
   "source": [
    "## Unique\n",
    "\n",
    "print(to_list(a, unique=True, use_values=True))\n",
    "print(to_list(b, unique=True, use_values=True))\n",
    "print(to_list(c, unique=True, use_values=True))"
   ]
  },
  {
   "cell_type": "markdown",
   "metadata": {},
   "source": [
    "### 3. Enum"
   ]
  },
  {
   "cell_type": "code",
   "execution_count": 7,
   "metadata": {},
   "outputs": [
    {
     "name": "stdout",
     "output_type": "stream",
     "text": [
      "[<Color.RED: 1>, <Color.GREEN: 2>, <Color.BLUE: 3>, <Color.PURPLE: None>, <Color.YELLOW: UNDEFINED>]\n",
      "[1, 2, 3, 3, None, UNDEFINED]\n",
      "[1, 2, 3]\n"
     ]
    }
   ],
   "source": [
    "from enum import Enum\n",
    "from lion.libs.constants import UNDEFINED\n",
    "\n",
    "\n",
    "class Color(Enum):\n",
    "    RED = 1\n",
    "    GREEN = 2\n",
    "    BLUE = 3\n",
    "    ORANGE = 3\n",
    "    PURPLE = None\n",
    "    YELLOW = UNDEFINED\n",
    "\n",
    "\n",
    "print(to_list(Color))\n",
    "print(to_list(Color, use_values=True))\n",
    "print(to_list(Color, unique=True, use_values=True, dropna=True))"
   ]
  },
  {
   "cell_type": "markdown",
   "metadata": {},
   "source": [
    "### 4. Collections"
   ]
  },
  {
   "cell_type": "markdown",
   "metadata": {},
   "source": [
    "#### 4.1 List / Tuple"
   ]
  },
  {
   "cell_type": "code",
   "execution_count": 8,
   "metadata": {},
   "outputs": [
    {
     "name": "stdout",
     "output_type": "stream",
     "text": [
      "([1, [2, 3, 4], [5, [(6, 7), UNDEFINED], 8], [9], [5, 6, 7, (8, 9)], (10, None), 1],)\n"
     ]
    }
   ],
   "source": [
    "# very nested tuple\n",
    "\n",
    "a = (\n",
    "    [\n",
    "        1,\n",
    "        [2, 3, 4],\n",
    "        [\n",
    "            5,\n",
    "            [(6, 7), UNDEFINED],\n",
    "            8,\n",
    "        ],\n",
    "        [9],\n",
    "        [5, 6, 7, (8, 9)],\n",
    "        (10, None),\n",
    "        1,\n",
    "    ],\n",
    ")\n",
    "\n",
    "print(a)"
   ]
  },
  {
   "cell_type": "code",
   "execution_count": 9,
   "metadata": {},
   "outputs": [
    {
     "name": "stdout",
     "output_type": "stream",
     "text": [
      "[[1, [2, 3, 4], [5, [(6, 7), UNDEFINED], 8], [9], [5, 6, 7, (8, 9)], (10, None), 1]]\n",
      "[1, 2, 3, 4, 5, 6, 7, UNDEFINED, 8, 9, 5, 6, 7, 8, 9, 10, None, 1]\n",
      "[[1, [2, 3, 4], [5, [(6, 7), UNDEFINED], 8], [9], [5, 6, 7, (8, 9)], (10, None), 1]]\n",
      "[1, 2, 3, 4, 5, 6, 7, 8, 9, 10]\n"
     ]
    }
   ],
   "source": [
    "print(to_list(a))\n",
    "print(to_list(a, flatten=True))\n",
    "print(to_list(a, unique=True))\n",
    "print(to_list(a, flatten=True, unique=True, dropna=True))"
   ]
  },
  {
   "cell_type": "markdown",
   "metadata": {},
   "source": [
    "#### 4.2 Set\n",
    "\n",
    "- set members are already unique\n",
    "- collections (list, dict, tuple) are unhashable, so no flatten needed neither"
   ]
  },
  {
   "cell_type": "code",
   "execution_count": 10,
   "metadata": {},
   "outputs": [
    {
     "name": "stdout",
     "output_type": "stream",
     "text": [
      "{None, 1, 2, 3, 4, 5, 65}\n",
      "[None, 1, 2, 3, 4, 5, 65]\n",
      "[1, 2, 3, 4, 5, 65]\n"
     ]
    }
   ],
   "source": [
    "# a complex set\n",
    "a = {1, 2, 3, 4, 5, 65, None}\n",
    "print(a)\n",
    "print(to_list(a))\n",
    "print(to_list(a, dropna=True))"
   ]
  },
  {
   "cell_type": "code",
   "execution_count": 11,
   "metadata": {},
   "outputs": [
    {
     "name": "stdout",
     "output_type": "stream",
     "text": [
      "[[1, 2, 3, 4], {1, 2, 3, 4}, {None, 1, 2, 3, 4, 5, 65}, None]\n",
      "[[1, 2, 3, 4], {1, 2, 3, 4}, {None, 1, 2, 3, 4, 5, 65}, None]\n",
      "[1, 2, 3, 4, 1, 2, 3, 4, None, 1, 2, 3, 4, 5, 65, None]\n",
      "[1, 2, 3, 4, None, 5, 65]\n",
      "[1, 2, 3, 4, 5, 65]\n"
     ]
    }
   ],
   "source": [
    "## Set inside list\n",
    "\n",
    "b = [[1, 2, 3, 4], {1, 2, 3, 4}, a, None]\n",
    "\n",
    "print(b)\n",
    "print(to_list(b))\n",
    "print(to_list(b, flatten=True))\n",
    "print(to_list(b, flatten=True, unique=True))\n",
    "print(to_list(b, flatten=True, unique=True, dropna=True))"
   ]
  },
  {
   "cell_type": "markdown",
   "metadata": {},
   "source": [
    "#### 4.3 Dict / BaseModel"
   ]
  },
  {
   "cell_type": "code",
   "execution_count": 12,
   "metadata": {},
   "outputs": [
    {
     "name": "stdout",
     "output_type": "stream",
     "text": [
      "{'a': 1, 'b': 2, 'g': {'b': 3, 'c': 4}}\n"
     ]
    }
   ],
   "source": [
    "a = {\"a\": 1, \"b\": 2, \"g\": {\"b\": 3, \"c\": 4}}\n",
    "print(a)"
   ]
  },
  {
   "cell_type": "code",
   "execution_count": 13,
   "metadata": {},
   "outputs": [
    {
     "name": "stdout",
     "output_type": "stream",
     "text": [
      "[{'a': 1, 'b': 2, 'g': {'b': 3, 'c': 4}}]\n"
     ]
    }
   ],
   "source": [
    "# dictionary cannot be flattened by the `to_list` function\n",
    "print(to_list(a, flatten=True))"
   ]
  },
  {
   "cell_type": "code",
   "execution_count": 14,
   "metadata": {},
   "outputs": [
    {
     "name": "stdout",
     "output_type": "stream",
     "text": [
      "name='John' age=30\n",
      "[User(name='John', age=30)]\n"
     ]
    }
   ],
   "source": [
    "# similarly, pydantic models cannot be flattened by the `to_list` function\n",
    "from pydantic import BaseModel\n",
    "\n",
    "\n",
    "class User(BaseModel):\n",
    "    name: str\n",
    "    age: int\n",
    "\n",
    "\n",
    "a = User(name=\"John\", age=30, friends=[User(name=\"Jane\", age=25)])\n",
    "print(a)\n",
    "print(to_list(a))"
   ]
  },
  {
   "cell_type": "code",
   "execution_count": 15,
   "metadata": {},
   "outputs": [
    {
     "name": "stdout",
     "output_type": "stream",
     "text": [
      "5\n",
      "[[User(name='John', age=30), User(name='Jane', age=25)], User(name='John', age=30), User(name='Jane', age=25), [[User(name='Jane', age=25)]], User(name='John', age=30)]\n"
     ]
    }
   ],
   "source": [
    "# but if they are members of a list, the list itself can still behave accordingly\n",
    "\n",
    "a = User(name=\"John\", age=30)\n",
    "b = User(name=\"Jane\", age=25)\n",
    "c = [[a, b], a, b, [[b]], a]\n",
    "\n",
    "print(len(c))\n",
    "print(c)"
   ]
  },
  {
   "cell_type": "code",
   "execution_count": 16,
   "metadata": {},
   "outputs": [
    {
     "name": "stdout",
     "output_type": "stream",
     "text": [
      "6\n",
      "[User(name='John', age=30), User(name='Jane', age=25), User(name='John', age=30), User(name='Jane', age=25), User(name='Jane', age=25), User(name='John', age=30)]\n"
     ]
    }
   ],
   "source": [
    "print(len(to_list(c, flatten=True)))\n",
    "print(to_list(c, flatten=True))"
   ]
  },
  {
   "cell_type": "code",
   "execution_count": 17,
   "metadata": {},
   "outputs": [
    {
     "name": "stdout",
     "output_type": "stream",
     "text": [
      "2\n",
      "[User(name='John', age=30), User(name='Jane', age=25)]\n"
     ]
    }
   ],
   "source": [
    "print(len(to_list(c, flatten=True, unique=True)))\n",
    "print(to_list(c, flatten=True, unique=True))"
   ]
  },
  {
   "cell_type": "markdown",
   "metadata": {},
   "source": [
    "#### 4.4 Special Collections"
   ]
  },
  {
   "cell_type": "code",
   "execution_count": 18,
   "metadata": {},
   "outputs": [
    {
     "name": "stdout",
     "output_type": "stream",
     "text": [
      "Point(x=1, y=2)\n",
      "[1, 2]\n"
     ]
    }
   ],
   "source": [
    "# Named Tuples\n",
    "from collections import namedtuple\n",
    "\n",
    "Point = namedtuple(\"Point\", [\"x\", \"y\"])\n",
    "print(p := Point(1, 2))\n",
    "print(to_list(p))  # → [1, 2]"
   ]
  },
  {
   "cell_type": "code",
   "execution_count": 19,
   "metadata": {},
   "outputs": [
    {
     "name": "stdout",
     "output_type": "stream",
     "text": [
      "deque([1, 2, 3, [3], None])\n",
      "[1, 2, 3, [3], None]\n",
      "[1, 2, 3, 3, None]\n",
      "[1, 2, 3]\n"
     ]
    }
   ],
   "source": [
    "# Deque\n",
    "from collections import deque\n",
    "\n",
    "dq = deque([1, 2, 3, [3], None])\n",
    "\n",
    "print(dq)\n",
    "print(to_list(dq))\n",
    "print(to_list(dq, flatten=True))\n",
    "print(to_list(dq, flatten=True, unique=True, dropna=True))"
   ]
  },
  {
   "cell_type": "code",
   "execution_count": 20,
   "metadata": {},
   "outputs": [
    {
     "name": "stdout",
     "output_type": "stream",
     "text": [
      "OrderedDict({'a': 1, 'b': 2})\n",
      "[OrderedDict({'a': 1, 'b': 2})]\n",
      "[1, 2]\n"
     ]
    }
   ],
   "source": [
    "# OrderedDict\n",
    "from collections import OrderedDict\n",
    "\n",
    "od = OrderedDict([(\"a\", 1), (\"b\", 2)])\n",
    "\n",
    "print(od)\n",
    "print(to_list(od))\n",
    "print(to_list(od, use_values=True))"
   ]
  },
  {
   "cell_type": "markdown",
   "metadata": {},
   "source": [
    "#### 4.5 Others"
   ]
  },
  {
   "cell_type": "markdown",
   "metadata": {},
   "source": [
    "##### 4.5.1 Generators and higher-order functions\n",
    "\n",
    "- generator\n",
    "- range\n",
    "- filter\n",
    "- map\n",
    "- zip"
   ]
  },
  {
   "cell_type": "code",
   "execution_count": 21,
   "metadata": {},
   "outputs": [
    {
     "data": {
      "text/plain": [
       "[0, 1, 2]"
      ]
     },
     "execution_count": 21,
     "metadata": {},
     "output_type": "execute_result"
    }
   ],
   "source": [
    "gen = (x for x in range(3))\n",
    "to_list(gen)"
   ]
  },
  {
   "cell_type": "code",
   "execution_count": 22,
   "metadata": {},
   "outputs": [
    {
     "data": {
      "text/plain": [
       "[0, 1, 2]"
      ]
     },
     "execution_count": 22,
     "metadata": {},
     "output_type": "execute_result"
    }
   ],
   "source": [
    "# Range\n",
    "to_list(range(3))"
   ]
  },
  {
   "cell_type": "code",
   "execution_count": 23,
   "metadata": {},
   "outputs": [
    {
     "data": {
      "text/plain": [
       "[0, 2, 4]"
      ]
     },
     "execution_count": 23,
     "metadata": {},
     "output_type": "execute_result"
    }
   ],
   "source": [
    "# Filter\n",
    "to_list(filter(lambda x: x % 2 == 0, range(5)))"
   ]
  },
  {
   "cell_type": "code",
   "execution_count": 24,
   "metadata": {},
   "outputs": [
    {
     "data": {
      "text/plain": [
       "[0, 2, 4]"
      ]
     },
     "execution_count": 24,
     "metadata": {},
     "output_type": "execute_result"
    }
   ],
   "source": [
    "# Map\n",
    "to_list(map(lambda x: x * 2, range(3)))"
   ]
  },
  {
   "cell_type": "code",
   "execution_count": 25,
   "metadata": {},
   "outputs": [
    {
     "data": {
      "text/plain": [
       "[(1, 'a'), (2, 'b')]"
      ]
     },
     "execution_count": 25,
     "metadata": {},
     "output_type": "execute_result"
    }
   ],
   "source": [
    "# Zip\n",
    "to_list(zip([1, 2], [\"a\", \"b\"]))"
   ]
  },
  {
   "cell_type": "markdown",
   "metadata": {},
   "source": [
    "##### 4.5.2 View Objects"
   ]
  },
  {
   "cell_type": "code",
   "execution_count": 26,
   "metadata": {},
   "outputs": [
    {
     "name": "stdout",
     "output_type": "stream",
     "text": [
      "{'a': 1, 'b': 2, 'c': 3}\n"
     ]
    }
   ],
   "source": [
    "d = {\"a\": 1, \"b\": 2, \"c\": 3}\n",
    "print(d)"
   ]
  },
  {
   "cell_type": "code",
   "execution_count": 27,
   "metadata": {},
   "outputs": [
    {
     "name": "stdout",
     "output_type": "stream",
     "text": [
      "['a', 'b', 'c']\n"
     ]
    }
   ],
   "source": [
    "print(to_list(d.keys()))"
   ]
  },
  {
   "cell_type": "code",
   "execution_count": 28,
   "metadata": {},
   "outputs": [
    {
     "name": "stdout",
     "output_type": "stream",
     "text": [
      "[1, 2, 3]\n",
      "[1, 2, 3]\n"
     ]
    }
   ],
   "source": [
    "# these two methods are equivalent\n",
    "print(to_list(d.values()))\n",
    "print(to_list(d, use_values=True))"
   ]
  }
 ],
 "metadata": {
  "kernelspec": {
   "display_name": ".venv",
   "language": "python",
   "name": "python3"
  },
  "language_info": {
   "codemirror_mode": {
    "name": "ipython",
    "version": 3
   },
   "file_extension": ".py",
   "mimetype": "text/x-python",
   "name": "python",
   "nbconvert_exporter": "python",
   "pygments_lexer": "ipython3",
   "version": "3.12.7"
  }
 },
 "nbformat": 4,
 "nbformat_minor": 2
}
