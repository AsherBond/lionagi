{
 "cells": [
  {
   "cell_type": "code",
   "execution_count": 1,
   "metadata": {},
   "outputs": [],
   "source": [
    "from lionagi.libs.parse import fuzzy_parse_json"
   ]
  },
  {
   "cell_type": "markdown",
   "metadata": {},
   "source": [
    "```python\n",
    "def fuzzy_parse_json(str_to_parse: str, /) -> dict[str, Any] | list[dict[str, Any]]:\n",
    "    \"\"\"Parse a JSON string with automatic fixing of common formatting issues.\n",
    "\n",
    "    Args:\n",
    "        str_to_parse: The JSON string to parse\n",
    "\n",
    "    Returns:\n",
    "        The parsed JSON object as a dictionary\n",
    "\n",
    "    Raises:\n",
    "        ValueError: If the string cannot be parsed as valid JSON\n",
    "        TypeError: If the input is not a string or the result is not a dict\n",
    "    \"\"\"\n",
    "```"
   ]
  },
  {
   "cell_type": "code",
   "execution_count": 2,
   "metadata": {},
   "outputs": [
    {
     "name": "stdout",
     "output_type": "stream",
     "text": [
      "{'name': 'lion', 'age': 3}\n",
      "{'name': 'lion', 'age': 3}\n"
     ]
    }
   ],
   "source": [
    "## proper json\n",
    "\n",
    "json_str1 = '{\"name\": \"lion\", \"age\": 3}'  # keys with double quotes\n",
    "json_str2 = \"{'name': 'lion', 'age': 3}\"  # keys with single quotes\n",
    "print(fuzzy_parse_json(json_str1))\n",
    "print(fuzzy_parse_json(json_str2))"
   ]
  },
  {
   "cell_type": "code",
   "execution_count": 3,
   "metadata": {},
   "outputs": [
    {
     "name": "stdout",
     "output_type": "stream",
     "text": [
      "{'name': 'lion', 'age': 3}\n",
      "{'name': 'lion', 'age': 3}\n"
     ]
    }
   ],
   "source": [
    "## missing right brace\n",
    "\n",
    "json_str1 = '{\"name\": \"lion\", \"age\": 3'  # keys with double quotes\n",
    "json_str2 = \"{'name': 'lion', 'age': 3\"  # keys with single quotes\n",
    "print(fuzzy_parse_json(json_str1))\n",
    "print(fuzzy_parse_json(json_str2))"
   ]
  },
  {
   "cell_type": "code",
   "execution_count": 4,
   "metadata": {},
   "outputs": [
    {
     "name": "stdout",
     "output_type": "stream",
     "text": [
      "{'name': 'lion', 'age': 3}\n",
      "{'name': 'lion', 'age': 3}\n"
     ]
    }
   ],
   "source": [
    "## missing left brace\n",
    "\n",
    "json_str1 = '\"name\": \"lion\", \"age\": 3}'  # keys with double quotes\n",
    "json_str2 = \"'name': 'lion', 'age': 3}\"  # keys with single quotes\n",
    "print(fuzzy_parse_json(json_str1))\n",
    "print(fuzzy_parse_json(json_str2))"
   ]
  },
  {
   "cell_type": "code",
   "execution_count": 5,
   "metadata": {},
   "outputs": [
    {
     "name": "stdout",
     "output_type": "stream",
     "text": [
      "{'name': 'lion', 'age': 3, 'age2': 4}\n",
      "{'name': 'lion', 'age': 3}\n"
     ]
    }
   ],
   "source": [
    "## missing braces on both sides\n",
    "\n",
    "json_str1 = '\"name\": \"lion\", \"age\": 3, \"age2\": 4'\n",
    "json_str2 = \"'name': 'lion', 'age': 3\"\n",
    "\n",
    "print(fuzzy_parse_json(json_str1))\n",
    "print(fuzzy_parse_json(json_str2))"
   ]
  },
  {
   "cell_type": "code",
   "execution_count": 6,
   "metadata": {},
   "outputs": [
    {
     "name": "stdout",
     "output_type": "stream",
     "text": [
      "{'name': 'lion', 'age': 3, 'age2': 4}\n",
      "{'name': 'lion', 'age': 3}\n"
     ]
    }
   ],
   "source": [
    "## missing braces on both sides, also missing many commas\n",
    "\n",
    "json_str1 = '\"name\": \"lion\" \"age\": 3 \"age2\": 4'\n",
    "json_str2 = \"'name': 'lion' 'age': 3\"\n",
    "print(fuzzy_parse_json(json_str1))\n",
    "print(fuzzy_parse_json(json_str2))"
   ]
  }
 ],
 "metadata": {
  "kernelspec": {
   "display_name": ".venv",
   "language": "python",
   "name": "python3"
  },
  "language_info": {
   "codemirror_mode": {
    "name": "ipython",
    "version": 3
   },
   "file_extension": ".py",
   "mimetype": "text/x-python",
   "name": "python",
   "nbconvert_exporter": "python",
   "pygments_lexer": "ipython3",
   "version": "3.12.7"
  }
 },
 "nbformat": 4,
 "nbformat_minor": 2
}
