{
 "cells": [
  {
   "cell_type": "code",
   "execution_count": 1,
   "metadata": {},
   "outputs": [],
   "source": [
    "import time\n",
    "from datetime import datetime"
   ]
  },
  {
   "cell_type": "code",
   "execution_count": 2,
   "metadata": {},
   "outputs": [
    {
     "name": "stdout",
     "output_type": "stream",
     "text": [
      "Lionagi version:  0.5.0\n",
      "Elapsed time:  0.32511 seconds\n",
      "Last edited: 2024-12-14 16:37\n"
     ]
    }
   ],
   "source": [
    "start = time.time()\n",
    "import lionagi\n",
    "\n",
    "elps = time.time() - start\n",
    "print(\"Lionagi version: \", lionagi.__version__)\n",
    "print(f\"Elapsed time:  {elps:.5f} seconds\")\n",
    "print(f\"Last edited: {datetime.now().strftime('%Y-%m-%d %H:%M')}\")"
   ]
  },
  {
   "cell_type": "markdown",
   "metadata": {},
   "source": [
    "## Protocols - Models"
   ]
  },
  {
   "cell_type": "markdown",
   "metadata": {},
   "source": [
    "#### BaseLionModel"
   ]
  },
  {
   "cell_type": "code",
   "execution_count": 3,
   "metadata": {},
   "outputs": [],
   "source": [
    "from lionagi import types\n",
    "\n",
    "# Create a new instance of the BaseLionModel class\n",
    "a = types.BaseLionModel()"
   ]
  },
  {
   "cell_type": "code",
   "execution_count": 4,
   "metadata": {},
   "outputs": [
    {
     "name": "stdout",
     "output_type": "stream",
     "text": [
      "{'lion_class': 'BaseLionModel'}\n"
     ]
    }
   ],
   "source": [
    "dict_ = a.to_dict()\n",
    "print(dict_)"
   ]
  },
  {
   "cell_type": "markdown",
   "metadata": {},
   "source": [
    "`BaseLionModel` is a `pydantic` `BaseModel` with `class_name()`  `to_dict()`, `from_dict()` methods "
   ]
  },
  {
   "cell_type": "code",
   "execution_count": 5,
   "metadata": {},
   "outputs": [
    {
     "data": {
      "text/plain": [
       "True"
      ]
     },
     "execution_count": 5,
     "metadata": {},
     "output_type": "execute_result"
    }
   ],
   "source": [
    "b = types.BaseLionModel.from_dict(dict_)\n",
    "b == a"
   ]
  },
  {
   "cell_type": "markdown",
   "metadata": {},
   "source": [
    "#### BaseSchemaModel\n",
    "\n",
    "BaseSchemaModel contains a `keys()` method"
   ]
  },
  {
   "cell_type": "code",
   "execution_count": 6,
   "metadata": {},
   "outputs": [
    {
     "name": "stdout",
     "output_type": "stream",
     "text": [
      "[]\n"
     ]
    }
   ],
   "source": [
    "b = types.BaseSchemaModel()\n",
    "print(b.keys())"
   ]
  },
  {
   "cell_type": "markdown",
   "metadata": {},
   "source": [
    "#### BaseAutoModel\n",
    "\n",
    "contains\n",
    "- `id`: `IDType`\n",
    "- `created_timestamp`: `float`\n",
    "\n",
    "properties\n",
    "- `created_datetime`: `datetime`\n",
    "\n",
    "features\n",
    "- `__hash__` hashable, every BaseAutoModel object is unique and hashable\n"
   ]
  },
  {
   "cell_type": "code",
   "execution_count": 7,
   "metadata": {},
   "outputs": [
    {
     "name": "stdout",
     "output_type": "stream",
     "text": [
      "{'id': 'dba716a478254ed4bd85d2b8f85f4fa7', 'created_timestamp': 1734212279.503233, 'lion_class': 'BaseAutoModel'}\n"
     ]
    }
   ],
   "source": [
    "c = types.BaseAutoModel()\n",
    "d = types.BaseAutoModel()\n",
    "print(c.to_dict())"
   ]
  },
  {
   "cell_type": "code",
   "execution_count": 8,
   "metadata": {},
   "outputs": [
    {
     "name": "stdout",
     "output_type": "stream",
     "text": [
      "{'id': '922a6c8c5c9a4d42a04b37a3b5ca9462', 'created_timestamp': 1734212279.503357, 'lion_class': 'BaseAutoModel'}\n"
     ]
    }
   ],
   "source": [
    "print(d.to_dict())"
   ]
  },
  {
   "cell_type": "code",
   "execution_count": 9,
   "metadata": {},
   "outputs": [
    {
     "data": {
      "text/plain": [
       "False"
      ]
     },
     "execution_count": 9,
     "metadata": {},
     "output_type": "execute_result"
    }
   ],
   "source": [
    "c == d"
   ]
  },
  {
   "cell_type": "code",
   "execution_count": 10,
   "metadata": {},
   "outputs": [
    {
     "data": {
      "text/plain": [
       "datetime.datetime(2024, 12, 14, 16, 37, 59, 503233)"
      ]
     },
     "execution_count": 10,
     "metadata": {},
     "output_type": "execute_result"
    }
   ],
   "source": [
    "c.created_datetime"
   ]
  },
  {
   "cell_type": "code",
   "execution_count": 11,
   "metadata": {},
   "outputs": [
    {
     "data": {
      "text/plain": [
       "1"
      ]
     },
     "execution_count": 11,
     "metadata": {},
     "output_type": "execute_result"
    }
   ],
   "source": [
    "len(c)"
   ]
  },
  {
   "cell_type": "code",
   "execution_count": 12,
   "metadata": {},
   "outputs": [
    {
     "data": {
      "text/plain": [
       "'BaseAutoModel(id=dba716.., timestamp=2024-12-14T16:37)'"
      ]
     },
     "execution_count": 12,
     "metadata": {},
     "output_type": "execute_result"
    }
   ],
   "source": [
    "str(c)"
   ]
  },
  {
   "cell_type": "code",
   "execution_count": 13,
   "metadata": {},
   "outputs": [
    {
     "data": {
      "text/plain": [
       "BaseAutoModel(id=dba716a478254ed4bd85d2b8f85f4fa7, timestamp=2024-12-14 16:37:59.503233)"
      ]
     },
     "execution_count": 13,
     "metadata": {},
     "output_type": "execute_result"
    }
   ],
   "source": [
    "c"
   ]
  }
 ],
 "metadata": {
  "kernelspec": {
   "display_name": ".venv",
   "language": "python",
   "name": "python3"
  },
  "language_info": {
   "codemirror_mode": {
    "name": "ipython",
    "version": 3
   },
   "file_extension": ".py",
   "mimetype": "text/x-python",
   "name": "python",
   "nbconvert_exporter": "python",
   "pygments_lexer": "ipython3",
   "version": "3.12.7"
  }
 },
 "nbformat": 4,
 "nbformat_minor": 2
}
