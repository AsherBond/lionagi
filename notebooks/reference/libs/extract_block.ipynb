{
 "cells": [
  {
   "cell_type": "code",
   "execution_count": null,
   "metadata": {},
   "outputs": [],
   "source": [
    "from lionagi.libs.parse.types import extract_code_block"
   ]
  },
  {
   "cell_type": "code",
   "execution_count": 2,
   "metadata": {},
   "outputs": [],
   "source": [
    "a = \"\"\"\n",
    "\n",
    "```python\n",
    "print('hello')\n",
    "```\n",
    "\n",
    "some texts\n",
    "\n",
    "```python\n",
    "print('world')\n",
    "```\n",
    "\n",
    "some texts and characters\n",
    "---\n",
    "\n",
    "```cpp\n",
    "#include <iostream>\n",
    "using namespace std;\n",
    "int main(){\n",
    "    cout << \"hello\" << endl;\n",
    "    return 0;\n",
    "}\n",
    "```\n",
    "\n",
    "```typescript\n",
    "console.log('hello')\n",
    "```\n",
    "\n",
    "\"\"\""
   ]
  },
  {
   "cell_type": "code",
   "execution_count": 4,
   "metadata": {},
   "outputs": [
    {
     "data": {
      "text/plain": [
       "[CodeBlock(lang='python', code=\"print('hello')\\n\"),\n",
       " CodeBlock(lang='python', code=\"print('world')\\n\"),\n",
       " CodeBlock(lang='cpp', code='#include <iostream>\\nusing namespace std;\\nint main(){\\n    cout << \"hello\" << endl;\\n    return 0;\\n}\\n'),\n",
       " CodeBlock(lang='typescript', code=\"console.log('hello')\\n\")]"
      ]
     },
     "execution_count": 4,
     "metadata": {},
     "output_type": "execute_result"
    }
   ],
   "source": [
    "extract_code_block(a)"
   ]
  },
  {
   "cell_type": "code",
   "execution_count": 5,
   "metadata": {},
   "outputs": [
    {
     "data": {
      "text/plain": [
       "[CodeBlock(lang='python', code=\"print('hello')\\n\"),\n",
       " CodeBlock(lang='python', code=\"print('world')\\n\")]"
      ]
     },
     "execution_count": 5,
     "metadata": {},
     "output_type": "execute_result"
    }
   ],
   "source": [
    "extract_code_block(a, \"python\")"
   ]
  },
  {
   "cell_type": "code",
   "execution_count": 6,
   "metadata": {},
   "outputs": [
    {
     "data": {
      "text/plain": [
       "{'python': [CodeBlock(lang='python', code=\"print('hello')\\n\"),\n",
       "  CodeBlock(lang='python', code=\"print('world')\\n\")],\n",
       " 'cpp': [CodeBlock(lang='cpp', code='#include <iostream>\\nusing namespace std;\\nint main(){\\n    cout << \"hello\" << endl;\\n    return 0;\\n}\\n')],\n",
       " 'typescript': [CodeBlock(lang='typescript', code=\"console.log('hello')\\n\")]}"
      ]
     },
     "execution_count": 6,
     "metadata": {},
     "output_type": "execute_result"
    }
   ],
   "source": [
    "extract_code_block(a, categorize=True)"
   ]
  }
 ],
 "metadata": {
  "kernelspec": {
   "display_name": ".venv",
   "language": "python",
   "name": "python3"
  },
  "language_info": {
   "codemirror_mode": {
    "name": "ipython",
    "version": 3
   },
   "file_extension": ".py",
   "mimetype": "text/x-python",
   "name": "python",
   "nbconvert_exporter": "python",
   "pygments_lexer": "ipython3",
   "version": "3.12.7"
  }
 },
 "nbformat": 4,
 "nbformat_minor": 2
}
