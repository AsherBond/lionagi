{
 "cells": [
  {
   "cell_type": "code",
   "execution_count": 1,
   "metadata": {},
   "outputs": [],
   "source": [
    "from lionagi.protocols.types import Component"
   ]
  },
  {
   "cell_type": "markdown",
   "metadata": {},
   "source": [
    "#### Component\n",
    "\n",
    "`Component` is a `BaseAutoModel` with metadata, embedding and can register adapter for i/o"
   ]
  },
  {
   "cell_type": "code",
   "execution_count": 2,
   "metadata": {},
   "outputs": [
    {
     "data": {
      "text/plain": [
       "{'id': '2e8d811ad668446194526c98a165842a',\n",
       " 'created_timestamp': 1734215457.176685,\n",
       " 'content': 'Hello, World!',\n",
       " 'metadata': {'Last-Modified-by': 'the lion'},\n",
       " 'embedding': [],\n",
       " 'lion_class': 'Component'}"
      ]
     },
     "execution_count": 2,
     "metadata": {},
     "output_type": "execute_result"
    }
   ],
   "source": [
    "a = Component(\n",
    "    content=\"Hello, World!\", metadata={\"Last-Modified-by\": \"the lion\"}\n",
    ")\n",
    "\n",
    "a.to_dict()"
   ]
  },
  {
   "cell_type": "markdown",
   "metadata": {},
   "source": [
    "##### Adapters in `Component`"
   ]
  },
  {
   "cell_type": "code",
   "execution_count": 3,
   "metadata": {},
   "outputs": [
    {
     "data": {
      "text/plain": [
       "['.csv', 'pd_series', '.json', 'pd_dataframe', 'json']"
      ]
     },
     "execution_count": 3,
     "metadata": {},
     "output_type": "execute_result"
    }
   ],
   "source": [
    "a.list_adapters()"
   ]
  },
  {
   "cell_type": "code",
   "execution_count": 4,
   "metadata": {},
   "outputs": [
    {
     "data": {
      "text/plain": [
       "'{\"id\": \"2e8d811ad668446194526c98a165842a\", \"created_timestamp\": 1734215457.176685, \"content\": \"Hello, World!\", \"metadata\": {\"Last-Modified-by\": \"the lion\"}, \"embedding\": [], \"lion_class\": \"Component\"}'"
      ]
     },
     "execution_count": 4,
     "metadata": {},
     "output_type": "execute_result"
    }
   ],
   "source": [
    "# adapt to json string\n",
    "\n",
    "j_ = a.adapt_to(\"json\")\n",
    "j_"
   ]
  },
  {
   "cell_type": "code",
   "execution_count": 5,
   "metadata": {},
   "outputs": [
    {
     "data": {
      "text/plain": [
       "id                   2e8d811ad668446194526c98a165842a\n",
       "created_timestamp                   1734215457.176685\n",
       "content                                 Hello, World!\n",
       "metadata             {'Last-Modified-by': 'the lion'}\n",
       "embedding                                          []\n",
       "lion_class                                  Component\n",
       "dtype: object"
      ]
     },
     "execution_count": 5,
     "metadata": {},
     "output_type": "execute_result"
    }
   ],
   "source": [
    "# adapt to pandas series\n",
    "\n",
    "pd_s = a.adapt_to(\"pd_series\")\n",
    "pd_s"
   ]
  },
  {
   "cell_type": "code",
   "execution_count": 6,
   "metadata": {},
   "outputs": [
    {
     "data": {
      "text/html": [
       "<div>\n",
       "<style scoped>\n",
       "    .dataframe tbody tr th:only-of-type {\n",
       "        vertical-align: middle;\n",
       "    }\n",
       "\n",
       "    .dataframe tbody tr th {\n",
       "        vertical-align: top;\n",
       "    }\n",
       "\n",
       "    .dataframe thead th {\n",
       "        text-align: right;\n",
       "    }\n",
       "</style>\n",
       "<table border=\"1\" class=\"dataframe\">\n",
       "  <thead>\n",
       "    <tr style=\"text-align: right;\">\n",
       "      <th></th>\n",
       "      <th>id</th>\n",
       "      <th>created_timestamp</th>\n",
       "      <th>content</th>\n",
       "      <th>metadata</th>\n",
       "      <th>embedding</th>\n",
       "      <th>lion_class</th>\n",
       "      <th>timestamp</th>\n",
       "    </tr>\n",
       "  </thead>\n",
       "  <tbody>\n",
       "    <tr>\n",
       "      <th>0</th>\n",
       "      <td>2e8d811ad668446194526c98a165842a</td>\n",
       "      <td>1.734215e+09</td>\n",
       "      <td>Hello, World!</td>\n",
       "      <td>{'Last-Modified-by': 'the lion'}</td>\n",
       "      <td>[]</td>\n",
       "      <td>Component</td>\n",
       "      <td>2024-12-14 17:30:57.176685</td>\n",
       "    </tr>\n",
       "  </tbody>\n",
       "</table>\n",
       "</div>"
      ],
      "text/plain": [
       "                                 id  created_timestamp        content  \\\n",
       "0  2e8d811ad668446194526c98a165842a       1.734215e+09  Hello, World!   \n",
       "\n",
       "                           metadata embedding lion_class  \\\n",
       "0  {'Last-Modified-by': 'the lion'}        []  Component   \n",
       "\n",
       "                   timestamp  \n",
       "0 2024-12-14 17:30:57.176685  "
      ]
     },
     "execution_count": 6,
     "metadata": {},
     "output_type": "execute_result"
    }
   ],
   "source": [
    "pd_df = a.adapt_to(\"pd_dataframe\")\n",
    "pd_df"
   ]
  },
  {
   "cell_type": "markdown",
   "metadata": {},
   "source": [
    "##### Save to files"
   ]
  },
  {
   "cell_type": "code",
   "execution_count": 7,
   "metadata": {},
   "outputs": [],
   "source": [
    "from datetime import datetime\n",
    "\n",
    "json_path = f\"data/test_{datetime.now().isoformat()}.json\"\n",
    "\n",
    "a.adapt_to(\".json\", fp=json_path)"
   ]
  },
  {
   "cell_type": "code",
   "execution_count": 8,
   "metadata": {},
   "outputs": [],
   "source": [
    "csv_path = f\"data/test_{datetime.now().isoformat()}.csv\"\n",
    "\n",
    "a.adapt_to(\".csv\", fp=csv_path)"
   ]
  },
  {
   "cell_type": "markdown",
   "metadata": {},
   "source": [
    "#### Adapt from"
   ]
  },
  {
   "cell_type": "code",
   "execution_count": 9,
   "metadata": {},
   "outputs": [
    {
     "data": {
      "text/plain": [
       "True"
      ]
     },
     "execution_count": 9,
     "metadata": {},
     "output_type": "execute_result"
    }
   ],
   "source": [
    "b = Component.adapt_from(json_path, \".json\")\n",
    "a == b"
   ]
  },
  {
   "cell_type": "code",
   "execution_count": 10,
   "metadata": {},
   "outputs": [
    {
     "data": {
      "text/plain": [
       "{'id': '2e8d811ad668446194526c98a165842a',\n",
       " 'created_timestamp': 1734215457.176685,\n",
       " 'content': 'Hello, World!',\n",
       " 'metadata': {'Last-Modified-by': 'the lion'},\n",
       " 'embedding': []}"
      ]
     },
     "execution_count": 10,
     "metadata": {},
     "output_type": "execute_result"
    }
   ],
   "source": [
    "a.model_dump()"
   ]
  },
  {
   "cell_type": "code",
   "execution_count": 11,
   "metadata": {},
   "outputs": [
    {
     "data": {
      "text/plain": [
       "True"
      ]
     },
     "execution_count": 11,
     "metadata": {},
     "output_type": "execute_result"
    }
   ],
   "source": [
    "c = Component.adapt_from(csv_path, \".csv\")\n",
    "a == c"
   ]
  },
  {
   "cell_type": "code",
   "execution_count": 12,
   "metadata": {},
   "outputs": [
    {
     "data": {
      "text/plain": [
       "{'id': '2e8d811ad668446194526c98a165842a',\n",
       " 'created_timestamp': 1734215457.176685,\n",
       " 'content': 'Hello, World!',\n",
       " 'metadata': {'Last-Modified-by': 'the lion'},\n",
       " 'embedding': []}"
      ]
     },
     "execution_count": 12,
     "metadata": {},
     "output_type": "execute_result"
    }
   ],
   "source": [
    "c.model_dump()"
   ]
  },
  {
   "cell_type": "code",
   "execution_count": 13,
   "metadata": {},
   "outputs": [
    {
     "data": {
      "text/plain": [
       "[]"
      ]
     },
     "execution_count": 13,
     "metadata": {},
     "output_type": "execute_result"
    }
   ],
   "source": [
    "import json\n",
    "\n",
    "json.loads(\"[]\")"
   ]
  },
  {
   "cell_type": "code",
   "execution_count": 14,
   "metadata": {},
   "outputs": [
    {
     "data": {
      "text/plain": [
       "True"
      ]
     },
     "execution_count": 14,
     "metadata": {},
     "output_type": "execute_result"
    }
   ],
   "source": [
    "d = Component.adapt_from(j_, \"json\")\n",
    "d == a"
   ]
  },
  {
   "cell_type": "code",
   "execution_count": 15,
   "metadata": {},
   "outputs": [
    {
     "data": {
      "text/plain": [
       "True"
      ]
     },
     "execution_count": 15,
     "metadata": {},
     "output_type": "execute_result"
    }
   ],
   "source": [
    "d = Component.adapt_from(pd_s, \"pd_series\")\n",
    "d == a"
   ]
  },
  {
   "cell_type": "code",
   "execution_count": 16,
   "metadata": {},
   "outputs": [
    {
     "data": {
      "text/plain": [
       "True"
      ]
     },
     "execution_count": 16,
     "metadata": {},
     "output_type": "execute_result"
    }
   ],
   "source": [
    "d = Component.adapt_from(pd_df, \"pd_dataframe\")\n",
    "d == a"
   ]
  }
 ],
 "metadata": {
  "kernelspec": {
   "display_name": ".venv",
   "language": "python",
   "name": "python3"
  },
  "language_info": {
   "codemirror_mode": {
    "name": "ipython",
    "version": 3
   },
   "file_extension": ".py",
   "mimetype": "text/x-python",
   "name": "python",
   "nbconvert_exporter": "python",
   "pygments_lexer": "ipython3",
   "version": "3.12.7"
  }
 },
 "nbformat": 4,
 "nbformat_minor": 2
}
