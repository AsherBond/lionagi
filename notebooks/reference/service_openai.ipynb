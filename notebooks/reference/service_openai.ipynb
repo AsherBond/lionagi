{
 "cells": [
  {
   "cell_type": "code",
   "execution_count": 1,
   "metadata": {},
   "outputs": [],
   "source": [
    "from lionagi import iModel\n",
    "\n",
    "gpt4o = iModel(\n",
    "    provider=\"openai\",\n",
    "    task=\"chat\",\n",
    "    model=\"gpt-4o-mini\",\n",
    "    api_key=\"OPENAI_API_KEY\",\n",
    ")"
   ]
  },
  {
   "cell_type": "code",
   "execution_count": 2,
   "metadata": {},
   "outputs": [],
   "source": [
    "msgs = [\n",
    "    {\"role\": \"user\", \"content\": \"What is the meaning of life?\"},\n",
    "]\n",
    "\n",
    "request_model = gpt4o.parse_to_data_model(messages=msgs)"
   ]
  },
  {
   "cell_type": "code",
   "execution_count": 7,
   "metadata": {},
   "outputs": [],
   "source": [
    "response_model = await gpt4o.invoke(**request_model)"
   ]
  },
  {
   "cell_type": "code",
   "execution_count": 8,
   "metadata": {},
   "outputs": [
    {
     "name": "stdout",
     "output_type": "stream",
     "text": [
      "{\n",
      "  \"id\": \"chatcmpl-AeVYwbJWOtt3xUvxow9a8iNyUOs5Y\",\n",
      "  \"choices\": [\n",
      "    {\n",
      "      \"finish_reason\": \"stop\",\n",
      "      \"index\": 0,\n",
      "      \"message\": {\n",
      "        \"content\": \"The meaning of life is a profound philosophical question that has been considered by thinkers, theologians, and scientists for centuries. Answers can vary widely depending on cultural, religious, philosophical, and individual perspectives. \\n\\n1. **Philosophical Perspectives**: Some philosophers argue that life has no inherent meaning and that individuals must create their own purpose through their actions and choices. Existentialists, like Jean-Paul Sartre, emphasize personal freedom and responsibility in defining one's existence.\\n\\n2. **Religious Interpretations**: Many religions provide frameworks for understanding the meaning of life. For example, in Christianity, the purpose is often seen as living in accordance with God's will and achieving salvation. In Buddhism, the focus may be on achieving enlightenment and transcending suffering.\\n\\n3. **Scientific Views**: From a biological standpoint, some might suggest that the purpose of life is to survive and reproduce, ensuring the continuation of one's genes.\\n\\n4. **Personal Meaning**: Ultimately, many people find meaning through personal experiences, relationships, and contributions to society. Love, kindness, and the pursuit of knowledge and happiness often play central roles in shaping individual meaning.\\n\\nIn essence, the meaning of life can be deeply personal and subjective, and it may evolve over time based on one's experiences and reflections.\",\n",
      "        \"refusal\": null,\n",
      "        \"tool_calls\": null,\n",
      "        \"role\": \"assistant\"\n",
      "      },\n",
      "      \"logprobs\": null\n",
      "    }\n",
      "  ],\n",
      "  \"created\": 1734217810,\n",
      "  \"model\": \"gpt-4o-mini-2024-07-18\",\n",
      "  \"service_tier\": null,\n",
      "  \"system_fingerprint\": \"fp_6fc10e10eb\",\n",
      "  \"object\": \"chat.completion\",\n",
      "  \"usage\": {\n",
      "    \"completion_tokens\": 255,\n",
      "    \"prompt_tokens\": 14,\n",
      "    \"total_tokens\": 269,\n",
      "    \"completion_tokens_details\": {\n",
      "      \"reasoning_tokens\": 0\n",
      "    }\n",
      "  }\n",
      "}\n"
     ]
    }
   ],
   "source": [
    "print(response_model.model_dump_json(indent=2))"
   ]
  },
  {
   "cell_type": "code",
   "execution_count": null,
   "metadata": {},
   "outputs": [],
   "source": []
  },
  {
   "cell_type": "code",
   "execution_count": null,
   "metadata": {},
   "outputs": [],
   "source": []
  }
 ],
 "metadata": {
  "kernelspec": {
   "display_name": ".venv",
   "language": "python",
   "name": "python3"
  },
  "language_info": {
   "codemirror_mode": {
    "name": "ipython",
    "version": 3
   },
   "file_extension": ".py",
   "mimetype": "text/x-python",
   "name": "python",
   "nbconvert_exporter": "python",
   "pygments_lexer": "ipython3",
   "version": "3.12.7"
  }
 },
 "nbformat": 4,
 "nbformat_minor": 2
}
