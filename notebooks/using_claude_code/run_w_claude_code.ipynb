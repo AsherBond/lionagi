{
 "cells": [
  {
   "cell_type": "code",
   "execution_count": 1,
   "id": "d2ceb407",
   "metadata": {},
   "outputs": [],
   "source": [
    "from lionagi.service.connections.endpoint_config import EndpointConfig\n",
    "from lionagi.service.imodel import Endpoint\n",
    "\n",
    "claude_code_config = EndpointConfig(\n",
    "    name=\"claude code\",\n",
    "    provider=\"anthropic\",\n",
    "    base_url=\"http://localhost:8000/v1\",\n",
    "    endpoint=\"chat/completions\",\n",
    "    api_key=\"dummy_api_key\",\n",
    "    kwargs={\"model\": \"claude-4-sonnet-20250524\"},\n",
    ")\n",
    "claude_code = Endpoint(claude_code_config)"
   ]
  },
  {
   "cell_type": "code",
   "execution_count": 2,
   "id": "4c173814",
   "metadata": {},
   "outputs": [],
   "source": [
    "from lionagi import iModel\n",
    "\n",
    "claude_code = iModel(endpoint=claude_code)"
   ]
  },
  {
   "cell_type": "code",
   "execution_count": null,
   "id": "fe6dcca4",
   "metadata": {},
   "outputs": [],
   "source": [
    "result = await claude_code.invoke(\n",
    "    messages=[\n",
    "        {\"role\": \"user\", \"content\": \"reply in text only, Write a Python function to calculate the factorial of a number.\"}\n",
    "    ]\n",
    ")\n"
   ]
  },
  {
   "cell_type": "code",
   "execution_count": 6,
   "id": "88db9e9a",
   "metadata": {},
   "outputs": [
    {
     "data": {
      "text/plain": [
       "{'type': 'result',\n",
       " 'subtype': 'success',\n",
       " 'cost_usd': 0.085233,\n",
       " 'is_error': False,\n",
       " 'duration_ms': 6788,\n",
       " 'duration_api_ms': 6772,\n",
       " 'num_turns': 1,\n",
       " 'result': '```python\\ndef factorial(n):\\n    if n < 0:\\n        raise ValueError(\"Factorial is not defined for negative numbers\")\\n    if n == 0 or n == 1:\\n        return 1\\n    result = 1\\n    for i in range(2, n + 1):\\n        result *= i\\n    return result\\n```',\n",
       " 'session_id': '9bab09ab-1b0a-4170-8ff3-2d396c778c35',\n",
       " 'total_cost': 0.085233,\n",
       " 'usage': {'input_tokens': 3,\n",
       "  'cache_creation_input_tokens': 3392,\n",
       "  'cache_read_input_tokens': 10192,\n",
       "  'output_tokens': 84,\n",
       "  'server_tool_use': {'web_search_requests': 0}}}"
      ]
     },
     "execution_count": 6,
     "metadata": {},
     "output_type": "execute_result"
    }
   ],
   "source": [
    "result.response"
   ]
  }
 ],
 "metadata": {
  "kernelspec": {
   "display_name": "lionagi-dev",
   "language": "python",
   "name": "python3"
  },
  "language_info": {
   "codemirror_mode": {
    "name": "ipython",
    "version": 3
   },
   "file_extension": ".py",
   "mimetype": "text/x-python",
   "name": "python",
   "nbconvert_exporter": "python",
   "pygments_lexer": "ipython3",
   "version": "3.10.15"
  }
 },
 "nbformat": 4,
 "nbformat_minor": 5
}
