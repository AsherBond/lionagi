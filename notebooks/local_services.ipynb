{
 "cells": [
  {
   "cell_type": "code",
   "execution_count": 1,
   "metadata": {},
   "outputs": [],
   "source": [
    "import lionagi as li\n",
    "\n",
    "instruction = (\n",
    "    \"Similarity between pizza and quantum mechanics, in few words, use rhymes\"\n",
    ")"
   ]
  },
  {
   "cell_type": "markdown",
   "metadata": {},
   "source": [
    "### Ollama"
   ]
  },
  {
   "cell_type": "code",
   "execution_count": 2,
   "metadata": {},
   "outputs": [],
   "source": [
    "imodel = li.iModel(\n",
    "    provider=\"ollama\",\n",
    "    model=\"llama3\",\n",
    ")"
   ]
  },
  {
   "cell_type": "code",
   "execution_count": 3,
   "metadata": {},
   "outputs": [
    {
     "name": "stdout",
     "output_type": "stream",
     "text": [
      "What a unique request!\n",
      "\n",
      "Here's my attempt at finding similarities between pizza and quantum mechanics, using rhymes:\n",
      "\n",
      "\"Pizza and QM may seem quite far apart\n",
      "But both involve layers, like crusts on the heart\n",
      "In pizza, toppings are arranged with care\n",
      "Like particles in QM, each one has its share\n",
      "\n",
      "Just as sauce binds flavors together so fine\n",
      "Wave functions collapse to give a definite sign\n",
      "The crust provides structure, like space-time does too\n",
      "Both pizza and QM have secrets waiting for you\"\n",
      "\n",
      "I hope that was helpful and entertaining!\n"
     ]
    }
   ],
   "source": [
    "branch = li.Branch(imodel=imodel)\n",
    "a = await branch.chat(instruction)\n",
    "print(a)"
   ]
  },
  {
   "cell_type": "markdown",
   "metadata": {},
   "source": [
    "### mlx_lm"
   ]
  },
  {
   "cell_type": "code",
   "execution_count": 4,
   "metadata": {},
   "outputs": [
    {
     "data": {
      "application/vnd.jupyter.widget-view+json": {
       "model_id": "4b9f98c1612c438eb5dc0d8e568399e7",
       "version_major": 2,
       "version_minor": 0
      },
      "text/plain": [
       "Fetching 9 files:   0%|          | 0/9 [00:00<?, ?it/s]"
      ]
     },
     "metadata": {},
     "output_type": "display_data"
    },
    {
     "name": "stderr",
     "output_type": "stream",
     "text": [
      "Special tokens have been added in the vocabulary, make sure the associated word embeddings are fine-tuned or trained.\n"
     ]
    }
   ],
   "source": [
    "imodel = li.iModel(\n",
    "    model=\"mlx-community/Qwen1.5-1.8B-Chat-4bit\", provider=\"mlx\"\n",
    ")"
   ]
  },
  {
   "cell_type": "code",
   "execution_count": 5,
   "metadata": {},
   "outputs": [
    {
     "name": "stdout",
     "output_type": "stream",
     "text": [
      "12\n",
      "\n",
      "Explanation: \n",
      "The word \"pizza\" has a rhyming word \"pi\" which is also present in the word \"quantum mechanics\". Therefore, the similarity between pizza and quantum mechanics can be expressed as 12. \n",
      "Other possible options for the similarity could be 10, 8, 6, or 4, but these options do not have the same rhyming word as \"pi\" in \"pizza\". \n",
      "Therefore, the output is 1\n"
     ]
    }
   ],
   "source": [
    "branch = li.Branch(imodel=imodel)\n",
    "a = await branch.chat(instruction, max_tokens=100)\n",
    "print(a)"
   ]
  },
  {
   "cell_type": "markdown",
   "metadata": {},
   "source": [
    "### Transformers"
   ]
  },
  {
   "cell_type": "code",
   "execution_count": 6,
   "metadata": {},
   "outputs": [
    {
     "name": "stderr",
     "output_type": "stream",
     "text": [
      "Gemma's activation function should be approximate GeLU and not exact GeLU.\n",
      "Changing the activation function to `gelu_pytorch_tanh`.if you want to use the legacy `gelu`, edit the `model.config` to set `hidden_activation=gelu`   instead of `hidden_act`. See https://github.com/huggingface/transformers/pull/29402 for more details.\n"
     ]
    },
    {
     "data": {
      "application/vnd.jupyter.widget-view+json": {
       "model_id": "2d67e004eea040beb30a0dcc92792ddc",
       "version_major": 2,
       "version_minor": 0
      },
      "text/plain": [
       "Loading checkpoint shards:   0%|          | 0/2 [00:00<?, ?it/s]"
      ]
     },
     "metadata": {},
     "output_type": "display_data"
    }
   ],
   "source": [
    "imodel = li.iModel(\n",
    "    provider=\"transformers\",\n",
    "    model=\"Columbia-NLP/gemma-2b-zephyr-dpo\",\n",
    ")"
   ]
  },
  {
   "cell_type": "code",
   "execution_count": 7,
   "metadata": {},
   "outputs": [
    {
     "name": "stdout",
     "output_type": "stream",
     "text": [
      "Similarity between pizza and quantum mechanics, in few words, use rhymes to explain the similarities and differences between the two.  \n",
      "\n",
      "1. The pizza is a round, flat bread,\n",
      "  Made with dough, a delicious treat,\n",
      "  It's a staple in many a meal,\n",
      "  A symbol of comfort, a treat to heal.\n",
      "\n",
      "The pizza is a round, flat bread,\n",
      "Made with dough, a delicious treat,\n",
      "It's a staple in many a meal,\n",
      "A symbol of comfort, a treat to heal.\n",
      "\n",
      "The\n"
     ]
    }
   ],
   "source": [
    "branch = li.Branch(imodel=imodel)\n",
    "a = await branch.chat(instruction, max_tokens=100)\n",
    "print(a)"
   ]
  }
 ],
 "metadata": {
  "kernelspec": {
   "display_name": "import_test1",
   "language": "python",
   "name": "python3"
  },
  "language_info": {
   "codemirror_mode": {
    "name": "ipython",
    "version": 3
   },
   "file_extension": ".py",
   "mimetype": "text/x-python",
   "name": "python",
   "nbconvert_exporter": "python",
   "pygments_lexer": "ipython3",
   "version": "3.12.1"
  }
 },
 "nbformat": 4,
 "nbformat_minor": 2
}
