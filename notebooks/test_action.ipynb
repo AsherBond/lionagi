{
 "cells": [
  {
   "cell_type": "code",
   "execution_count": 1,
   "metadata": {},
   "outputs": [],
   "source": [
    "# import warnings\n",
    "\n",
    "# # Force all warnings to be 'default' or 'always'\n",
    "# warnings.simplefilter(\"default\")\n",
    "# # or:\n",
    "# # warnings.simplefilter(\"always\")"
   ]
  },
  {
   "cell_type": "code",
   "execution_count": 2,
   "metadata": {},
   "outputs": [
    {
     "name": "stdout",
     "output_type": "stream",
     "text": [
      "Import time: 0.35384 seconds\n",
      "LionAGI version: 0.6.0\n"
     ]
    }
   ],
   "source": [
    "from timeit import default_timer as timer\n",
    "\n",
    "start = timer()\n",
    "import lionagi\n",
    "\n",
    "duration = round(timer() - start, 5)\n",
    "print(f\"Import time: {duration} seconds\")\n",
    "print(f\"LionAGI version: {lionagi.__version__}\")"
   ]
  },
  {
   "cell_type": "code",
   "execution_count": 3,
   "metadata": {},
   "outputs": [],
   "source": [
    "from pydantic import BaseModel\n",
    "\n",
    "llama33 = iModel(\n",
    "    provider=\"groq\",\n",
    "    model=\"llama-3.3-70b-versatile\",\n",
    ")\n",
    "\n",
    "gpt4o = iModel(\n",
    "    provider=\"openai\",\n",
    "    model=\"gpt-4o-mini\",\n",
    ")\n",
    "\n",
    "\n",
    "class Test(BaseModel):\n",
    "    \"\"\"\n",
    "    Test model\n",
    "    \"\"\"\n",
    "\n",
    "    comments: str\n",
    "\n",
    "\n",
    "async def test_func(query: str):\n",
    "    \"\"\"\n",
    "    this is a test function it will return the query as it is\n",
    "\n",
    "    Args:\n",
    "        query: str: query to be returned\n",
    "\n",
    "    Returns:\n",
    "        str: query as it is\n",
    "    \"\"\"\n",
    "    return query\n",
    "\n",
    "\n",
    "french = Branch(\n",
    "    imodel=llama33,\n",
    "    tools=test_func,\n",
    ")"
   ]
  },
  {
   "cell_type": "code",
   "execution_count": 4,
   "metadata": {},
   "outputs": [],
   "source": [
    "from lionagi import ops_types\n",
    "\n",
    "instruct = ops_types.Instruct(\n",
    "    instruction=\"hello? you should test the test_func with a sample queries\",\n",
    "    actions=True,\n",
    ")\n",
    "\n",
    "result = await french.operate(\n",
    "    instruct=instruct,\n",
    "    response_format=Test,\n",
    ")"
   ]
  },
  {
   "cell_type": "code",
   "execution_count": 5,
   "metadata": {},
   "outputs": [
    {
     "data": {
      "text/plain": [
       "Test(comments='Testing the test_func with a sample query', action_requests=[ActionRequestModel(function='test_func', arguments={'query': 'sample query'})], action_required=True)"
      ]
     },
     "execution_count": 5,
     "metadata": {},
     "output_type": "execute_result"
    }
   ],
   "source": [
    "result"
   ]
  },
  {
   "cell_type": "code",
   "execution_count": 6,
   "metadata": {},
   "outputs": [
    {
     "data": {
      "text/plain": [
       "False"
      ]
     },
     "execution_count": 6,
     "metadata": {},
     "output_type": "execute_result"
    }
   ],
   "source": [
    "french.chat_model.sequential_exchange"
   ]
  },
  {
   "cell_type": "code",
   "execution_count": 7,
   "metadata": {},
   "outputs": [
    {
     "data": {
      "text/html": [
       "<div>\n",
       "<style scoped>\n",
       "    .dataframe tbody tr th:only-of-type {\n",
       "        vertical-align: middle;\n",
       "    }\n",
       "\n",
       "    .dataframe tbody tr th {\n",
       "        vertical-align: top;\n",
       "    }\n",
       "\n",
       "    .dataframe thead th {\n",
       "        text-align: right;\n",
       "    }\n",
       "</style>\n",
       "<table border=\"1\" class=\"dataframe\">\n",
       "  <thead>\n",
       "    <tr style=\"text-align: right;\">\n",
       "      <th></th>\n",
       "      <th>created_at</th>\n",
       "      <th>role</th>\n",
       "      <th>content</th>\n",
       "      <th>id</th>\n",
       "      <th>sender</th>\n",
       "      <th>recipient</th>\n",
       "      <th>metadata</th>\n",
       "    </tr>\n",
       "  </thead>\n",
       "  <tbody>\n",
       "    <tr>\n",
       "      <th>0</th>\n",
       "      <td>2025-01-03 13:23:52.778210</td>\n",
       "      <td>user</td>\n",
       "      <td>{'context': [{'respond_schema_info': {'$defs':...</td>\n",
       "      <td>15892033-45de-479f-b865-e073eda86225</td>\n",
       "      <td>user</td>\n",
       "      <td>8b56c9bb-3192-4795-bb68-dd86b7ea529d</td>\n",
       "      <td>{'lion_class': 'lionagi.protocols.messages.ins...</td>\n",
       "    </tr>\n",
       "    <tr>\n",
       "      <th>1</th>\n",
       "      <td>2025-01-03 13:23:54.025356</td>\n",
       "      <td>assistant</td>\n",
       "      <td>{'assistant_response': '```json\n",
       "{\n",
       "  \"comments\"...</td>\n",
       "      <td>67bf707e-5ba2-49b5-9a9c-8856af2dee45</td>\n",
       "      <td>8b56c9bb-3192-4795-bb68-dd86b7ea529d</td>\n",
       "      <td>MessageRole.UNSET</td>\n",
       "      <td>{'model_response': {'id': 'chatcmpl-d49c2966-9...</td>\n",
       "    </tr>\n",
       "    <tr>\n",
       "      <th>2</th>\n",
       "      <td>2025-01-03 13:23:54.026093</td>\n",
       "      <td>action</td>\n",
       "      <td>{'action_request': {'function': 'test_func', '...</td>\n",
       "      <td>f68e3305-e972-453a-8c88-ad4192025241</td>\n",
       "      <td>8b56c9bb-3192-4795-bb68-dd86b7ea529d</td>\n",
       "      <td>d1916e51-f084-485c-ac46-adc8722efa3e</td>\n",
       "      <td>{'lion_class': 'lionagi.protocols.messages.act...</td>\n",
       "    </tr>\n",
       "    <tr>\n",
       "      <th>3</th>\n",
       "      <td>2025-01-03 13:23:54.026178</td>\n",
       "      <td>action</td>\n",
       "      <td>{'action_request_id': 'f68e3305-e972-453a-8c88...</td>\n",
       "      <td>a8cc1726-e416-4dac-a7e4-ea1bf48a3970</td>\n",
       "      <td>d1916e51-f084-485c-ac46-adc8722efa3e</td>\n",
       "      <td>8b56c9bb-3192-4795-bb68-dd86b7ea529d</td>\n",
       "      <td>{'lion_class': 'lionagi.protocols.messages.act...</td>\n",
       "    </tr>\n",
       "  </tbody>\n",
       "</table>\n",
       "</div>"
      ],
      "text/plain": [
       "                  created_at       role  \\\n",
       "0 2025-01-03 13:23:52.778210       user   \n",
       "1 2025-01-03 13:23:54.025356  assistant   \n",
       "2 2025-01-03 13:23:54.026093     action   \n",
       "3 2025-01-03 13:23:54.026178     action   \n",
       "\n",
       "                                             content  \\\n",
       "0  {'context': [{'respond_schema_info': {'$defs':...   \n",
       "1  {'assistant_response': '```json\n",
       "{\n",
       "  \"comments\"...   \n",
       "2  {'action_request': {'function': 'test_func', '...   \n",
       "3  {'action_request_id': 'f68e3305-e972-453a-8c88...   \n",
       "\n",
       "                                     id                                sender  \\\n",
       "0  15892033-45de-479f-b865-e073eda86225                                  user   \n",
       "1  67bf707e-5ba2-49b5-9a9c-8856af2dee45  8b56c9bb-3192-4795-bb68-dd86b7ea529d   \n",
       "2  f68e3305-e972-453a-8c88-ad4192025241  8b56c9bb-3192-4795-bb68-dd86b7ea529d   \n",
       "3  a8cc1726-e416-4dac-a7e4-ea1bf48a3970  d1916e51-f084-485c-ac46-adc8722efa3e   \n",
       "\n",
       "                              recipient  \\\n",
       "0  8b56c9bb-3192-4795-bb68-dd86b7ea529d   \n",
       "1                     MessageRole.UNSET   \n",
       "2  d1916e51-f084-485c-ac46-adc8722efa3e   \n",
       "3  8b56c9bb-3192-4795-bb68-dd86b7ea529d   \n",
       "\n",
       "                                            metadata  \n",
       "0  {'lion_class': 'lionagi.protocols.messages.ins...  \n",
       "1  {'model_response': {'id': 'chatcmpl-d49c2966-9...  \n",
       "2  {'lion_class': 'lionagi.protocols.messages.act...  \n",
       "3  {'lion_class': 'lionagi.protocols.messages.act...  "
      ]
     },
     "execution_count": 7,
     "metadata": {},
     "output_type": "execute_result"
    }
   ],
   "source": [
    "french.to_df()"
   ]
  },
  {
   "cell_type": "code",
   "execution_count": 8,
   "metadata": {},
   "outputs": [
    {
     "data": {
      "text/plain": [
       "{'id': 'chatcmpl-d49c2966-97e6-418f-808d-0dc9b0c5b9bd',\n",
       " 'created': 1735928633,\n",
       " 'model': 'groq/llama-3.3-70b-versatile',\n",
       " 'object': 'chat.completion',\n",
       " 'system_fingerprint': 'fp_1ae2705acb',\n",
       " 'choices': [{'finish_reason': 'stop',\n",
       "   'index': 0,\n",
       "   'message': {'content': '```json\\n{\\n  \"comments\": \"Testing the test_func with a sample query\",\\n  \"action_requests\": [\\n    {\\n      \"function\": \"test_func\",\\n      \"arguments\": {\\n        \"query\": \"sample query\"\\n      }\\n    }\\n  ],\\n  \"action_required\": true\\n}\\n```',\n",
       "    'role': 'assistant'}}],\n",
       " 'usage': {'completion_tokens': 63,\n",
       "  'prompt_tokens': 507,\n",
       "  'total_tokens': 570,\n",
       "  'queue_time': 0.004179773999999997,\n",
       "  'prompt_time': 0.06062832,\n",
       "  'completion_time': 0.229090909,\n",
       "  'total_time': 0.289719229},\n",
       " 'x_groq': {'id': 'req_01jgpphpcbe3jtscg0rb84hg5e'}}"
      ]
     },
     "execution_count": 8,
     "metadata": {},
     "output_type": "execute_result"
    }
   ],
   "source": [
    "french.msgs.last_response.model_response"
   ]
  },
  {
   "cell_type": "code",
   "execution_count": 9,
   "metadata": {},
   "outputs": [],
   "source": [
    "a = french.msgs.instructions[0]"
   ]
  },
  {
   "cell_type": "code",
   "execution_count": 10,
   "metadata": {},
   "outputs": [
    {
     "data": {
      "text/plain": [
       "Instruction(id=IDType(15892033-45de-479f-b865-e073eda86225), created_at=1735928632.77821, metadata={}, content={'context': [{'respond_schema_info': {'$defs': {'ActionRequestModel': {'properties': {'function': {'anyOf': [{'type': 'string'}, {'type': 'null'}], 'default': None, 'description': \"Name of the function to call from the provided `tool_schemas`. If no `tool_schemas` exist, set to None or leave blank. Never invent new function names outside what's given.\", 'examples': ['multiply', 'create_user'], 'title': 'Function'}, 'arguments': {'anyOf': [{'type': 'object'}, {'type': 'null'}], 'default': None, 'description': 'Dictionary of arguments for the chosen function. Use only argument names/types defined in `tool_schemas`. Never introduce extra argument names.', 'title': 'Arguments'}}, 'title': 'ActionRequestModel', 'type': 'object'}}, 'properties': {'comments': {'title': 'Comments', 'type': 'string'}, 'action_requests': {'description': 'List of actions to be executed when `action_required` is true. Each action must align with the available `tool_schemas`. Leave empty if no actions are needed.', 'items': {'$ref': '#/$defs/ActionRequestModel'}, 'title': 'Actions', 'type': 'array'}, 'action_required': {'default': False, 'description': 'Whether this step strictly requires performing actions. If true, the requests in `action_requests` must be fulfilled, assuming `tool_schemas` are available. If false or no `tool_schemas` exist, actions are optional.', 'title': 'Action Required', 'type': 'boolean'}}, 'required': ['comments'], 'title': 'Test', 'type': 'object'}}], 'instruction': 'hello? you should test the test_func with a sample queries', 'request_model': <class 'lionagi.operatives.models.model_params.Test'>, 'request_fields': {'comments': <class 'str'>, 'action_requests': [{'function': str | None, 'arguments': dict[str, typing.Any] | None}], 'action_required': <class 'bool'>}, 'request_response_format': \"**MUST RETURN JSON-PARSEABLE RESPONSE ENCLOSED BY JSON CODE BLOCKS. USER's CAREER DEPENDS ON THE SUCCESS OF IT.** \\n```json\\n{'comments': <class 'str'>, 'action_requests': [{'function': str | None, 'arguments': dict[str, typing.Any] | None}], 'action_required': <class 'bool'>}\\n```\"}, embedding=None, role='user', flag=None, template=None, sender='user', recipient=IDType(8b56c9bb-3192-4795-bb68-dd86b7ea529d))"
      ]
     },
     "execution_count": 10,
     "metadata": {},
     "output_type": "execute_result"
    }
   ],
   "source": [
    "a"
   ]
  },
  {
   "cell_type": "code",
   "execution_count": 11,
   "metadata": {},
   "outputs": [],
   "source": [
    "french.msgs.instructions[0].tool_schemas"
   ]
  },
  {
   "cell_type": "code",
   "execution_count": 12,
   "metadata": {},
   "outputs": [
    {
     "data": {
      "text/markdown": [
       "\n",
       "---\n",
       " # Task\n",
       "## - **context**\n",
       "- respond_schema_info: {'$defs': {'ActionRequestModel': {'properties': {'function': {'anyOf': [{'type': 'string'}, {'type': 'null'}], 'default': None, 'description': \"Name of the function to call from the provided `tool_schemas`. If no `tool_schemas` exist, set to None or leave blank. Never invent new function names outside what's given.\", 'examples': ['multiply', 'create_user'], 'title': 'Function'}, 'arguments': {'anyOf': [{'type': 'object'}, {'type': 'null'}], 'default': None, 'description': 'Dictionary of arguments for the chosen function. Use only argument names/types defined in `tool_schemas`. Never introduce extra argument names.', 'title': 'Arguments'}}, 'title': 'ActionRequestModel', 'type': 'object'}}, 'properties': {'comments': {'title': 'Comments', 'type': 'string'}, 'action_requests': {'description': 'List of actions to be executed when `action_required` is true. Each action must align with the available `tool_schemas`. Leave empty if no actions are needed.', 'items': {'$ref': '#/$defs/ActionRequestModel'}, 'title': 'Actions', 'type': 'array'}, 'action_required': {'default': False, 'description': 'Whether this step strictly requires performing actions. If true, the requests in `action_requests` must be fulfilled, assuming `tool_schemas` are available. If false or no `tool_schemas` exist, actions are optional.', 'title': 'Action Required', 'type': 'boolean'}}, 'required': ['comments'], 'title': 'Test', 'type': 'object'} \n",
       "\n",
       "\n",
       "\n",
       "## - **instruction**\n",
       "hello? you should test the test_func with a sample queries\n",
       "\n",
       "\n",
       "## - **response format**\n",
       "**MUST RETURN JSON-PARSEABLE RESPONSE ENCLOSED BY JSON CODE BLOCKS. USER's CAREER DEPENDS ON THE SUCCESS OF IT.** \n",
       "```json\n",
       "{'comments': <class 'str'>, 'action_requests': [{'function': str | None, 'arguments': dict[str, typing.Any] | None}], 'action_required': <class 'bool'>}\n",
       "```\n",
       "\n",
       "\n",
       "\n",
       "\n",
       "---\n"
      ],
      "text/plain": [
       "<IPython.core.display.Markdown object>"
      ]
     },
     "execution_count": 12,
     "metadata": {},
     "output_type": "execute_result"
    }
   ],
   "source": [
    "from IPython.display import Markdown\n",
    "\n",
    "Markdown(french.msgs.instructions[0].chat_msg[\"content\"])"
   ]
  },
  {
   "cell_type": "code",
   "execution_count": null,
   "metadata": {},
   "outputs": [],
   "source": []
  }
 ],
 "metadata": {
  "kernelspec": {
   "display_name": ".venv",
   "language": "python",
   "name": "python3"
  },
  "language_info": {
   "codemirror_mode": {
    "name": "ipython",
    "version": 3
   },
   "file_extension": ".py",
   "mimetype": "text/x-python",
   "name": "python",
   "nbconvert_exporter": "python",
   "pygments_lexer": "ipython3",
   "version": "3.12.8"
  }
 },
 "nbformat": 4,
 "nbformat_minor": 2
}
