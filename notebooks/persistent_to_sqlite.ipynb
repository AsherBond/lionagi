{
 "cells": [
  {
   "cell_type": "code",
   "execution_count": 1,
   "id": "dc10cc9f",
   "metadata": {},
   "outputs": [],
   "source": [
    "from datetime import datetime\n",
    "from lionagi.protocols.types import Node\n",
    "from lionagi.adapters.async_postgres_adapter import LionAGIAsyncPostgresAdapter\n",
    "\n",
    "\n",
    "class MyNode(Node):\n",
    "    content: dict\n",
    "\n",
    "    @property\n",
    "    def title(self) -> str:\n",
    "        return self.content.get(\"title\", \"\")\n",
    "\n",
    "\n",
    "MyNode.register_async_adapter(LionAGIAsyncPostgresAdapter)\n",
    "\n",
    "node = MyNode(\n",
    "    content={\n",
    "        \"title\": \"My data\",\n",
    "        \"timestamp\": datetime.now(),\n",
    "        \"tags\": [\"example\", \"sqlite\"],\n",
    "    }\n",
    ")\n",
    "\n",
    "result = await node.adapt_to_async(\n",
    "    obj_key=\"lionagi_async_pg\",\n",
    "    dsn=\"sqlite+aiosqlite:///my_database.db\",\n",
    "    table=\"my_nodes\",\n",
    ")"
   ]
  },
  {
   "cell_type": "code",
   "execution_count": 2,
   "id": "891ed110",
   "metadata": {},
   "outputs": [],
   "source": [
    "result = await node.adapt_from_async(\n",
    "    {\n",
    "        \"obj_key\": \"lionagi_async_pg\",\n",
    "        \"dsn\": \"sqlite+aiosqlite:///my_database.db\",\n",
    "        \"table\": \"my_nodes\",\n",
    "    },\n",
    "    obj_key=\"lionagi_async_pg\",\n",
    ")"
   ]
  },
  {
   "cell_type": "code",
   "execution_count": 3,
   "id": "79506b5a",
   "metadata": {},
   "outputs": [
    {
     "name": "stdout",
     "output_type": "stream",
     "text": [
      "id=IDType(0febfae1-c71c-46ef-b41b-e9a08e6e1e6c) created_at=1753363623.174553 metadata={} content={'title': 'My data', 'timestamp': datetime.datetime(2025, 7, 24, 9, 27, 3, 174525), 'tags': ['example', 'sqlite']} embedding=None\n"
     ]
    }
   ],
   "source": [
    "print(result)"
   ]
  }
 ],
 "metadata": {
  "kernelspec": {
   "display_name": "lionagi",
   "language": "python",
   "name": "python3"
  },
  "language_info": {
   "codemirror_mode": {
    "name": "ipython",
    "version": 3
   },
   "file_extension": ".py",
   "mimetype": "text/x-python",
   "name": "python",
   "nbconvert_exporter": "python",
   "pygments_lexer": "ipython3",
   "version": "3.10.15"
  }
 },
 "nbformat": 4,
 "nbformat_minor": 5
}
