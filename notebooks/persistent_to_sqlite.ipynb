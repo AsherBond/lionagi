{
 "cells": [
  {
   "cell_type": "code",
   "execution_count": null,
   "id": "dc10cc9f",
   "metadata": {},
   "outputs": [],
   "source": [
    "from datetime import datetime\n",
    "from lionagi.protocols.types import Node\n",
    "from lionagi.adapters.async_postgres_adapter import LionAGIAsyncPostgresAdapter\n",
    "\n",
    "\n",
    "class MyNode(Node):\n",
    "    content: dict\n",
    "\n",
    "    @property\n",
    "    def title(self) -> str:\n",
    "        return self.content.get(\"title\", \"\")\n",
    "\n",
    "\n",
    "MyNode.register_async_adapter(LionAGIAsyncPostgresAdapter)\n",
    "\n",
    "node = MyNode(\n",
    "    content={\n",
    "        \"title\": \"My data\",\n",
    "        \"timestamp\": datetime.now(),\n",
    "        \"tags\": [\"example\", \"sqlite\"],\n",
    "    }\n",
    ")\n",
    "\n",
    "result = await node.adapt_to_async(\n",
    "    obj_key=\"lionagi_async_pg\",\n",
    "    dsn=\"sqlite+aiosqlite:///my_database.db\",\n",
    "    table=\"my_nodes\",\n",
    ")"
   ]
  }
 ],
 "metadata": {
  "kernelspec": {
   "display_name": "lionagi",
   "language": "python",
   "name": "python3"
  },
  "language_info": {
   "codemirror_mode": {
    "name": "ipython",
    "version": 3
   },
   "file_extension": ".py",
   "mimetype": "text/x-python",
   "name": "python",
   "nbconvert_exporter": "python",
   "pygments_lexer": "ipython3",
   "version": "3.10.15"
  }
 },
 "nbformat": 4,
 "nbformat_minor": 5
}
