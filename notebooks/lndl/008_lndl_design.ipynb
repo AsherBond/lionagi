{
 "cells": [
  {
   "cell_type": "code",
   "execution_count": null,
   "id": "c7dd62ca",
   "metadata": {},
   "outputs": [],
   "source": [
    "from pydantic import Field, BaseModel, ConfigDict\n",
    "\n",
    "\n",
    "class Report(BaseModel):\n",
    "    \"\"\"\n",
    "    A report model that can be used to generate reports based on the session data.\n",
    "    \"\"\"\n",
    "\n",
    "    model_config = ConfigDict(extra=\"forbid\")\n",
    "\n",
    "    title: str = Field(..., description=\"The title of the report\")\n",
    "    content: str = Field(..., description=\"The content of the report\")\n",
    "\n",
    "\n",
    "class ReportPackage(BaseModel):\n",
    "    \"\"\"\n",
    "    A package of reports that can be used to generate a summary report.\n",
    "    \"\"\"\n",
    "\n",
    "    good: Report = Field(..., description=\"A report that is considered good\")\n",
    "    bad: Report = Field(..., description=\"A report that is considered bad\")\n",
    "\n",
    "\n",
    "class ComplexityAssessment(BaseModel):\n",
    "    \"\"\"\n",
    "    A model that assesses the complexity of a given task.\n",
    "    \"\"\"\n",
    "\n",
    "    model_config = ConfigDict(extra=\"forbid\")\n",
    "\n",
    "    complexity_score: float = Field(\n",
    "        ..., description=\"A score representing the complexity of the task\"\n",
    "    )\n",
    "    details: str = Field(\n",
    "        ..., description=\"Details about the complexity assessment\"\n",
    "    )\n",
    "\n",
    "\n",
    "from openai import OpenAI\n",
    "\n",
    "client = OpenAI()\n",
    "\n",
    "responses = []\n",
    "for i in range(10):\n",
    "    response = client.responses.parse(\n",
    "        model=\"gpt-4.1-nano\",\n",
    "        input=\"Given topic of journey to the west, generate two different story titles and a brief summary for each.\",\n",
    "        text_format=ComplexityAssessment,\n",
    "    )\n",
    "    responses.append(response)\n",
    "\n",
    "complexity_scores = sum([i.complexity_score for i in responses])\n",
    "\n",
    "\n",
    "def critic1_score(*args, **kwargs):\n",
    "    return 0.5\n",
    "\n",
    "\n",
    "def critic2_score(*args, **kwargs):\n",
    "    \"\"\"\n",
    "    A critic operation that generates a report based on the session data.\n",
    "    \"\"\"\n",
    "    return 0.3\n",
    "\n",
    "\n",
    "text = \"\"\"\n",
    "<let lvar field_title option_one>money king on a jounrey<lvar/>\n",
    "<let lvar field_title option_two>four monks and their horse<lvar/>\n",
    "\n",
    "a = DO ACTION critic1_score(option_one) + DO ACTION critic2_score(option_one)\n",
    "b = DO ACTION critic2_score(option_two) + DO ACTION critic2_score(option_two)\n",
    "\n",
    "if *a > *b:\n",
    "    return option_one\n",
    "else:\n",
    "    return option_two\n",
    "\"\"\"\n",
    "\n",
    "\n",
    "a = critic1_score(response.good.title) + critic2_score(response.good.title)"
   ]
  },
  {
   "cell_type": "code",
   "execution_count": 2,
   "id": "062f97f6",
   "metadata": {},
   "outputs": [],
   "source": [
    "from lexer import Token, TokenType, Lexer\n",
    "from parser import Parser\n",
    "\n",
    "a = Lexer(text)\n",
    "a.tokenize()\n",
    "\n",
    "parser = Parser(a.tokens)"
   ]
  },
  {
   "cell_type": "code",
   "execution_count": 3,
   "id": "f2a8c6c2",
   "metadata": {},
   "outputs": [],
   "source": [
    "program = parser.parse()"
   ]
  },
  {
   "cell_type": "code",
   "execution_count": 4,
   "id": "a11df721",
   "metadata": {},
   "outputs": [
    {
     "data": {
      "text/plain": [
       "Program(stmts=[CogVar(field_type='title', name='option_one', content='money king on a jounrey'), CogVar(field_type='title', name='option_two', content='four monks and their horse'), Let(name='a', expr=BinaryOp(left=FuncCall(name='critic1_score', args=[Identifier(name='option_one')]), operator='+', right=FuncCall(name='critic2_score', args=[Identifier(name='option_one')]))), Let(name='b', expr=BinaryOp(left=FuncCall(name='critic2_score', args=[Identifier(name='option_two')]), operator='+', right=FuncCall(name='critic2_score', args=[Identifier(name='option_two')]))), If(condition=BinaryOp(left=Identifier(name='*a'), operator='>', right=Identifier(name='*b')), then_body=[ExprStmt(expr=Identifier(name='return')), ExprStmt(expr=Identifier(name='option_one'))], else_body=[ExprStmt(expr=Identifier(name='return')), ExprStmt(expr=Identifier(name='option_two'))])])"
      ]
     },
     "execution_count": 4,
     "metadata": {},
     "output_type": "execute_result"
    }
   ],
   "source": [
    "program"
   ]
  },
  {
   "cell_type": "code",
   "execution_count": 6,
   "id": "8c8af5ff",
   "metadata": {},
   "outputs": [
    {
     "data": {
      "text/plain": [
       "CogVar(field_type='title', name='option_one', content='money king on a jounrey')"
      ]
     },
     "execution_count": 6,
     "metadata": {},
     "output_type": "execute_result"
    }
   ],
   "source": [
    "program.stmts[0]"
   ]
  },
  {
   "cell_type": "code",
   "execution_count": 7,
   "id": "5f146868",
   "metadata": {},
   "outputs": [
    {
     "name": "stdout",
     "output_type": "stream",
     "text": [
      "CogVar(field_type='title', name='option_one', content='money king on a jounrey')\n",
      "CogVar(field_type='title', name='option_two', content='four monks and their horse')\n",
      "Let(name='a', expr=BinaryOp(left=FuncCall(name='critic1_score', args=[Identifier(name='option_one')]), operator='+', right=FuncCall(name='critic2_score', args=[Identifier(name='option_one')])))\n",
      "Let(name='b', expr=BinaryOp(left=FuncCall(name='critic2_score', args=[Identifier(name='option_two')]), operator='+', right=FuncCall(name='critic2_score', args=[Identifier(name='option_two')])))\n",
      "If(condition=BinaryOp(left=Identifier(name='*a'), operator='>', right=Identifier(name='*b')), then_body=[ExprStmt(expr=Identifier(name='return')), ExprStmt(expr=Identifier(name='option_one'))], else_body=[ExprStmt(expr=Identifier(name='return')), ExprStmt(expr=Identifier(name='option_two'))])\n"
     ]
    }
   ],
   "source": [
    "for i in program.stmts:\n",
    "    print(i)"
   ]
  },
  {
   "cell_type": "code",
   "execution_count": null,
   "id": "3317f82a",
   "metadata": {},
   "outputs": [],
   "source": []
  },
  {
   "cell_type": "code",
   "execution_count": null,
   "id": "vujv65l70o",
   "metadata": {},
   "outputs": [],
   "source": [
    "# Test the fixed parser\n",
    "from lexer import Token, TokenType, Lexer\n",
    "from parser import Parser\n",
    "\n",
    "text = \"\"\"\n",
    "<let lvar field_title option_one>money king on a jounrey<lvar/>\n",
    "<let lvar field_title option_two>four monks and their horse<lvar/>\n",
    "\n",
    "```lndl\n",
    "a = DO ACTION critic1_score(option_one) + DO ACTION critic2_score(option_one)\n",
    "b = DO ACTION critic2_score(option_two) + DO ACTION critic2_score(option_two)\n",
    "\n",
    "if *a > *b:\n",
    "    return option_one\n",
    "else:\n",
    "    return option_two\n",
    "```\n",
    "\"\"\"\n",
    "\n",
    "# Test lexer\n",
    "lexer = Lexer(text)\n",
    "tokens = lexer.tokenize()\n",
    "\n",
    "print(\"=== TOKENS ===\")\n",
    "for i, token in enumerate(tokens[:20]):  # Show first 20 tokens\n",
    "    print(\n",
    "        f\"{i:2d}: {token.type.name:12} | {repr(token.value):20} | L{token.line}:C{token.column}\"\n",
    "    )\n",
    "\n",
    "print(f\"\\n... showing first 20 of {len(tokens)} total tokens\")\n",
    "\n",
    "# Test parser\n",
    "parser = Parser(tokens)\n",
    "try:\n",
    "    ast = parser.parse()\n",
    "    print(\"\\n=== PARSING SUCCESS ===\")\n",
    "    print(f\"Parsed {len(ast.stmts)} statements:\")\n",
    "    for i, stmt in enumerate(ast.stmts):\n",
    "        print(f\"{i + 1}: {type(stmt).__name__}\")\n",
    "except Exception as e:\n",
    "    print(f\"\\n=== PARSING ERROR ===\")\n",
    "    print(f\"Error: {e}\")"
   ]
  }
 ],
 "metadata": {
  "kernelspec": {
   "display_name": "lionagi",
   "language": "python",
   "name": "python3"
  },
  "language_info": {
   "codemirror_mode": {
    "name": "ipython",
    "version": 3
   },
   "file_extension": ".py",
   "mimetype": "text/x-python",
   "name": "python",
   "nbconvert_exporter": "python",
   "pygments_lexer": "ipython3",
   "version": "3.10.15"
  }
 },
 "nbformat": 4,
 "nbformat_minor": 5
}
