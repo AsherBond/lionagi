{
 "cells": [
  {
   "cell_type": "code",
   "execution_count": 1,
   "id": "4a9d5941",
   "metadata": {},
   "outputs": [],
   "source": [
    "from enum import Enum\n",
    "\n",
    "\n",
    "class StringEnum(str, Enum):\n",
    "    @classmethod\n",
    "    def allowed(cls) -> tuple[str, ...]:\n",
    "        return tuple(e.value for e in cls)\n",
    "\n",
    "\n",
    "class HookTypes(StringEnum):\n",
    "    \"\"\"\n",
    "    Enum for hook types.\n",
    "    \"\"\"\n",
    "\n",
    "    PRE = \"pre\"\n",
    "    POST = \"post\"\n",
    "    ON_ERROR = \"on_error\""
   ]
  },
  {
   "cell_type": "code",
   "execution_count": 2,
   "id": "4e3562c6",
   "metadata": {},
   "outputs": [
    {
     "data": {
      "text/plain": [
       "('pre', 'post', 'on_error')"
      ]
     },
     "execution_count": 2,
     "metadata": {},
     "output_type": "execute_result"
    }
   ],
   "source": [
    "HookTypes.allowed()"
   ]
  },
  {
   "cell_type": "code",
   "execution_count": 6,
   "id": "c753a8d7",
   "metadata": {},
   "outputs": [
    {
     "name": "stdout",
     "output_type": "stream",
     "text": [
      "True\n",
      "True\n"
     ]
    }
   ],
   "source": [
    "hook = HookTypes.PRE\n",
    "hook2 = \"pre\"\n",
    "\n",
    "f = lambda hook: (\n",
    "    True if isinstance(hook, HookTypes) else hook in HookTypes.allowed()\n",
    ")\n",
    "print(f(hook))  # True\n",
    "print(f(hook2))  # True"
   ]
  },
  {
   "cell_type": "code",
   "execution_count": null,
   "id": "b59c7da5",
   "metadata": {},
   "outputs": [],
   "source": [
    "from dataclasses import dataclass, field\n",
    "from typing import ClassVar\n",
    "\n",
    "\n",
    "@dataclass(slots=True, frozen=True, init=False)\n",
    "class Params:\n",
    "    \"\"\"Base class for parameters used in various functions.\"\"\"\n",
    "\n",
    "    _strict: ClassVar[bool] = field(default=False, repr=False, init=False)\n",
    "    _allowed_keys: ClassVar[set[str]] = field(\n",
    "        default=set(), init=False, repr=False\n",
    "    )\n",
    "\n",
    "    @classmethod\n",
    "    def allowed(cls) -> set[str]:\n",
    "        \"\"\"Return the keys of the parameters.\"\"\"\n",
    "        if cls._allowed_keys:\n",
    "            return cls._allowed_keys\n",
    "        cls._allowed_keys = {\n",
    "            i for i in cls.__dataclass_fields__.keys() if not i.startswith(\"_\")\n",
    "        }\n",
    "        return cls._allowed_keys\n",
    "\n",
    "    def to_dict(self) -> dict[str, str]:\n",
    "        data = {}\n",
    "        for k in self.allowed():\n",
    "            if (v := getattr(self, k)) is not Unset:\n",
    "                data[k] = v"
   ]
  },
  {
   "cell_type": "code",
   "execution_count": 4,
   "id": "c61c5f7f",
   "metadata": {},
   "outputs": [
    {
     "name": "stdout",
     "output_type": "stream",
     "text": [
      "set()\n",
      "{'mono'}\n"
     ]
    }
   ],
   "source": [
    "print(Params._allowed_keys)\n",
    "Params.allowed()\n",
    "print(Params._allowed_keys)"
   ]
  },
  {
   "cell_type": "code",
   "execution_count": null,
   "id": "3da05cf9",
   "metadata": {},
   "outputs": [],
   "source": [
    "import re\n",
    "from lionagi._utils import Undefined, Unset, is_sentinel\n",
    "\n",
    "from typing import Any, ClassVar\n",
    "\n",
    "\n",
    "@dataclass(slots=True, frozen=True, init=False)\n",
    "class Params:\n",
    "    \"\"\"Base class for parameters used in various functions.\"\"\"\n",
    "\n",
    "    _none_as_sentinel: ClassVar[bool] = field(\n",
    "        default=False, repr=False, init=False\n",
    "    )\n",
    "    \"\"\"If True, None is treated as a sentinel value.\"\"\"\n",
    "\n",
    "    _strict: ClassVar[bool] = field(default=False, repr=False, init=False)\n",
    "    \"\"\"No sentinels allowed if strict is True.\"\"\"\n",
    "\n",
    "    _allowed_keys: ClassVar[set[str]] = field(\n",
    "        default=set(), init=False, repr=False\n",
    "    )\n",
    "    \"\"\"Class variable cache to store allowed keys for parameters.\"\"\"\n",
    "\n",
    "    _prefill_unset: ClassVar[bool] = field(\n",
    "        default=True, repr=False, init=False\n",
    "    )\n",
    "\n",
    "    @classmethod\n",
    "    def _is_sentinel(cls, value: Any) -> bool:\n",
    "        \"\"\"Check if a value is a sentinel (Undefined or Unset).\"\"\"\n",
    "        if value is None and cls._none_as_sentinel:\n",
    "            return True\n",
    "        return is_sentinel(value)\n",
    "\n",
    "    def _validate_strict_unset(self) -> None:\n",
    "        def _validate_strict(k):\n",
    "            if self._strict and self._is_sentinel(getattr(self, k, Unset)):\n",
    "                raise ValueError(f\"Missing required parameter: {k}\")\n",
    "            if (\n",
    "                self._prefill_unset\n",
    "                and getattr(self, k, Undefined) is Undefined\n",
    "            ):\n",
    "                object.__setattr__(self, k, Unset)\n",
    "\n",
    "        for k in self.allowed():\n",
    "            _validate_strict(k)\n",
    "\n",
    "    def __post_init__(self):\n",
    "        \"\"\"Post-initialization to ensure all fields are set.\"\"\"\n",
    "        self._validate_strict_unset()\n",
    "\n",
    "    @classmethod\n",
    "    def allowed(cls) -> set[str]:\n",
    "        \"\"\"Return the keys of the parameters.\"\"\"\n",
    "        if cls._allowed_keys:\n",
    "            return cls._allowed_keys\n",
    "        cls._allowed_keys = {\n",
    "            i for i in cls.__dataclass_fields__.keys() if not i.startswith(\"_\")\n",
    "        }\n",
    "        return cls._allowed_keys\n",
    "\n",
    "    def to_dict(self) -> dict[str, str]:\n",
    "        data = {}\n",
    "        for k in self.allowed():\n",
    "            if not self._is_sentinel(v := getattr(self, k)):\n",
    "                data[k] = v\n",
    "        return data"
   ]
  },
  {
   "cell_type": "code",
   "execution_count": null,
   "id": "697f3556",
   "metadata": {},
   "outputs": [],
   "source": []
  }
 ],
 "metadata": {
  "kernelspec": {
   "display_name": "lionagi",
   "language": "python",
   "name": "python3"
  },
  "language_info": {
   "codemirror_mode": {
    "name": "ipython",
    "version": 3
   },
   "file_extension": ".py",
   "mimetype": "text/x-python",
   "name": "python",
   "nbconvert_exporter": "python",
   "pygments_lexer": "ipython3",
   "version": "3.10.15"
  }
 },
 "nbformat": 4,
 "nbformat_minor": 5
}
