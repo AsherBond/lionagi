{
 "cells": [
  {
   "cell_type": "code",
   "execution_count": 1,
   "metadata": {},
   "outputs": [],
   "source": [
    "# %pip uninstall lion-core lionagi -y\n",
    "# %pip install -e /Users/lion/lion-core/\n",
    "# %pip install -e /Users/lion/lionagi/"
   ]
  },
  {
   "cell_type": "code",
   "execution_count": 2,
   "metadata": {},
   "outputs": [],
   "source": [
    "import lionagi.operations as ops"
   ]
  },
  {
   "cell_type": "code",
   "execution_count": 3,
   "metadata": {},
   "outputs": [
    {
     "name": "stdout",
     "output_type": "stream",
     "text": [
      "Lionagi version 0.3.8\n"
     ]
    }
   ],
   "source": [
    "from lionagi import __version__\n",
    "\n",
    "print(f\"Lionagi version {__version__}\")"
   ]
  },
  {
   "cell_type": "code",
   "execution_count": 4,
   "metadata": {},
   "outputs": [],
   "source": [
    "from lion_service import iModel\n",
    "\n",
    "gpt4o = iModel(\n",
    "    provider=\"openai\",\n",
    "    api_key=\"OPENAI_API_KEY\",\n",
    "    model=\"gpt-4o\",\n",
    "    task=\"chat\",\n",
    "    temperature=0.1,\n",
    ")\n",
    "\n",
    "choices = [\n",
    "    \"cry\",\n",
    "    \"call for help\",\n",
    "    \"run towards\",\n",
    "    \"fight\",\n",
    "    \"flee\",\n",
    "    \"scream\",\n",
    "    \"hide\",\n",
    "]\n",
    "instruction = \"rank the following actions in order of preference\"\n",
    "guidance = \"think carefully on the most effective choice, hint: certain obivious choices may not be the best\""
   ]
  },
  {
   "cell_type": "code",
   "execution_count": 5,
   "metadata": {},
   "outputs": [],
   "source": [
    "from lion_core.session.branch import Branch\n",
    "\n",
    "comedian = Branch()\n",
    "\n",
    "response, branch = await ops.select(\n",
    "    choices=choices,\n",
    "    instruction=instruction,\n",
    "    guidance=guidance,\n",
    "    context=\"You are in a forest and you see a bear\",\n",
    "    reason=True,\n",
    "    imodel=gpt4o,\n",
    "    num_parse_retries=3,\n",
    "    clear_messages=True,\n",
    "    return_branch=True,\n",
    "    branch_user=comedian,\n",
    ")"
   ]
  },
  {
   "cell_type": "code",
   "execution_count": 6,
   "metadata": {},
   "outputs": [
    {
     "data": {
      "text/html": [
       "<div>\n",
       "<style scoped>\n",
       "    .dataframe tbody tr th:only-of-type {\n",
       "        vertical-align: middle;\n",
       "    }\n",
       "\n",
       "    .dataframe tbody tr th {\n",
       "        vertical-align: top;\n",
       "    }\n",
       "\n",
       "    .dataframe thead th {\n",
       "        text-align: right;\n",
       "    }\n",
       "</style>\n",
       "<table border=\"1\" class=\"dataframe\">\n",
       "  <thead>\n",
       "    <tr style=\"text-align: right;\">\n",
       "      <th></th>\n",
       "      <th>ln_id</th>\n",
       "      <th>sender</th>\n",
       "      <th>recipient</th>\n",
       "    </tr>\n",
       "  </thead>\n",
       "  <tbody>\n",
       "    <tr>\n",
       "      <th>0</th>\n",
       "      <td>ln6e3961800f1927b-33ccbba0d-d-25-6ccdfdc77</td>\n",
       "      <td>ln37221cdd83b47-f7ab21faf6c4-f16-9-63ab977</td>\n",
       "      <td>ln06dbcf-a-1d0444-37169-19c65e863ffa262fd6</td>\n",
       "    </tr>\n",
       "    <tr>\n",
       "      <th>1</th>\n",
       "      <td>lnb96665-5532dea-8ef-c01e5d69-84aa6025e377</td>\n",
       "      <td>ln06dbcf-a-1d0444-37169-19c65e863ffa262fd6</td>\n",
       "      <td>ln37221cdd83b47-f7ab21faf6c4-f16-9-63ab977</td>\n",
       "    </tr>\n",
       "  </tbody>\n",
       "</table>\n",
       "</div>"
      ],
      "text/plain": [
       "                                        ln_id  \\\n",
       "0  ln6e3961800f1927b-33ccbba0d-d-25-6ccdfdc77   \n",
       "1  lnb96665-5532dea-8ef-c01e5d69-84aa6025e377   \n",
       "\n",
       "                                       sender  \\\n",
       "0  ln37221cdd83b47-f7ab21faf6c4-f16-9-63ab977   \n",
       "1  ln06dbcf-a-1d0444-37169-19c65e863ffa262fd6   \n",
       "\n",
       "                                    recipient  \n",
       "0  ln06dbcf-a-1d0444-37169-19c65e863ffa262fd6  \n",
       "1  ln37221cdd83b47-f7ab21faf6c4-f16-9-63ab977  "
      ]
     },
     "execution_count": 6,
     "metadata": {},
     "output_type": "execute_result"
    }
   ],
   "source": [
    "branch.messages.to_df(columns=[\"ln_id\", \"sender\", \"recipient\"])"
   ]
  },
  {
   "cell_type": "code",
   "execution_count": 7,
   "metadata": {},
   "outputs": [
    {
     "data": {
      "text/markdown": [
       "```json\n",
       "{\n",
       "    \"selected\": [\n",
       "        \"flee\"\n",
       "    ],\n",
       "    \"reason\": {\n",
       "        \"title\": \"Optimal Response to Bear Encounter\",\n",
       "        \"content\": \"In a situation where you encounter a bear in the forest, the most effective action is to flee if it is safe to do so. This choice minimizes the risk of provoking the bear and increases the chances of escaping unharmed. Other actions like crying, calling for help, running towards, fighting, screaming, or hiding are less effective and could potentially escalate the situation.\",\n",
       "        \"confidence_score\": 0.923\n",
       "    }\n",
       "}\n",
       "```"
      ],
      "text/plain": [
       "<IPython.core.display.Markdown object>"
      ]
     },
     "execution_count": 7,
     "metadata": {},
     "output_type": "execute_result"
    }
   ],
   "source": [
    "from lionfuncs import as_readable\n",
    "from IPython.display import display, Markdown\n",
    "\n",
    "Markdown(as_readable(response, md=True))"
   ]
  },
  {
   "cell_type": "code",
   "execution_count": 8,
   "metadata": {},
   "outputs": [
    {
     "data": {
      "text/html": [
       "<div>\n",
       "<style scoped>\n",
       "    .dataframe tbody tr th:only-of-type {\n",
       "        vertical-align: middle;\n",
       "    }\n",
       "\n",
       "    .dataframe tbody tr th {\n",
       "        vertical-align: top;\n",
       "    }\n",
       "\n",
       "    .dataframe thead th {\n",
       "        text-align: right;\n",
       "    }\n",
       "</style>\n",
       "<table border=\"1\" class=\"dataframe\">\n",
       "  <thead>\n",
       "    <tr style=\"text-align: right;\">\n",
       "      <th></th>\n",
       "      <th>timestamp</th>\n",
       "      <th>lion_class</th>\n",
       "      <th>role</th>\n",
       "      <th>content</th>\n",
       "      <th>ln_id</th>\n",
       "      <th>sender</th>\n",
       "      <th>recipient</th>\n",
       "      <th>metadata</th>\n",
       "    </tr>\n",
       "  </thead>\n",
       "  <tbody>\n",
       "    <tr>\n",
       "      <th>0</th>\n",
       "      <td>2024-10-26 05:09:27.582294+00:00</td>\n",
       "      <td>Instruction</td>\n",
       "      <td>user</td>\n",
       "      <td>{'context': ['You are in a forest and you see ...</td>\n",
       "      <td>ln6e3961800f1927b-33ccbba0d-d-25-6ccdfdc77</td>\n",
       "      <td>ln37221cdd83b47-f7ab21faf6c4-f16-9-63ab977</td>\n",
       "      <td>ln06dbcf-a-1d0444-37169-19c65e863ffa262fd6</td>\n",
       "      <td>{'last_updated': {'recipient': 1729919369.9400...</td>\n",
       "    </tr>\n",
       "    <tr>\n",
       "      <th>1</th>\n",
       "      <td>2024-10-26 05:09:29.939683+00:00</td>\n",
       "      <td>AssistantResponse</td>\n",
       "      <td>assistant</td>\n",
       "      <td>{'assistant_response': '```json\n",
       "{\n",
       "    \"selecte...</td>\n",
       "      <td>lnb96665-5532dea-8ef-c01e5d69-84aa6025e377</td>\n",
       "      <td>ln06dbcf-a-1d0444-37169-19c65e863ffa262fd6</td>\n",
       "      <td>ln37221cdd83b47-f7ab21faf6c4-f16-9-63ab977</td>\n",
       "      <td>{'model_response': {'id': 'chatcmpl-AMTLENsLEO...</td>\n",
       "    </tr>\n",
       "  </tbody>\n",
       "</table>\n",
       "</div>"
      ],
      "text/plain": [
       "                         timestamp         lion_class       role  \\\n",
       "0 2024-10-26 05:09:27.582294+00:00        Instruction       user   \n",
       "1 2024-10-26 05:09:29.939683+00:00  AssistantResponse  assistant   \n",
       "\n",
       "                                             content  \\\n",
       "0  {'context': ['You are in a forest and you see ...   \n",
       "1  {'assistant_response': '```json\n",
       "{\n",
       "    \"selecte...   \n",
       "\n",
       "                                        ln_id  \\\n",
       "0  ln6e3961800f1927b-33ccbba0d-d-25-6ccdfdc77   \n",
       "1  lnb96665-5532dea-8ef-c01e5d69-84aa6025e377   \n",
       "\n",
       "                                       sender  \\\n",
       "0  ln37221cdd83b47-f7ab21faf6c4-f16-9-63ab977   \n",
       "1  ln06dbcf-a-1d0444-37169-19c65e863ffa262fd6   \n",
       "\n",
       "                                    recipient  \\\n",
       "0  ln06dbcf-a-1d0444-37169-19c65e863ffa262fd6   \n",
       "1  ln37221cdd83b47-f7ab21faf6c4-f16-9-63ab977   \n",
       "\n",
       "                                            metadata  \n",
       "0  {'last_updated': {'recipient': 1729919369.9400...  \n",
       "1  {'model_response': {'id': 'chatcmpl-AMTLENsLEO...  "
      ]
     },
     "execution_count": 8,
     "metadata": {},
     "output_type": "execute_result"
    }
   ],
   "source": [
    "branch.to_df()"
   ]
  },
  {
   "cell_type": "code",
   "execution_count": 9,
   "metadata": {},
   "outputs": [],
   "source": [
    "from lionfuncs import copy\n",
    "\n",
    "config = copy(gpt4o.configs)\n",
    "config.update({\"model\": gpt4o.model})"
   ]
  },
  {
   "cell_type": "code",
   "execution_count": 10,
   "metadata": {},
   "outputs": [
    {
     "data": {
      "text/plain": [
       "{'temperature': 0.1, 'model': 'gpt-4o'}"
      ]
     },
     "execution_count": 10,
     "metadata": {},
     "output_type": "execute_result"
    }
   ],
   "source": [
    "config"
   ]
  },
  {
   "cell_type": "code",
   "execution_count": 11,
   "metadata": {},
   "outputs": [
    {
     "data": {
      "text/plain": [
       "'ln37221cdd83b47-f7ab21faf6c4-f16-9-63ab977'"
      ]
     },
     "execution_count": 11,
     "metadata": {},
     "output_type": "execute_result"
    }
   ],
   "source": [
    "branch.user"
   ]
  },
  {
   "cell_type": "code",
   "execution_count": 12,
   "metadata": {},
   "outputs": [
    {
     "data": {
      "text/plain": [
       "{'timestamp': datetime.datetime(2024, 10, 26, 5, 9, 27, 582294, tzinfo=datetime.timezone.utc),\n",
       " 'ln_id': 'ln6e3961800f1927b-33ccbba0d-d-25-6ccdfdc77',\n",
       " 'sender': 'ln37221cdd83b47-f7ab21faf6c4-f16-9-63ab977',\n",
       " 'recipient': 'ln06dbcf-a-1d0444-37169-19c65e863ffa262fd6',\n",
       " 'metadata': {'last_updated': {'recipient': 1729919369.940089}},\n",
       " 'content': {'context': ['You are in a forest and you see a bear',\n",
       "   {'respond_schema_info': {'$defs': {'ReasonModel': {'properties': {'title': {'anyOf': [{'type': 'string'},\n",
       "          {'type': 'null'}],\n",
       "         'default': None,\n",
       "         'title': 'Title'},\n",
       "        'content': {'anyOf': [{'type': 'string'}, {'type': 'null'}],\n",
       "         'default': None,\n",
       "         'title': 'Content'},\n",
       "        'confidence_score': {'anyOf': [{'type': 'number'}, {'type': 'null'}],\n",
       "         'default': None,\n",
       "         'description': 'Provide an objective numeric confidence score between 0 and 1 (with 3 decimal places) indicating how likely you successfully achieved the task according to user expectation. Interpret the score as:\\n- **1**: Very confident in a good job.\\n- **0**: Not confident at all.\\n- **[0.8, 1]**: You can continue the path of reasoning if needed.\\n- **[0.5, 0.8)**: Recheck your reasoning and consider reverting to a previous, more confident reasoning path.\\n- **[0, 0.5)**: Stop because the reasoning is starting to be off track.',\n",
       "         'examples': [0.821, 0.257, 0.923, 0.439],\n",
       "         'title': 'Confidence Score'}},\n",
       "       'title': 'ReasonModel',\n",
       "       'type': 'object'}},\n",
       "     'properties': {'selected': {'items': {'anyOf': [{'type': 'string'},\n",
       "         {'description': \"Create a collection of name/value pairs.\\n\\nExample enumeration:\\n\\n>>> class Color(Enum):\\n...     RED = 1\\n...     BLUE = 2\\n...     GREEN = 3\\n\\nAccess them by:\\n\\n- attribute access:\\n\\n  >>> Color.RED\\n  <Color.RED: 1>\\n\\n- value lookup:\\n\\n  >>> Color(1)\\n  <Color.RED: 1>\\n\\n- name lookup:\\n\\n  >>> Color['RED']\\n  <Color.RED: 1>\\n\\nEnumerations can be iterated over, and know how many members they have:\\n\\n>>> len(Color)\\n3\\n\\n>>> list(Color)\\n[<Color.RED: 1>, <Color.BLUE: 2>, <Color.GREEN: 3>]\\n\\nMethods can be added to enumerations, and members can have their own\\nattributes -- see the documentation for details.\",\n",
       "          'enum': [],\n",
       "          'title': 'Enum'}]},\n",
       "       'title': 'Selected',\n",
       "       'type': 'array'},\n",
       "      'reason': {'anyOf': [{'$ref': '#/$defs/ReasonModel'}, {'type': 'null'}],\n",
       "       'default': None,\n",
       "       'description': '**a concise reasoning for the step**',\n",
       "       'title': 'Reason'}},\n",
       "     'title': 'SelectionModelRequest',\n",
       "     'type': 'object'}},\n",
       "   None],\n",
       "  'guidance': 'think carefully on the most effective choice, hint: certain obivious choices may not be the best',\n",
       "  'instruction': \"rank the following actions in order of preference\\n\\nPlease select up to 1 items from the following list ['cry', 'call for help', 'run towards', 'fight', 'flee', 'scream', 'hide']. Provide the selection(s) into appropriate field in format required, and no comments from you \\n\\n \",\n",
       "  'request_fields': {'reason': lion_core.operative.reason_model.ReasonModel | None},\n",
       "  'request_response_format': \"**MUST RETURN JSON-PARSEABLE RESPONSE ENCLOSED BY JSON CODE BLOCKS.** \\n```json\\n{'reason': lion_core.operative.reason_model.ReasonModel | None}\\n```\"},\n",
       " 'role': 'user',\n",
       " 'lion_class': 'Instruction'}"
      ]
     },
     "execution_count": 12,
     "metadata": {},
     "output_type": "execute_result"
    }
   ],
   "source": [
    "branch.messages[0].formatted_dict"
   ]
  },
  {
   "cell_type": "code",
   "execution_count": 13,
   "metadata": {},
   "outputs": [],
   "source": [
    "res2, branch = await ops.brainstorm(\n",
    "    num_steps=3,\n",
    "    instruction=f\"{instruction}\\nChoices:{choices}\",\n",
    "    guidance=guidance,\n",
    "    context=\"You are in a forest and you see a bear\",\n",
    "    imodel=gpt4o,\n",
    "    num_parse_retries=3,\n",
    "    clear_messages=True,\n",
    "    reason=True,\n",
    "    return_branch=True,\n",
    ")"
   ]
  },
  {
   "cell_type": "code",
   "execution_count": 14,
   "metadata": {},
   "outputs": [
    {
     "data": {
      "text/markdown": [
       "```json\n",
       "{\n",
       "    \"topic\": \"\",\n",
       "    \"ideas\": [],\n",
       "    \"reason\": {\n",
       "        \"title\": \"Ranking Actions When Encountering a Bear\",\n",
       "        \"content\": \"When encountering a bear in the forest, the primary goal is to ensure personal safety. The most effective actions are those that minimize the risk of provoking the bear or putting oneself in danger. Based on general wildlife safety guidelines, the recommended order of actions is as follows: 1) Hide - This action minimizes visibility and potential threat to the bear. 2) Flee - If the bear has not noticed you, quietly moving away can be a safe option. 3) Call for help - If you have a phone or device, calling for help can bring assistance. Actions like 'cry', 'scream', 'run towards', and 'fight' are less preferred as they can provoke the bear or increase danger. Therefore, the ranking is: hide, flee, call for help, cry, scream, run towards, fight.\",\n",
       "        \"confidence_score\": 0.95\n",
       "    }\n",
       "}\n",
       "```"
      ],
      "text/plain": [
       "<IPython.core.display.Markdown object>"
      ]
     },
     "execution_count": 14,
     "metadata": {},
     "output_type": "execute_result"
    }
   ],
   "source": [
    "Markdown(as_readable(res2, md=True))"
   ]
  },
  {
   "cell_type": "code",
   "execution_count": 15,
   "metadata": {},
   "outputs": [
    {
     "data": {
      "text/plain": [
       "AssistantResponse(ln_id='ln6e31ce37a7-c6aaba05-b-bbac3190-d915051c1', timestamp=2024-10-26 05:09:32.683534, content={'assistant_response': '```json\\n{\\n    \"reason\": {\\n        \"title\": \"Ranking Actions When Encou..., metadata={'model_response': {'id': 'chatcmpl-AMTLGmloC0F0n7EZsK6fkQfnb7nh1', 'choices': [{'finish_reason': 'stop', 'index': 0, 'message': {'content': '```json\\n{\\n    \"reason\": {\\n        \"title\": \"Ranking Actions When Encountering a Bear\",\\n        \"content\": \"When encountering a bear in the forest, the primary goal is to ensure personal safety. The most effective actions are those that minimize the risk of provoking the bear or putting oneself in danger. Based on general wildlife safety guidelines, the recommended order of actions is as follows: 1) Hide - This action minimizes visibility and potential threat to the bear. 2) Flee - If the bear has not noticed you, quietly moving away can be a safe option. 3) Call for help - If you have a phone or device, calling for help can bring assistance. Actions like \\'cry\\', \\'scream\\', \\'run towards\\', and \\'fight\\' are less preferred as they can provoke the bear or increase danger. Therefore, the ranking is: hide, flee, call for help, cry, scream, run towards, fight.\",\\n        \"confidence_score\": 0.95\\n    }\\n}\\n```', 'role': 'assistant'}}], 'created': 1729919370, 'model': 'gpt-4o-2024-08-06', 'system_fingerprint': 'fp_90354628f2', 'object': 'chat.completion', 'usage': {'completion_tokens': 208, 'prompt_tokens': 1147, 'total_tokens': 1355, 'completion_tokens_details': {'reasoning_tokens': 0}}}, 'last_updated': {'content': 1729919372.683655, 'recipient': 1729919372.683909}}, sender=ln55125163-4062a1c74-a0679-536-ee3ff38b159, recipient=user, role=assistant, extra_fields={})"
      ]
     },
     "execution_count": 15,
     "metadata": {},
     "output_type": "execute_result"
    }
   ],
   "source": [
    "branch.messages[1]"
   ]
  },
  {
   "cell_type": "code",
   "execution_count": 16,
   "metadata": {},
   "outputs": [
    {
     "data": {
      "text/plain": [
       "['timestamp',\n",
       " 'lion_class',\n",
       " 'role',\n",
       " 'content',\n",
       " 'ln_id',\n",
       " 'sender',\n",
       " 'recipient',\n",
       " 'metadata']"
      ]
     },
     "execution_count": 16,
     "metadata": {},
     "output_type": "execute_result"
    }
   ],
   "source": [
    "from enum import Enum\n",
    "\n",
    "\n",
    "class MessageField(str, Enum):\n",
    "\n",
    "    TIMESTAMP = \"timestamp\"\n",
    "    LION_CLASS = \"lion_class\"\n",
    "    ROLE = \"role\"\n",
    "    CONTENT = \"content\"\n",
    "    LN_ID = \"ln_id\"\n",
    "    SENDER = \"sender\"\n",
    "    RECIPIENT = \"recipient\"\n",
    "    METADATA = \"metadata\"\n",
    "\n",
    "    @classmethod\n",
    "    def fields(cls):\n",
    "        return [i.value for i in cls.__members__.values()]\n",
    "\n",
    "\n",
    "MessageField.fields()"
   ]
  },
  {
   "cell_type": "code",
   "execution_count": 17,
   "metadata": {},
   "outputs": [
    {
     "data": {
      "text/html": [
       "<div>\n",
       "<style scoped>\n",
       "    .dataframe tbody tr th:only-of-type {\n",
       "        vertical-align: middle;\n",
       "    }\n",
       "\n",
       "    .dataframe tbody tr th {\n",
       "        vertical-align: top;\n",
       "    }\n",
       "\n",
       "    .dataframe thead th {\n",
       "        text-align: right;\n",
       "    }\n",
       "</style>\n",
       "<table border=\"1\" class=\"dataframe\">\n",
       "  <thead>\n",
       "    <tr style=\"text-align: right;\">\n",
       "      <th></th>\n",
       "      <th>timestamp</th>\n",
       "      <th>lion_class</th>\n",
       "      <th>role</th>\n",
       "      <th>content</th>\n",
       "      <th>ln_id</th>\n",
       "      <th>sender</th>\n",
       "      <th>recipient</th>\n",
       "      <th>metadata</th>\n",
       "    </tr>\n",
       "  </thead>\n",
       "  <tbody>\n",
       "    <tr>\n",
       "      <th>0</th>\n",
       "      <td>2024-10-26 05:09:30.025494+00:00</td>\n",
       "      <td>Instruction</td>\n",
       "      <td>user</td>\n",
       "      <td>{'context': [{'operation': 'Please follow prom...</td>\n",
       "      <td>ln487d73b-fba76e8be8-6bb0-bfbfad-8c3c40e07</td>\n",
       "      <td>user</td>\n",
       "      <td>ln55125163-4062a1c74-a0679-536-ee3ff38b159</td>\n",
       "      <td>{'last_updated': {'recipient': 1729919372.6837...</td>\n",
       "    </tr>\n",
       "    <tr>\n",
       "      <th>1</th>\n",
       "      <td>2024-10-26 05:09:32.683534+00:00</td>\n",
       "      <td>AssistantResponse</td>\n",
       "      <td>assistant</td>\n",
       "      <td>{'assistant_response': '```json\n",
       "{\n",
       "    \"reason\"...</td>\n",
       "      <td>ln6e31ce37a7-c6aaba05-b-bbac3190-d915051c1</td>\n",
       "      <td>ln55125163-4062a1c74-a0679-536-ee3ff38b159</td>\n",
       "      <td>user</td>\n",
       "      <td>{'model_response': {'id': 'chatcmpl-AMTLGmloC0...</td>\n",
       "    </tr>\n",
       "  </tbody>\n",
       "</table>\n",
       "</div>"
      ],
      "text/plain": [
       "                         timestamp         lion_class       role  \\\n",
       "0 2024-10-26 05:09:30.025494+00:00        Instruction       user   \n",
       "1 2024-10-26 05:09:32.683534+00:00  AssistantResponse  assistant   \n",
       "\n",
       "                                             content  \\\n",
       "0  {'context': [{'operation': 'Please follow prom...   \n",
       "1  {'assistant_response': '```json\n",
       "{\n",
       "    \"reason\"...   \n",
       "\n",
       "                                        ln_id  \\\n",
       "0  ln487d73b-fba76e8be8-6bb0-bfbfad-8c3c40e07   \n",
       "1  ln6e31ce37a7-c6aaba05-b-bbac3190-d915051c1   \n",
       "\n",
       "                                       sender  \\\n",
       "0                                        user   \n",
       "1  ln55125163-4062a1c74-a0679-536-ee3ff38b159   \n",
       "\n",
       "                                    recipient  \\\n",
       "0  ln55125163-4062a1c74-a0679-536-ee3ff38b159   \n",
       "1                                        user   \n",
       "\n",
       "                                            metadata  \n",
       "0  {'last_updated': {'recipient': 1729919372.6837...  \n",
       "1  {'model_response': {'id': 'chatcmpl-AMTLGmloC0...  "
      ]
     },
     "execution_count": 17,
     "metadata": {},
     "output_type": "execute_result"
    }
   ],
   "source": [
    "branch.to_df()"
   ]
  },
  {
   "cell_type": "code",
   "execution_count": 18,
   "metadata": {},
   "outputs": [
    {
     "data": {
      "text/plain": [
       "BrainstormModelResponse(topic='', ideas=[], reason=ReasonModel(title='Ranking Actions When Encountering a Bear', content=\"When encountering a bear in the forest, the primary goal is to ensure personal safety. The most effective actions are those that minimize the risk of provoking the bear or putting oneself in danger. Based on general wildlife safety guidelines, the recommended order of actions is as follows: 1) Hide - This action minimizes visibility and potential threat to the bear. 2) Flee - If the bear has not noticed you, quietly moving away can be a safe option. 3) Call for help - If you have a phone or device, calling for help can bring assistance. Actions like 'cry', 'scream', 'run towards', and 'fight' are less preferred as they can provoke the bear or increase danger. Therefore, the ranking is: hide, flee, call for help, cry, scream, run towards, fight.\", confidence_score=0.95))"
      ]
     },
     "execution_count": 18,
     "metadata": {},
     "output_type": "execute_result"
    }
   ],
   "source": [
    "res2"
   ]
  },
  {
   "cell_type": "code",
   "execution_count": 19,
   "metadata": {},
   "outputs": [
    {
     "data": {
      "text/markdown": [
       "```json\n",
       "{\n",
       "    \"item\": \"flee\",\n",
       "    \"scores\": [\n",
       "        8.0,\n",
       "        8.0,\n",
       "        9.0,\n",
       "        9.0,\n",
       "        8.0,\n",
       "        9.0,\n",
       "        9.0,\n",
       "        9.0,\n",
       "        9.0,\n",
       "        9.0\n",
       "    ],\n",
       "    \"average\": 8.7\n",
       "}\n",
       "\n",
       "{\n",
       "    \"item\": \"hide\",\n",
       "    \"scores\": [\n",
       "        8.0,\n",
       "        9.0,\n",
       "        8.0,\n",
       "        8.0,\n",
       "        8.0,\n",
       "        8.0,\n",
       "        8.0,\n",
       "        8.0,\n",
       "        8.0\n",
       "    ],\n",
       "    \"average\": 8.11111111111111\n",
       "}\n",
       "\n",
       "{\n",
       "    \"item\": \"call for help\",\n",
       "    \"scores\": [\n",
       "        8.0,\n",
       "        8.0,\n",
       "        8.0,\n",
       "        7.0,\n",
       "        8.0,\n",
       "        8.0,\n",
       "        8.0,\n",
       "        8.0,\n",
       "        8.0,\n",
       "        8.0\n",
       "    ],\n",
       "    \"average\": 7.9\n",
       "}\n",
       "\n",
       "{\n",
       "    \"item\": \"scream\",\n",
       "    \"scores\": [\n",
       "        3.0,\n",
       "        4.0,\n",
       "        3.0,\n",
       "        4.0,\n",
       "        4.0,\n",
       "        4.0,\n",
       "        3.0,\n",
       "        3.0,\n",
       "        4.0,\n",
       "        4.0\n",
       "    ],\n",
       "    \"average\": 3.6\n",
       "}\n",
       "\n",
       "{\n",
       "    \"item\": \"fight\",\n",
       "    \"scores\": [\n",
       "        3.0,\n",
       "        3.0,\n",
       "        2.0,\n",
       "        3.0,\n",
       "        2.0,\n",
       "        3.0,\n",
       "        3.0,\n",
       "        3.0,\n",
       "        3.0,\n",
       "        3.0\n",
       "    ],\n",
       "    \"average\": 2.8\n",
       "}\n",
       "\n",
       "{\n",
       "    \"item\": \"cry\",\n",
       "    \"scores\": [\n",
       "        3.0,\n",
       "        2.0,\n",
       "        3.0,\n",
       "        2.0,\n",
       "        2.0,\n",
       "        3.0,\n",
       "        2.0,\n",
       "        2.0,\n",
       "        2.0,\n",
       "        3.0\n",
       "    ],\n",
       "    \"average\": 2.4\n",
       "}\n",
       "\n",
       "{\n",
       "    \"item\": \"run towards\",\n",
       "    \"scores\": [\n",
       "        2.0,\n",
       "        2.0,\n",
       "        2.0,\n",
       "        2.0,\n",
       "        2.0,\n",
       "        2.0,\n",
       "        2.0,\n",
       "        2.0,\n",
       "        2.0,\n",
       "        2.0\n",
       "    ],\n",
       "    \"average\": 2.0\n",
       "}\n",
       "```"
      ],
      "text/plain": [
       "<IPython.core.display.Markdown object>"
      ]
     },
     "execution_count": 19,
     "metadata": {},
     "output_type": "execute_result"
    }
   ],
   "source": [
    "from lionfuncs import as_readable\n",
    "from IPython.display import Markdown\n",
    "\n",
    "import lionagi.operations as ops\n",
    "\n",
    "res2, session = await ops.rank(\n",
    "    choices=choices,\n",
    "    num_scorers=10,\n",
    "    instruction=instruction,\n",
    "    guidance=guidance,\n",
    "    context=\"You are in a forest and you see a bear\",\n",
    "    imodel=gpt4o,\n",
    "    num_parse_retries=0,\n",
    "    clear_messages=True,\n",
    "    reason=True,\n",
    "    return_session=True,\n",
    ")\n",
    "\n",
    "Markdown(as_readable(res2, md=True))"
   ]
  },
  {
   "cell_type": "code",
   "execution_count": 20,
   "metadata": {},
   "outputs": [],
   "source": [
    "df = session.to_df()"
   ]
  },
  {
   "cell_type": "code",
   "execution_count": 21,
   "metadata": {},
   "outputs": [
    {
     "data": {
      "text/plain": [
       "140"
      ]
     },
     "execution_count": 21,
     "metadata": {},
     "output_type": "execute_result"
    }
   ],
   "source": [
    "len(df)"
   ]
  },
  {
   "cell_type": "code",
   "execution_count": 22,
   "metadata": {},
   "outputs": [
    {
     "data": {
      "text/html": [
       "<div>\n",
       "<style scoped>\n",
       "    .dataframe tbody tr th:only-of-type {\n",
       "        vertical-align: middle;\n",
       "    }\n",
       "\n",
       "    .dataframe tbody tr th {\n",
       "        vertical-align: top;\n",
       "    }\n",
       "\n",
       "    .dataframe thead th {\n",
       "        text-align: right;\n",
       "    }\n",
       "</style>\n",
       "<table border=\"1\" class=\"dataframe\">\n",
       "  <thead>\n",
       "    <tr style=\"text-align: right;\">\n",
       "      <th></th>\n",
       "      <th>timestamp</th>\n",
       "      <th>lion_class</th>\n",
       "      <th>role</th>\n",
       "      <th>content</th>\n",
       "      <th>ln_id</th>\n",
       "      <th>sender</th>\n",
       "      <th>recipient</th>\n",
       "      <th>metadata</th>\n",
       "    </tr>\n",
       "  </thead>\n",
       "  <tbody>\n",
       "    <tr>\n",
       "      <th>0</th>\n",
       "      <td>2024-10-26 05:09:32.742502+00:00</td>\n",
       "      <td>Instruction</td>\n",
       "      <td>user</td>\n",
       "      <td>{'context': [{'operation': 'rank the following...</td>\n",
       "      <td>lne2661c-f528-092-fcce-edecb9a92f4a484bff0</td>\n",
       "      <td>ln2e575aca7b08b551-93dd-3-5ed6b6-22a321d68</td>\n",
       "      <td>ln5803cf4cdfed-746f392-cc4ce0c1-23-2f41ca2</td>\n",
       "      <td>{'last_updated': {'recipient': 1729919376.9373...</td>\n",
       "    </tr>\n",
       "    <tr>\n",
       "      <th>1</th>\n",
       "      <td>2024-10-26 05:09:36.937045+00:00</td>\n",
       "      <td>AssistantResponse</td>\n",
       "      <td>assistant</td>\n",
       "      <td>{'assistant_response': '```json\n",
       "{\n",
       "    \"score\":...</td>\n",
       "      <td>ln463e2b1-fa5-826bc721e9-5-8398a9249713e68</td>\n",
       "      <td>ln5803cf4cdfed-746f392-cc4ce0c1-23-2f41ca2</td>\n",
       "      <td>user</td>\n",
       "      <td>{'model_response': {'id': 'chatcmpl-AMTLKVZOFW...</td>\n",
       "    </tr>\n",
       "    <tr>\n",
       "      <th>2</th>\n",
       "      <td>2024-10-26 05:09:32.745976+00:00</td>\n",
       "      <td>Instruction</td>\n",
       "      <td>user</td>\n",
       "      <td>{'context': [{'operation': 'rank the following...</td>\n",
       "      <td>lnd101d9d9ca6636c1f2-eb-b99-e23e-6a655f192</td>\n",
       "      <td>ln2e575aca7b08b551-93dd-3-5ed6b6-22a321d68</td>\n",
       "      <td>ln5dbbf9-08171-af-3f4-575e38d089cb1cafd0f9</td>\n",
       "      <td>{'last_updated': {'recipient': 1729919375.6597...</td>\n",
       "    </tr>\n",
       "    <tr>\n",
       "      <th>3</th>\n",
       "      <td>2024-10-26 05:09:35.659616+00:00</td>\n",
       "      <td>AssistantResponse</td>\n",
       "      <td>assistant</td>\n",
       "      <td>{'assistant_response': '```json\n",
       "{\n",
       "  \"score\": 8...</td>\n",
       "      <td>ln934c0db25932151-f412-5-b1-a9fa82356980ae</td>\n",
       "      <td>ln5dbbf9-08171-af-3f4-575e38d089cb1cafd0f9</td>\n",
       "      <td>user</td>\n",
       "      <td>{'model_response': {'id': 'chatcmpl-AMTLK4ssZS...</td>\n",
       "    </tr>\n",
       "    <tr>\n",
       "      <th>4</th>\n",
       "      <td>2024-10-26 05:09:32.749404+00:00</td>\n",
       "      <td>Instruction</td>\n",
       "      <td>user</td>\n",
       "      <td>{'context': [{'operation': 'rank the following...</td>\n",
       "      <td>lne9e349e7a-f6ec-d02011-1d89-ff8dd8c9b4bc2</td>\n",
       "      <td>ln2e575aca7b08b551-93dd-3-5ed6b6-22a321d68</td>\n",
       "      <td>ln8b02bf9ad-1-f82c2172c6b051-65-6da06d96e0</td>\n",
       "      <td>{'last_updated': {'recipient': 1729919376.1727...</td>\n",
       "    </tr>\n",
       "  </tbody>\n",
       "</table>\n",
       "</div>"
      ],
      "text/plain": [
       "                         timestamp         lion_class       role  \\\n",
       "0 2024-10-26 05:09:32.742502+00:00        Instruction       user   \n",
       "1 2024-10-26 05:09:36.937045+00:00  AssistantResponse  assistant   \n",
       "2 2024-10-26 05:09:32.745976+00:00        Instruction       user   \n",
       "3 2024-10-26 05:09:35.659616+00:00  AssistantResponse  assistant   \n",
       "4 2024-10-26 05:09:32.749404+00:00        Instruction       user   \n",
       "\n",
       "                                             content  \\\n",
       "0  {'context': [{'operation': 'rank the following...   \n",
       "1  {'assistant_response': '```json\n",
       "{\n",
       "    \"score\":...   \n",
       "2  {'context': [{'operation': 'rank the following...   \n",
       "3  {'assistant_response': '```json\n",
       "{\n",
       "  \"score\": 8...   \n",
       "4  {'context': [{'operation': 'rank the following...   \n",
       "\n",
       "                                        ln_id  \\\n",
       "0  lne2661c-f528-092-fcce-edecb9a92f4a484bff0   \n",
       "1  ln463e2b1-fa5-826bc721e9-5-8398a9249713e68   \n",
       "2  lnd101d9d9ca6636c1f2-eb-b99-e23e-6a655f192   \n",
       "3  ln934c0db25932151-f412-5-b1-a9fa82356980ae   \n",
       "4  lne9e349e7a-f6ec-d02011-1d89-ff8dd8c9b4bc2   \n",
       "\n",
       "                                       sender  \\\n",
       "0  ln2e575aca7b08b551-93dd-3-5ed6b6-22a321d68   \n",
       "1  ln5803cf4cdfed-746f392-cc4ce0c1-23-2f41ca2   \n",
       "2  ln2e575aca7b08b551-93dd-3-5ed6b6-22a321d68   \n",
       "3  ln5dbbf9-08171-af-3f4-575e38d089cb1cafd0f9   \n",
       "4  ln2e575aca7b08b551-93dd-3-5ed6b6-22a321d68   \n",
       "\n",
       "                                    recipient  \\\n",
       "0  ln5803cf4cdfed-746f392-cc4ce0c1-23-2f41ca2   \n",
       "1                                        user   \n",
       "2  ln5dbbf9-08171-af-3f4-575e38d089cb1cafd0f9   \n",
       "3                                        user   \n",
       "4  ln8b02bf9ad-1-f82c2172c6b051-65-6da06d96e0   \n",
       "\n",
       "                                            metadata  \n",
       "0  {'last_updated': {'recipient': 1729919376.9373...  \n",
       "1  {'model_response': {'id': 'chatcmpl-AMTLKVZOFW...  \n",
       "2  {'last_updated': {'recipient': 1729919375.6597...  \n",
       "3  {'model_response': {'id': 'chatcmpl-AMTLK4ssZS...  \n",
       "4  {'last_updated': {'recipient': 1729919376.1727...  "
      ]
     },
     "execution_count": 22,
     "metadata": {},
     "output_type": "execute_result"
    }
   ],
   "source": [
    "df.head()"
   ]
  }
 ],
 "metadata": {
  "kernelspec": {
   "display_name": "Python 3",
   "language": "python",
   "name": "python3"
  },
  "language_info": {
   "codemirror_mode": {
    "name": "ipython",
    "version": 3
   },
   "file_extension": ".py",
   "mimetype": "text/x-python",
   "name": "python",
   "nbconvert_exporter": "python",
   "pygments_lexer": "ipython3",
   "version": "3.12.4"
  }
 },
 "nbformat": 4,
 "nbformat_minor": 2
}
