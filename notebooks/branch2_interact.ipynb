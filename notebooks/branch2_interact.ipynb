{
 "cells": [
  {
   "cell_type": "markdown",
   "metadata": {},
   "source": [
    "continue with the comedian example"
   ]
  },
  {
   "cell_type": "code",
   "execution_count": 1,
   "metadata": {},
   "outputs": [],
   "source": [
    "import lionagi as li\n",
    "\n",
    "from IPython.display import Markdown"
   ]
  },
  {
   "cell_type": "code",
   "execution_count": 2,
   "metadata": {},
   "outputs": [],
   "source": [
    "# create some messages\n",
    "sys_comedian = \"As a comedian, you are sarcastically funny\"\n",
    "instruct1 = (\n",
    "    \"very short joke: a blue whale and a big shark meet at the bar and start dancing\"\n",
    ")\n",
    "instruct2 = \"continue the joke: and then they stopped\""
   ]
  },
  {
   "cell_type": "code",
   "execution_count": 3,
   "metadata": {},
   "outputs": [],
   "source": [
    "# start a LLM session and have consecutive chats with it\n",
    "comedian = li.Branch(system=sys_comedian)\n",
    "\n",
    "joke1 = await comedian.chat(instruction=instruct1)\n",
    "joke2 = await comedian.chat(instruction=instruct2)"
   ]
  },
  {
   "cell_type": "code",
   "execution_count": 4,
   "metadata": {},
   "outputs": [
    {
     "data": {
      "text/markdown": [
       "And the bartender says, \"Great, now I have to mop the floor and call the aquarium!\""
      ],
      "text/plain": [
       "<IPython.core.display.Markdown object>"
      ]
     },
     "execution_count": 4,
     "metadata": {},
     "output_type": "execute_result"
    }
   ],
   "source": [
    "Markdown(joke1)"
   ]
  },
  {
   "cell_type": "code",
   "execution_count": 5,
   "metadata": {},
   "outputs": [
    {
     "data": {
      "text/markdown": [
       "And then they stopped, looked around, and the blue whale said, \"I guess we really made a splash!\""
      ],
      "text/plain": [
       "<IPython.core.display.Markdown object>"
      ]
     },
     "execution_count": 5,
     "metadata": {},
     "output_type": "execute_result"
    }
   ],
   "source": [
    "Markdown(joke2)"
   ]
  },
  {
   "cell_type": "markdown",
   "metadata": {},
   "source": [
    "Now add another session to critique the comedian's work"
   ]
  },
  {
   "cell_type": "code",
   "execution_count": 6,
   "metadata": {},
   "outputs": [],
   "source": [
    "# some messages for the critic\n",
    "sys_critic = \"you are a respected commentator, you are artistically logical\"\n",
    "instruct3 = \"short comments, what do you think about the first joke?\"\n",
    "instruct4 = \"provide a concise artistic critique on both jokes, and rate from 1-10\""
   ]
  },
  {
   "cell_type": "code",
   "execution_count": 7,
   "metadata": {},
   "outputs": [],
   "source": [
    "# create a session with the critic and generate some comments in a multi-turn conversation\n",
    "critic = li.Branch(sys_critic)\n",
    "\n",
    "# provide context for the critic, context needs to be string or string mappings/iterables\n",
    "context = {\n",
    "    \"joke1\": {\"prompt\": instruct1, \"response\": joke1},\n",
    "    \"joke2\": {\"prompt\": instruct2, \"response\": joke2},\n",
    "}\n",
    "\n",
    "# you only need to provide same context once in a conversation\n",
    "comment1 = await critic.chat(instruct3, context=context)\n",
    "comment2 = await critic.chat(instruct4)"
   ]
  },
  {
   "cell_type": "code",
   "execution_count": 8,
   "metadata": {},
   "outputs": [
    {
     "data": {
      "text/markdown": [
       "The first joke is whimsical and paints a vivid, humorous scene. The bartender's reaction adds a practical twist to the absurdity."
      ],
      "text/plain": [
       "<IPython.core.display.Markdown object>"
      ]
     },
     "execution_count": 8,
     "metadata": {},
     "output_type": "execute_result"
    }
   ],
   "source": [
    "Markdown(comment1)"
   ]
  },
  {
   "cell_type": "code",
   "execution_count": 9,
   "metadata": {},
   "outputs": [
    {
     "data": {
      "text/markdown": [
       "**Joke 1:**\n",
       "*Critique:* The joke cleverly combines marine life with an unexpected setting, creating a surreal and amusing image. The bartender's line adds a layer of dry humor, grounding the fantasy in a Relational reality.\n",
       "*Rating:* 7/10\n",
       "\n",
       "**Joke 2:**\n",
       "*Critique:* The continuation maintains the playful tone but lacks the punch of the first joke. The pun \"made a splash\" is fitting but feels somewhat predictable.\n",
       "*Rating:* 5/10"
      ],
      "text/plain": [
       "<IPython.core.display.Markdown object>"
      ]
     },
     "execution_count": 9,
     "metadata": {},
     "output_type": "execute_result"
    }
   ],
   "source": [
    "Markdown(comment2)"
   ]
  },
  {
   "cell_type": "markdown",
   "metadata": {},
   "source": [
    "now add the feedback back to comedian session to improve "
   ]
  },
  {
   "cell_type": "code",
   "execution_count": 10,
   "metadata": {},
   "outputs": [],
   "source": [
    "# messages for comedian again\n",
    "instruct5 = \"your jokes were evaluated by a critic, does it make sense to you? why?\"\n",
    "instruct6 = \"basing on your reflection, write joke1 again\"\n",
    "instruct7 = \"write joke2 again\"\n",
    "\n",
    "# let us provide critic's feedback to comedian\n",
    "context2 = [i.response for i in critic.assistant_responses]"
   ]
  },
  {
   "cell_type": "code",
   "execution_count": 11,
   "metadata": {},
   "outputs": [],
   "source": [
    "# run the instructions\n",
    "reflect = await comedian.chat(instruct5, context=context2)\n",
    "joke11 = await comedian.chat(instruct6)\n",
    "joke22 = await comedian.chat(instruct7)"
   ]
  },
  {
   "cell_type": "code",
   "execution_count": 12,
   "metadata": {},
   "outputs": [
    {
     "data": {
      "text/markdown": [
       "Yes, the critique makes sense to me. Here's why:\n",
       "\n",
       "**Joke 1:**\n",
       "The first joke is praised for its whimsical and vivid imagery, which effectively combines marine life with an unexpected setting—a bar. The bartender's reaction adds a layer of dry humor, making the absurd situation more Relational and grounded in reality. This combination of surrealism and practicality creates a well-rounded and amusing joke. The rating of 7/10 reflects its creativity and humor.\n",
       "\n",
       "**Joke 2:**\n",
       "The continuation of the joke maintains the playful tone but is critiqued for lacking the punch of the first joke. The pun \"made a splash\" is fitting given the context, but it is seen as somewhat predictable and less impactful. The rating of 5/10 indicates that while the joke is still amusing, it doesn't quite reach the same level of cleverness or surprise as the first one.\n",
       "\n",
       "Overall, the critique highlights the strengths and weaknesses of each joke, providing a fair assessment of their humor and effectiveness."
      ],
      "text/plain": [
       "<IPython.core.display.Markdown object>"
      ]
     },
     "execution_count": 12,
     "metadata": {},
     "output_type": "execute_result"
    }
   ],
   "source": [
    "Markdown(reflect)"
   ]
  },
  {
   "cell_type": "code",
   "execution_count": 13,
   "metadata": {},
   "outputs": [
    {
     "data": {
      "text/markdown": [
       "Sure, here it is:\n",
       "\n",
       "A blue whale and a big shark meet at the bar and start dancing. The bartender looks at them and says, \"Great, now I have to mop the floor and call the aquarium!\""
      ],
      "text/plain": [
       "<IPython.core.display.Markdown object>"
      ]
     },
     "execution_count": 13,
     "metadata": {},
     "output_type": "execute_result"
    }
   ],
   "source": [
    "Markdown(joke11)"
   ]
  },
  {
   "cell_type": "code",
   "execution_count": 14,
   "metadata": {},
   "outputs": [
    {
     "data": {
      "text/markdown": [
       "Sure, here's Joke 2 again:\n",
       "\n",
       "And then they stopped, looked around, and the blue whale said, \"I guess we really made a splash!\""
      ],
      "text/plain": [
       "<IPython.core.display.Markdown object>"
      ]
     },
     "execution_count": 14,
     "metadata": {},
     "output_type": "execute_result"
    }
   ],
   "source": [
    "Markdown(joke22)"
   ]
  },
  {
   "cell_type": "code",
   "execution_count": 15,
   "metadata": {},
   "outputs": [
    {
     "data": {
      "text/html": [
       "<div>\n",
       "<style scoped>\n",
       "    .dataframe tbody tr th:only-of-type {\n",
       "        vertical-align: middle;\n",
       "    }\n",
       "\n",
       "    .dataframe tbody tr th {\n",
       "        vertical-align: top;\n",
       "    }\n",
       "\n",
       "    .dataframe thead th {\n",
       "        text-align: right;\n",
       "    }\n",
       "</style>\n",
       "<table border=\"1\" class=\"dataframe\">\n",
       "  <thead>\n",
       "    <tr style=\"text-align: right;\">\n",
       "      <th></th>\n",
       "      <th>ln_id</th>\n",
       "      <th>message_type</th>\n",
       "      <th>timestamp</th>\n",
       "      <th>role</th>\n",
       "      <th>content</th>\n",
       "      <th>metadata</th>\n",
       "      <th>sender</th>\n",
       "      <th>recipient</th>\n",
       "    </tr>\n",
       "  </thead>\n",
       "  <tbody>\n",
       "    <tr>\n",
       "      <th>0</th>\n",
       "      <td>d8556027b1ad208a7b45ff5d839c00ca</td>\n",
       "      <td>System</td>\n",
       "      <td>2024-05-28T21:35:52.732244</td>\n",
       "      <td>system</td>\n",
       "      <td>{'system_info': 'As a comedian, you are sarcas...</td>\n",
       "      <td>{'last_updated': {'recipient': '2024-05-28T21:...</td>\n",
       "      <td>system</td>\n",
       "      <td>84b79cb33cd37716001df91799a168f9</td>\n",
       "    </tr>\n",
       "    <tr>\n",
       "      <th>1</th>\n",
       "      <td>d0cba245d108d5d0fbe99f88b6fbadff</td>\n",
       "      <td>Instruction</td>\n",
       "      <td>2024-05-28T21:35:52.733087</td>\n",
       "      <td>user</td>\n",
       "      <td>{'instruction': 'very short joke: a blue whale...</td>\n",
       "      <td>{'last_updated': {'sender': '2024-05-28T21:35:...</td>\n",
       "      <td>user</td>\n",
       "      <td>84b79cb33cd37716001df91799a168f9</td>\n",
       "    </tr>\n",
       "    <tr>\n",
       "      <th>2</th>\n",
       "      <td>d5e55d410451fe8f7e8461cec8b0fccf</td>\n",
       "      <td>AssistantResponse</td>\n",
       "      <td>2024-05-28T21:35:53.670826</td>\n",
       "      <td>assistant</td>\n",
       "      <td>{'assistant_response': 'And the bartender says...</td>\n",
       "      <td>{'last_updated': {'sender': '2024-05-28T21:35:...</td>\n",
       "      <td>84b79cb33cd37716001df91799a168f9</td>\n",
       "      <td>user</td>\n",
       "    </tr>\n",
       "    <tr>\n",
       "      <th>3</th>\n",
       "      <td>25b9db2f1427796c8086390eb8d12bd1</td>\n",
       "      <td>Instruction</td>\n",
       "      <td>2024-05-28T21:35:53.671912</td>\n",
       "      <td>user</td>\n",
       "      <td>{'instruction': 'continue the joke: and then t...</td>\n",
       "      <td>{'last_updated': {'sender': '2024-05-28T21:35:...</td>\n",
       "      <td>user</td>\n",
       "      <td>84b79cb33cd37716001df91799a168f9</td>\n",
       "    </tr>\n",
       "    <tr>\n",
       "      <th>4</th>\n",
       "      <td>1d90c1cff29da571a818c9489ecf4eeb</td>\n",
       "      <td>AssistantResponse</td>\n",
       "      <td>2024-05-28T21:35:54.412849</td>\n",
       "      <td>assistant</td>\n",
       "      <td>{'assistant_response': 'And then they stopped,...</td>\n",
       "      <td>{'last_updated': {'sender': '2024-05-28T21:35:...</td>\n",
       "      <td>84b79cb33cd37716001df91799a168f9</td>\n",
       "      <td>user</td>\n",
       "    </tr>\n",
       "    <tr>\n",
       "      <th>5</th>\n",
       "      <td>b85212f092c5ca7f7a84a1f7de30701a</td>\n",
       "      <td>Instruction</td>\n",
       "      <td>2024-05-28T21:35:57.120856</td>\n",
       "      <td>user</td>\n",
       "      <td>{'instruction': 'your jokes were evaluated by ...</td>\n",
       "      <td>{'last_updated': {'sender': '2024-05-28T21:35:...</td>\n",
       "      <td>user</td>\n",
       "      <td>84b79cb33cd37716001df91799a168f9</td>\n",
       "    </tr>\n",
       "    <tr>\n",
       "      <th>6</th>\n",
       "      <td>e138ce0d6bb7ce69a09294bac0667a0a</td>\n",
       "      <td>AssistantResponse</td>\n",
       "      <td>2024-05-28T21:36:01.449702</td>\n",
       "      <td>assistant</td>\n",
       "      <td>{'assistant_response': 'Yes, the critique make...</td>\n",
       "      <td>{'last_updated': {'sender': '2024-05-28T21:36:...</td>\n",
       "      <td>84b79cb33cd37716001df91799a168f9</td>\n",
       "      <td>user</td>\n",
       "    </tr>\n",
       "    <tr>\n",
       "      <th>7</th>\n",
       "      <td>a4f19db36d24e52e932c451e724ea462</td>\n",
       "      <td>Instruction</td>\n",
       "      <td>2024-05-28T21:36:01.450397</td>\n",
       "      <td>user</td>\n",
       "      <td>{'instruction': 'basing on your reflection, wr...</td>\n",
       "      <td>{'last_updated': {'sender': '2024-05-28T21:36:...</td>\n",
       "      <td>user</td>\n",
       "      <td>84b79cb33cd37716001df91799a168f9</td>\n",
       "    </tr>\n",
       "    <tr>\n",
       "      <th>8</th>\n",
       "      <td>7012a19036826a4620631e7a9227fc04</td>\n",
       "      <td>AssistantResponse</td>\n",
       "      <td>2024-05-28T21:36:02.797855</td>\n",
       "      <td>assistant</td>\n",
       "      <td>{'assistant_response': 'Sure, here it is:\n",
       "\n",
       "A b...</td>\n",
       "      <td>{'last_updated': {'sender': '2024-05-28T21:36:...</td>\n",
       "      <td>84b79cb33cd37716001df91799a168f9</td>\n",
       "      <td>user</td>\n",
       "    </tr>\n",
       "    <tr>\n",
       "      <th>9</th>\n",
       "      <td>bca288d0582cb4f397257bee133bef05</td>\n",
       "      <td>Instruction</td>\n",
       "      <td>2024-05-28T21:36:02.798475</td>\n",
       "      <td>user</td>\n",
       "      <td>{'instruction': 'write joke2 again'}</td>\n",
       "      <td>{'last_updated': {'sender': '2024-05-28T21:36:...</td>\n",
       "      <td>user</td>\n",
       "      <td>84b79cb33cd37716001df91799a168f9</td>\n",
       "    </tr>\n",
       "    <tr>\n",
       "      <th>10</th>\n",
       "      <td>a9b6056e4babab2d2ed3db38721ed826</td>\n",
       "      <td>AssistantResponse</td>\n",
       "      <td>2024-05-28T21:36:03.817610</td>\n",
       "      <td>assistant</td>\n",
       "      <td>{'assistant_response': 'Sure, here's Joke 2 ag...</td>\n",
       "      <td>{'last_updated': {'sender': '2024-05-28T21:36:...</td>\n",
       "      <td>84b79cb33cd37716001df91799a168f9</td>\n",
       "      <td>user</td>\n",
       "    </tr>\n",
       "  </tbody>\n",
       "</table>\n",
       "</div>"
      ],
      "text/plain": [
       "                               ln_id       message_type  \\\n",
       "0   d8556027b1ad208a7b45ff5d839c00ca             System   \n",
       "1   d0cba245d108d5d0fbe99f88b6fbadff        Instruction   \n",
       "2   d5e55d410451fe8f7e8461cec8b0fccf  AssistantResponse   \n",
       "3   25b9db2f1427796c8086390eb8d12bd1        Instruction   \n",
       "4   1d90c1cff29da571a818c9489ecf4eeb  AssistantResponse   \n",
       "5   b85212f092c5ca7f7a84a1f7de30701a        Instruction   \n",
       "6   e138ce0d6bb7ce69a09294bac0667a0a  AssistantResponse   \n",
       "7   a4f19db36d24e52e932c451e724ea462        Instruction   \n",
       "8   7012a19036826a4620631e7a9227fc04  AssistantResponse   \n",
       "9   bca288d0582cb4f397257bee133bef05        Instruction   \n",
       "10  a9b6056e4babab2d2ed3db38721ed826  AssistantResponse   \n",
       "\n",
       "                     timestamp       role  \\\n",
       "0   2024-05-28T21:35:52.732244     system   \n",
       "1   2024-05-28T21:35:52.733087       user   \n",
       "2   2024-05-28T21:35:53.670826  assistant   \n",
       "3   2024-05-28T21:35:53.671912       user   \n",
       "4   2024-05-28T21:35:54.412849  assistant   \n",
       "5   2024-05-28T21:35:57.120856       user   \n",
       "6   2024-05-28T21:36:01.449702  assistant   \n",
       "7   2024-05-28T21:36:01.450397       user   \n",
       "8   2024-05-28T21:36:02.797855  assistant   \n",
       "9   2024-05-28T21:36:02.798475       user   \n",
       "10  2024-05-28T21:36:03.817610  assistant   \n",
       "\n",
       "                                              content  \\\n",
       "0   {'system_info': 'As a comedian, you are sarcas...   \n",
       "1   {'instruction': 'very short joke: a blue whale...   \n",
       "2   {'assistant_response': 'And the bartender says...   \n",
       "3   {'instruction': 'continue the joke: and then t...   \n",
       "4   {'assistant_response': 'And then they stopped,...   \n",
       "5   {'instruction': 'your jokes were evaluated by ...   \n",
       "6   {'assistant_response': 'Yes, the critique make...   \n",
       "7   {'instruction': 'basing on your reflection, wr...   \n",
       "8   {'assistant_response': 'Sure, here it is:\n",
       "\n",
       "A b...   \n",
       "9                {'instruction': 'write joke2 again'}   \n",
       "10  {'assistant_response': 'Sure, here's Joke 2 ag...   \n",
       "\n",
       "                                             metadata  \\\n",
       "0   {'last_updated': {'recipient': '2024-05-28T21:...   \n",
       "1   {'last_updated': {'sender': '2024-05-28T21:35:...   \n",
       "2   {'last_updated': {'sender': '2024-05-28T21:35:...   \n",
       "3   {'last_updated': {'sender': '2024-05-28T21:35:...   \n",
       "4   {'last_updated': {'sender': '2024-05-28T21:35:...   \n",
       "5   {'last_updated': {'sender': '2024-05-28T21:35:...   \n",
       "6   {'last_updated': {'sender': '2024-05-28T21:36:...   \n",
       "7   {'last_updated': {'sender': '2024-05-28T21:36:...   \n",
       "8   {'last_updated': {'sender': '2024-05-28T21:36:...   \n",
       "9   {'last_updated': {'sender': '2024-05-28T21:36:...   \n",
       "10  {'last_updated': {'sender': '2024-05-28T21:36:...   \n",
       "\n",
       "                              sender                         recipient  \n",
       "0                             system  84b79cb33cd37716001df91799a168f9  \n",
       "1                               user  84b79cb33cd37716001df91799a168f9  \n",
       "2   84b79cb33cd37716001df91799a168f9                              user  \n",
       "3                               user  84b79cb33cd37716001df91799a168f9  \n",
       "4   84b79cb33cd37716001df91799a168f9                              user  \n",
       "5                               user  84b79cb33cd37716001df91799a168f9  \n",
       "6   84b79cb33cd37716001df91799a168f9                              user  \n",
       "7                               user  84b79cb33cd37716001df91799a168f9  \n",
       "8   84b79cb33cd37716001df91799a168f9                              user  \n",
       "9                               user  84b79cb33cd37716001df91799a168f9  \n",
       "10  84b79cb33cd37716001df91799a168f9                              user  "
      ]
     },
     "execution_count": 15,
     "metadata": {},
     "output_type": "execute_result"
    }
   ],
   "source": [
    "df_comedian = comedian.to_df()\n",
    "df_comedian"
   ]
  },
  {
   "cell_type": "code",
   "execution_count": 16,
   "metadata": {},
   "outputs": [
    {
     "data": {
      "text/html": [
       "<div>\n",
       "<style scoped>\n",
       "    .dataframe tbody tr th:only-of-type {\n",
       "        vertical-align: middle;\n",
       "    }\n",
       "\n",
       "    .dataframe tbody tr th {\n",
       "        vertical-align: top;\n",
       "    }\n",
       "\n",
       "    .dataframe thead th {\n",
       "        text-align: right;\n",
       "    }\n",
       "</style>\n",
       "<table border=\"1\" class=\"dataframe\">\n",
       "  <thead>\n",
       "    <tr style=\"text-align: right;\">\n",
       "      <th></th>\n",
       "      <th>ln_id</th>\n",
       "      <th>message_type</th>\n",
       "      <th>timestamp</th>\n",
       "      <th>role</th>\n",
       "      <th>content</th>\n",
       "      <th>metadata</th>\n",
       "      <th>sender</th>\n",
       "      <th>recipient</th>\n",
       "    </tr>\n",
       "  </thead>\n",
       "  <tbody>\n",
       "    <tr>\n",
       "      <th>0</th>\n",
       "      <td>6fb8e5a16800df61631a1bbe6ea00a4c</td>\n",
       "      <td>System</td>\n",
       "      <td>2024-05-28T21:35:54.440967</td>\n",
       "      <td>system</td>\n",
       "      <td>{'system_info': 'you are a respected commentat...</td>\n",
       "      <td>{'last_updated': {'recipient': '2024-05-28T21:...</td>\n",
       "      <td>system</td>\n",
       "      <td>ecd29e6a90ac495094db68a722d729ef</td>\n",
       "    </tr>\n",
       "    <tr>\n",
       "      <th>1</th>\n",
       "      <td>1cbae9760b84dca86a7f7f5d61510ce7</td>\n",
       "      <td>Instruction</td>\n",
       "      <td>2024-05-28T21:35:54.441912</td>\n",
       "      <td>user</td>\n",
       "      <td>{'instruction': 'short comments, what do you t...</td>\n",
       "      <td>{'last_updated': {'sender': '2024-05-28T21:35:...</td>\n",
       "      <td>user</td>\n",
       "      <td>ecd29e6a90ac495094db68a722d729ef</td>\n",
       "    </tr>\n",
       "    <tr>\n",
       "      <th>2</th>\n",
       "      <td>e1fd6f293903f3af594e69e765dd40de</td>\n",
       "      <td>AssistantResponse</td>\n",
       "      <td>2024-05-28T21:35:55.274669</td>\n",
       "      <td>assistant</td>\n",
       "      <td>{'assistant_response': 'The first joke is whim...</td>\n",
       "      <td>{'last_updated': {'sender': '2024-05-28T21:35:...</td>\n",
       "      <td>ecd29e6a90ac495094db68a722d729ef</td>\n",
       "      <td>user</td>\n",
       "    </tr>\n",
       "    <tr>\n",
       "      <th>3</th>\n",
       "      <td>a1639c58aee70eb86dddd32682da74d1</td>\n",
       "      <td>Instruction</td>\n",
       "      <td>2024-05-28T21:35:55.275388</td>\n",
       "      <td>user</td>\n",
       "      <td>{'instruction': 'provide a concise artistic cr...</td>\n",
       "      <td>{'last_updated': {'sender': '2024-05-28T21:35:...</td>\n",
       "      <td>user</td>\n",
       "      <td>ecd29e6a90ac495094db68a722d729ef</td>\n",
       "    </tr>\n",
       "    <tr>\n",
       "      <th>4</th>\n",
       "      <td>510f54863993759eaaa1c442b94447c7</td>\n",
       "      <td>AssistantResponse</td>\n",
       "      <td>2024-05-28T21:35:57.101632</td>\n",
       "      <td>assistant</td>\n",
       "      <td>{'assistant_response': '**Joke 1:**\n",
       "*Critique:...</td>\n",
       "      <td>{'last_updated': {'sender': '2024-05-28T21:35:...</td>\n",
       "      <td>ecd29e6a90ac495094db68a722d729ef</td>\n",
       "      <td>user</td>\n",
       "    </tr>\n",
       "  </tbody>\n",
       "</table>\n",
       "</div>"
      ],
      "text/plain": [
       "                              ln_id       message_type  \\\n",
       "0  6fb8e5a16800df61631a1bbe6ea00a4c             System   \n",
       "1  1cbae9760b84dca86a7f7f5d61510ce7        Instruction   \n",
       "2  e1fd6f293903f3af594e69e765dd40de  AssistantResponse   \n",
       "3  a1639c58aee70eb86dddd32682da74d1        Instruction   \n",
       "4  510f54863993759eaaa1c442b94447c7  AssistantResponse   \n",
       "\n",
       "                    timestamp       role  \\\n",
       "0  2024-05-28T21:35:54.440967     system   \n",
       "1  2024-05-28T21:35:54.441912       user   \n",
       "2  2024-05-28T21:35:55.274669  assistant   \n",
       "3  2024-05-28T21:35:55.275388       user   \n",
       "4  2024-05-28T21:35:57.101632  assistant   \n",
       "\n",
       "                                             content  \\\n",
       "0  {'system_info': 'you are a respected commentat...   \n",
       "1  {'instruction': 'short comments, what do you t...   \n",
       "2  {'assistant_response': 'The first joke is whim...   \n",
       "3  {'instruction': 'provide a concise artistic cr...   \n",
       "4  {'assistant_response': '**Joke 1:**\n",
       "*Critique:...   \n",
       "\n",
       "                                            metadata  \\\n",
       "0  {'last_updated': {'recipient': '2024-05-28T21:...   \n",
       "1  {'last_updated': {'sender': '2024-05-28T21:35:...   \n",
       "2  {'last_updated': {'sender': '2024-05-28T21:35:...   \n",
       "3  {'last_updated': {'sender': '2024-05-28T21:35:...   \n",
       "4  {'last_updated': {'sender': '2024-05-28T21:35:...   \n",
       "\n",
       "                             sender                         recipient  \n",
       "0                            system  ecd29e6a90ac495094db68a722d729ef  \n",
       "1                              user  ecd29e6a90ac495094db68a722d729ef  \n",
       "2  ecd29e6a90ac495094db68a722d729ef                              user  \n",
       "3                              user  ecd29e6a90ac495094db68a722d729ef  \n",
       "4  ecd29e6a90ac495094db68a722d729ef                              user  "
      ]
     },
     "execution_count": 16,
     "metadata": {},
     "output_type": "execute_result"
    }
   ],
   "source": [
    "df_critic = critic.to_df()\n",
    "df_critic"
   ]
  },
  {
   "cell_type": "code",
   "execution_count": 17,
   "metadata": {},
   "outputs": [],
   "source": [
    "df_comedian.to_csv(\"comedian.csv\", index=False)\n",
    "df_critic.to_csv(\"critic.csv\", index=False)"
   ]
  }
 ],
 "metadata": {
  "kernelspec": {
   "display_name": "lion_dev",
   "language": "python",
   "name": "python3"
  },
  "language_info": {
   "codemirror_mode": {
    "name": "ipython",
    "version": 3
   },
   "file_extension": ".py",
   "mimetype": "text/x-python",
   "name": "python",
   "nbconvert_exporter": "python",
   "pygments_lexer": "ipython3",
   "version": "3.12.1"
  }
 },
 "nbformat": 4,
 "nbformat_minor": 2
}
