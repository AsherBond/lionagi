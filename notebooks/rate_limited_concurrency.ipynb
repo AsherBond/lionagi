{
 "cells": [
  {
   "cell_type": "markdown",
   "metadata": {},
   "source": [
    "# Customization and Rate-Limited Concurrency"
   ]
  },
  {
   "cell_type": "code",
   "execution_count": 1,
   "metadata": {},
   "outputs": [],
   "source": [
    "import lionagi as li\n",
    "from timeit import default_timer as timer"
   ]
  },
  {
   "cell_type": "markdown",
   "metadata": {},
   "source": [
    "let us use a simple conditional calculator session as an example\n",
    "\n",
    "in this example, we will have two steps in the instruction, first step would be choosing between sum or diff based on a case number\n",
    "\n",
    "and second step would be choosing between times or plus based on the sign of the first step"
   ]
  },
  {
   "cell_type": "code",
   "execution_count": 2,
   "metadata": {},
   "outputs": [],
   "source": [
    "system = \"\"\"\n",
    "You are asked to perform as a calculator. Return only a numeric \n",
    "value, i.e. int or float, no text.\n",
    "\"\"\"\n",
    "\n",
    "instruction1 = \"\"\"\n",
    "sum the absolute values, provided with 2 numbers, return the sum\n",
    "of their absolute values. i.e. |x|+|y|\",\n",
    "\"\"\"\n",
    "\n",
    "instruction2 = \"\"\"\n",
    "diff the absolute values, provided with 2 numbers, return the \n",
    "difference of absolute values. i.e. |x|-|y|\n",
    "\"\"\"\n",
    "\n",
    "instruction3 = \"\"\"\n",
    "if previous response is positive, times 2. i.e. *2,\n",
    "else, plus 2. i.e. +2\n",
    "\"\"\""
   ]
  },
  {
   "cell_type": "code",
   "execution_count": 3,
   "metadata": {},
   "outputs": [],
   "source": [
    "# create a case and context\n",
    "case = 0\n",
    "context = {\"x\": 7, \"y\": 3}\n",
    "instruct = instruction1 if case == 0 else instruction2"
   ]
  },
  {
   "cell_type": "code",
   "execution_count": 4,
   "metadata": {},
   "outputs": [
    {
     "name": "stdout",
     "output_type": "stream",
     "text": [
      "step1 result: 10\n",
      "step2 result: 20\n",
      "run clock time: 1.50 seconds\n"
     ]
    }
   ],
   "source": [
    "start = timer()\n",
    "calculator = li.Branch(system=system)\n",
    "\n",
    "step1 = await calculator.chat(instruct, context=context)\n",
    "step2 = await calculator.chat(\n",
    "    instruction3, temperature=0.5\n",
    ")  # you can also modify parameters for each API call\n",
    "\n",
    "print(f\"step1 result: {step1}\")\n",
    "print(f\"step2 result: {step2}\")\n",
    "\n",
    "elapsed_time = timer() - start\n",
    "print(f\"run clock time: {elapsed_time:0.2f} seconds\")"
   ]
  },
  {
   "cell_type": "code",
   "execution_count": 5,
   "metadata": {},
   "outputs": [],
   "source": [
    "# now let us run 10 senerios in parallel\n",
    "import numpy as np\n",
    "\n",
    "num_iterations = 10"
   ]
  },
  {
   "cell_type": "code",
   "execution_count": 6,
   "metadata": {},
   "outputs": [
    {
     "name": "stdout",
     "output_type": "stream",
     "text": [
      "{'x': '5', 'y': '2', 'case': '1'}\n",
      "{'x': '8', 'y': '5', 'case': '0'}\n",
      "{'x': '-2', 'y': '8', 'case': '0'}\n",
      "{'x': '-4', 'y': '5', 'case': '1'}\n",
      "{'x': '-2', 'y': '4', 'case': '0'}\n",
      "{'x': '-4', 'y': '4', 'case': '0'}\n",
      "{'x': '-3', 'y': '8', 'case': '1'}\n",
      "{'x': '4', 'y': '7', 'case': '1'}\n",
      "{'x': '-5', 'y': '8', 'case': '0'}\n",
      "{'x': '-3', 'y': '3', 'case': '0'}\n"
     ]
    }
   ],
   "source": [
    "# generate random numbers\n",
    "ints1 = np.random.randint(-10, 10, size=num_iterations)\n",
    "ints2 = np.random.randint(0, 10, size=num_iterations)\n",
    "cases = np.random.randint(0, 2, size=num_iterations)\n",
    "\n",
    "\n",
    "contexts = []\n",
    "for i in range(num_iterations):\n",
    "    contexts.append(\n",
    "        {\"x\": str(ints1[i]), \"y\": str(ints2[i]), \"case\": str(cases[i])}\n",
    "    )\n",
    "\n",
    "    print(contexts[i])"
   ]
  },
  {
   "cell_type": "code",
   "execution_count": 7,
   "metadata": {},
   "outputs": [],
   "source": [
    "async def calculator_workflow(context):\n",
    "\n",
    "    calculator = li.Branch(system=system)  # construct a session instance\n",
    "    context = context.copy()\n",
    "    case = int(context.pop(\"case\"))\n",
    "\n",
    "    instruct = instruction1 if case == 0 else instruction2\n",
    "    res1 = await calculator.chat(instruct, context=context)  # run the steps\n",
    "    res2 = await calculator.chat(instruction3, temperature=0.5)\n",
    "\n",
    "    return (res1, res2)"
   ]
  },
  {
   "cell_type": "code",
   "execution_count": 8,
   "metadata": {},
   "outputs": [
    {
     "name": "stdout",
     "output_type": "stream",
     "text": [
      "num_workload: 10\n",
      "run clock time: 1.04 seconds\n"
     ]
    }
   ],
   "source": [
    "start = timer()\n",
    "outs = await li.alcall(contexts, calculator_workflow)\n",
    "elapsed_time = timer() - start\n",
    "print(f\"num_workload: {num_iterations}\")\n",
    "print(f\"run clock time: {elapsed_time:0.2f} seconds\")"
   ]
  },
  {
   "cell_type": "code",
   "execution_count": 9,
   "metadata": {},
   "outputs": [
    {
     "data": {
      "text/plain": [
       "[(3, 6),\n",
       " (13, 26),\n",
       " (10, 20),\n",
       " (1, 2),\n",
       " (6, 12),\n",
       " (8, 16),\n",
       " (5, 10),\n",
       " (3, 6),\n",
       " (13, 26),\n",
       " (6, 12)]"
      ]
     },
     "execution_count": 9,
     "metadata": {},
     "output_type": "execute_result"
    }
   ],
   "source": [
    "outs"
   ]
  },
  {
   "cell_type": "markdown",
   "metadata": {},
   "source": [
    "## Customized API service concurrent calls"
   ]
  },
  {
   "cell_type": "markdown",
   "metadata": {},
   "source": [
    "By default, all the session will initiate a new default service object.\n",
    "\n",
    "If you would like to have one service using across sessions, you need to pass in the **same** service object during construction."
   ]
  },
  {
   "cell_type": "code",
   "execution_count": 18,
   "metadata": {},
   "outputs": [],
   "source": [
    "imodel = li.iModel(\n",
    "    model=\"gpt-4o\",\n",
    "    interval_tokens=1000,\n",
    "    interval_requests=3,\n",
    "    interval=5,\n",
    "    temperature=0.5,\n",
    ")\n",
    "\n",
    "\n",
    "async def calculator_workflow(context):\n",
    "\n",
    "    calculator = li.Branch(\n",
    "        system, imodel=imodel\n",
    "    )  # construct a session instance\n",
    "    context = context.copy()\n",
    "    case = int(context.pop(\"case\"))\n",
    "    instruct = instruction1 if case == 0 else instruction2\n",
    "\n",
    "    res1 = await calculator.chat(instruct, context=context)  # run the steps\n",
    "    res2 = await calculator.chat(instruction3)\n",
    "\n",
    "    return (res1, res2)"
   ]
  },
  {
   "cell_type": "code",
   "execution_count": 19,
   "metadata": {},
   "outputs": [
    {
     "name": "stdout",
     "output_type": "stream",
     "text": [
      "num_workload: 10\n",
      "run clock time: 8.38 seconds\n"
     ]
    }
   ],
   "source": [
    "start = timer()\n",
    "\n",
    "outs = await li.alcall(contexts, calculator_workflow)\n",
    "\n",
    "elapsed_time = timer() - start\n",
    "print(f\"num_workload: {num_iterations}\")\n",
    "print(f\"run clock time: {elapsed_time:0.2f} seconds\")"
   ]
  },
  {
   "cell_type": "code",
   "execution_count": 17,
   "metadata": {},
   "outputs": [
    {
     "data": {
      "text/plain": [
       "[(3, 6),\n",
       " (13, 26),\n",
       " (10, 20),\n",
       " (1, 2),\n",
       " (6, 12),\n",
       " (8, 16),\n",
       " (5, 10),\n",
       " (3, 6),\n",
       " (13, 26),\n",
       " (6, 12)]"
      ]
     },
     "execution_count": 17,
     "metadata": {},
     "output_type": "execute_result"
    }
   ],
   "source": [
    "outs"
   ]
  }
 ],
 "metadata": {
  "kernelspec": {
   "display_name": ".venv",
   "language": "python",
   "name": "python3"
  },
  "language_info": {
   "codemirror_mode": {
    "name": "ipython",
    "version": 3
   },
   "file_extension": ".py",
   "mimetype": "text/x-python",
   "name": "python",
   "nbconvert_exporter": "python",
   "pygments_lexer": "ipython3",
   "version": "3.12.1"
  }
 },
 "nbformat": 4,
 "nbformat_minor": 2
}
