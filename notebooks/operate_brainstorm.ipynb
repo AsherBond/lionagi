{
 "cells": [
  {
   "cell_type": "code",
   "execution_count": 1,
   "metadata": {},
   "outputs": [],
   "source": [
    "instruction = \"Concisely, Give me some ideas on fastapi coding questions\"\n",
    "context = \"we are hiring software engineers\""
   ]
  },
  {
   "cell_type": "code",
   "execution_count": 2,
   "metadata": {},
   "outputs": [
    {
     "data": {
      "text/markdown": [
       "1. Create a FastAPI CRUD app for managing a simple resource (e.g., books or users).  \n",
       "2. Implement path, query, and request body parameter handling in FastAPI.  \n",
       "3. Build an endpoint with dependency injection and middleware for authentication.  \n",
       "4. Demonstrate asynchronous database operations with FastAPI and an ORM like SQLAlchemy.  \n",
       "5. Write a WebSocket endpoint using FastAPI for real-time communication.  \n",
       "6. Handle file uploads and serve static files via FastAPI.  \n",
       "7. Implement pagination and filtering in API responses.  \n",
       "8. Add custom exception handling and validation error responses.  \n",
       "9. Design an API with multiple nested routers and versioning.  \n",
       "10. Secure an endpoint using OAuth2 password flow or JWT in FastAPI."
      ],
      "text/plain": [
       "<IPython.core.display.Markdown object>"
      ]
     },
     "execution_count": 2,
     "metadata": {},
     "output_type": "execute_result"
    }
   ],
   "source": [
    "from IPython.display import Markdown\n",
    "from lionagi import iModel, Branch\n",
    "\n",
    "imodel = iModel(model=\"openai/gpt-4.1-mini\")\n",
    "\n",
    "# create a branch\n",
    "branch = Branch(imodel=imodel)\n",
    "\n",
    "# communicate with AI models\n",
    "result = await branch.communicate(instruction=instruction, context=context)\n",
    "\n",
    "Markdown(result)"
   ]
  },
  {
   "cell_type": "code",
   "execution_count": 3,
   "metadata": {},
   "outputs": [],
   "source": [
    "from pydantic import BaseModel\n",
    "\n",
    "\n",
    "class CodingQuestion(BaseModel):\n",
    "    question: str\n",
    "    evaluation_criteria: str"
   ]
  },
  {
   "cell_type": "code",
   "execution_count": 4,
   "metadata": {},
   "outputs": [
    {
     "data": {
      "text/markdown": [
       "```json\n",
       "{\n",
       "  \"question\": \"Create a FastAPI endpoint to perform CRUD operations on a \\\"Book\\\" resource with fields (id, title, author, published_year). Include proper request validation and error handling.\",\n",
       "  \"evaluation_criteria\": \"Correct implementation of HTTP methods (GET, POST, PUT, DELETE), data validation with Pydantic models, appropriate status codes, and error handling.\",\n",
       "  \"reason\": {\n",
       "    \"title\": \"Relevant and practical coding question\",\n",
       "    \"content\": \"This question tests core FastAPI skills: routing, data validation, CRUD logic, and error handling, reflecting typical real-world tasks.\",\n",
       "    \"confidence_score\": 0.95\n",
       "  }\n",
       "}\n",
       "```"
      ],
      "text/plain": [
       "<IPython.core.display.Markdown object>"
      ]
     },
     "metadata": {},
     "output_type": "display_data"
    }
   ],
   "source": [
    "from lionagi.libs.parse import as_readable\n",
    "\n",
    "result = await branch.operate(\n",
    "    instruction=instruction,\n",
    "    context=context,\n",
    "    response_format=CodingQuestion,\n",
    "    reason=True,\n",
    ")\n",
    "\n",
    "as_readable(result, md=True, display_str=True)"
   ]
  },
  {
   "cell_type": "code",
   "execution_count": 5,
   "metadata": {},
   "outputs": [
    {
     "name": "stderr",
     "output_type": "stream",
     "text": [
      "INFO:root:Dumped logs to data/logs/log_20250912194237-f507d.json\n",
      "INFO:root:Dumped logs to data/logs/log_20250912194238-f84c6.json\n",
      "INFO:root:Dumped logs to data/logs/log_20250912194241-8410e.json\n",
      "INFO:root:Dumped logs to data/logs/log_20250912194248-08557.json\n"
     ]
    }
   ],
   "source": [
    "from lionagi.operations.brainstorm.brainstorm import brainstorm\n",
    "\n",
    "instruct = {\n",
    "    \"instruction\": instruction,\n",
    "    \"context\": context,\n",
    "}\n",
    "\n",
    "result = await brainstorm(\n",
    "    instruct=instruct,\n",
    "    num_instruct=2,\n",
    "    response_format=CodingQuestion,\n",
    "    auto_run=True,\n",
    "    verbose=False,\n",
    "    chat_model=imodel,\n",
    ")"
   ]
  },
  {
   "cell_type": "code",
   "execution_count": 6,
   "metadata": {},
   "outputs": [
    {
     "data": {
      "text/markdown": [
       "```json\n",
       "{\n",
       "  \"question\": \"Design a FastAPI endpoint to create and retrieve user profiles with data validation, including name (string), email (valid email format), and age (integer greater than 0). Implement appropriate error handling for invalid input.\",\n",
       "  \"evaluation_criteria\": \"Correct use of Pydantic models for validation, proper HTTP status codes, clear and concise endpoint definitions, and robust error handling. Code readability and adherence to RESTful design principles are essential.\",\n",
       "  \"instruct_models\": [\n",
       "    {\n",
       "      \"instruction\": \"Create two FastAPI endpoints: POST /users to create a user profile and GET /users/{user_id} to retrieve it. Use Pydantic models to enforce that 'name' is a non-empty string, 'email' follows a valid email format, and 'age' is an integer above 0. Implement error handling to return HTTP 422 for validation errors and HTTP 404 when a user is not found.\",\n",
       "      \"guidance\": \"Use FastAPI's dependency injection and Pydantic validation features. Ensure endpoints return JSON responses with appropriate status codes. Do not include persistence layer beyond in-memory storage for simplicity.\",\n",
       "      \"context\": \"We are hiring software engineers and want to assess their ability to define and validate data models in FastAPI while handling errors properly.\",\n",
       "      \"reason\": {},\n",
       "      \"actions\": {},\n",
       "      \"action_strategy\": {}\n",
       "    },\n",
       "    {\n",
       "      \"instruction\": \"Develop a FastAPI endpoint that accepts GET requests to filter user profiles by optional query parameters: minimum age, maximum age, and email domain. Validate query parameters and return filtered results in JSON format. Flag for deeper expansion: Implement pagination and sorting features for the filtered data.\",\n",
       "      \"guidance\": \"Focus on clear query parameter parsing with Pydantic or FastAPI Query objects. Validate that age parameters are positive integers and email domain matches typical email domain format. Use efficient filtering on an in-memory list of user profiles for the prototype.\",\n",
       "      \"context\": \"We aim to evaluate candidates' ability to work with FastAPI query parameters, input validation, and data filtering logic in a practical hiring test.\",\n",
       "      \"reason\": {},\n",
       "      \"actions\": {},\n",
       "      \"action_strategy\": {}\n",
       "    }\n",
       "  ]\n",
       "}\n",
       "```"
      ],
      "text/plain": [
       "<IPython.core.display.Markdown object>"
      ]
     },
     "metadata": {},
     "output_type": "display_data"
    }
   ],
   "source": [
    "as_readable(result.initial, md=True, display_str=True)"
   ]
  },
  {
   "cell_type": "code",
   "execution_count": 7,
   "metadata": {},
   "outputs": [
    {
     "data": {
      "text/markdown": [
       "```json\n",
       "{\n",
       "  \"question\": \"Design a FastAPI endpoint to create and retrieve user profiles with data validation, including name (string), email (valid email format), and age (integer greater than 0). Implement appropriate error handling for invalid input.\",\n",
       "  \"evaluation_criteria\": \"Correct use of Pydantic models for validation, proper HTTP status codes, clear and concise endpoint definitions, and robust error handling. Code readability and adherence to RESTful design principles are essential.\",\n",
       "  \"instruct_models\": [\n",
       "    {\n",
       "      \"instruction\": \"Create two FastAPI endpoints: POST /users to create a user profile and GET /users/{user_id} to retrieve it. Use Pydantic models to enforce that 'name' is a non-empty string, 'email' follows a valid email format, and 'age' is an integer above 0. Implement error handling to return HTTP 422 for validation errors and HTTP 404 when a user is not found.\",\n",
       "      \"guidance\": \"Use FastAPI's dependency injection and Pydantic validation features. Ensure endpoints return JSON responses with appropriate status codes. Do not include persistence layer beyond in-memory storage for simplicity.\",\n",
       "      \"context\": \"We are hiring software engineers and want to assess their ability to define and validate data models in FastAPI while handling errors properly.\",\n",
       "      \"reason\": {},\n",
       "      \"actions\": {},\n",
       "      \"action_strategy\": {}\n",
       "    },\n",
       "    {\n",
       "      \"instruction\": \"Develop a FastAPI endpoint that accepts GET requests to filter user profiles by optional query parameters: minimum age, maximum age, and email domain. Validate query parameters and return filtered results in JSON format. Flag for deeper expansion: Implement pagination and sorting features for the filtered data.\",\n",
       "      \"guidance\": \"Focus on clear query parameter parsing with Pydantic or FastAPI Query objects. Validate that age parameters are positive integers and email domain matches typical email domain format. Use efficient filtering on an in-memory list of user profiles for the prototype.\",\n",
       "      \"context\": \"We aim to evaluate candidates' ability to work with FastAPI query parameters, input validation, and data filtering logic in a practical hiring test.\",\n",
       "      \"reason\": {},\n",
       "      \"actions\": {},\n",
       "      \"action_strategy\": {}\n",
       "    }\n",
       "  ]\n",
       "}\n",
       "```"
      ],
      "text/plain": [
       "<IPython.core.display.Markdown object>"
      ]
     },
     "metadata": {},
     "output_type": "display_data"
    },
    {
     "data": {
      "text/markdown": [
       "```json\n",
       "{\n",
       "  \"question\": \"Create two FastAPI endpoints: POST /users to create a user profile and GET /users/{user_id} to retrieve it. The user profile must include 'name' (a non-empty string), 'email' (a valid email format), and 'age' (an integer greater than 0). Use Pydantic models for validation and ensure proper error handling returns HTTP 422 for invalid input and HTTP 404 if the user is not found.\",\n",
       "  \"evaluation_criteria\": \"Correct use of Pydantic models for input validation enforcing the constraints on 'name', 'email', and 'age'. Implement POST and GET endpoints using FastAPI with proper dependency injection. Return JSON responses with appropriate HTTP status codes: 201 on successful creation, 422 for validation errors, and 404 for missing users. Maintain clear and clean code structure, and handle in-memory user storage efficiently.\",\n",
       "  \"instruct_models\": [\n",
       "    {\n",
       "      \"instruction\": \"Implement a POST /users endpoint to accept a user profile JSON payload validated by a Pydantic model ensuring 'name' is a non-empty string, 'email' is a valid email address, and 'age' is an integer greater than zero. Store users in an in-memory dictionary with auto-incremented user IDs. Implement a GET /users/{user_id} endpoint to retrieve user profiles by ID, returning 404 if not found.\",\n",
       "      \"guidance\": \"Use FastAPI's dependency injection and Pydantic validation features. Return JSON responses with appropriate HTTP status codes. Keep the storage layer in-memory for simplicity. Do not include database integration. Ensure clear error messages for validation failures and missing resources.\",\n",
       "      \"context\": \"We want to assess candidates’ understanding of FastAPI routing, Pydantic validation, response handling, and basic error management in a stateless server environment.\",\n",
       "      \"reason\": {},\n",
       "      \"actions\": {},\n",
       "      \"action_strategy\": {}\n",
       "    }\n",
       "  ]\n",
       "}\n",
       "```"
      ],
      "text/plain": [
       "<IPython.core.display.Markdown object>"
      ]
     },
     "metadata": {},
     "output_type": "display_data"
    },
    {
     "data": {
      "text/markdown": [
       "```json\n",
       "{\n",
       "  \"question\": \"Implement a POST /users endpoint that accepts a JSON payload representing a user profile with 'name', 'email', and 'age'. Validate the input with Pydantic to ensure 'name' is a non-empty string, 'email' is a valid email address, and 'age' is an integer greater than zero. Store the user profile in an in-memory dictionary with auto-incremented user IDs. Also, implement a GET /users/{user_id} endpoint that retrieves the user profile by ID, returning a 404 error if the user is not found.\",\n",
       "  \"evaluation_criteria\": \"Use of FastAPI and Pydantic to enforce strict validation rules for the input model. Proper handling of POST and GET HTTP methods with correct status codes (201 for successful creation, 404 for missing users). In-memory storage must be thread-safe and use auto-incremented integers to assign user IDs. Clear and informative error messages should be returned for validation failures (HTTP 422) and missing resources (HTTP 404). Code should demonstrate clean organization, FastAPI dependency injection, and JSON response adherence.\",\n",
       "  \"instruct_models\": [\n",
       "    {\n",
       "      \"instruction\": \"Create a Pydantic model enforcing 'name' as a non-empty string, 'email' as a valid email address, and 'age' as a positive integer. Implement POST /users to validate and store user profiles in a thread-safe in-memory dictionary, assigning unique incrementing IDs. Implement GET /users/{user_id} to retrieve profiles by ID, returning HTTP 404 if not found. Return HTTP 201 on successful creation. Raise HTTP 422 automatically for validation errors.\",\n",
       "      \"guidance\": \"Use FastAPI's dependency injection and request body parsing. Utilize Pydantic's built-in validators and EmailStr for email validation. Employ FastAPI's HTTPException for 404 errors. Keep storage simple and in-memory, ensuring thread safety if possible. Ensure endpoints return JSON with correct status codes. Avoid external database or persistence layers.\",\n",
       "      \"context\": \"This task evaluates fundamental FastAPI routing, Pydantic validation, error handling, HTTP status management, and basic in-memory state handling capabilities relevant for backend development roles.\",\n",
       "      \"reason\": {},\n",
       "      \"actions\": {},\n",
       "      \"action_strategy\": {}\n",
       "    }\n",
       "  ]\n",
       "}\n",
       "```"
      ],
      "text/plain": [
       "<IPython.core.display.Markdown object>"
      ]
     },
     "metadata": {},
     "output_type": "display_data"
    },
    {
     "data": {
      "text/markdown": [
       "```json\n",
       "{\n",
       "  \"question\": \"Develop a FastAPI GET endpoint '/users/filter' that filters user profiles from an in-memory list using optional query parameters: min_age (positive integer), max_age (positive integer), and email_domain (string matching a typical email domain pattern). Validate the query parameters to ensure correctness, apply filtering logic efficiently, and return the matching user profiles in JSON format.\",\n",
       "  \"evaluation_criteria\": \"Correct use of FastAPI Query objects or Pydantic models for query parameter validation; proper validation ensuring age parameters are positive integers and email_domain matches typical domain regex; efficient in-memory filtering based on provided parameters; clear JSON response structure; concise, readable code; flag for deeper expansion to implement pagination and sorting features.\",\n",
       "  \"instruct_models\": [\n",
       "    {\n",
       "      \"instruction\": \"Create a FastAPI endpoint '/users/filter' accepting optional query parameters: min_age, max_age, and email_domain. Use FastAPI Query or Pydantic models for validation, ensuring min_age and max_age are positive integers and email_domain matches standard domain patterns. Filter an in-memory list of user profiles accordingly and return the filtered list as JSON.\",\n",
       "      \"guidance\": \"Leverage FastAPI's built-in validation and parsing features for query parameters. Use regular expressions to validate email_domain format. Focus on clean, performant filtering logic over an in-memory data structure. Pagination and sorting should be noted as an extension but not implemented in this step.\",\n",
       "      \"context\": \"This task assesses candidates' capabilities in query parameter parsing, validation, and data filtering within FastAPI, using in-memory data structures suitable for a hiring evaluation.\",\n",
       "      \"reason\": {},\n",
       "      \"actions\": {},\n",
       "      \"action_strategy\": {}\n",
       "    }\n",
       "  ]\n",
       "}\n",
       "```"
      ],
      "text/plain": [
       "<IPython.core.display.Markdown object>"
      ]
     },
     "metadata": {},
     "output_type": "display_data"
    },
    {
     "data": {
      "text/markdown": [
       "```json\n",
       "{\n",
       "  \"question\": \"Create a FastAPI GET endpoint '/users/filter' that accepts optional query parameters: min_age, max_age, and email_domain. Validate that min_age and max_age are positive integers and that email_domain matches a standard email domain regex. Filter an in-memory list of user profiles accordingly and return the filtered profiles in JSON format.\",\n",
       "  \"evaluation_criteria\": \"Proper use of FastAPI Query or Pydantic models for parsing and validation of query parameters; enforcement of positive integer constraints for min_age and max_age; regex validation for email_domain format; efficient filtering of an in-memory user list; correctly formatted JSON response; code clarity and adherence to FastAPI best practices. Flag for deeper expansion: implement pagination and sorting features.\",\n",
       "  \"instruct_models\": [\n",
       "    {\n",
       "      \"instruction\": \"Develop a FastAPI GET endpoint at '/users/filter' that accepts optional query parameters: min_age, max_age, and email_domain. Use FastAPI's Query or Pydantic models to validate that min_age and max_age are positive integers and email_domain conforms to a typical domain regex pattern. Filter an in-memory list of user objects according to these parameters and return the filtered results as JSON. Clearly indicate that pagination and sorting are noted for future extension but not required now.\",\n",
       "      \"guidance\": \"Leverage FastAPI's built-in validation and parsing for query parameters. Use regular expressions to verify the email_domain format. Optimize filtering logic over in-memory data without adding persistence. Maintain clean, readable code focused on core validation and filtering requirements.\",\n",
       "      \"context\": \"This task evaluates candidates' abilities to parse and validate query parameters, apply filtering logic in FastAPI, and manage in-memory data structures, relevant to practical hiring tests for software engineers.\",\n",
       "      \"reason\": {},\n",
       "      \"actions\": {},\n",
       "      \"action_strategy\": {}\n",
       "    }\n",
       "  ]\n",
       "}\n",
       "```"
      ],
      "text/plain": [
       "<IPython.core.display.Markdown object>"
      ]
     },
     "metadata": {},
     "output_type": "display_data"
    }
   ],
   "source": [
    "for i in result.brainstorm:\n",
    "    as_readable(i, md=True, display_str=True)"
   ]
  },
  {
   "cell_type": "code",
   "execution_count": null,
   "metadata": {},
   "outputs": [],
   "source": []
  }
 ],
 "metadata": {
  "kernelspec": {
   "display_name": "lionagi",
   "language": "python",
   "name": "python3"
  },
  "language_info": {
   "codemirror_mode": {
    "name": "ipython",
    "version": 3
   },
   "file_extension": ".py",
   "mimetype": "text/x-python",
   "name": "python",
   "nbconvert_exporter": "python",
   "pygments_lexer": "ipython3",
   "version": "3.10.15"
  }
 },
 "nbformat": 4,
 "nbformat_minor": 2
}
