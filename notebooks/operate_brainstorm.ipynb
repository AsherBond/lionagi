{
 "cells": [
  {
   "cell_type": "code",
   "execution_count": 1,
   "metadata": {},
   "outputs": [],
   "source": [
    "instruction = \"Concisely, Give me some ideas on fastapi coding questions\"\n",
    "context = \"we are hiring software engineers\""
   ]
  },
  {
   "cell_type": "code",
   "execution_count": 2,
   "metadata": {},
   "outputs": [
    {
     "data": {
      "text/markdown": [
       "Certainly! Here are some FastAPI coding questions that you can use to assess the skills of software engineering candidates:\n",
       "\n",
       "1. **Basic FastAPI Setup:**\n",
       "   - Question: How do you set up a basic FastAPI application? Write a simple FastAPI application that returns \"Hello, World!\" when accessed at the root URL.\n",
       "\n",
       "2. **Path Parameters:**\n",
       "   - Question: How do you handle path parameters in FastAPI? Create an endpoint that takes a username as a path parameter and returns a greeting message.\n",
       "\n",
       "3. **Query Parameters:**\n",
       "   - Question: How can you use query parameters in FastAPI? Write an endpoint that accepts a query parameter for age and returns a message indicating whether the user is a minor or an adult.\n",
       "\n",
       "4. **Request Body with Pydantic:**\n",
       "   - Question: How do you define and validate request bodies using Pydantic in FastAPI? Create an endpoint that accepts a JSON payload with user details (name, email, age) and returns a confirmation message.\n",
       "\n",
       "5. **Response Models:**\n",
       "   - Question: How do you use response models in FastAPI? Define a Pydantic model for a product and create an endpoint that returns product details using this model.\n",
       "\n",
       "6. **Dependency Injection:**\n",
       "   - Question: Explain how dependency injection works in FastAPI. Write a simple example where you use a dependency to log requests.\n",
       "\n",
       "7. **Error Handling:**\n",
       "   - Question: How do you handle errors in FastAPI? Demonstrate how to create a custom exception and handle it using FastAPI's exception handlers.\n",
       "\n",
       "8. **Middleware:**\n",
       "   - Question: What is middleware in FastAPI, and how do you implement it? Write a middleware that logs the time taken to process each request.\n",
       "\n",
       "9. **Background Tasks:**\n",
       "   - Question: How can you run background tasks in FastAPI? Create an endpoint that triggers a background task to send an email after processing a request.\n",
       "\n",
       "10. **WebSocket Support:**\n",
       "    - Question: How do you implement WebSocket communication in FastAPI? Write a simple WebSocket endpoint that echoes messages back to the client.\n",
       "\n",
       "These questions cover a range of FastAPI features and can help you evaluate a candidate's understanding and proficiency with the framework."
      ],
      "text/plain": [
       "<IPython.core.display.Markdown object>"
      ]
     },
     "execution_count": 2,
     "metadata": {},
     "output_type": "execute_result"
    }
   ],
   "source": [
    "from IPython.display import Markdown\n",
    "from lionagi import LiteiModel, Branch\n",
    "\n",
    "imodel = LiteiModel(\n",
    "    model=\"openai/gpt-4o\",\n",
    "    api_key=\"OPENAI_API_KEY\",\n",
    "    temperature=0.2,\n",
    ")\n",
    "\n",
    "# create a branch\n",
    "branch = Branch(imodel=imodel)\n",
    "\n",
    "# communicate with AI models\n",
    "result = await branch.communicate(instruction=instruction, context=context)\n",
    "\n",
    "Markdown(result)"
   ]
  },
  {
   "cell_type": "code",
   "execution_count": 3,
   "metadata": {},
   "outputs": [],
   "source": [
    "from pydantic import BaseModel\n",
    "\n",
    "\n",
    "class CodingQuestion(BaseModel):\n",
    "    question: str\n",
    "    evaluation_criteria: str"
   ]
  },
  {
   "cell_type": "code",
   "execution_count": 4,
   "metadata": {},
   "outputs": [
    {
     "data": {
      "text/markdown": [
       "```json\n",
       "{\n",
       "    \"question\": \"How do you set up a basic FastAPI application that returns 'Hello, World!' when accessed at the root URL?\",\n",
       "    \"evaluation_criteria\": \"Evaluate the candidate's ability to set up a FastAPI application, including importing necessary modules and defining a basic route.\",\n",
       "    \"reason\": {\n",
       "        \"title\": \"Basic FastAPI Setup\",\n",
       "        \"content\": \"This question assesses the candidate's familiarity with FastAPI's basic setup and routing capabilities.\",\n",
       "        \"confidence_score\": 0.9\n",
       "    }\n",
       "}\n",
       "\n",
       "{\n",
       "    \"question\": \"How do you handle path parameters in FastAPI? Create an endpoint that takes a username as a path parameter and returns a greeting message.\",\n",
       "    \"evaluation_criteria\": \"Check the candidate's understanding of path parameters and their ability to implement dynamic routing in FastAPI.\",\n",
       "    \"reason\": {\n",
       "        \"title\": \"Path Parameters\",\n",
       "        \"content\": \"This question evaluates the candidate's skill in using path parameters to create dynamic endpoints.\",\n",
       "        \"confidence_score\": 0.85\n",
       "    }\n",
       "}\n",
       "\n",
       "{\n",
       "    \"question\": \"How can you use query parameters in FastAPI? Write an endpoint that accepts a query parameter for age and returns a message indicating whether the user is a minor or an adult.\",\n",
       "    \"evaluation_criteria\": \"Assess the candidate's ability to work with query parameters and conditional logic in FastAPI.\",\n",
       "    \"reason\": {\n",
       "        \"title\": \"Query Parameters\",\n",
       "        \"content\": \"This question tests the candidate's proficiency in handling query parameters and implementing conditional responses.\",\n",
       "        \"confidence_score\": 0.88\n",
       "    }\n",
       "}\n",
       "\n",
       "{\n",
       "    \"question\": \"How do you define and validate request bodies using Pydantic in FastAPI? Create an endpoint that accepts a JSON payload with user details (name, email, age) and returns a confirmation message.\",\n",
       "    \"evaluation_criteria\": \"Evaluate the candidate's ability to use Pydantic models for request validation and handling JSON payloads.\",\n",
       "    \"reason\": {\n",
       "        \"title\": \"Request Body with Pydantic\",\n",
       "        \"content\": \"This question assesses the candidate's skill in defining and validating request bodies using Pydantic models.\",\n",
       "        \"confidence_score\": 0.92\n",
       "    }\n",
       "}\n",
       "\n",
       "{\n",
       "    \"question\": \"Explain how dependency injection works in FastAPI. Write a simple example where you use a dependency to log requests.\",\n",
       "    \"evaluation_criteria\": \"Check the candidate's understanding of dependency injection and their ability to implement it in FastAPI.\",\n",
       "    \"reason\": {\n",
       "        \"title\": \"Dependency Injection\",\n",
       "        \"content\": \"This question evaluates the candidate's knowledge of dependency injection and its practical application in FastAPI.\",\n",
       "        \"confidence_score\": 0.87\n",
       "    }\n",
       "}\n",
       "```"
      ],
      "text/plain": [
       "<IPython.core.display.Markdown object>"
      ]
     },
     "execution_count": 4,
     "metadata": {},
     "output_type": "execute_result"
    }
   ],
   "source": [
    "from lionagi.libs.parse import as_readable\n",
    "\n",
    "result = await branch.operate(\n",
    "    instruction=instruction,\n",
    "    context=context,\n",
    "    operative_model=CodingQuestion,\n",
    "    reason=True,\n",
    ")\n",
    "\n",
    "Markdown(as_readable(result, md=True))"
   ]
  },
  {
   "cell_type": "code",
   "execution_count": 5,
   "metadata": {},
   "outputs": [
    {
     "name": "stdout",
     "output_type": "stream",
     "text": [
      "Starting brainstorming...\n",
      "Initial brainstorming complete.\n",
      "\n",
      "-----Running instruction-----\n",
      "Focus on search speed and accuracy. Use database indexing where appropriate and ensure the API handl...\n",
      "\n",
      "-----Running instruction-----\n",
      "Use FastAPI's built-in data validation and serialization. Prioritize code readability and maintainab...\n",
      "\n",
      "-----Running instruction-----\n",
      "Leverage FastAPI's data validation tools to ensure inputs are appropriately checked. Use SQLAlchemy ...\n",
      "\n",
      "-----Running instruction-----\n",
      "Choose a database technology that supports full-text search natively (such as PostgreSQL). Ensure th...\n",
      "\n",
      "-----Running instruction-----\n",
      "Use FastAPI's dependency injection to manage database connections. Apply indexes on the database fie...\n",
      "\n",
      "-----Exploring Idea-----\n",
      "Leverage FastAPI dependency injection for managing database connections. Create indexes on relevant ...\n",
      "\n",
      "-----Exploring Idea-----\n",
      "Utilize PostgreSQL's full-text search capabilities. Index relevant fields and leverage trigram simil...\n",
      "\n",
      "-----Exploring Idea-----\n",
      "Use FastAPI's built-in data validation and serialization. Prioritize code readability and maintainab...\n",
      "\n",
      "-----Exploring Idea-----\n",
      "Focus on search speed and accuracy. Use database indexing where appropriate and ensure the API handl...\n",
      "\n",
      "-----Exploring Idea-----\n",
      "Utilize Elasticsearch for its powerful full-text search capabilities. Configure indices properly and...\n",
      "\n",
      "-----Exploring Idea-----\n",
      "Utilize SQLAlchemy to model the database and ensure relational integrity. Implement validation check...\n"
     ]
    }
   ],
   "source": [
    "from lionagi.operations import brainstorm\n",
    "\n",
    "instruct = {\n",
    "    \"instruction\": instruction,\n",
    "    \"context\": context,\n",
    "}\n",
    "\n",
    "result = await brainstorm(\n",
    "    instruct=instruct,\n",
    "    num_instruct=2,\n",
    "    operative_model=CodingQuestion,\n",
    "    auto_run=True,\n",
    "    invoke_action=False,\n",
    "    verbose=True,\n",
    "    auto_explore=True,\n",
    "    reason=True,\n",
    ")"
   ]
  },
  {
   "cell_type": "code",
   "execution_count": 7,
   "metadata": {},
   "outputs": [
    {
     "data": {
      "text/markdown": [
       "```json\n",
       "{\n",
       "    \"question\": \"Design and implement a FastAPI service for managing a library's book database.\",\n",
       "    \"evaluation_criteria\": \"Evaluate based on the API's design, ability to create, read, update, delete books, error handling, and adherence to RESTful standards.\",\n",
       "    \"instruct_models\": [\n",
       "        {\n",
       "            \"instruction\": \"Create endpoints to manage books in the library. Implement CRUD operations: Create, Read, Update, Delete. Ensure the API adheres to REST principles.\",\n",
       "            \"guidance\": \"Use FastAPI's built-in data validation and serialization. Prioritize code readability and maintainability. Use SQLAlchemy for database interaction.\",\n",
       "            \"context\": \"The library requires easy access to manage book data, ensuring good data integrity and user-friendly API interface.\"\n",
       "        },\n",
       "        {\n",
       "            \"instruction\": \"Optimize the FastAPI service for search functionality. Implement a search endpoint that allows users to find books by title, author, or genre.\",\n",
       "            \"guidance\": \"Focus on search speed and accuracy. Use database indexing where appropriate and ensure the API handles large search queries efficiently.\",\n",
       "            \"context\": \"The library database has a large collection, and users need a fast and efficient way to locate specific books or discover new ones.\"\n",
       "        }\n",
       "    ],\n",
       "    \"reason\": {\n",
       "        \"title\": \"FastAPI Project Instructions for Book Management\",\n",
       "        \"content\": \"The proposed instructions guide developers through creating a comprehensive FastAPI service to manage a library's book database, focusing on both CRUD functionality and enhanced search capabilities.\",\n",
       "        \"confidence_score\": 0.9\n",
       "    }\n",
       "}\n",
       "```"
      ],
      "text/plain": [
       "<IPython.core.display.Markdown object>"
      ]
     },
     "execution_count": 7,
     "metadata": {},
     "output_type": "execute_result"
    }
   ],
   "source": [
    "Markdown(as_readable(result.initial, md=True))"
   ]
  },
  {
   "cell_type": "code",
   "execution_count": 9,
   "metadata": {},
   "outputs": [
    {
     "data": {
      "text/markdown": [
       "```json\n",
       "{\n",
       "    \"question\": \"Design and implement a FastAPI service for managing a library's book database.\",\n",
       "    \"evaluation_criteria\": \"Evaluate based on the API's design, ability to create, read, update, delete books, error handling, and adherence to RESTful standards.\",\n",
       "    \"instruct_models\": [\n",
       "        {\n",
       "            \"instruction\": \"Create endpoints to manage books in the library. Implement CRUD operations: Create, Read, Update, Delete. Ensure the API adheres to REST principles.\",\n",
       "            \"guidance\": \"Use FastAPI's built-in data validation and serialization. Prioritize code readability and maintainability. Use SQLAlchemy for database interaction.\",\n",
       "            \"context\": \"The library requires easy access to manage book data, ensuring good data integrity and user-friendly API interface.\"\n",
       "        },\n",
       "        {\n",
       "            \"instruction\": \"Optimize the FastAPI service for search functionality. Implement a search endpoint that allows users to find books by title, author, or genre.\",\n",
       "            \"guidance\": \"Focus on search speed and accuracy. Use database indexing where appropriate and ensure the API handles large search queries efficiently.\",\n",
       "            \"context\": \"The library database has a large collection, and users need a fast and efficient way to locate specific books or discover new ones.\"\n",
       "        }\n",
       "    ],\n",
       "    \"reason\": {\n",
       "        \"title\": \"FastAPI Project Instructions for Book Management\",\n",
       "        \"content\": \"The proposed instructions guide developers through creating a comprehensive FastAPI service to manage a library's book database, focusing on both CRUD functionality and enhanced search capabilities.\",\n",
       "        \"confidence_score\": 0.9\n",
       "    }\n",
       "}\n",
       "```"
      ],
      "text/plain": [
       "<IPython.core.display.Markdown object>"
      ]
     },
     "metadata": {},
     "output_type": "display_data"
    },
    {
     "data": {
      "text/markdown": [
       "```json\n",
       "{\n",
       "    \"question\": \"How can you implement CRUD operations using FastAPI for managing a library's book database?\",\n",
       "    \"evaluation_criteria\": \"Assess the implementation based on effective use of FastAPI's data validation tools, accuracy and integrity in CRUD operations, proper exception handling, and the use of SQLAlchemy for database interaction.\",\n",
       "    \"instruct_models\": [\n",
       "        {\n",
       "            \"instruction\": \"Implement a RESTful API using FastAPI to handle book data with CRUD operations in a library system.\",\n",
       "            \"guidance\": \"Utilize SQLAlchemy to model the database and ensure relational integrity. Implement validation checks using FastAPI's features to maintain data consistency.\",\n",
       "            \"context\": \"The library requires a system that manages book information effectively and efficiently, ensuring robust interactions with the book database.\"\n",
       "        }\n",
       "    ],\n",
       "    \"reason\": {\n",
       "        \"title\": \"Development of FastAPI CRUD Endpoints for Library Management\",\n",
       "        \"content\": \"The creation of FastAPI endpoints for CRUD operations on the library's book database will enhance the system's ability to manage data reliably and efficiently, leveraging modern validation and database techniques.\",\n",
       "        \"confidence_score\": 0.92\n",
       "    }\n",
       "}\n",
       "```"
      ],
      "text/plain": [
       "<IPython.core.display.Markdown object>"
      ]
     },
     "metadata": {},
     "output_type": "display_data"
    },
    {
     "data": {
      "text/markdown": [
       "```json\n",
       "{\n",
       "    \"question\": \"How can you implement CRUD operations using FastAPI for managing a library's book database?\",\n",
       "    \"evaluation_criteria\": \"Assess the implementation based on effective use of FastAPI's data validation tools, accuracy and integrity in CRUD operations, proper exception handling, and the use of SQLAlchemy for database interaction.\",\n",
       "    \"instruct_models\": [\n",
       "        {\n",
       "            \"instruction\": \"Implement a RESTful API using FastAPI to handle book data with CRUD operations in a library system.\",\n",
       "            \"guidance\": \"Utilize SQLAlchemy to model the database and ensure relational integrity. Implement validation checks using FastAPI's features to maintain data consistency.\",\n",
       "            \"context\": \"The library requires a system that manages book information effectively and efficiently, ensuring robust interactions with the book database.\"\n",
       "        }\n",
       "    ],\n",
       "    \"reason\": {\n",
       "        \"title\": \"Development of FastAPI CRUD Endpoints for Library Management\",\n",
       "        \"content\": \"The creation of FastAPI endpoints for CRUD operations on the library's book database will enhance the system's ability to manage data reliably and efficiently, leveraging modern validation and database techniques.\",\n",
       "        \"confidence_score\": 0.92\n",
       "    }\n",
       "}\n",
       "```"
      ],
      "text/plain": [
       "<IPython.core.display.Markdown object>"
      ]
     },
     "metadata": {},
     "output_type": "display_data"
    },
    {
     "data": {
      "text/markdown": [
       "```json\n",
       "{\n",
       "    \"question\": \"How can we implement and optimize full-text search to enhance book retrieval, even with partial or misspelled inputs in a FastAPI service?\",\n",
       "    \"evaluation_criteria\": \"Evaluate based on the effectiveness of search retrieval for both partial and misspelled inputs. Consider the implementation of full-text search using an appropriate database and the performance of text queries.\",\n",
       "    \"instruct_models\": [\n",
       "        {\n",
       "            \"instruction\": \"Integrate full-text search in FastAPI using PostgreSQL. Implement search queries that handle partial matches and typos efficiently.\",\n",
       "            \"guidance\": \"Utilize PostgreSQL's full-text search capabilities. Index relevant fields and leverage trigram similarity for handling typographical errors. Test search speed and accuracy with various input scenarios.\",\n",
       "            \"context\": \"The library's search functionality should be robust enough to deal with large data volumes and imperfect user input, ensuring quick and accurate results.\"\n",
       "        },\n",
       "        {\n",
       "            \"instruction\": \"Develop a search API endpoint using Elasticsearch to provide advanced full-text search features, addressing partial or incorrect input queries.\",\n",
       "            \"guidance\": \"Utilize Elasticsearch for its powerful full-text search capabilities. Configure indices properly and test search queries for performance and accuracy using misspelled or partial inputs.\",\n",
       "            \"context\": \"Users expect reliable and comprehensive search results from a vast collection, even if the input data is not precise. Elasticsearch will offer the necessary search enhancements.\"\n",
       "        }\n",
       "    ],\n",
       "    \"reason\": {\n",
       "        \"title\": \"Implementation of Full-Text Search for Book Retrieval\",\n",
       "        \"content\": \"These instructions focus on leveraging full-text search capabilities in databases to optimize the search process, ensuring efficient handling of partial and misspelled input queries.\",\n",
       "        \"confidence_score\": 0.95\n",
       "    }\n",
       "}\n",
       "```"
      ],
      "text/plain": [
       "<IPython.core.display.Markdown object>"
      ]
     },
     "metadata": {},
     "output_type": "display_data"
    },
    {
     "data": {
      "text/markdown": [
       "```json\n",
       "{\n",
       "    \"question\": \"How can a FastAPI endpoint be implemented to search books by title, author, or genre, while optimizing database query performance through indexing?\",\n",
       "    \"evaluation_criteria\": \"Assess the correctness of the search functionality, the use of proper indexing on database fields, managing connections via FastAPI's dependency injection, and performance gains measured through reduced query execution times.\",\n",
       "    \"instruct_models\": [\n",
       "        {\n",
       "            \"instruction\": \"Develop a FastAPI endpoint for searching books by title, author, or genre. Implement necessary database indexes to enhance search performance.\",\n",
       "            \"guidance\": \"Leverage FastAPI dependency injection for managing database connections. Create indexes on relevant columns used in search criteria to improve query efficiency. Test performance to ensure significant gains.\",\n",
       "            \"context\": \"The library database is large, necessitating an optimized approach to facilitate efficient and fast queries for an enhanced user experience.\"\n",
       "        }\n",
       "    ],\n",
       "    \"reason\": {\n",
       "        \"title\": \"Optimizing FastAPI Book Search with Indexing\",\n",
       "        \"content\": \"The instruction aims to utilize FastAPI's features for efficient database interaction while applying indexing strategies to optimize search performance for a large dataset.\",\n",
       "        \"confidence_score\": 0.9\n",
       "    }\n",
       "}\n",
       "```"
      ],
      "text/plain": [
       "<IPython.core.display.Markdown object>"
      ]
     },
     "metadata": {},
     "output_type": "display_data"
    },
    {
     "data": {
      "text/markdown": [
       "```json\n",
       "{\n",
       "    \"question\": \"How can we implement and optimize full-text search to enhance book retrieval, even with partial or misspelled inputs in a FastAPI service?\",\n",
       "    \"evaluation_criteria\": \"Evaluate based on the effectiveness of search retrieval for both partial and misspelled inputs. Consider the implementation of full-text search using an appropriate database and the performance of text queries.\",\n",
       "    \"instruct_models\": [\n",
       "        {\n",
       "            \"instruction\": \"Integrate full-text search in FastAPI using PostgreSQL. Implement search queries that handle partial matches and typos efficiently.\",\n",
       "            \"guidance\": \"Utilize PostgreSQL's full-text search capabilities. Index relevant fields and leverage trigram similarity for handling typographical errors. Test search speed and accuracy with various input scenarios.\",\n",
       "            \"context\": \"The library's search functionality should be robust enough to deal with large data volumes and imperfect user input, ensuring quick and accurate results.\"\n",
       "        },\n",
       "        {\n",
       "            \"instruction\": \"Develop a search API endpoint using Elasticsearch to provide advanced full-text search features, addressing partial or incorrect input queries.\",\n",
       "            \"guidance\": \"Utilize Elasticsearch for its powerful full-text search capabilities. Configure indices properly and test search queries for performance and accuracy using misspelled or partial inputs.\",\n",
       "            \"context\": \"Users expect reliable and comprehensive search results from a vast collection, even if the input data is not precise. Elasticsearch will offer the necessary search enhancements.\"\n",
       "        }\n",
       "    ],\n",
       "    \"reason\": {\n",
       "        \"title\": \"Implementation of Full-Text Search for Book Retrieval\",\n",
       "        \"content\": \"These instructions focus on leveraging full-text search capabilities in databases to optimize the search process, ensuring efficient handling of partial and misspelled input queries.\",\n",
       "        \"confidence_score\": 0.95\n",
       "    }\n",
       "}\n",
       "```"
      ],
      "text/plain": [
       "<IPython.core.display.Markdown object>"
      ]
     },
     "metadata": {},
     "output_type": "display_data"
    }
   ],
   "source": [
    "for i in result.brainstorm:\n",
    "    display(Markdown(as_readable(i, md=True)))"
   ]
  },
  {
   "cell_type": "code",
   "execution_count": 12,
   "metadata": {},
   "outputs": [
    {
     "data": {
      "text/markdown": [
       "```json\n",
       "{\n",
       "    \"instruction\": \"Develop a FastAPI endpoint for searching books by title, author, or genre. Implement necessary database indexes to enhance search performance.\",\n",
       "    \"guidance\": \"Leverage FastAPI dependency injection for managing database connections. Create indexes on relevant columns used in search criteria to improve query efficiency. Test performance to ensure significant gains.\",\n",
       "    \"context\": \"The library database is large, necessitating an optimized approach to facilitate efficient and fast queries for an enhanced user experience.\"\n",
       "}\n",
       "```"
      ],
      "text/plain": [
       "<IPython.core.display.Markdown object>"
      ]
     },
     "metadata": {},
     "output_type": "display_data"
    },
    {
     "data": {
      "text/markdown": [
       "To accomplish the task of developing a FastAPI endpoint for searching books by title, author, or genre with optimized database performance, follow these steps:\n",
       "\n",
       "1. **Set Up FastAPI and SQLAlchemy:**\n",
       "   - Begin by setting up your FastAPI application and configure SQLAlchemy as the ORM for database interactions.\n",
       "\n",
       "2. **Define the Database Models:**\n",
       "   - Create a model for your books that includes fields for `title`, `author`, and `genre`.\n",
       "\n",
       "3. **Indexing for Performance:**\n",
       "   - Ensure that your database has indexes on the columns frequently used in search queries, such as `title`, `author`, and `genre`, to speed up search operations.\n",
       "\n",
       "4. **Dependency Management with FastAPI:**\n",
       "   - Use FastAPI's dependency injection system to manage database sessions. This facilitates reusability and clean management of database connections.\n",
       "\n",
       "5. **Implement the Search Endpoint:**\n",
       "   - Define an endpoint in FastAPI to handle search requests. This endpoint should accept query parameters for `title`, `author`, and `genre` and return a list of matching books.\n",
       "\n",
       "6. **Optimize Queries:**\n",
       "   - Use SQLAlchemy queries with filters to search based on user input. Ensure that your queries are optimized to take advantage of database indexes.\n",
       "\n",
       "7. **Handle Edge Cases and Validate Input:**\n",
       "   - Implement validation for the search inputs and handle potential edge cases like no results found.\n",
       "\n",
       "8. **Testing for Performance:**\n",
       "   - Conduct performance tests to compare query times with and without indexes to ensure the efficiency of your solution.\n",
       "\n",
       "Here is a basic example of what the FastAPI code might look like:\n",
       "\n",
       "```python\n",
       "from fastapi import FastAPI, Depends\n",
       "from sqlalchemy.orm import Session\n",
       "from database import SessionLocal, engine, Base\n",
       "from models import Book\n",
       "from typing import List, Optional\n",
       "\n",
       "app = FastAPI()\n",
       "\n",
       "# Dependency to get the DB session\n",
       "def get_db():\n",
       "    db = SessionLocal()\n",
       "    try:\n",
       "        yield db\n",
       "    finally:\n",
       "        db.close()\n",
       "\n",
       "# Create the database tables\n",
       "Base.metadata.create_all(bind=engine)\n",
       "\n",
       "@app.get(\"/search-books/\")\n",
       "def search_books(title: Optional[str] = None, author: Optional[str] = None, genre: Optional[str] = None, db: Session = Depends(get_db)) -> List[Book]:\n",
       "    query = db.query(Book)\n",
       "    if title:\n",
       "        query = query.filter(Book.title.contains(title))\n",
       "    if author:\n",
       "        query = query.filter(Book.author.contains(author))\n",
       "    if genre:\n",
       "        query = query.filter(Book.genre.contains(genre))\n",
       "    \n",
       "    return query.all()\n",
       "```\n",
       "\n",
       "**Note:** Ensure that appropriate indexes are set in your database migration scripts, and remember to thoroughly test query performance."
      ],
      "text/plain": [
       "<IPython.core.display.Markdown object>"
      ]
     },
     "metadata": {},
     "output_type": "display_data"
    },
    {
     "data": {
      "text/markdown": [
       "```json\n",
       "{\n",
       "    \"instruction\": \"Create endpoints to manage books in the library. Implement CRUD operations: Create, Read, Update, Delete. Ensure the API adheres to REST principles.\",\n",
       "    \"guidance\": \"Use FastAPI's built-in data validation and serialization. Prioritize code readability and maintainability. Use SQLAlchemy for database interaction.\",\n",
       "    \"context\": \"The library requires easy access to manage book data, ensuring good data integrity and user-friendly API interface.\"\n",
       "}\n",
       "```"
      ],
      "text/plain": [
       "<IPython.core.display.Markdown object>"
      ]
     },
     "metadata": {},
     "output_type": "display_data"
    },
    {
     "data": {
      "text/markdown": [
       "To implement a FastAPI service for managing a library's book database, we need to follow the CRUD operation structure, ensuring data integrity and adherence to RESTful principles. Below is a concise guide to help you set up these functionalities using FastAPI and SQLAlchemy for database interaction.\n",
       "\n",
       "### Step-by-Step Implementation\n",
       "\n",
       "1. **Set Up the Project Environment**\n",
       "    - Ensure you have Python installed.\n",
       "    - Create a new directory for your project and navigate into it.\n",
       "    - Set up a virtual environment and activate it:\n",
       "      ```bash\n",
       "      python3 -m venv venv\n",
       "      source venv/bin/activate  # On Windows use `venv\\Scripts\\activate`\n",
       "      ```\n",
       "\n",
       "2. **Install Dependencies**\n",
       "    - Install FastAPI and Uvicorn (ASGI server) along with SQLAlchemy:\n",
       "      ```bash\n",
       "      pip install fastapi uvicorn sqlalchemy databases\n",
       "      ```\n",
       "\n",
       "3. **Create the Database Models**\n",
       "    - Define your Book model using SQLAlchemy. Create a `models.py` file:\n",
       "      ```python\n",
       "      from sqlalchemy import Column, Integer, String, create_engine\n",
       "      from sqlalchemy.ext.declarative import declarative_base\n",
       "      from sqlalchemy.orm import sessionmaker\n",
       "\n",
       "      DATABASE_URL = \"sqlite:///./books.db\"\n",
       "\n",
       "      engine = create_engine(DATABASE_URL)\n",
       "      SessionLocal = sessionmaker(autocommit=False, autoflush=False, bind=engine)\n",
       "\n",
       "      Base = declarative_base()\n",
       "\n",
       "      class Book(Base):\n",
       "          __tablename__ = \"books\"\n",
       "\n",
       "          id = Column(Integer, primary_key=True, index=True)\n",
       "          title = Column(String, index=True)\n",
       "          author = Column(String, index=True)\n",
       "          genre = Column(String, index=True)\n",
       "          description = Column(String, index=True)\n",
       "      ```\n",
       "\n",
       "    - Initialize the database:\n",
       "      ```bash\n",
       "      from models import Base, engine\n",
       "      Base.metadata.create_all(bind=engine)\n",
       "      ```\n",
       "\n",
       "4. **Define FastAPI Routes for CRUD Operations**\n",
       "    - Create a `main.py` file and set up the endpoints:\n",
       "      ```python\n",
       "      from fastapi import FastAPI, HTTPException, Depends\n",
       "      from sqlalchemy.orm import Session\n",
       "      from models import Book, SessionLocal\n",
       "\n",
       "      app = FastAPI()\n",
       "\n",
       "      def get_db():\n",
       "          db = SessionLocal()\n",
       "          try:\n",
       "              yield db\n",
       "          finally:\n",
       "              db.close()\n",
       "\n",
       "      @app.post(\"/books/\", response_model=Book)\n",
       "      async def create_book(book: Book, db: Session = Depends(get_db)):\n",
       "          db.add(book)\n",
       "          db.commit()\n",
       "          db.refresh(book)\n",
       "          return book\n",
       "\n",
       "      @app.get(\"/books/{book_id}\", response_model=Book)\n",
       "      async def read_book(book_id: int, db: Session = Depends(get_db)):\n",
       "          book = db.query(Book).filter(Book.id == book_id).first()\n",
       "          if book is None:\n",
       "              raise HTTPException(status_code=404, detail=\"Book not found\")\n",
       "          return book\n",
       "\n",
       "      @app.put(\"/books/{book_id}\", response_model=Book)\n",
       "      async def update_book(book_id: int, updated_book: Book, db: Session = Depends(get_db)):\n",
       "          book = db.query(Book).filter(Book.id == book_id).first()\n",
       "          if book is None:\n",
       "              raise HTTPException(status_code=404, detail=\"Book not found\")\n",
       "          for attr, value in updated_book.__dict__.items():\n",
       "              setattr(book, attr, value)\n",
       "          db.commit()\n",
       "          db.refresh(book)\n",
       "          return book\n",
       "\n",
       "      @app.delete(\"/books/{book_id}\")\n",
       "      async def delete_book(book_id: int, db: Session = Depends(get_db)):\n",
       "          book = db.query(Book).filter(Book.id == book_id).first()\n",
       "          if book is None:\n",
       "              raise HTTPException(status_code=404, detail=\"Book not found\")\n",
       "          db.delete(book)\n",
       "          db.commit()\n",
       "          return {\"detail\": \"Book deleted successfully\"}\n",
       "      ```\n",
       "\n",
       "5. **Run the Application**\n",
       "    - Start the server using Uvicorn:\n",
       "      ```bash\n",
       "      uvicorn main:app --reload\n",
       "      ```\n",
       "    - You can now access the API at `http://127.0.0.1:8000`.\n",
       "\n",
       "### Considerations\n",
       "\n",
       "- **Validation and Serialization:** Use Pydantic models to enforce data validation and serialization for requests and responses.\n",
       "- **Access Control and Security:** Implement access control and authentication if the API is to be used in a secure environment.\n",
       "\n",
       "This guide provides a foundational setup. You can expand functionalities based on the library's specific needs, such as search, pagination, or user authentication."
      ],
      "text/plain": [
       "<IPython.core.display.Markdown object>"
      ]
     },
     "metadata": {},
     "output_type": "display_data"
    },
    {
     "data": {
      "text/markdown": [
       "```json\n",
       "{\n",
       "    \"instruction\": \"Develop a search API endpoint using Elasticsearch to provide advanced full-text search features, addressing partial or incorrect input queries.\",\n",
       "    \"guidance\": \"Utilize Elasticsearch for its powerful full-text search capabilities. Configure indices properly and test search queries for performance and accuracy using misspelled or partial inputs.\",\n",
       "    \"context\": \"Users expect reliable and comprehensive search results from a vast collection, even if the input data is not precise. Elasticsearch will offer the necessary search enhancements.\"\n",
       "}\n",
       "```"
      ],
      "text/plain": [
       "<IPython.core.display.Markdown object>"
      ]
     },
     "metadata": {},
     "output_type": "display_data"
    },
    {
     "data": {
      "text/markdown": [
       "To develop a search API endpoint using Elasticsearch that handles partial or incorrect input queries, follow these steps:\n",
       "\n",
       "1. **Set Up Elasticsearch:**\n",
       "   - Ensure you have an Elasticsearch instance running. You can use a local installation, a Docker container, or a cloud-based service like AWS Elasticsearch Service.\n",
       "   - Install the Elasticsearch Python client library (`elasticsearch-py`) which will be used to interact with the Elasticsearch instance.\n",
       "\n",
       "2. **Configure Index:**\n",
       "   - Define an index with appropriate mappings to accommodate text fields and include features like analyzers, token filters, and tokenizers to handle full-text search more effectively.\n",
       "   - Use Elasticsearch's built-in types for supporting text search, such as `text` for fields that require full-text search capabilities.\n",
       "\n",
       "3. **Preparation of Documents:**\n",
       "   - Ensure that the documents you want to search are indexed in your Elasticsearch instance. Each document should be well-structured with relevant fields that you plan to search against.\n",
       "\n",
       "4. **Building the Search API with FastAPI:**\n",
       "   - Set up a FastAPI project if not already done. You can start a new FastAPI project by creating a Python environment and a new Python script.\n",
       "   - Create a FastAPI route to handle search requests. This will act as your search endpoint.\n",
       "\n",
       "5. **Implementing the Search Logic:**\n",
       "   - Use the Elasticsearch Python client within the FastAPI endpoint to construct the search query.\n",
       "   - Leverage Elasticsearch search features such as `match`, `match_phrase`, `fuzzy`, and `wildcard` queries to accommodate and correct partial or incorrect input.\n",
       "   - Use `suggest` API of Elasticsearch for providing query suggestions in case of misspellings.\n",
       "\n",
       "6. **Testing and Optimization:**\n",
       "   - Test the search API with various queries to evaluate performance and accuracy. Use typical misspellings, partial queries, and correct inputs.\n",
       "   - Optimize the query performance by adjusting indices settings, considering response time improvements, and handling loads.\n",
       "\n",
       "Here is a simplified example of a FastAPI endpoint interacting with Elasticsearch:\n",
       "\n",
       "```python\n",
       "from fastapi import FastAPI, HTTPException\n",
       "from elasticsearch import Elasticsearch\n",
       "\n",
       "app = FastAPI()\n",
       "\n",
       "# Initialize Elasticsearch client\n",
       "es = Elasticsearch(\"http://localhost:9200\")\n",
       "\n",
       "@app.get(\"/search/\")\n",
       "async def search(query: str):\n",
       "    try:\n",
       "        result = es.search(\n",
       "            index=\"your_index_name\",\n",
       "            body={\n",
       "                \"query\": {\n",
       "                    \"multi_match\": {\n",
       "                        \"query\": query,\n",
       "                        \"fields\": [\"title\", \"content\"],\n",
       "                        \"fuzziness\": \"AUTO\"  # Allows for automatic handling of misspellings\n",
       "                    }\n",
       "                }\n",
       "            }\n",
       "        )\n",
       "        return result['hits']['hits']\n",
       "    except Exception as e:\n",
       "        raise HTTPException(status_code=500, detail=str(e))\n",
       "```\n",
       "\n",
       "Checklist:\n",
       "- Ensure Elasticsearch is properly configured and accessible.\n",
       "- Verify that the fields being searched are indexed correctly.\n",
       "- Test the API using different kinds of queries to confirm the handling of fuzziness and partial matches.\n",
       "- Consider additional features like highlighting to make the search results more informative."
      ],
      "text/plain": [
       "<IPython.core.display.Markdown object>"
      ]
     },
     "metadata": {},
     "output_type": "display_data"
    },
    {
     "data": {
      "text/markdown": [
       "```json\n",
       "{\n",
       "    \"instruction\": \"Integrate full-text search in FastAPI using PostgreSQL. Implement search queries that handle partial matches and typos efficiently.\",\n",
       "    \"guidance\": \"Utilize PostgreSQL's full-text search capabilities. Index relevant fields and leverage trigram similarity for handling typographical errors. Test search speed and accuracy with various input scenarios.\",\n",
       "    \"context\": \"The library's search functionality should be robust enough to deal with large data volumes and imperfect user input, ensuring quick and accurate results.\"\n",
       "}\n",
       "```"
      ],
      "text/plain": [
       "<IPython.core.display.Markdown object>"
      ]
     },
     "metadata": {},
     "output_type": "display_data"
    },
    {
     "data": {
      "text/markdown": [
       "```json\n",
       "{\n",
       "  \"question\": \"How do you integrate PostgreSQL full-text search in a FastAPI application to handle partial matches and typos?\",\n",
       "  \"evaluation_criteria\": \"Assess based on the correct setup and use of PostgreSQL features, handling of partial matches and typographical errors, the efficiency of search queries, and integration with FastAPI.\",\n",
       "  \"instruct_models\": [\n",
       "    {\n",
       "      \"instruction\": \"Set up PostgreSQL full-text search by creating indexes on relevant fields. Use the 'tsvector' type for text columns and create a GIN index to optimize search queries.\",\n",
       "      \"guidance\": \"Ensure that the FastAPI endpoints are designed to leverage these indexes efficiently. Test the search functionality under different load conditions to ensure performance.\",\n",
       "      \"context\": \"The FastAPI application should be able to handle large volumes of book data, providing fast search results while dealing with common typographical errors.\"\n",
       "    },\n",
       "    {\n",
       "      \"instruction\": \"Implement search queries using PostgreSQL's trigram similarity to address typographical errors. Enable the 'pg_trgm' extension and use the 'similarity()' function to rank results.\",\n",
       "      \"guidance\": \"Prioritize handling of typographical errors while maintaining search accuracy. Ensure that FastAPI integrates seamlessly with PostgreSQL for executing these queries.\",\n",
       "      \"context\": \"The library's users often make typing errors in search queries, so the system must accurately interpret and return the intended results quickly.\"\n",
       "    }\n",
       "  ],\n",
       "  \"reason\": {\n",
       "    \"title\": \"Full-Text Search Integration in FastAPI\",\n",
       "    \"content\": \"The instructions focus on implementing robust full-text search capabilities using PostgreSQL in a FastAPI application, specifically targeting issues with partial matches and typographical errors, which are common challenges in large datasets.\",\n",
       "    \"confidence_score\": 0.92\n",
       "  }\n",
       "}\n",
       "```"
      ],
      "text/plain": [
       "<IPython.core.display.Markdown object>"
      ]
     },
     "metadata": {},
     "output_type": "display_data"
    },
    {
     "data": {
      "text/markdown": [
       "```json\n",
       "{\n",
       "    \"instruction\": \"Optimize the FastAPI service for search functionality. Implement a search endpoint that allows users to find books by title, author, or genre.\",\n",
       "    \"guidance\": \"Focus on search speed and accuracy. Use database indexing where appropriate and ensure the API handles large search queries efficiently.\",\n",
       "    \"context\": \"The library database has a large collection, and users need a fast and efficient way to locate specific books or discover new ones.\"\n",
       "}\n",
       "```"
      ],
      "text/plain": [
       "<IPython.core.display.Markdown object>"
      ]
     },
     "metadata": {},
     "output_type": "display_data"
    },
    {
     "data": {
      "text/markdown": [
       "To optimize the FastAPI service for search functionality, you can follow these steps and considerations:\n",
       "\n",
       "1. **Database Indexing**: \n",
       "   - Ensure that the database columns used for searching (title, author, genre) are indexed. This significantly increases query performance. For example, in SQLAlchemy, you can define indexes during model creation:\n",
       "     ```python\n",
       "     class Book(Base):\n",
       "         __tablename__ = 'books'\n",
       "         id = Column(Integer, primary_key=True, index=True)\n",
       "         title = Column(String, index=True)\n",
       "         author = Column(String, index=True)\n",
       "         genre = Column(String, index=True)\n",
       "     ```\n",
       "\n",
       "2. **Full-text Search**:\n",
       "   - Depending on the database used, implement full-text search for more efficient searching capabilities. PostgreSQL, for example, supports full-text search out of the box. You can extend SQLAlchemy with raw SQL statements to leverage this capability.\n",
       "\n",
       "3. **API Endpoint Implementation**:\n",
       "   - Create a search endpoint in your FastAPI application which accepts query parameters for title, author, and genre:\n",
       "     ```python\n",
       "     from fastapi import FastAPI, Query\n",
       "     from sqlalchemy.orm import Session\n",
       "     from .models import Book\n",
       "\n",
       "     app = FastAPI()\n",
       "\n",
       "     @app.get(\"/search/\")\n",
       "     def search_books(title: str = Query(None), author: str = Query(None), genre: str = Query(None), db: Session = Depends(get_db)):\n",
       "         query = db.query(Book)\n",
       "         if title:\n",
       "             query = query.filter(Book.title.contains(title))\n",
       "         if author:\n",
       "             query = query.filter(Book.author.contains(author))\n",
       "         if genre:\n",
       "             query = query.filter(Book.genre.contains(genre))\n",
       "         return query.all()\n",
       "     ```\n",
       "\n",
       "4. **Asynchronous Queries (optional)**:\n",
       "   - If using a database that supports async queries, make the database operations asynchronous to handle more concurrent requests efficiently.\n",
       "\n",
       "5. **Pagination and Throttling**:\n",
       "   - Implement pagination to handle large result sets and improve response times. Also, consider throttling to manage API usage and prevent abuse.\n",
       "\n",
       "6. **Testing and Optimization**:\n",
       "   - Regularly test the search endpoint with large datasets to measure and improve performance. Use tools like JMeter or Locust for load testing.\n",
       "\n",
       "By implementing these practices, you can optimize your FastAPI service's search functionality for efficient and fast handling of large library datasets."
      ],
      "text/plain": [
       "<IPython.core.display.Markdown object>"
      ]
     },
     "metadata": {},
     "output_type": "display_data"
    },
    {
     "data": {
      "text/markdown": [
       "```json\n",
       "{\n",
       "    \"instruction\": \"Implement a RESTful API using FastAPI to handle book data with CRUD operations in a library system.\",\n",
       "    \"guidance\": \"Utilize SQLAlchemy to model the database and ensure relational integrity. Implement validation checks using FastAPI's features to maintain data consistency.\",\n",
       "    \"context\": \"The library requires a system that manages book information effectively and efficiently, ensuring robust interactions with the book database.\"\n",
       "}\n",
       "```"
      ],
      "text/plain": [
       "<IPython.core.display.Markdown object>"
      ]
     },
     "metadata": {},
     "output_type": "display_data"
    },
    {
     "data": {
      "text/markdown": [
       "To implement a RESTful API using FastAPI to manage book data with CRUD operations, follow the instructions below:\n",
       "\n",
       "### 1. Set Up Your Environment\n",
       "Ensure you have Python and pip installed. Then create a virtual environment to manage your dependencies.\n",
       "\n",
       "```bash\n",
       "pip install fastapi[all] sqlalchemy\n",
       "```\n",
       "\n",
       "### 2. Define Your Database Models\n",
       "Use SQLAlchemy to create your book model. Here, we define a `Book` model.\n",
       "\n",
       "```python\n",
       "from sqlalchemy import Column, Integer, String, create_engine\n",
       "from sqlalchemy.orm import declarative_base, sessionmaker\n",
       "\n",
       "DATABASE_URL = \"sqlite:///./test.db\"  # Using SQLite for simplicity\n",
       "\n",
       "Base = declarative_base()\n",
       "\n",
       "class Book(Base):\n",
       "    __tablename__ = \"books\"\n",
       "    id = Column(Integer, primary_key=True, index=True)\n",
       "    title = Column(String, index=True)\n",
       "    author = Column(String)\n",
       "    genre = Column(String)\n",
       "    year = Column(Integer)\n",
       "\n",
       "engine = create_engine(DATABASE_URL)\n",
       "SessionLocal = sessionmaker(autocommit=False, autoflush=False, bind=engine)\n",
       "Base.metadata.create_all(bind=engine)\n",
       "```\n",
       "\n",
       "### 3. Create Data Schemas with Pydantic\n",
       "Use Pydantic models to handle validation and serialization.\n",
       "\n",
       "```python\n",
       "from pydantic import BaseModel\n",
       "\n",
       "class BookCreate(BaseModel):\n",
       "    title: str\n",
       "    author: str\n",
       "    genre: str\n",
       "    year: int\n",
       "\n",
       "class BookRead(BookCreate):\n",
       "    id: int\n",
       "\n",
       "    class Config:\n",
       "        orm_mode = True\n",
       "```\n",
       "\n",
       "### 4. Implement CRUD Operations in the API\n",
       "Create an API using FastAPI that provides CRUD operations.\n",
       "\n",
       "```python\n",
       "from fastapi import FastAPI, Depends, HTTPException\n",
       "from sqlalchemy.orm import Session\n",
       "\n",
       "app = FastAPI()\n",
       "\n",
       "def get_db():\n",
       "    db = SessionLocal()\n",
       "    try:\n",
       "        yield db\n",
       "    finally:\n",
       "        db.close()\n",
       "\n",
       "@app.post(\"/books/\", response_model=BookRead)\n",
       "def create_book(book: BookCreate, db: Session = Depends(get_db)):\n",
       "    db_book = Book(**book.dict())\n",
       "    db.add(db_book)\n",
       "    db.commit()\n",
       "    db.refresh(db_book)\n",
       "    return db_book\n",
       "\n",
       "@app.get(\"/books/{book_id}\", response_model=BookRead)\n",
       "def read_book(book_id: int, db: Session = Depends(get_db)):\n",
       "    db_book = db.query(Book).filter(Book.id == book_id).first()\n",
       "    if db_book is None:\n",
       "        raise HTTPException(status_code=404, detail=\"Book not found\")\n",
       "    return db_book\n",
       "\n",
       "@app.get(\"/books/\", response_model=list[BookRead])\n",
       "def read_books(skip: int = 0, limit: int = 10, db: Session = Depends(get_db)):\n",
       "    return db.query(Book).offset(skip).limit(limit).all()\n",
       "\n",
       "@app.put(\"/books/{book_id}\", response_model=BookRead)\n",
       "def update_book(book_id: int, book: BookCreate, db: Session = Depends(get_db)):\n",
       "    db_book = db.query(Book).filter(Book.id == book_id).first()\n",
       "    if db_book is None:\n",
       "        raise HTTPException(status_code=404, detail=\"Book not found\")\n",
       "    for key, value in book.dict().items():\n",
       "        setattr(db_book, key, value)\n",
       "    db.commit()\n",
       "    db.refresh(db_book)\n",
       "    return db_book\n",
       "\n",
       "@app.delete(\"/books/{book_id}\")\n",
       "def delete_book(book_id: int, db: Session = Depends(get_db)):\n",
       "    db_book = db.query(Book).filter(Book.id == book_id).first()\n",
       "    if db_book is None:\n",
       "        raise HTTPException(status_code=404, detail=\"Book not found\")\n",
       "    db.delete(db_book)\n",
       "    db.commit()\n",
       "    return {\"detail\": \"Book deleted\"}\n",
       "```\n",
       "\n",
       "### 5. Run Your Application\n",
       "Run the FastAPI application using a command like:\n",
       "\n",
       "```bash\n",
       "uvicorn your_file_name:app --reload\n",
       "```\n",
       "\n",
       "### Key Considerations:\n",
       "- **Validation**: Pydantic models automatically handle input validation, ensuring that only valid data is processed.\n",
       "- **Integrity**: SQLAlchemy models ensure relational database integrity.\n",
       "- **Restful Standards**: Using proper HTTP methods (GET, POST, PUT, DELETE) for CRUD operations follows RESTful design principles.\n",
       "\n",
       "This example provides a foundational structure. Depending on your production needs, consider adding authentication, more advanced error handling, logging, and potentially migrating to a more robust database system such as PostgreSQL or MySQL."
      ],
      "text/plain": [
       "<IPython.core.display.Markdown object>"
      ]
     },
     "metadata": {},
     "output_type": "display_data"
    }
   ],
   "source": [
    "for i in result.explore:\n",
    "    display(Markdown(as_readable(i.instruct, md=True)))\n",
    "    display(Markdown(i.response))"
   ]
  }
 ],
 "metadata": {
  "kernelspec": {
   "display_name": ".venv",
   "language": "python",
   "name": "python3"
  },
  "language_info": {
   "codemirror_mode": {
    "name": "ipython",
    "version": 3
   },
   "file_extension": ".py",
   "mimetype": "text/x-python",
   "name": "python",
   "nbconvert_exporter": "python",
   "pygments_lexer": "ipython3",
   "version": "3.12.8"
  }
 },
 "nbformat": 4,
 "nbformat_minor": 2
}
