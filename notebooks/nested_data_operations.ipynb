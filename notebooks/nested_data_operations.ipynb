{
 "cells": [
  {
   "cell_type": "markdown",
   "metadata": {},
   "source": [
    "# Intro 2 : Complex Data Structure\n",
    "\n",
    "Nested Data Structure is common for API calls, but they are annoying to handle. `LionAGI` has some powerful functions to handle nested data structures."
   ]
  },
  {
   "cell_type": "code",
   "execution_count": 1,
   "metadata": {},
   "outputs": [],
   "source": [
    "from lionagi.libs import nested"
   ]
  },
  {
   "cell_type": "code",
   "execution_count": 2,
   "metadata": {},
   "outputs": [],
   "source": [
    "# let us define a couple nested structure\n",
    "\n",
    "nested_list = [0, [1, 2, [3, 4]]]\n",
    "\n",
    "nested_dict = {\"level1\": {\"level2\": {\"level3\": \"some_value\"}}}"
   ]
  },
  {
   "cell_type": "markdown",
   "metadata": {},
   "source": [
    "## 1. Nested Structure Operations\n",
    "- nset\n",
    "- nget\n",
    "- is_structure_homogenous"
   ]
  },
  {
   "cell_type": "markdown",
   "metadata": {},
   "source": [
    "`nset` & `nget`"
   ]
  },
  {
   "cell_type": "markdown",
   "metadata": {},
   "source": [
    "suppose you have a nested dictionary as above, how would you access the value? typically you can do the following,"
   ]
  },
  {
   "cell_type": "code",
   "execution_count": 3,
   "metadata": {},
   "outputs": [],
   "source": [
    "value1 = nested_dict[\"level1\"][\"level2\"][\"level3\"]"
   ]
  },
  {
   "cell_type": "markdown",
   "metadata": {},
   "source": [
    "but this can be tiresome, especially after the keys get long and with confusing names \n",
    "\n",
    "`nget` - nested get\n",
    "\n",
    "allows you to extract the value in the nested structure using a list"
   ]
  },
  {
   "cell_type": "code",
   "execution_count": 4,
   "metadata": {},
   "outputs": [],
   "source": [
    "keys = [\"level1\", \"level2\", \"level3\"]\n",
    "\n",
    "value2 = nested.nget(nested_dict, keys)"
   ]
  },
  {
   "cell_type": "code",
   "execution_count": 5,
   "metadata": {},
   "outputs": [
    {
     "data": {
      "text/plain": [
       "True"
      ]
     },
     "execution_count": 5,
     "metadata": {},
     "output_type": "execute_result"
    }
   ],
   "source": [
    "value1 == value2"
   ]
  },
  {
   "cell_type": "markdown",
   "metadata": {},
   "source": [
    "similarly you can use `nset` to set a value in a nested structure"
   ]
  },
  {
   "cell_type": "code",
   "execution_count": 6,
   "metadata": {},
   "outputs": [
    {
     "name": "stdout",
     "output_type": "stream",
     "text": [
      "Nested dictionary after setting value:\n"
     ]
    }
   ],
   "source": [
    "nested.nset(nested_dict, keys, \"new_value\")\n",
    "print(\"Nested dictionary after setting value:\")"
   ]
  },
  {
   "cell_type": "markdown",
   "metadata": {},
   "source": [
    "`nset` and `nget` work for both nested lists and nested dictionary"
   ]
  },
  {
   "cell_type": "code",
   "execution_count": 7,
   "metadata": {},
   "outputs": [
    {
     "data": {
      "text/plain": [
       "4"
      ]
     },
     "execution_count": 7,
     "metadata": {},
     "output_type": "execute_result"
    }
   ],
   "source": [
    "indices = [1, 2, 1]\n",
    "nested.nget(nested_list, indices)"
   ]
  },
  {
   "cell_type": "code",
   "execution_count": 8,
   "metadata": {},
   "outputs": [
    {
     "name": "stdout",
     "output_type": "stream",
     "text": [
      "Nested list after setting value: [0, [1, 2, [3, 'new_value']]]\n"
     ]
    }
   ],
   "source": [
    "# Setting a new value at a specific index in the nested list\n",
    "nested.nset(nested_list, indices, \"new_value\")\n",
    "print(\"Nested list after setting value:\", nested_list)"
   ]
  },
  {
   "cell_type": "markdown",
   "metadata": {},
   "source": [
    "if you try to get a value of an non-existent path, default value is `None`"
   ]
  },
  {
   "cell_type": "code",
   "execution_count": 9,
   "metadata": {},
   "outputs": [
    {
     "name": "stdout",
     "output_type": "stream",
     "text": [
      "Value from default: hello\n"
     ]
    }
   ],
   "source": [
    "nested_dict = {\"level1\": {\"level2\": {\"level3\": \"value\"}}}\n",
    "\n",
    "# Attempting to get a value at a non-existent path,\n",
    "value = nested.nget(\n",
    "    nested_dict, [\"level1\", \"level2\", \"non_existent_key\"], default=\"hello\"\n",
    ")\n",
    "print(\"Value from default:\", value)"
   ]
  },
  {
   "cell_type": "markdown",
   "metadata": {},
   "source": [
    "## 2. Flattening and Unflattening a complex nested data structure\n",
    "- flatten\n",
    "- unflatten"
   ]
  },
  {
   "cell_type": "markdown",
   "metadata": {},
   "source": [
    "we can also flatten a dictionary of complex nested types"
   ]
  },
  {
   "cell_type": "code",
   "execution_count": 10,
   "metadata": {},
   "outputs": [],
   "source": [
    "nested_dict = {\n",
    "    \"a\": [1, 2, 3],\n",
    "    \"b\": 4,\n",
    "    \"c\": [{\"d\": 5, \"e\": 6}, {\"f\": 7, \"g\": 8}],\n",
    "}"
   ]
  },
  {
   "cell_type": "code",
   "execution_count": 11,
   "metadata": {},
   "outputs": [
    {
     "name": "stdout",
     "output_type": "stream",
     "text": [
      "{'a[^_^]0': 1, 'a[^_^]1': 2, 'a[^_^]2': 3, 'b': 4, 'c[^_^]0[^_^]d': 5, 'c[^_^]0[^_^]e': 6, 'c[^_^]1[^_^]f': 7, 'c[^_^]1[^_^]g': 8}\n"
     ]
    }
   ],
   "source": [
    "# now we can flatten it to a 1-d dictionary\n",
    "flattened_dict = nested.flatten(nested_dict)\n",
    "print(flattened_dict)"
   ]
  },
  {
   "cell_type": "code",
   "execution_count": 12,
   "metadata": {},
   "outputs": [
    {
     "name": "stdout",
     "output_type": "stream",
     "text": [
      "Flattened nested dictionary with max depth: {'a[^_^]0': 1, 'a[^_^]1': 2, 'a[^_^]2': 3, 'b': 4, 'c[^_^]0': {'d': 5, 'e': 6}, 'c[^_^]1': {'f': 7, 'g': 8}}\n"
     ]
    }
   ],
   "source": [
    "# Flatten the nested dictionary with a max depth of 1\n",
    "flat_dict = nested.flatten(nested_dict, max_depth=1)\n",
    "print(\"Flattened nested dictionary with max depth:\", flat_dict)"
   ]
  },
  {
   "cell_type": "markdown",
   "metadata": {},
   "source": [
    "if you just want the keys as path, you can use `get_flattened_keys`"
   ]
  },
  {
   "cell_type": "code",
   "execution_count": 13,
   "metadata": {},
   "outputs": [
    {
     "name": "stdout",
     "output_type": "stream",
     "text": [
      "['a[^_^]0', 'a[^_^]1', 'a[^_^]2', 'b', 'c[^_^]0[^_^]d', 'c[^_^]0[^_^]e', 'c[^_^]1[^_^]f', 'c[^_^]1[^_^]g']\n",
      "\n",
      "Number of unique key-value pair: 8\n"
     ]
    }
   ],
   "source": [
    "keys = nested.get_flattened_keys(nested_dict)\n",
    "\n",
    "print(keys)\n",
    "print(f\"\\nNumber of unique key-value pair: {len(keys)}\")"
   ]
  },
  {
   "cell_type": "markdown",
   "metadata": {},
   "source": [
    "Let's say you have done some operations on the flattened dictionary, and you would like to fold them into an organized nested structure, \n",
    "\n",
    "you can use `unflatten`"
   ]
  },
  {
   "cell_type": "code",
   "execution_count": 14,
   "metadata": {},
   "outputs": [
    {
     "name": "stdout",
     "output_type": "stream",
     "text": [
      "{'a': [1, 2, 3], 'b': 4, 'c': [{'d': 5, 'e': 6}, {'f': 7, 'g': 8}]}\n",
      "True\n"
     ]
    }
   ],
   "source": [
    "unflattened_dict = nested.unflatten(flattened_dict)\n",
    "\n",
    "print(unflattened_dict)\n",
    "print(unflattened_dict == nested_dict)"
   ]
  },
  {
   "cell_type": "markdown",
   "metadata": {},
   "source": [
    "## 3. ninsert, nfilter and nmerge"
   ]
  },
  {
   "cell_type": "markdown",
   "metadata": {},
   "source": [
    "you can insert value into a nested dictionary according to the path, if path doesn't exist, `ninsert` will create it"
   ]
  },
  {
   "cell_type": "code",
   "execution_count": 15,
   "metadata": {},
   "outputs": [
    {
     "name": "stdout",
     "output_type": "stream",
     "text": [
      "{'a': {'b': {'c': 1, 'd': 2}, 'e': 3}, 'f': 4}\n"
     ]
    }
   ],
   "source": [
    "# create a nested structure by inserting value, key will be created as a nested manner\n",
    "nested_dict = {}\n",
    "nested.ninsert(nested_dict, [\"a\", \"b\", \"c\"], value=1)\n",
    "nested.ninsert(nested_dict, [\"a\", \"b\", \"d\"], value=2)\n",
    "nested.ninsert(nested_dict, [\"a\", \"e\"], value=3)\n",
    "nested.ninsert(nested_dict, [\"f\"], value=4)\n",
    "print(nested_dict)"
   ]
  },
  {
   "cell_type": "markdown",
   "metadata": {},
   "source": [
    "`nfilter` can be used to filter out elements of a nested structure"
   ]
  },
  {
   "cell_type": "code",
   "execution_count": 16,
   "metadata": {},
   "outputs": [
    {
     "name": "stdout",
     "output_type": "stream",
     "text": [
      "Filtered nested dictionary: {'temperature': 22, 'pressure': 1012}\n"
     ]
    }
   ],
   "source": [
    "nested_dict1 = {\n",
    "    \"data\": {\"temperature\": 22, \"humidity\": 80, \"pressure\": 1012},\n",
    "    \"threshold\": {\"temperature\": 20, \"humidity\": 85, \"pressure\": 1000},\n",
    "}\n",
    "\n",
    "\n",
    "# finding value larger than threshold\n",
    "def condition_for_dict1(item):\n",
    "    key, value = item\n",
    "    return value > nested_dict1[\"threshold\"][key]\n",
    "\n",
    "\n",
    "filtered_data1 = nested.nfilter(nested_dict1[\"data\"], condition_for_dict1)\n",
    "print(\"Filtered nested dictionary:\", filtered_data1)"
   ]
  },
  {
   "cell_type": "code",
   "execution_count": 17,
   "metadata": {},
   "outputs": [
    {
     "name": "stdout",
     "output_type": "stream",
     "text": [
      "Filtered list of dictionaries: [{'name': 'Charlie', 'age': 35}]\n"
     ]
    }
   ],
   "source": [
    "list_of_dicts = [\n",
    "    {\"name\": \"Alice\", \"age\": 30},\n",
    "    {\"name\": \"Bob\", \"age\": 25},\n",
    "    {\"name\": \"Charlie\", \"age\": 35},\n",
    "]\n",
    "\n",
    "\n",
    "# finding people with age larger than 30\n",
    "def condition_for_list_of_dicts(item):\n",
    "    return item.get(\"age\", 0) > 30\n",
    "\n",
    "\n",
    "filtered_list_of_dicts = nested.nfilter(\n",
    "    list_of_dicts, condition_for_list_of_dicts\n",
    ")\n",
    "print(\"Filtered list of dictionaries:\", filtered_list_of_dicts)"
   ]
  },
  {
   "cell_type": "markdown",
   "metadata": {},
   "source": [
    "we can also merge different data structure"
   ]
  },
  {
   "cell_type": "code",
   "execution_count": 18,
   "metadata": {},
   "outputs": [
    {
     "name": "stdout",
     "output_type": "stream",
     "text": [
      "Merged dictionaries with overwriting: {'a': 1, 'b': 3, 'c': 4}\n"
     ]
    }
   ],
   "source": [
    "# Usage Example 1: Merging dictionaries with overwriting\n",
    "dicts_to_merge = [{\"a\": 1, \"b\": 2}, {\"b\": 3, \"c\": 4}]\n",
    "\n",
    "merged_dict = nested.nmerge(dicts_to_merge, overwrite=True)\n",
    "print(\"Merged dictionaries with overwriting:\", merged_dict)"
   ]
  },
  {
   "cell_type": "code",
   "execution_count": 21,
   "metadata": {},
   "outputs": [
    {
     "name": "stdout",
     "output_type": "stream",
     "text": [
      "Merged dictionaries without overwriting: {'a': 1, 'b': 2, 'b[^_^]1': 3, 'c': 4}\n"
     ]
    }
   ],
   "source": [
    "# Usage Example 2: Merging dictionaries without overwriting\n",
    "dicts_to_merge = [{\"a\": 1, \"b\": 2}, {\"b\": 3, \"c\": 4}]\n",
    "\n",
    "# creating unique keys for duplicates\n",
    "merged_dict = nested.nmerge(\n",
    "    dicts_to_merge,\n",
    "    overwrite=False,\n",
    "    dict_sequence=True,\n",
    ")\n",
    "print(\"Merged dictionaries without overwriting:\", merged_dict)"
   ]
  },
  {
   "cell_type": "code",
   "execution_count": 20,
   "metadata": {},
   "outputs": [
    {
     "name": "stdout",
     "output_type": "stream",
     "text": [
      "Merged and sorted lists: [1, 2, 3, 4]\n"
     ]
    }
   ],
   "source": [
    "# Usage Example 3: Merging lists with sorting\n",
    "lists_to_merge = [[3, 1], [4, 2]]\n",
    "\n",
    "# Merge lists and sort the result\n",
    "merged_list = nested.nmerge(lists_to_merge, sort_list=True)\n",
    "print(\"Merged and sorted lists:\", merged_list)"
   ]
  }
 ],
 "metadata": {
  "kernelspec": {
   "display_name": "hub_test",
   "language": "python",
   "name": "python3"
  },
  "language_info": {
   "codemirror_mode": {
    "name": "ipython",
    "version": 3
   },
   "file_extension": ".py",
   "mimetype": "text/x-python",
   "name": "python",
   "nbconvert_exporter": "python",
   "pygments_lexer": "ipython3",
   "version": "3.12.1"
  }
 },
 "nbformat": 4,
 "nbformat_minor": 2
}
