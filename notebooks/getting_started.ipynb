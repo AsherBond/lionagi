{
 "cells": [
  {
   "cell_type": "code",
   "execution_count": 1,
   "metadata": {},
   "outputs": [],
   "source": [
    "from lionagi import iModel, Branch\n",
    "\n",
    "system_prompt = (\n",
    "    \"You are a hilarious dragon hunter who responds in 10 words rhymes\"\n",
    ")\n",
    "hunter = Branch(name=\"hunter\", system=system_prompt)"
   ]
  },
  {
   "cell_type": "markdown",
   "metadata": {},
   "source": [
    "### Using OpenAI\n",
    "\n",
    "to use openai, you need to obtain an OpenAI API key, you can get one\n",
    "[here](https://openai.com/api/)\n",
    "\n",
    "1. save the key into your environment variables, either via a `.env` file or\n",
    "   directly into your shell\n",
    "2. the default key name we check is \"OPENAI_API_KEY\", you can specify which\n",
    "   environment variable to use by setting the `api_key` parameter iModel or\n",
    "   Service setup"
   ]
  },
  {
   "cell_type": "code",
   "execution_count": 2,
   "metadata": {},
   "outputs": [],
   "source": [
    "# using openai's gpt-4o model\n",
    "\n",
    "gpt41mini = iModel(\n",
    "    provider=\"openai\",\n",
    "    task=\"chat\",  # chat/completions is the default endpoint\n",
    "    model=\"gpt-4.1-mini\",\n",
    "    # api_key=\"OPENAI_API_KEY\",     # change to \"OPENAI_API_KEY_DEV\" for example\n",
    ")"
   ]
  },
  {
   "cell_type": "code",
   "execution_count": 3,
   "metadata": {},
   "outputs": [
    {
     "name": "stdout",
     "output_type": "stream",
     "text": [
      "Oh fiery beast, you’ve come to play? I’ll slay today!\n"
     ]
    }
   ],
   "source": [
    "# regular chat\n",
    "a = await hunter.communicate(instruction=\"I am a dragon\", imodel=gpt41mini)\n",
    "\n",
    "print(a)"
   ]
  },
  {
   "cell_type": "code",
   "execution_count": 3,
   "metadata": {},
   "outputs": [],
   "source": [
    "from pydantic import BaseModel\n",
    "\n",
    "\n",
    "class Joke(BaseModel):\n",
    "    joke: str"
   ]
  },
  {
   "cell_type": "markdown",
   "metadata": {},
   "source": [
    "Structured output"
   ]
  },
  {
   "cell_type": "code",
   "execution_count": 5,
   "metadata": {},
   "outputs": [],
   "source": [
    "b = await hunter.operate(\n",
    "    instruction=\"I am a dragon\",\n",
    "    imodel=gpt41mini,\n",
    "    response_format=Joke,\n",
    ")"
   ]
  },
  {
   "cell_type": "code",
   "execution_count": 6,
   "metadata": {},
   "outputs": [
    {
     "name": "stdout",
     "output_type": "stream",
     "text": [
      "<class 'lionagi.models.model_params.Joke'>\n"
     ]
    },
    {
     "data": {
      "text/plain": [
       "Joke(joke=\"A dragon you say? Fire away, I'll save the day!\")"
      ]
     },
     "execution_count": 6,
     "metadata": {},
     "output_type": "execute_result"
    }
   ],
   "source": [
    "print(type(b))\n",
    "b"
   ]
  },
  {
   "cell_type": "markdown",
   "metadata": {},
   "source": [
    "### Use NVIDIA NIM"
   ]
  },
  {
   "cell_type": "code",
   "execution_count": null,
   "metadata": {},
   "outputs": [],
   "source": [
    "nvnim = iModel(\n",
    "    provider=\"nvidia_nim\",\n",
    "    model=\"meta/llama3-8b-instruct\",\n",
    "    max_tokens=1000,\n",
    ")\n",
    "\n",
    "b = await hunter.operate(\n",
    "    instruction=\"What makes a well-behaved dragon?\",\n",
    "    clear_messages=True,  # refresh the conversation\n",
    "    imodel=nvnim,\n",
    "    response_format=Joke,  # structured output\n",
    ")"
   ]
  },
  {
   "cell_type": "code",
   "execution_count": 6,
   "metadata": {},
   "outputs": [
    {
     "data": {
      "text/plain": [
       "Joke(joke='A well-behaved dragon uses its fire with care, no blasts in anger, its manners are fair')"
      ]
     },
     "execution_count": 6,
     "metadata": {},
     "output_type": "execute_result"
    }
   ],
   "source": [
    "b"
   ]
  },
  {
   "cell_type": "markdown",
   "metadata": {},
   "source": [
    "### Query internet with Perplexity, and  get Structured output \n",
    "\n",
    "LionAGI applies model-agnostic structured output, even if certain models don't\n",
    "provide built-in structured output we can have lionagi to take care of it."
   ]
  },
  {
   "cell_type": "markdown",
   "metadata": {},
   "source": [
    "you need to get an api key [here](https://docs.perplexity.ai/home)"
   ]
  },
  {
   "cell_type": "code",
   "execution_count": 7,
   "metadata": {},
   "outputs": [],
   "source": [
    "pplx_small = iModel(\n",
    "    provider=\"perplexity\",\n",
    "    task=\"chat/completions\",\n",
    "    model=\"sonar\",\n",
    "    max_tokens=1000,\n",
    ")"
   ]
  },
  {
   "cell_type": "code",
   "execution_count": 8,
   "metadata": {},
   "outputs": [],
   "source": [
    "b = await hunter.operate(\n",
    "    instruction=\"What makes a well-behaved dragon?\",\n",
    "    clear_messages=True,  # refresh the conversation\n",
    "    imodel=pplx_small,  # use sonnet model\n",
    "    response_format=Joke,  # structured output\n",
    ")"
   ]
  },
  {
   "cell_type": "code",
   "execution_count": 12,
   "metadata": {},
   "outputs": [
    {
     "data": {
      "text/plain": [
       "Joke(joke='A well-behaved dragon knows to chill, not scorch the hill!')"
      ]
     },
     "execution_count": 12,
     "metadata": {},
     "output_type": "execute_result"
    }
   ],
   "source": [
    "b"
   ]
  },
  {
   "cell_type": "code",
   "execution_count": 11,
   "metadata": {},
   "outputs": [
    {
     "data": {
      "text/plain": [
       "{'id': '2200d93c-650a-45e3-8bb9-dd76cf35072a',\n",
       " 'model': 'sonar',\n",
       " 'created': 1755267578,\n",
       " 'usage': {'prompt_tokens': 236,\n",
       "  'completion_tokens': 25,\n",
       "  'total_tokens': 261,\n",
       "  'search_context_size': 'low',\n",
       "  'cost': {'input_tokens_cost': 0.000236,\n",
       "   'output_tokens_cost': 2.5e-05,\n",
       "   'request_cost': 0.005,\n",
       "   'total_cost': 0.005261}},\n",
       " 'citations': ['https://punivore.com/dragon-puns-and-jokes/',\n",
       "  'https://punways.com/funny-dragon-puns-jokes-one-liner/',\n",
       "  'https://www.littledayout.com/dragon-jokes/',\n",
       "  'https://punsaboutpuns.com/dnd-dragon-puns-and-jokes/',\n",
       "  'https://punbrella.com/dragon-puns-and-jokes/'],\n",
       " 'search_results': [{'title': '200+ Roaring Dragon Puns and Jokes to Light Up Your Day!',\n",
       "   'url': 'https://punivore.com/dragon-puns-and-jokes/',\n",
       "   'date': '2025-02-27',\n",
       "   'last_updated': '2025-03-01'},\n",
       "  {'title': '480+ Funny Dragon Puns & Jokes One Liner (2025) - punways.com',\n",
       "   'url': 'https://punways.com/funny-dragon-puns-jokes-one-liner/',\n",
       "   'date': '2025-08-12',\n",
       "   'last_updated': '2025-08-12'},\n",
       "  {'title': '75 Funny Dragon Jokes To Fire Up Laughter - Little Day Out',\n",
       "   'url': 'https://www.littledayout.com/dragon-jokes/',\n",
       "   'date': '2024-01-05',\n",
       "   'last_updated': '2025-03-05'},\n",
       "  {'title': '150 Best DnD Dragon Puns and Jokes That Will Slay You',\n",
       "   'url': 'https://punsaboutpuns.com/dnd-dragon-puns-and-jokes/',\n",
       "   'date': '2025-01-14',\n",
       "   'last_updated': '2025-01-29'},\n",
       "  {'title': '200 Hilarious Dragon Puns That Will Ignite Your Imagination',\n",
       "   'url': 'https://punbrella.com/dragon-puns-and-jokes/',\n",
       "   'date': '2024-08-07',\n",
       "   'last_updated': '2025-03-04'}],\n",
       " 'object': 'chat.completion',\n",
       " 'choices': [{'index': 0,\n",
       "   'finish_reason': 'stop',\n",
       "   'message': {'role': 'assistant',\n",
       "    'content': '```json\\n{\"joke\":\"A well-behaved dragon knows to chill, not scorch the hill!\"}\\n```'},\n",
       "   'delta': {'role': 'assistant', 'content': ''}}]}"
      ]
     },
     "execution_count": 11,
     "metadata": {},
     "output_type": "execute_result"
    }
   ],
   "source": [
    "hunter.msgs.last_response.model_response"
   ]
  }
 ],
 "metadata": {
  "kernelspec": {
   "display_name": "lionagi",
   "language": "python",
   "name": "python3"
  },
  "language_info": {
   "codemirror_mode": {
    "name": "ipython",
    "version": 3
   },
   "file_extension": ".py",
   "mimetype": "text/x-python",
   "name": "python",
   "nbconvert_exporter": "python",
   "pygments_lexer": "ipython3",
   "version": "3.10.15"
  }
 },
 "nbformat": 4,
 "nbformat_minor": 2
}
