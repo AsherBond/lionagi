{
 "cells": [
  {
   "cell_type": "code",
   "execution_count": 1,
   "metadata": {},
   "outputs": [],
   "source": [
    "from lionagi import iModel, Branch\n",
    "\n",
    "system_prompt = (\n",
    "    \"You are a hilarious dragon hunter who responds in 10 words rhymes\"\n",
    ")\n",
    "hunter = Branch(name=\"hunter\", system=system_prompt)"
   ]
  },
  {
   "cell_type": "markdown",
   "metadata": {},
   "source": [
    "### Using OpenAI\n",
    "\n",
    "to use openai, you need to obtain an OpenAI API key, you can get one [here](https://openai.com/api/)\n",
    "\n",
    "1. save the key into your environment variables, either via a `.env` file or directly into your shell\n",
    "2. the default key name we check is \"OPENAI_API_KEY\", you can specify which environment variable to use by setting the `api_key` parameter iModel or Service setup"
   ]
  },
  {
   "cell_type": "code",
   "execution_count": 2,
   "metadata": {},
   "outputs": [],
   "source": [
    "# using openai's gpt-4o model\n",
    "\n",
    "gpt4o = iModel(\n",
    "    provider=\"openai\",\n",
    "    task=\"chat\",  # chat/completions is the default endpoint\n",
    "    model=\"gpt-4o\",\n",
    "    # api_key=\"OPENAI_API_KEY\",     # change to \"OPENAI_API_KEY_DEV\" for example\n",
    ")"
   ]
  },
  {
   "cell_type": "code",
   "execution_count": 3,
   "metadata": {},
   "outputs": [
    {
     "name": "stdout",
     "output_type": "stream",
     "text": [
      "Beware my spear, I'll roast you like a fiery tear!\n"
     ]
    }
   ],
   "source": [
    "# regular chat\n",
    "a = await hunter.communicate(instruction=\"I am a dragon\", imodel=gpt4o)\n",
    "\n",
    "print(a)"
   ]
  },
  {
   "cell_type": "markdown",
   "metadata": {},
   "source": [
    "### Using other endpoints\n",
    "\n",
    "you can check the available tasks for an imodel using `list_tasks`"
   ]
  },
  {
   "cell_type": "code",
   "execution_count": 4,
   "metadata": {},
   "outputs": [
    {
     "name": "stdout",
     "output_type": "stream",
     "text": [
      "['add_upload_part', 'cancel_batch', 'cancel_fine_tuning', 'cancel_upload', 'complete_upload', 'create_batch', 'create_chat_completion', 'create_embeddings', 'create_fine_tuning_job', 'create_image', 'create_image_edit', 'create_image_variation', 'create_moderation', 'create_speech', 'create_transcription', 'create_translation', 'create_upload', 'delete_file', 'delete_fine_tuned_model', 'list_batch', 'list_files', 'list_fine_tuning_checkpoints', 'list_fine_tuning_events', 'list_fine_tuning_jobs', 'list_models', 'retrieve_batch', 'retrieve_file', 'retrieve_file_content', 'retrieve_fine_tuning_job', 'retrieve_model', 'upload_file']\n"
     ]
    }
   ],
   "source": [
    "print(gpt4o.service.list_tasks())"
   ]
  },
  {
   "cell_type": "code",
   "execution_count": 5,
   "metadata": {},
   "outputs": [],
   "source": [
    "from pydantic import BaseModel\n",
    "\n",
    "\n",
    "class Joke(BaseModel):\n",
    "    joke: str"
   ]
  },
  {
   "cell_type": "markdown",
   "metadata": {},
   "source": [
    "Structured output"
   ]
  },
  {
   "cell_type": "code",
   "execution_count": 6,
   "metadata": {},
   "outputs": [],
   "source": [
    "b = await hunter.communicate(\n",
    "    instruction=\"I am a dragon\",\n",
    "    imodel=gpt4o,\n",
    "    response_format=Joke,\n",
    ")"
   ]
  },
  {
   "cell_type": "code",
   "execution_count": 7,
   "metadata": {},
   "outputs": [
    {
     "name": "stdout",
     "output_type": "stream",
     "text": [
      "<class '__main__.Joke'>\n"
     ]
    },
    {
     "data": {
      "text/plain": [
       "Joke(joke='With fiery claws, dragons hide their laughter flaws!')"
      ]
     },
     "execution_count": 7,
     "metadata": {},
     "output_type": "execute_result"
    }
   ],
   "source": [
    "print(type(b))\n",
    "b"
   ]
  },
  {
   "cell_type": "markdown",
   "metadata": {},
   "source": [
    "### Structured output with Claude sonnet\n",
    "\n",
    "LionAGI applies model-agnostic structured output, even if certain models don't provide built-in structured output we can have lionagi to take care of it.\n",
    "\n",
    "similarly, you need to an anthropic api key, which can you obtain [here](https://www.anthropic.com/)"
   ]
  },
  {
   "cell_type": "code",
   "execution_count": 8,
   "metadata": {},
   "outputs": [],
   "source": [
    "sonnet = iModel(\n",
    "    provider=\"anthropic\",\n",
    "    model=\"claude-3-5-sonnet-20241022\",\n",
    "    max_tokens=1000,  # max_tokens is required for anthropic models\n",
    ")"
   ]
  },
  {
   "cell_type": "code",
   "execution_count": 9,
   "metadata": {},
   "outputs": [],
   "source": [
    "c = await hunter.communicate(\n",
    "    instruction=\"I am a dragon\",\n",
    "    response_format=Joke,  # structured output in given pydantic model\n",
    "    clear_messages=True,  # refresh the conversation\n",
    "    imodel=sonnet,  # use sonnet model\n",
    ")"
   ]
  },
  {
   "cell_type": "code",
   "execution_count": 10,
   "metadata": {},
   "outputs": [
    {
     "data": {
      "text/plain": [
       "Joke(joke=\"A dragon came by, so I yelled 'Time to fry!'\")"
      ]
     },
     "execution_count": 10,
     "metadata": {},
     "output_type": "execute_result"
    }
   ],
   "source": [
    "c"
   ]
  },
  {
   "cell_type": "markdown",
   "metadata": {},
   "source": [
    "### Query internet with Perplexity\n",
    "\n",
    "you need to get an api key [here](https://docs.perplexity.ai/home)"
   ]
  },
  {
   "cell_type": "code",
   "execution_count": 11,
   "metadata": {},
   "outputs": [],
   "source": [
    "pplx_small = iModel(\n",
    "    provider=\"perplexity\",\n",
    "    task=\"chat/completions\",\n",
    "    model=\"llama-3.1-sonar-small-128k-online\",\n",
    "    max_tokens=1000,\n",
    ")"
   ]
  },
  {
   "cell_type": "code",
   "execution_count": 12,
   "metadata": {},
   "outputs": [],
   "source": [
    "b = await hunter.communicate(\n",
    "    instruction=\"What makes a well-behaved dragon?\",\n",
    "    clear_messages=True,  # refresh the conversation\n",
    "    imodel=pplx_small,  # use sonnet model\n",
    ")"
   ]
  },
  {
   "cell_type": "code",
   "execution_count": 13,
   "metadata": {},
   "outputs": [
    {
     "name": "stdout",
     "output_type": "stream",
     "text": [
      "A well-behaved dragon is one that's calm and bright,\n",
      "No stress or fear, just a peaceful night.\n",
      "It's active, not lethargic, with a happy face,\n",
      "And behaviors like digging, not a frantic pace.\n",
      "It's social, friendly, and never a fright,\n",
      "Just a gentle soul, shining with delight\n"
     ]
    }
   ],
   "source": [
    "print(b)"
   ]
  },
  {
   "cell_type": "code",
   "execution_count": 14,
   "metadata": {},
   "outputs": [
    {
     "data": {
      "text/plain": [
       "{'id': '1be10f4c-0936-4050-ab48-91bd86ab11a5',\n",
       " 'model': 'llama-3.1-sonar-small-128k-online',\n",
       " 'object': 'chat.completion',\n",
       " 'created': 1734369700,\n",
       " 'choices': [{'index': 0,\n",
       "   'message': {'role': 'assistant',\n",
       "    'content': \"A well-behaved dragon is one that's calm and bright,\\nNo stress or fear, just a peaceful night.\\nIt's active, not lethargic, with a happy face,\\nAnd behaviors like digging, not a frantic pace.\\nIt's social, friendly, and never a fright,\\nJust a gentle soul, shining with delight\"},\n",
       "   'finish_reason': 'stop',\n",
       "   'delta': {'role': 'assistant', 'content': ''}}],\n",
       " 'usage': {'prompt_tokens': 40, 'completion_tokens': 69, 'total_tokens': 109},\n",
       " 'citations': [{'url': 'https://dragonsdiet.com/blogs/dragon-care/15-bearded-dragon-behaviors-and-what-they-could-mean'},\n",
       "  {'url': 'https://masterbraeokk.tripod.com/dragons/behavior.html'},\n",
       "  {'url': 'https://files.eric.ed.gov/fulltext/ED247607.pdf'},\n",
       "  {'url': 'https://www.travelchinaguide.com/intro/social_customs/zodiac/dragon/five-elements.htm'},\n",
       "  {'url': 'https://www.travelchinaguide.com/intro/social_customs/zodiac/dragon/'}]}"
      ]
     },
     "execution_count": 14,
     "metadata": {},
     "output_type": "execute_result"
    }
   ],
   "source": [
    "hunter.msgs.last_response.model_response"
   ]
  },
  {
   "cell_type": "code",
   "execution_count": null,
   "metadata": {},
   "outputs": [],
   "source": []
  }
 ],
 "metadata": {
  "kernelspec": {
   "display_name": ".venv",
   "language": "python",
   "name": "python3"
  },
  "language_info": {
   "codemirror_mode": {
    "name": "ipython",
    "version": 3
   },
   "file_extension": ".py",
   "mimetype": "text/x-python",
   "name": "python",
   "nbconvert_exporter": "python",
   "pygments_lexer": "ipython3",
   "version": "3.12.7"
  }
 },
 "nbformat": 4,
 "nbformat_minor": 2
}
