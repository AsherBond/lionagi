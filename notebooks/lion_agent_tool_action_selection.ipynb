{
 "cells": [
  {
   "cell_type": "code",
   "execution_count": 1,
   "metadata": {},
   "outputs": [],
   "source": [
    "from lionagi.core.message import System, Instruction\n",
    "from lionagi.core.executor.graph_executor import GraphExecutor\n",
    "from lionagi.core.engine.instruction_map_engine import InstructionMapEngine\n",
    "from lionagi.core.agent.base_agent import BaseAgent\n",
    "\n",
    "from lionagi.core.action import func_to_tool, DirectiveSelection"
   ]
  },
  {
   "cell_type": "markdown",
   "metadata": {},
   "source": [
    "# Create Nodes"
   ]
  },
  {
   "cell_type": "code",
   "execution_count": 2,
   "metadata": {},
   "outputs": [],
   "source": [
    "sys_mul = System(\n",
    "    \"you are asked to perform as a function picker and parameter provider\"\n",
    ")\n",
    "instruction = Instruction(\n",
    "    \"Think step by step, understand the following basic math question and provide parameters for function calling.\"\n",
    ")"
   ]
  },
  {
   "cell_type": "markdown",
   "metadata": {},
   "source": [
    "Instruction nodes can link to Tool nodes, specifing the tool or tools to be used in that step"
   ]
  },
  {
   "cell_type": "code",
   "execution_count": 3,
   "metadata": {},
   "outputs": [],
   "source": [
    "def multiply(number1: float, number2: float):\n",
    "    \"\"\"\n",
    "    Perform multiplication on two numbers.\n",
    "\n",
    "    Args:\n",
    "        number1: First number to multiply.\n",
    "        number2: Second number to multiply.\n",
    "\n",
    "    Returns:\n",
    "        The product of number1 and number2.\n",
    "\n",
    "    \"\"\"\n",
    "    return number1 * number2\n",
    "\n",
    "\n",
    "tool_m = func_to_tool(multiply)"
   ]
  },
  {
   "cell_type": "markdown",
   "metadata": {},
   "source": [
    "Each Instruction node can link to an ActionSelection node. The supported actions include `chat`, `followup`, or `ReAct`. If no action is attached, the default execution mode is set to `chat`."
   ]
  },
  {
   "cell_type": "code",
   "execution_count": 4,
   "metadata": {},
   "outputs": [],
   "source": [
    "action = DirectiveSelection(\n",
    "    directive=\"direct\", directive_kwargs={\"reason\": True, \"score\": True}\n",
    ")"
   ]
  },
  {
   "cell_type": "markdown",
   "metadata": {},
   "source": [
    "# Create Structure"
   ]
  },
  {
   "cell_type": "code",
   "execution_count": 5,
   "metadata": {},
   "outputs": [],
   "source": [
    "graph_mul = GraphExecutor()\n",
    "graph_mul.add_node(sys_mul)\n",
    "graph_mul.add_node(instruction)\n",
    "graph_mul.add_node(tool_m[0])\n",
    "graph_mul.add_node(action)\n",
    "graph_mul.add_edge(sys_mul, instruction)\n",
    "graph_mul.add_edge(instruction, tool_m[0])\n",
    "graph_mul.add_edge(instruction, action)"
   ]
  },
  {
   "cell_type": "code",
   "execution_count": 6,
   "metadata": {},
   "outputs": [
    {
     "data": {
      "image/png": "[encoded data removed]",
      "text/plain": [
       "<Figure size 640x480 with 1 Axes>"
      ]
     },
     "metadata": {},
     "output_type": "display_data"
    }
   ],
   "source": [
    "graph_mul.display()"
   ]
  },
  {
   "cell_type": "code",
   "execution_count": 7,
   "metadata": {},
   "outputs": [],
   "source": [
    "# output_parser parameter: agent self\n",
    "# output_parser return: the expected result that should be returned after execution\n",
    "def output_parser(agent):\n",
    "    ## return all message dataframe in all branches\n",
    "    output = []\n",
    "    for branch in agent.executable.branches.values():\n",
    "        output.append(branch.to_df())\n",
    "    return output\n",
    "\n",
    "\n",
    "executable = InstructionMapEngine()"
   ]
  },
  {
   "cell_type": "code",
   "execution_count": 8,
   "metadata": {},
   "outputs": [],
   "source": [
    "calc = BaseAgent(\n",
    "    structure=graph_mul,\n",
    "    executable=executable,\n",
    "    output_parser=output_parser,\n",
    ")"
   ]
  },
  {
   "cell_type": "markdown",
   "metadata": {},
   "source": [
    "# Usage"
   ]
  },
  {
   "cell_type": "code",
   "execution_count": 9,
   "metadata": {},
   "outputs": [],
   "source": [
    "question1 = \"A school is ordering laptops for its students. If each classroom has 25 students and the school wants to provide a laptop for each student in its 8 classrooms, how many laptops in total does the school need to order?\"\n",
    "question2 = \"A bakery sells cupcakes in boxes of 6. If a customer wants to buy 8 boxes, with each person getting one cupcake, how many people can the customer serve cupcake to?\"\n",
    "\n",
    "import json\n",
    "\n",
    "context = {\"Question1\": question1, \"question2\": question2}\n",
    "context = json.dumps(context)"
   ]
  },
  {
   "cell_type": "code",
   "execution_count": 10,
   "metadata": {},
   "outputs": [
    {
     "name": "stdout",
     "output_type": "stream",
     "text": [
      "------------------Welcome: system--------------------\n"
     ]
    },
    {
     "data": {
      "text/markdown": [
       "system: you are asked to perform as a function picker and parameter provider"
      ],
      "text/plain": [
       "<IPython.core.display.Markdown object>"
      ]
     },
     "metadata": {},
     "output_type": "display_data"
    },
    {
     "data": {
      "text/markdown": [
       "user: Think step by step, understand the following basic math question and provide parameters for function calling."
      ],
      "text/plain": [
       "<IPython.core.display.Markdown object>"
      ]
     },
     "metadata": {},
     "output_type": "display_data"
    },
    {
     "data": {
      "text/markdown": [
       "assistant 03ab154c441fd3419c6fccce46bbd344:\n"
      ],
      "text/plain": [
       "<IPython.core.display.Markdown object>"
      ]
     },
     "metadata": {},
     "output_type": "display_data"
    },
    {
     "data": {
      "text/markdown": [
       "task: \n",
       "Follow the prompt and provide the necessary output.\n",
       "- Additional instruction: Think step by step, understand the following basic math question and provide parameters for function calling.\n",
       "- Additional context: {\"Question1\": \"A school is ordering laptops for its students. If each classroom has 25 students and the school wants to provide a laptop for each student in its 8 classrooms, how many laptops in total does the school need to order?\", \"question2\": \"A bakery sells cupcakes in boxes of 6. If a customer wants to buy 8 boxes, with each person getting one cupcake, how many people can the customer serve cupcake to?\"}\n",
       "- Reason and prepare actions with GIVEN TOOLS ONLY.\n",
       "- Give a numeric score in [0, 10] and precision of 0 decimal places.\n",
       "\n"
      ],
      "text/plain": [
       "<IPython.core.display.Markdown object>"
      ]
     },
     "metadata": {},
     "output_type": "display_data"
    },
    {
     "data": {
      "text/markdown": [
       "reason: \n",
       "Let's think step by step. For Question 1, the school has 8 classrooms, each with 25 students. To find the total number of laptops needed, we multiply the number of classrooms by the number of students per classroom: 8 * 25 = 200. For Question 2, the bakery sells cupcakes in boxes of 6, and the customer wants to buy 8 boxes. To find the total number of cupcakes, we multiply the number of boxes by the number of cupcakes per box: 8 * 6 = 48. Therefore, the customer can serve cupcakes to 48 people.\n"
      ],
      "text/plain": [
       "<IPython.core.display.Markdown object>"
      ]
     },
     "metadata": {},
     "output_type": "display_data"
    },
    {
     "data": {
      "text/markdown": [
       "actions: \n",
       "{'action_1': {'function': 'multiply', 'arguments': {'number1': 8, 'number2': 25}}, 'action_2': {'function': 'multiply', 'arguments': {'number1': 8, 'number2': 6}}}\n"
      ],
      "text/plain": [
       "<IPython.core.display.Markdown object>"
      ]
     },
     "metadata": {},
     "output_type": "display_data"
    },
    {
     "data": {
      "text/markdown": [
       "action_required: \n",
       "True\n"
      ],
      "text/plain": [
       "<IPython.core.display.Markdown object>"
      ]
     },
     "metadata": {},
     "output_type": "display_data"
    },
    {
     "data": {
      "text/markdown": [
       "answer: \n",
       "The school needs to order 200 laptops. The customer can serve cupcakes to 48 people.\n"
      ],
      "text/plain": [
       "<IPython.core.display.Markdown object>"
      ]
     },
     "metadata": {},
     "output_type": "display_data"
    },
    {
     "data": {
      "text/markdown": [
       "score: \n",
       "10\n"
      ],
      "text/plain": [
       "<IPython.core.display.Markdown object>"
      ]
     },
     "metadata": {},
     "output_type": "display_data"
    },
    {
     "data": {
      "text/markdown": [
       "tool_schema: \n",
       "{'tools': [{'type': 'function', 'function': {'name': 'multiply', 'description': 'Perform multiplication on two numbers.', 'parameters': {'type': 'object', 'properties': {'number1': {'type': 'number', 'description': 'First number to multiply.'}, 'number2': {'type': 'number', 'description': 'Second number to multiply.'}}, 'required': ['number1', 'number2']}}}]}\n"
      ],
      "text/plain": [
       "<IPython.core.display.Markdown object>"
      ]
     },
     "metadata": {},
     "output_type": "display_data"
    },
    {
     "data": {
      "text/markdown": [
       "action_response: \n",
       "{'action_1': {'function': 'multiply', 'arguments': {'number1': 8, 'number2': 25}, 'output': 200}, 'action_2': {'function': 'multiply', 'arguments': {'number1': 8, 'number2': 6}, 'output': 48}}\n"
      ],
      "text/plain": [
       "<IPython.core.display.Markdown object>"
      ]
     },
     "metadata": {},
     "output_type": "display_data"
    },
    {
     "data": {
      "text/markdown": [
       "action_performed: \n",
       "True\n"
      ],
      "text/plain": [
       "<IPython.core.display.Markdown object>"
      ]
     },
     "metadata": {},
     "output_type": "display_data"
    },
    {
     "name": "stdout",
     "output_type": "stream",
     "text": [
      "-----------------------------------------------------\n"
     ]
    }
   ],
   "source": [
    "calc_result = await calc.execute(context)"
   ]
  },
  {
   "cell_type": "code",
   "execution_count": 11,
   "metadata": {},
   "outputs": [
    {
     "data": {
      "text/html": [
       "<div>\n",
       "<style scoped>\n",
       "    .dataframe tbody tr th:only-of-type {\n",
       "        vertical-align: middle;\n",
       "    }\n",
       "\n",
       "    .dataframe tbody tr th {\n",
       "        vertical-align: top;\n",
       "    }\n",
       "\n",
       "    .dataframe thead th {\n",
       "        text-align: right;\n",
       "    }\n",
       "</style>\n",
       "<table border=\"1\" class=\"dataframe\">\n",
       "  <thead>\n",
       "    <tr style=\"text-align: right;\">\n",
       "      <th></th>\n",
       "      <th>ln_id</th>\n",
       "      <th>message_type</th>\n",
       "      <th>timestamp</th>\n",
       "      <th>role</th>\n",
       "      <th>content</th>\n",
       "      <th>metadata</th>\n",
       "      <th>sender</th>\n",
       "      <th>recipient</th>\n",
       "    </tr>\n",
       "  </thead>\n",
       "  <tbody>\n",
       "    <tr>\n",
       "      <th>0</th>\n",
       "      <td>5c090f2b691a7432c1ce2bb19c5d7196</td>\n",
       "      <td>System</td>\n",
       "      <td>2024-05-24T00:50:26.416241</td>\n",
       "      <td>system</td>\n",
       "      <td>{'system_info': 'you are asked to perform as a...</td>\n",
       "      <td>{'last_updated': {'recipient': '2024-05-24T00:...</td>\n",
       "      <td>system</td>\n",
       "      <td>03ab154c441fd3419c6fccce46bbd344</td>\n",
       "    </tr>\n",
       "    <tr>\n",
       "      <th>1</th>\n",
       "      <td>e80cbc9dccdf66f1805a543dc64df7eb</td>\n",
       "      <td>Instruction</td>\n",
       "      <td>2024-05-24T00:50:27.513841</td>\n",
       "      <td>user</td>\n",
       "      <td>{'instruction': '\n",
       "        ## Task Instructions...</td>\n",
       "      <td>{'last_updated': {'sender': '2024-05-24T00:50:...</td>\n",
       "      <td>user</td>\n",
       "      <td>03ab154c441fd3419c6fccce46bbd344</td>\n",
       "    </tr>\n",
       "    <tr>\n",
       "      <th>2</th>\n",
       "      <td>9663ae2c38494ae138794408f9f020e9</td>\n",
       "      <td>AssistantResponse</td>\n",
       "      <td>2024-05-24T00:50:31.867813</td>\n",
       "      <td>assistant</td>\n",
       "      <td>{'assistant_response': '```json\n",
       "{\n",
       "    \"answer\"...</td>\n",
       "      <td>{'last_updated': {'sender': '2024-05-24T00:50:...</td>\n",
       "      <td>03ab154c441fd3419c6fccce46bbd344</td>\n",
       "      <td>user</td>\n",
       "    </tr>\n",
       "    <tr>\n",
       "      <th>3</th>\n",
       "      <td>e2d61665d2f73c3c1832f62886d4ff76</td>\n",
       "      <td>ActionRequest</td>\n",
       "      <td>2024-05-24T00:50:31.870603</td>\n",
       "      <td>assistant</td>\n",
       "      <td>{'action_request': {'function': 'multiply', 'a...</td>\n",
       "      <td>{'last_updated': {'function': '2024-05-24T00:5...</td>\n",
       "      <td>03ab154c441fd3419c6fccce46bbd344</td>\n",
       "      <td>2dfb7107f2ae5553d7dac3e3da4ed2cc</td>\n",
       "    </tr>\n",
       "    <tr>\n",
       "      <th>4</th>\n",
       "      <td>699db784c21d7a5e17708e57b88fa820</td>\n",
       "      <td>ActionRequest</td>\n",
       "      <td>2024-05-24T00:50:31.870792</td>\n",
       "      <td>assistant</td>\n",
       "      <td>{'action_request': {'function': 'multiply', 'a...</td>\n",
       "      <td>{'last_updated': {'function': '2024-05-24T00:5...</td>\n",
       "      <td>03ab154c441fd3419c6fccce46bbd344</td>\n",
       "      <td>2dfb7107f2ae5553d7dac3e3da4ed2cc</td>\n",
       "    </tr>\n",
       "    <tr>\n",
       "      <th>5</th>\n",
       "      <td>707a283b35fd7d3224793c105287e729</td>\n",
       "      <td>ActionResponse</td>\n",
       "      <td>2024-05-24T00:50:31.871198</td>\n",
       "      <td>assistant</td>\n",
       "      <td>{'action_response': {'function': 'multiply', '...</td>\n",
       "      <td>{'last_updated': {'function': '2024-05-24T00:5...</td>\n",
       "      <td>2dfb7107f2ae5553d7dac3e3da4ed2cc</td>\n",
       "      <td>03ab154c441fd3419c6fccce46bbd344</td>\n",
       "    </tr>\n",
       "    <tr>\n",
       "      <th>6</th>\n",
       "      <td>4efc00174cc8fc048b4807911afadf9f</td>\n",
       "      <td>ActionResponse</td>\n",
       "      <td>2024-05-24T00:50:31.871386</td>\n",
       "      <td>assistant</td>\n",
       "      <td>{'action_response': {'function': 'multiply', '...</td>\n",
       "      <td>{'last_updated': {'function': '2024-05-24T00:5...</td>\n",
       "      <td>2dfb7107f2ae5553d7dac3e3da4ed2cc</td>\n",
       "      <td>03ab154c441fd3419c6fccce46bbd344</td>\n",
       "    </tr>\n",
       "  </tbody>\n",
       "</table>\n",
       "</div>"
      ],
      "text/plain": [
       "                              ln_id       message_type  \\\n",
       "0  5c090f2b691a7432c1ce2bb19c5d7196             System   \n",
       "1  e80cbc9dccdf66f1805a543dc64df7eb        Instruction   \n",
       "2  9663ae2c38494ae138794408f9f020e9  AssistantResponse   \n",
       "3  e2d61665d2f73c3c1832f62886d4ff76      ActionRequest   \n",
       "4  699db784c21d7a5e17708e57b88fa820      ActionRequest   \n",
       "5  707a283b35fd7d3224793c105287e729     ActionResponse   \n",
       "6  4efc00174cc8fc048b4807911afadf9f     ActionResponse   \n",
       "\n",
       "                    timestamp       role  \\\n",
       "0  2024-05-24T00:50:26.416241     system   \n",
       "1  2024-05-24T00:50:27.513841       user   \n",
       "2  2024-05-24T00:50:31.867813  assistant   \n",
       "3  2024-05-24T00:50:31.870603  assistant   \n",
       "4  2024-05-24T00:50:31.870792  assistant   \n",
       "5  2024-05-24T00:50:31.871198  assistant   \n",
       "6  2024-05-24T00:50:31.871386  assistant   \n",
       "\n",
       "                                             content  \\\n",
       "0  {'system_info': 'you are asked to perform as a...   \n",
       "1  {'instruction': '\n",
       "        ## Task Instructions...   \n",
       "2  {'assistant_response': '```json\n",
       "{\n",
       "    \"answer\"...   \n",
       "3  {'action_request': {'function': 'multiply', 'a...   \n",
       "4  {'action_request': {'function': 'multiply', 'a...   \n",
       "5  {'action_response': {'function': 'multiply', '...   \n",
       "6  {'action_response': {'function': 'multiply', '...   \n",
       "\n",
       "                                            metadata  \\\n",
       "0  {'last_updated': {'recipient': '2024-05-24T00:...   \n",
       "1  {'last_updated': {'sender': '2024-05-24T00:50:...   \n",
       "2  {'last_updated': {'sender': '2024-05-24T00:50:...   \n",
       "3  {'last_updated': {'function': '2024-05-24T00:5...   \n",
       "4  {'last_updated': {'function': '2024-05-24T00:5...   \n",
       "5  {'last_updated': {'function': '2024-05-24T00:5...   \n",
       "6  {'last_updated': {'function': '2024-05-24T00:5...   \n",
       "\n",
       "                             sender                         recipient  \n",
       "0                            system  03ab154c441fd3419c6fccce46bbd344  \n",
       "1                              user  03ab154c441fd3419c6fccce46bbd344  \n",
       "2  03ab154c441fd3419c6fccce46bbd344                              user  \n",
       "3  03ab154c441fd3419c6fccce46bbd344  2dfb7107f2ae5553d7dac3e3da4ed2cc  \n",
       "4  03ab154c441fd3419c6fccce46bbd344  2dfb7107f2ae5553d7dac3e3da4ed2cc  \n",
       "5  2dfb7107f2ae5553d7dac3e3da4ed2cc  03ab154c441fd3419c6fccce46bbd344  \n",
       "6  2dfb7107f2ae5553d7dac3e3da4ed2cc  03ab154c441fd3419c6fccce46bbd344  "
      ]
     },
     "execution_count": 11,
     "metadata": {},
     "output_type": "execute_result"
    }
   ],
   "source": [
    "calc_result[0]"
   ]
  },
  {
   "cell_type": "markdown",
   "metadata": {},
   "source": [
    "# Storing Structures\n",
    "\n",
    "We currently support the storage of structures in Excel and Neo4j, enabling their reuse in future applications."
   ]
  },
  {
   "cell_type": "markdown",
   "metadata": {},
   "source": [
    "### Excel"
   ]
  },
  {
   "cell_type": "code",
   "execution_count": 12,
   "metadata": {},
   "outputs": [],
   "source": [
    "graph_mul.to_excel(\"tool_mul\")  # dir = \"structure_storage\" (default)"
   ]
  },
  {
   "cell_type": "markdown",
   "metadata": {},
   "source": [
    "### Neo4j"
   ]
  },
  {
   "cell_type": "code",
   "execution_count": 13,
   "metadata": {},
   "outputs": [],
   "source": [
    "# initiate Neo4j Driver\n",
    "uri = \"bolt://localhost:7687\"\n",
    "user = \"neo4j\"\n",
    "password = \"12345678\"\n",
    "database = \"neo4j\"\n",
    "\n",
    "from lionagi.integrations.storage.neo4j import Neo4j\n",
    "\n",
    "neo4j = Neo4j(uri, user, password, database)"
   ]
  },
  {
   "cell_type": "code",
   "execution_count": 14,
   "metadata": {},
   "outputs": [],
   "source": [
    "# structure_name is unique\n",
    "\n",
    "await neo4j.store(graph_mul, structure_name=\"tool_mul\")"
   ]
  }
 ],
 "metadata": {
  "kernelspec": {
   "display_name": ".venv",
   "language": "python",
   "name": "python3"
  },
  "language_info": {
   "codemirror_mode": {
    "name": "ipython",
    "version": 3
   },
   "file_extension": ".py",
   "mimetype": "text/x-python",
   "name": "python",
   "nbconvert_exporter": "python",
   "pygments_lexer": "ipython3",
   "version": "3.10.6"
  }
 },
 "nbformat": 4,
 "nbformat_minor": 2
}
