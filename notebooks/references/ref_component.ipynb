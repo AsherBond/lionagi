{
 "cells": [
  {
   "cell_type": "code",
   "execution_count": 2,
   "metadata": {},
   "outputs": [],
   "source": [
    "from lionagi.core.collections.abc.component import Component"
   ]
  },
  {
   "cell_type": "markdown",
   "metadata": {},
   "source": [
    "## Base Universal Attributes"
   ]
  },
  {
   "cell_type": "code",
   "execution_count": 3,
   "metadata": {},
   "outputs": [
    {
     "name": "stdout",
     "output_type": "stream",
     "text": [
      "ln_id         965fbfc19cbd67ff7b6bf9c1c17ff50b\n",
      "created             2024-05-28T21:51:05.164878\n",
      "metadata                                    {}\n",
      "content                                   None\n",
      "embedding                                   []\n",
      "lion_class                           Component\n",
      "dtype: object\n"
     ]
    }
   ],
   "source": [
    "a = Component()\n",
    "print(a)"
   ]
  },
  {
   "cell_type": "code",
   "execution_count": 4,
   "metadata": {},
   "outputs": [],
   "source": [
    "a.content = 1"
   ]
  },
  {
   "cell_type": "code",
   "execution_count": 5,
   "metadata": {},
   "outputs": [
    {
     "data": {
      "text/plain": [
       "ln_id                          965fbfc19cbd67ff7b6bf9c1c17ff50b\n",
       "created                              2024-05-28T21:51:05.164878\n",
       "metadata      {'last_updated': {'content': '2024-05-28T21:51...\n",
       "content                                                       1\n",
       "embedding                                                    []\n",
       "lion_class                                            Component\n",
       "dtype: object"
      ]
     },
     "execution_count": 5,
     "metadata": {},
     "output_type": "execute_result"
    }
   ],
   "source": [
    "a"
   ]
  },
  {
   "cell_type": "code",
   "execution_count": 6,
   "metadata": {},
   "outputs": [
    {
     "data": {
      "text/plain": [
       "'Component'"
      ]
     },
     "execution_count": 6,
     "metadata": {},
     "output_type": "execute_result"
    }
   ],
   "source": [
    "a.class_name"
   ]
  },
  {
   "cell_type": "code",
   "execution_count": 7,
   "metadata": {},
   "outputs": [
    {
     "name": "stdout",
     "output_type": "stream",
     "text": [
      "ln_id: \t\t\t 965fbfc19cbd67ff7b6bf9c1c17ff50b\n",
      "created at: \t\t 2024-05-28T21:51:05.164878\n",
      "metadata: \t\t {'last_updated': {'content': '2024-05-28T21:51:05.168328'}}\n",
      "content: \t\t 1\n",
      "extra_fields: \t\t {}\n"
     ]
    }
   ],
   "source": [
    "print(\"ln_id: \\t\\t\\t\", a.ln_id)  # unique lion id\n",
    "print(\"created at: \\t\\t\", a.timestamp)\n",
    "print(\"metadata: \\t\\t\", a.metadata)\n",
    "print(\"content: \\t\\t\", a.content)\n",
    "print(\"extra_fields: \\t\\t\", a.extra_fields)"
   ]
  },
  {
   "cell_type": "code",
   "execution_count": 8,
   "metadata": {},
   "outputs": [
    {
     "data": {
      "text/plain": [
       "{'ln_id': ['str'],\n",
       " 'timestamp': ['str'],\n",
       " 'metadata': ['dict'],\n",
       " 'extra_fields': ['dict'],\n",
       " 'content': ['Any'],\n",
       " 'embedding': ['list']}"
      ]
     },
     "execution_count": 8,
     "metadata": {},
     "output_type": "execute_result"
    }
   ],
   "source": [
    "a._field_annotations"
   ]
  },
  {
   "cell_type": "code",
   "execution_count": 9,
   "metadata": {},
   "outputs": [
    {
     "data": {
      "text/plain": [
       "{'ln_id': FieldInfo(annotation=str, required=False, default_factory=create_id, alias_priority=2, validation_alias=AliasChoices(choices=['node_id', 'ID', 'id']), title='ID', description='A 32-char unique hash identifier.', frozen=True),\n",
       " 'timestamp': FieldInfo(annotation=str, required=False, default_factory=<lambda>, alias='created', alias_priority=2, validation_alias=AliasChoices(choices=['created_on', 'creation_date']), title='Creation Timestamp', description='The UTC timestamp of creation', frozen=True),\n",
       " 'metadata': FieldInfo(annotation=dict[str, Any], required=False, default_factory=dict, alias_priority=2, validation_alias=AliasChoices(choices=['meta', 'info']), description='Additional metadata for the component.'),\n",
       " 'extra_fields': FieldInfo(annotation=dict[str, Any], required=False, default_factory=dict, alias_priority=2, validation_alias=AliasChoices(choices=['extra', 'additional_fields', 'schema_extra', 'extra_schema']), description='Additional fields for the component.'),\n",
       " 'content': FieldInfo(annotation=Any, required=False, default=None, alias_priority=2, validation_alias=AliasChoices(choices=['text', 'page_content', 'chunk_content', 'data']), description='The optional content of the node.'),\n",
       " 'embedding': FieldInfo(annotation=list[float], required=False, default=[], description='The optional embedding of the node.')}"
      ]
     },
     "execution_count": 9,
     "metadata": {},
     "output_type": "execute_result"
    }
   ],
   "source": [
    "a._all_fields"
   ]
  },
  {
   "cell_type": "markdown",
   "metadata": {},
   "source": [
    "## Inherit from Component Class"
   ]
  },
  {
   "cell_type": "code",
   "execution_count": 10,
   "metadata": {},
   "outputs": [],
   "source": [
    "from pydantic import Field\n",
    "\n",
    "\n",
    "class Form(Component):\n",
    "    form_name: str = Field(default=\"form\", title=\"Form Name\")\n",
    "    date: str = \"today\"\n",
    "\n",
    "\n",
    "a = Form()"
   ]
  },
  {
   "cell_type": "code",
   "execution_count": 11,
   "metadata": {},
   "outputs": [
    {
     "data": {
      "text/plain": [
       "True"
      ]
     },
     "execution_count": 11,
     "metadata": {},
     "output_type": "execute_result"
    }
   ],
   "source": [
    "# check the details of a specific field\n",
    "a._field_has_attr(\"form_name\", \"title\")"
   ]
  },
  {
   "cell_type": "code",
   "execution_count": 12,
   "metadata": {},
   "outputs": [
    {
     "data": {
      "text/plain": [
       "'Form Name'"
      ]
     },
     "execution_count": 12,
     "metadata": {},
     "output_type": "execute_result"
    }
   ],
   "source": [
    "a._get_field_attr(\"form_name\", \"title\")"
   ]
  },
  {
   "cell_type": "code",
   "execution_count": 13,
   "metadata": {},
   "outputs": [
    {
     "data": {
      "text/plain": [
       "{'ln_id': ['str'],\n",
       " 'timestamp': ['str'],\n",
       " 'metadata': ['dict'],\n",
       " 'extra_fields': ['dict'],\n",
       " 'content': ['Any'],\n",
       " 'embedding': ['list'],\n",
       " 'form_name': ['str'],\n",
       " 'date': ['str']}"
      ]
     },
     "execution_count": 13,
     "metadata": {},
     "output_type": "execute_result"
    }
   ],
   "source": [
    "a._field_annotations"
   ]
  },
  {
   "cell_type": "code",
   "execution_count": 14,
   "metadata": {},
   "outputs": [
    {
     "data": {
      "text/plain": [
       "{'ln_id': ['str'],\n",
       " 'timestamp': ['str'],\n",
       " 'metadata': ['dict'],\n",
       " 'extra_fields': ['dict'],\n",
       " 'content': ['Any'],\n",
       " 'embedding': ['list'],\n",
       " 'form_name': ['str'],\n",
       " 'date': ['str'],\n",
       " 'welcome': ['str']}"
      ]
     },
     "execution_count": 14,
     "metadata": {},
     "output_type": "execute_result"
    }
   ],
   "source": [
    "a._add_field(\n",
    "    field=\"welcome\",\n",
    "    annotation=str,\n",
    "    default=\"new value\",\n",
    "    value=\"hello world again\",\n",
    ")\n",
    "\n",
    "a._field_annotations"
   ]
  },
  {
   "cell_type": "code",
   "execution_count": 15,
   "metadata": {},
   "outputs": [
    {
     "name": "stdout",
     "output_type": "stream",
     "text": [
      "default value: \t new value\n",
      "current value: \t hello world again\n"
     ]
    }
   ],
   "source": [
    "print(\"default value: \\t\", a._get_field_attr(\"welcome\", \"default\", None))\n",
    "print(\"current value: \\t\", getattr(a, \"welcome\", None))"
   ]
  },
  {
   "cell_type": "markdown",
   "metadata": {},
   "source": [
    "### to_obj methods"
   ]
  },
  {
   "cell_type": "code",
   "execution_count": 16,
   "metadata": {},
   "outputs": [
    {
     "name": "stdout",
     "output_type": "stream",
     "text": [
      "json_str: \n",
      "\n",
      " {\"ln_id\": \"db39efa82b6d81fcd8164a4b47a34268\", \"created\": \"2024-05-28T21:51:05.189354\", \"metadata\": {\"last_updated\": {\"welcome\": \"2024-05-28T21:51:05.201652\"}}, \"content\": null, \"embedding\": [], \"form_name\": \"form\", \"date\": \"today\", \"welcome\": \"hello world again\", \"lion_class\": \"Form\"}\n"
     ]
    }
   ],
   "source": [
    "print(\"json_str: \\n\\n\", a.to_json_str())"
   ]
  },
  {
   "cell_type": "code",
   "execution_count": 17,
   "metadata": {},
   "outputs": [
    {
     "name": "stdout",
     "output_type": "stream",
     "text": [
      "dict: \n",
      "\n",
      " {'ln_id': 'db39efa82b6d81fcd8164a4b47a34268', 'created': '2024-05-28T21:51:05.189354', 'metadata': {'last_updated': {'welcome': '2024-05-28T21:51:05.201652'}}, 'content': None, 'embedding': [], 'form_name': 'form', 'date': 'today', 'welcome': 'hello world again', 'lion_class': 'Form'}\n"
     ]
    }
   ],
   "source": [
    "print(\"dict: \\n\\n\", a.to_dict())"
   ]
  },
  {
   "cell_type": "code",
   "execution_count": 18,
   "metadata": {},
   "outputs": [
    {
     "name": "stdout",
     "output_type": "stream",
     "text": [
      "xml: \n",
      "\n",
      " <Form><ln_id>db39efa82b6d81fcd8164a4b47a34268</ln_id><created>2024-05-28T21:51:05.189354</created><metadata><last_updated><welcome>2024-05-28T21:51:05.201652</welcome></last_updated></metadata><content>None</content><embedding>[]</embedding><form_name>form</form_name><date>today</date><welcome>hello world again</welcome><lion_class>Form</lion_class></Form>\n"
     ]
    }
   ],
   "source": [
    "print(\"xml: \\n\\n\", a.to_xml())"
   ]
  },
  {
   "cell_type": "code",
   "execution_count": 19,
   "metadata": {},
   "outputs": [
    {
     "name": "stdout",
     "output_type": "stream",
     "text": [
      "pd.Series: \n",
      "\n",
      " ln_id                          db39efa82b6d81fcd8164a4b47a34268\n",
      "created                              2024-05-28T21:51:05.189354\n",
      "metadata      {'last_updated': {'welcome': '2024-05-28T21:51...\n",
      "content                                                    None\n",
      "embedding                                                    []\n",
      "form_name                                                  form\n",
      "date                                                      today\n",
      "welcome                                       hello world again\n",
      "lion_class                                                 Form\n",
      "dtype: object\n"
     ]
    }
   ],
   "source": [
    "print(\"pd.Series: \\n\\n\", a.to_pd_series())"
   ]
  },
  {
   "cell_type": "code",
   "execution_count": 20,
   "metadata": {},
   "outputs": [
    {
     "data": {
      "text/plain": [
       "llama_index.core.schema.TextNode"
      ]
     },
     "execution_count": 20,
     "metadata": {},
     "output_type": "execute_result"
    }
   ],
   "source": [
    "llama_node = a.to_llama_index_node()\n",
    "type(llama_node)"
   ]
  },
  {
   "cell_type": "code",
   "execution_count": 21,
   "metadata": {},
   "outputs": [
    {
     "data": {
      "text/plain": [
       "{'id_': '5b8d4e50-c3b3-4b28-9673-65a8134d414d',\n",
       " 'embedding': [],\n",
       " 'metadata': {'last_updated': {'welcome': '2024-05-28T21:51:05.201652'}},\n",
       " 'excluded_embed_metadata_keys': [],\n",
       " 'excluded_llm_metadata_keys': [],\n",
       " 'relationships': {},\n",
       " 'text': 'None',\n",
       " 'start_char_idx': None,\n",
       " 'end_char_idx': None,\n",
       " 'text_template': '{metadata_str}\\n\\n{content}',\n",
       " 'metadata_template': '{key}: {value}',\n",
       " 'metadata_seperator': '\\n',\n",
       " 'class_name': 'TextNode'}"
      ]
     },
     "execution_count": 21,
     "metadata": {},
     "output_type": "execute_result"
    }
   ],
   "source": [
    "llama_node.to_dict()"
   ]
  },
  {
   "cell_type": "code",
   "execution_count": 22,
   "metadata": {},
   "outputs": [
    {
     "name": "stdout",
     "output_type": "stream",
     "text": [
      "Module langchain or attribute None not found. Installing langchain...\n",
      "Collecting langchain\n",
      "  Using cached langchain-0.2.1-py3-none-any.whl.metadata (13 kB)\n",
      "Requirement already satisfied: PyYAML>=5.3 in /Users/lion/Library/Mobile Documents/com~apple~CloudDocs/GitHub/gitco/.venv/lib/python3.12/site-packages (from langchain) (6.0.1)\n",
      "Requirement already satisfied: SQLAlchemy<3,>=1.4 in /Users/lion/Library/Mobile Documents/com~apple~CloudDocs/GitHub/gitco/.venv/lib/python3.12/site-packages (from langchain) (2.0.30)\n",
      "Requirement already satisfied: aiohttp<4.0.0,>=3.8.3 in /Users/lion/Library/Mobile Documents/com~apple~CloudDocs/GitHub/gitco/.venv/lib/python3.12/site-packages (from langchain) (3.9.5)\n",
      "Collecting langchain-core<0.3.0,>=0.2.0 (from langchain)\n",
      "  Using cached langchain_core-0.2.1-py3-none-any.whl.metadata (5.9 kB)\n",
      "Collecting langchain-text-splitters<0.3.0,>=0.2.0 (from langchain)\n",
      "  Using cached langchain_text_splitters-0.2.0-py3-none-any.whl.metadata (2.2 kB)\n",
      "Collecting langsmith<0.2.0,>=0.1.17 (from langchain)\n",
      "  Using cached langsmith-0.1.63-py3-none-any.whl.metadata (13 kB)\n",
      "Requirement already satisfied: numpy<2,>=1 in /Users/lion/Library/Mobile Documents/com~apple~CloudDocs/GitHub/gitco/.venv/lib/python3.12/site-packages (from langchain) (1.26.4)\n",
      "Requirement already satisfied: pydantic<3,>=1 in /Users/lion/Library/Mobile Documents/com~apple~CloudDocs/GitHub/gitco/.venv/lib/python3.12/site-packages (from langchain) (2.7.2)\n",
      "Requirement already satisfied: requests<3,>=2 in /Users/lion/Library/Mobile Documents/com~apple~CloudDocs/GitHub/gitco/.venv/lib/python3.12/site-packages (from langchain) (2.32.2)\n",
      "Requirement already satisfied: tenacity<9.0.0,>=8.1.0 in /Users/lion/Library/Mobile Documents/com~apple~CloudDocs/GitHub/gitco/.venv/lib/python3.12/site-packages (from langchain) (8.3.0)\n",
      "Requirement already satisfied: aiosignal>=1.1.2 in /Users/lion/Library/Mobile Documents/com~apple~CloudDocs/GitHub/gitco/.venv/lib/python3.12/site-packages (from aiohttp<4.0.0,>=3.8.3->langchain) (1.3.1)\n",
      "Requirement already satisfied: attrs>=17.3.0 in /Users/lion/Library/Mobile Documents/com~apple~CloudDocs/GitHub/gitco/.venv/lib/python3.12/site-packages (from aiohttp<4.0.0,>=3.8.3->langchain) (23.2.0)\n",
      "Requirement already satisfied: frozenlist>=1.1.1 in /Users/lion/Library/Mobile Documents/com~apple~CloudDocs/GitHub/gitco/.venv/lib/python3.12/site-packages (from aiohttp<4.0.0,>=3.8.3->langchain) (1.4.1)\n",
      "Requirement already satisfied: multidict<7.0,>=4.5 in /Users/lion/Library/Mobile Documents/com~apple~CloudDocs/GitHub/gitco/.venv/lib/python3.12/site-packages (from aiohttp<4.0.0,>=3.8.3->langchain) (6.0.5)\n",
      "Requirement already satisfied: yarl<2.0,>=1.0 in /Users/lion/Library/Mobile Documents/com~apple~CloudDocs/GitHub/gitco/.venv/lib/python3.12/site-packages (from aiohttp<4.0.0,>=3.8.3->langchain) (1.9.4)\n",
      "Collecting jsonpatch<2.0,>=1.33 (from langchain-core<0.3.0,>=0.2.0->langchain)\n",
      "  Using cached jsonpatch-1.33-py2.py3-none-any.whl.metadata (3.0 kB)\n",
      "Collecting packaging<24.0,>=23.2 (from langchain-core<0.3.0,>=0.2.0->langchain)\n",
      "  Using cached packaging-23.2-py3-none-any.whl.metadata (3.2 kB)\n",
      "Collecting orjson<4.0.0,>=3.9.14 (from langsmith<0.2.0,>=0.1.17->langchain)\n",
      "  Using cached orjson-3.10.3-cp312-cp312-macosx_10_15_x86_64.macosx_11_0_arm64.macosx_10_15_universal2.whl.metadata (49 kB)\n",
      "Requirement already satisfied: annotated-types>=0.4.0 in /Users/lion/Library/Mobile Documents/com~apple~CloudDocs/GitHub/gitco/.venv/lib/python3.12/site-packages (from pydantic<3,>=1->langchain) (0.7.0)\n",
      "Requirement already satisfied: pydantic-core==2.18.3 in /Users/lion/Library/Mobile Documents/com~apple~CloudDocs/GitHub/gitco/.venv/lib/python3.12/site-packages (from pydantic<3,>=1->langchain) (2.18.3)\n",
      "Requirement already satisfied: typing-extensions>=4.6.1 in /Users/lion/Library/Mobile Documents/com~apple~CloudDocs/GitHub/gitco/.venv/lib/python3.12/site-packages (from pydantic<3,>=1->langchain) (4.12.0)\n",
      "Requirement already satisfied: charset-normalizer<4,>=2 in /Users/lion/Library/Mobile Documents/com~apple~CloudDocs/GitHub/gitco/.venv/lib/python3.12/site-packages (from requests<3,>=2->langchain) (3.3.2)\n",
      "Requirement already satisfied: idna<4,>=2.5 in /Users/lion/Library/Mobile Documents/com~apple~CloudDocs/GitHub/gitco/.venv/lib/python3.12/site-packages (from requests<3,>=2->langchain) (3.7)\n",
      "Requirement already satisfied: urllib3<3,>=1.21.1 in /Users/lion/Library/Mobile Documents/com~apple~CloudDocs/GitHub/gitco/.venv/lib/python3.12/site-packages (from requests<3,>=2->langchain) (2.2.1)\n",
      "Requirement already satisfied: certifi>=2017.4.17 in /Users/lion/Library/Mobile Documents/com~apple~CloudDocs/GitHub/gitco/.venv/lib/python3.12/site-packages (from requests<3,>=2->langchain) (2024.2.2)\n",
      "Collecting jsonpointer>=1.9 (from jsonpatch<2.0,>=1.33->langchain-core<0.3.0,>=0.2.0->langchain)\n",
      "  Using cached jsonpointer-2.4-py2.py3-none-any.whl.metadata (2.5 kB)\n",
      "Using cached langchain-0.2.1-py3-none-any.whl (973 kB)\n",
      "Using cached langchain_core-0.2.1-py3-none-any.whl (308 kB)\n",
      "Using cached langchain_text_splitters-0.2.0-py3-none-any.whl (23 kB)\n",
      "Using cached langsmith-0.1.63-py3-none-any.whl (122 kB)\n",
      "Using cached jsonpatch-1.33-py2.py3-none-any.whl (12 kB)\n",
      "Using cached orjson-3.10.3-cp312-cp312-macosx_10_15_x86_64.macosx_11_0_arm64.macosx_10_15_universal2.whl (253 kB)\n",
      "Using cached packaging-23.2-py3-none-any.whl (53 kB)\n",
      "Using cached jsonpointer-2.4-py2.py3-none-any.whl (7.8 kB)\n",
      "Installing collected packages: packaging, orjson, jsonpointer, jsonpatch, langsmith, langchain-core, langchain-text-splitters, langchain\n",
      "  Attempting uninstall: packaging\n",
      "    Found existing installation: packaging 24.0\n",
      "    Uninstalling packaging-24.0:\n",
      "      Successfully uninstalled packaging-24.0\n",
      "Successfully installed jsonpatch-1.33 jsonpointer-2.4 langchain-0.2.1 langchain-core-0.2.1 langchain-text-splitters-0.2.0 langsmith-0.1.63 orjson-3.10.3 packaging-23.2\n"
     ]
    },
    {
     "data": {
      "text/plain": [
       "langchain_core.documents.base.Document"
      ]
     },
     "execution_count": 22,
     "metadata": {},
     "output_type": "execute_result"
    }
   ],
   "source": [
    "langchain_doc = a.to_langchain_doc()\n",
    "type(langchain_doc)"
   ]
  },
  {
   "cell_type": "code",
   "execution_count": 23,
   "metadata": {},
   "outputs": [
    {
     "data": {
      "text/plain": [
       "{'lc': 1,\n",
       " 'type': 'constructor',\n",
       " 'id': ['langchain', 'schema', 'document', 'Document'],\n",
       " 'kwargs': {'page_content': '',\n",
       "  'metadata': {'last_updated': {'welcome': '2024-05-28T21:51:05.201652'}},\n",
       "  'type': 'Document'}}"
      ]
     },
     "execution_count": 23,
     "metadata": {},
     "output_type": "execute_result"
    }
   ],
   "source": [
    "langchain_doc.to_json()"
   ]
  },
  {
   "cell_type": "markdown",
   "metadata": {},
   "source": [
    "### from_obj method"
   ]
  },
  {
   "cell_type": "markdown",
   "metadata": {},
   "source": [
    "#### dict, json with fuzzy parse"
   ]
  },
  {
   "cell_type": "code",
   "execution_count": 24,
   "metadata": {},
   "outputs": [
    {
     "data": {
      "text/plain": [
       "{'ln_id': 'b9f3149747ab55cbd2cfdbdc9770434e',\n",
       " 'created': '2024-05-28T21:51:08.689625',\n",
       " 'metadata': {'a': 1, 'b': 2},\n",
       " 'content': None,\n",
       " 'embedding': [],\n",
       " 'lion_class': 'Component'}"
      ]
     },
     "execution_count": 24,
     "metadata": {},
     "output_type": "execute_result"
    }
   ],
   "source": [
    "dict_obj = {\"a\": 1, \"b\": 2}\n",
    "\n",
    "b = Component.from_obj(dict_obj)\n",
    "b.to_dict()"
   ]
  },
  {
   "cell_type": "code",
   "execution_count": 25,
   "metadata": {},
   "outputs": [
    {
     "data": {
      "text/plain": [
       "{'ln_id': 'e27f8fb796cb1136f201d284e7561bb5',\n",
       " 'created': '2024-05-28T21:51:08.693037',\n",
       " 'metadata': {'a': 1, 'b': 2},\n",
       " 'content': None,\n",
       " 'embedding': [],\n",
       " 'lion_class': 'Component'}"
      ]
     },
     "execution_count": 25,
     "metadata": {},
     "output_type": "execute_result"
    }
   ],
   "source": [
    "json_str_obj = '{\"a\": 1, \"b\": 2}'\n",
    "\n",
    "a = Component.from_obj(json_str_obj)\n",
    "a.to_dict()"
   ]
  },
  {
   "cell_type": "code",
   "execution_count": 26,
   "metadata": {},
   "outputs": [
    {
     "data": {
      "text/plain": [
       "{'ln_id': 'd54c779523189433d78a0e4a5566c2c6',\n",
       " 'created': '2024-05-28T21:51:08.696262',\n",
       " 'metadata': {'name': 'John', 'age': 30, 'city': ['New York', 'DC', 'LA']},\n",
       " 'content': None,\n",
       " 'embedding': [],\n",
       " 'lion_class': 'Component'}"
      ]
     },
     "execution_count": 26,
     "metadata": {},
     "output_type": "execute_result"
    }
   ],
   "source": [
    "# the json str also supports fuzzy parse\n",
    "# here is an incorrectly formated json_str for example (missing \"}\")\n",
    "json_str_obj = '{\"name\": \"John\", \"age\": 30, \"city\": [\"New York\", \"DC\", \"LA\"]'\n",
    "\n",
    "a = Component.from_obj(json_str_obj, fuzzy_parse=True)\n",
    "a.to_dict()"
   ]
  },
  {
   "cell_type": "markdown",
   "metadata": {},
   "source": [
    "#### pandas series and dataframe"
   ]
  },
  {
   "cell_type": "code",
   "execution_count": 27,
   "metadata": {},
   "outputs": [
    {
     "data": {
      "text/plain": [
       "{'ln_id': '4b5e516db9e2ec08376305cadb4902e1',\n",
       " 'created': '2024-05-28T21:51:08.700143',\n",
       " 'metadata': {'a': 1, 'b': 2},\n",
       " 'content': None,\n",
       " 'embedding': [],\n",
       " 'lion_class': 'Component'}"
      ]
     },
     "execution_count": 27,
     "metadata": {},
     "output_type": "execute_result"
    }
   ],
   "source": [
    "# you can create a component object from pandas series / dataframe\n",
    "import pandas as pd\n",
    "\n",
    "series_obj = pd.Series({\"a\": 1, \"b\": 2})\n",
    "\n",
    "a = Component.from_obj(series_obj)\n",
    "a.to_dict()"
   ]
  },
  {
   "cell_type": "code",
   "execution_count": 28,
   "metadata": {},
   "outputs": [
    {
     "data": {
      "text/plain": [
       "Index(['a', 'b'], dtype='object')"
      ]
     },
     "execution_count": 28,
     "metadata": {},
     "output_type": "execute_result"
    }
   ],
   "source": [
    "series_obj.index"
   ]
  },
  {
   "cell_type": "code",
   "execution_count": 29,
   "metadata": {},
   "outputs": [
    {
     "data": {
      "text/html": [
       "<div>\n",
       "<style scoped>\n",
       "    .dataframe tbody tr th:only-of-type {\n",
       "        vertical-align: middle;\n",
       "    }\n",
       "\n",
       "    .dataframe tbody tr th {\n",
       "        vertical-align: top;\n",
       "    }\n",
       "\n",
       "    .dataframe thead th {\n",
       "        text-align: right;\n",
       "    }\n",
       "</style>\n",
       "<table border=\"1\" class=\"dataframe\">\n",
       "  <thead>\n",
       "    <tr style=\"text-align: right;\">\n",
       "      <th></th>\n",
       "      <th>a</th>\n",
       "      <th>b</th>\n",
       "    </tr>\n",
       "  </thead>\n",
       "  <tbody>\n",
       "    <tr>\n",
       "      <th>row1</th>\n",
       "      <td>1</td>\n",
       "      <td>3</td>\n",
       "    </tr>\n",
       "    <tr>\n",
       "      <th>row2</th>\n",
       "      <td>2</td>\n",
       "      <td>4</td>\n",
       "    </tr>\n",
       "  </tbody>\n",
       "</table>\n",
       "</div>"
      ],
      "text/plain": [
       "      a  b\n",
       "row1  1  3\n",
       "row2  2  4"
      ]
     },
     "execution_count": 29,
     "metadata": {},
     "output_type": "execute_result"
    }
   ],
   "source": [
    "df = pd.DataFrame({\"a\": [1, 2], \"b\": [3, 4]}, index=[\"row1\", \"row2\"])\n",
    "df"
   ]
  },
  {
   "cell_type": "code",
   "execution_count": 30,
   "metadata": {},
   "outputs": [
    {
     "data": {
      "text/plain": [
       "list"
      ]
     },
     "execution_count": 30,
     "metadata": {},
     "output_type": "execute_result"
    }
   ],
   "source": [
    "# when you create component object from dataframe, the output will be a list of component objects\n",
    "a = Component.from_obj(df)\n",
    "type(a)"
   ]
  },
  {
   "cell_type": "code",
   "execution_count": 31,
   "metadata": {},
   "outputs": [
    {
     "name": "stdout",
     "output_type": "stream",
     "text": [
      "{'ln_id': 'dbd86accae519845484c5310e42d7953', 'created': '2024-05-28T21:51:08.713177', 'metadata': {'a': 1, 'b': 3}, 'content': None, 'embedding': [], 'lion_class': 'Component'}\n",
      "{'ln_id': '519de37cb824824e633a10c089247407', 'created': '2024-05-28T21:51:08.713338', 'metadata': {'a': 2, 'b': 4}, 'content': None, 'embedding': [], 'lion_class': 'Component'}\n"
     ]
    }
   ],
   "source": [
    "# if from df, the index of the row will be saved into the metadata\n",
    "\n",
    "for i in a:\n",
    "    print(i.to_dict())"
   ]
  },
  {
   "cell_type": "markdown",
   "metadata": {},
   "source": [
    "#### LlamaIndex and LangChain"
   ]
  },
  {
   "cell_type": "code",
   "execution_count": 32,
   "metadata": {},
   "outputs": [
    {
     "data": {
      "text/plain": [
       "lionagi.core.collections.abc.component.Component"
      ]
     },
     "execution_count": 32,
     "metadata": {},
     "output_type": "execute_result"
    }
   ],
   "source": [
    "a = Component.from_obj(llama_node)\n",
    "type(a)"
   ]
  },
  {
   "cell_type": "code",
   "execution_count": 33,
   "metadata": {},
   "outputs": [
    {
     "data": {
      "text/plain": [
       "{'ln_id': '3958114f02ff77fafa3066b1d3c6275b',\n",
       " 'created': '2024-05-28T21:51:08.719518',\n",
       " 'metadata': {'last_updated': {'welcome': '2024-05-28T21:51:05.201652'},\n",
       "  'embedding': [],\n",
       "  'excluded_embed_metadata_keys': [],\n",
       "  'excluded_llm_metadata_keys': [],\n",
       "  'start_char_idx': None,\n",
       "  'end_char_idx': None,\n",
       "  'text_template': '{metadata_str}\\n\\n{content}',\n",
       "  'metadata_template': '{key}: {value}',\n",
       "  'metadata_seperator': '\\n',\n",
       "  'llama_index_class': 'TextNode',\n",
       "  'llama_index_id': '5b8d4e50-c3b3-4b28-9673-65a8134d414d',\n",
       "  'llama_index_relationships': {}},\n",
       " 'content': 'None',\n",
       " 'embedding': [],\n",
       " 'lion_class': 'Component'}"
      ]
     },
     "execution_count": 33,
     "metadata": {},
     "output_type": "execute_result"
    }
   ],
   "source": [
    "a.to_dict()"
   ]
  },
  {
   "cell_type": "code",
   "execution_count": 34,
   "metadata": {},
   "outputs": [
    {
     "data": {
      "text/plain": [
       "lionagi.core.collections.abc.component.Component"
      ]
     },
     "execution_count": 34,
     "metadata": {},
     "output_type": "execute_result"
    }
   ],
   "source": [
    "a = Component.from_obj(langchain_doc)\n",
    "type(a)"
   ]
  },
  {
   "cell_type": "code",
   "execution_count": 35,
   "metadata": {},
   "outputs": [
    {
     "data": {
      "text/plain": [
       "{'ln_id': '497bd71614768857207b84622c263f13',\n",
       " 'created': '2024-05-28T21:51:08.725778',\n",
       " 'metadata': {'langchain': 1,\n",
       "  'lc_type': 'constructor',\n",
       "  'lc_id': ['langchain', 'schema', 'document', 'Document']},\n",
       " 'content': '',\n",
       " 'embedding': [],\n",
       " 'lion_class': 'Component'}"
      ]
     },
     "execution_count": 35,
     "metadata": {},
     "output_type": "execute_result"
    }
   ],
   "source": [
    "a.to_dict()"
   ]
  },
  {
   "cell_type": "code",
   "execution_count": 36,
   "metadata": {},
   "outputs": [],
   "source": [
    "a.welcome = \"hi\""
   ]
  },
  {
   "cell_type": "code",
   "execution_count": 37,
   "metadata": {},
   "outputs": [
    {
     "data": {
      "text/plain": [
       "{'ln_id': '497bd71614768857207b84622c263f13',\n",
       " 'created': '2024-05-28T21:51:08.725778',\n",
       " 'metadata': {'langchain': 1,\n",
       "  'lc_type': 'constructor',\n",
       "  'lc_id': ['langchain', 'schema', 'document', 'Document'],\n",
       "  'last_updated': {'welcome': '2024-05-28T21:51:08.732766'}},\n",
       " 'content': '',\n",
       " 'embedding': [],\n",
       " 'welcome': 'hi',\n",
       " 'lion_class': 'Component'}"
      ]
     },
     "execution_count": 37,
     "metadata": {},
     "output_type": "execute_result"
    }
   ],
   "source": [
    "a.to_dict()"
   ]
  },
  {
   "cell_type": "markdown",
   "metadata": {},
   "source": [
    "### MetaData Manipulation"
   ]
  },
  {
   "cell_type": "code",
   "execution_count": 38,
   "metadata": {},
   "outputs": [
    {
     "data": {
      "text/plain": [
       "{'welcome': '2024-05-28T21:51:08.732766'}"
      ]
     },
     "execution_count": 38,
     "metadata": {},
     "output_type": "execute_result"
    }
   ],
   "source": [
    "a.welcome = \"hi\"\n",
    "a.metadata[\"last_updated\"]"
   ]
  },
  {
   "cell_type": "code",
   "execution_count": 39,
   "metadata": {},
   "outputs": [
    {
     "data": {
      "text/plain": [
       "{'welcome': '2024-05-28T21:51:08.732766'}"
      ]
     },
     "execution_count": 39,
     "metadata": {},
     "output_type": "execute_result"
    }
   ],
   "source": [
    "a.welcome = \"hi\"\n",
    "a.metadata[\"last_updated\"]"
   ]
  },
  {
   "cell_type": "code",
   "execution_count": 40,
   "metadata": {},
   "outputs": [
    {
     "data": {
      "text/plain": [
       "{'langchain': 1,\n",
       " 'lc_type': 'constructor',\n",
       " 'lc_id': ['langchain', 'schema', 'document', 'Document'],\n",
       " 'last_updated': {'welcome': '2024-05-28T21:51:08.732766'}}"
      ]
     },
     "execution_count": 40,
     "metadata": {},
     "output_type": "execute_result"
    }
   ],
   "source": [
    "a.metadata"
   ]
  },
  {
   "cell_type": "code",
   "execution_count": 41,
   "metadata": {},
   "outputs": [
    {
     "ename": "AttributeError",
     "evalue": "Cannot directly assign to metadata.",
     "output_type": "error",
     "traceback": [
      "\u001b[0;31m---------------------------------------------------------------------------\u001b[0m",
      "\u001b[0;31mAttributeError\u001b[0m                            Traceback (most recent call last)",
      "Cell \u001b[0;32mIn[41], line 2\u001b[0m\n\u001b[1;32m      1\u001b[0m \u001b[38;5;66;03m# you cannot directly modify the metadata by assigning a new value\u001b[39;00m\n\u001b[0;32m----> 2\u001b[0m \u001b[43ma\u001b[49m\u001b[38;5;241;43m.\u001b[39;49m\u001b[43mmetadata\u001b[49m \u001b[38;5;241m=\u001b[39m {}\n\u001b[1;32m      3\u001b[0m a\u001b[38;5;241m.\u001b[39mmetadata\n",
      "File \u001b[0;32m~/Library/Mobile Documents/com~apple~CloudDocs/GitHub/gitco/.venv/lib/python3.12/site-packages/lionagi/core/collections/abc/component.py:499\u001b[0m, in \u001b[0;36mComponent.__setattr__\u001b[0;34m(self, name, value)\u001b[0m\n\u001b[1;32m    497\u001b[0m \u001b[38;5;28;01mdef\u001b[39;00m \u001b[38;5;21m__setattr__\u001b[39m(\u001b[38;5;28mself\u001b[39m, name, value):\n\u001b[1;32m    498\u001b[0m     \u001b[38;5;28;01mif\u001b[39;00m name \u001b[38;5;241m==\u001b[39m \u001b[38;5;124m\"\u001b[39m\u001b[38;5;124mmetadata\u001b[39m\u001b[38;5;124m\"\u001b[39m:\n\u001b[0;32m--> 499\u001b[0m         \u001b[38;5;28;01mraise\u001b[39;00m \u001b[38;5;167;01mAttributeError\u001b[39;00m(\u001b[38;5;124m\"\u001b[39m\u001b[38;5;124mCannot directly assign to metadata.\u001b[39m\u001b[38;5;124m\"\u001b[39m)\n\u001b[1;32m    500\u001b[0m     \u001b[38;5;28msuper\u001b[39m()\u001b[38;5;241m.\u001b[39m\u001b[38;5;21m__setattr__\u001b[39m(name, value)\n\u001b[1;32m    501\u001b[0m     \u001b[38;5;28mself\u001b[39m\u001b[38;5;241m.\u001b[39m_add_last_update(name)\n",
      "\u001b[0;31mAttributeError\u001b[0m: Cannot directly assign to metadata."
     ]
    }
   ],
   "source": [
    "# you cannot directly modify the metadata by assigning a new value\n",
    "a.metadata = {}\n",
    "a.metadata"
   ]
  },
  {
   "cell_type": "markdown",
   "metadata": {},
   "source": [
    "use the following methods to modify the metadata"
   ]
  },
  {
   "cell_type": "code",
   "execution_count": 43,
   "metadata": {},
   "outputs": [],
   "source": [
    "# however, you can modify the metadata in the following ways\n",
    "a._meta_insert(\"new_key2\", \"new_value2\")"
   ]
  },
  {
   "cell_type": "code",
   "execution_count": 44,
   "metadata": {},
   "outputs": [
    {
     "data": {
      "text/plain": [
       "{'langchain': 1,\n",
       " 'lc_type': 'constructor',\n",
       " 'lc_id': ['langchain', 'schema', 'document', 'Document'],\n",
       " 'last_updated': {'welcome': '2024-05-28T21:51:08.732766'},\n",
       " 'new_key2': 'new_value2'}"
      ]
     },
     "execution_count": 44,
     "metadata": {},
     "output_type": "execute_result"
    }
   ],
   "source": [
    "a.metadata"
   ]
  },
  {
   "cell_type": "code",
   "execution_count": 45,
   "metadata": {},
   "outputs": [],
   "source": [
    "# the meta insert also support nested data structure\n",
    "\n",
    "a._meta_insert([\"nested\", 0], {\"a\": 1, \"b\": 2})"
   ]
  },
  {
   "cell_type": "code",
   "execution_count": 46,
   "metadata": {},
   "outputs": [
    {
     "data": {
      "text/plain": [
       "{'langchain': 1,\n",
       " 'lc_type': 'constructor',\n",
       " 'lc_id': ['langchain', 'schema', 'document', 'Document'],\n",
       " 'last_updated': {'welcome': '2024-05-28T21:51:08.732766'},\n",
       " 'new_key2': 'new_value2',\n",
       " 'nested': [{'a': 1, 'b': 2}]}"
      ]
     },
     "execution_count": 46,
     "metadata": {},
     "output_type": "execute_result"
    }
   ],
   "source": [
    "a.metadata"
   ]
  },
  {
   "cell_type": "code",
   "execution_count": 47,
   "metadata": {},
   "outputs": [
    {
     "data": {
      "text/plain": [
       "1"
      ]
     },
     "execution_count": 47,
     "metadata": {},
     "output_type": "execute_result"
    }
   ],
   "source": [
    "# similarly you can get a deeply nested value from meta data\n",
    "\n",
    "a._meta_get([\"nested\", 0, \"a\"])"
   ]
  },
  {
   "cell_type": "code",
   "execution_count": 48,
   "metadata": {},
   "outputs": [
    {
     "data": {
      "text/plain": [
       "{'langchain': 1,\n",
       " 'lc_type': 'constructor',\n",
       " 'lc_id': ['langchain', 'schema', 'document', 'Document'],\n",
       " 'last_updated': {'welcome': '2024-05-28T21:51:08.732766'},\n",
       " 'new_key2': 'new_value2',\n",
       " 'nested': [{'a': 1, 'b': 2}]}"
      ]
     },
     "execution_count": 48,
     "metadata": {},
     "output_type": "execute_result"
    }
   ],
   "source": [
    "a.metadata"
   ]
  }
 ],
 "metadata": {
  "kernelspec": {
   "display_name": ".venv",
   "language": "python",
   "name": "python3"
  },
  "language_info": {
   "codemirror_mode": {
    "name": "ipython",
    "version": 3
   },
   "file_extension": ".py",
   "mimetype": "text/x-python",
   "name": "python",
   "nbconvert_exporter": "python",
   "pygments_lexer": "ipython3",
   "version": "3.12.1"
  }
 },
 "nbformat": 4,
 "nbformat_minor": 2
}
