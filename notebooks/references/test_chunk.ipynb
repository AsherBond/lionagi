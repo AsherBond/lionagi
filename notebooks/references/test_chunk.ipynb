{
 "cells": [
  {
   "cell_type": "code",
   "execution_count": 1,
   "metadata": {},
   "outputs": [],
   "source": [
    "from lionagi.tools.types import chunk\n",
    "\n",
    "url = \"https://arxiv.org/pdf/2501.18438\"\n",
    "title = \"O3-MINI VS DEEPSEEK-R1: WHICH ONE IS SAFER?\"\n",
    "date = \"2025-01-31\"\n",
    "author = \"Aitor Arrieta\"\n",
    "\n",
    "chunks = chunk(\n",
    "    url,\n",
    "    reader_tool=\"docling\",\n",
    "    metadata={\n",
    "        \"url\": url,\n",
    "        \"title\": title,\n",
    "        \"date\": date,\n",
    "        \"author\": author,\n",
    "    },\n",
    "    chunk_size=2000,\n",
    "    overlap=0.05,\n",
    ")"
   ]
  },
  {
   "cell_type": "code",
   "execution_count": 2,
   "metadata": {},
   "outputs": [
    {
     "data": {
      "text/plain": [
       "30"
      ]
     },
     "execution_count": 2,
     "metadata": {},
     "output_type": "execute_result"
    }
   ],
   "source": [
    "len(chunks)"
   ]
  }
 ],
 "metadata": {
  "kernelspec": {
   "display_name": ".venv",
   "language": "python",
   "name": "python3"
  },
  "language_info": {
   "codemirror_mode": {
    "name": "ipython",
    "version": 3
   },
   "file_extension": ".py",
   "mimetype": "text/x-python",
   "name": "python",
   "nbconvert_exporter": "python",
   "pygments_lexer": "ipython3",
   "version": "3.10.16"
  }
 },
 "nbformat": 4,
 "nbformat_minor": 2
}
