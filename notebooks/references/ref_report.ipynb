{
 "cells": [
  {
   "cell_type": "code",
   "execution_count": 1,
   "metadata": {},
   "outputs": [],
   "source": [
    "import lionagi as li"
   ]
  },
  {
   "cell_type": "code",
   "execution_count": null,
   "metadata": {},
   "outputs": [],
   "source": []
  },
  {
   "cell_type": "code",
   "execution_count": 2,
   "metadata": {},
   "outputs": [],
   "source": [
    "report = li.Report(assignment=\"a, b -> c\")"
   ]
  },
  {
   "cell_type": "code",
   "execution_count": 3,
   "metadata": {},
   "outputs": [
    {
     "data": {
      "text/plain": [
       "['a', 'b']"
      ]
     },
     "execution_count": 3,
     "metadata": {},
     "output_type": "execute_result"
    }
   ],
   "source": [
    "report.input_fields"
   ]
  },
  {
   "cell_type": "code",
   "execution_count": 4,
   "metadata": {},
   "outputs": [
    {
     "data": {
      "text/plain": [
       "['c']"
      ]
     },
     "execution_count": 4,
     "metadata": {},
     "output_type": "execute_result"
    }
   ],
   "source": [
    "report.request_fields"
   ]
  },
  {
   "cell_type": "code",
   "execution_count": 5,
   "metadata": {},
   "outputs": [
    {
     "data": {
      "text/plain": [
       "{'a': None, 'b': None, 'c': None}"
      ]
     },
     "execution_count": 5,
     "metadata": {},
     "output_type": "execute_result"
    }
   ],
   "source": [
    "report.work_fields"
   ]
  },
  {
   "cell_type": "code",
   "execution_count": 6,
   "metadata": {},
   "outputs": [
    {
     "data": {
      "text/plain": [
       "False"
      ]
     },
     "execution_count": 6,
     "metadata": {},
     "output_type": "execute_result"
    }
   ],
   "source": [
    "report.filled"
   ]
  },
  {
   "cell_type": "code",
   "execution_count": 7,
   "metadata": {},
   "outputs": [
    {
     "data": {
      "text/plain": [
       "False"
      ]
     },
     "execution_count": 7,
     "metadata": {},
     "output_type": "execute_result"
    }
   ],
   "source": [
    "report.workable"
   ]
  },
  {
   "cell_type": "code",
   "execution_count": 8,
   "metadata": {},
   "outputs": [],
   "source": [
    "report.fill(a=3, b=4)"
   ]
  },
  {
   "cell_type": "code",
   "execution_count": 9,
   "metadata": {},
   "outputs": [
    {
     "data": {
      "text/plain": [
       "{'a': 3, 'b': 4, 'c': None}"
      ]
     },
     "execution_count": 9,
     "metadata": {},
     "output_type": "execute_result"
    }
   ],
   "source": [
    "report.work_fields"
   ]
  },
  {
   "cell_type": "code",
   "execution_count": 10,
   "metadata": {},
   "outputs": [
    {
     "data": {
      "text/plain": [
       "ln_id                                 fa012eda3d967563e15931ddb09f61b5\n",
       "created                                     2024-05-28T22:22:35.593686\n",
       "metadata             {'last_updated': {'input_fields': '2024-05-28T...\n",
       "content                                                           None\n",
       "embedding                                                           []\n",
       "template_name                                        default_directive\n",
       "assignment                                                   a, b -> c\n",
       "input_fields                                                    [a, b]\n",
       "request_fields                                                   [c]\n",
       "task                                                                  \n",
       "validation_kwargs                                                   {}\n",
       "forms                {'ln_id': '27d08d3122e1db231fb32d9e9f5e044b', ...\n",
       "form_assignments                                           [a, b -> c]\n",
       "form_template                  <class 'lionagi.core.report.form.Form'>\n",
       "a                                                                    3\n",
       "b                                                                    4\n",
       "c                                                                 None\n",
       "lion_class                                                      Report\n",
       "dtype: object"
      ]
     },
     "execution_count": 10,
     "metadata": {},
     "output_type": "execute_result"
    }
   ],
   "source": [
    "report"
   ]
  },
  {
   "cell_type": "code",
   "execution_count": 11,
   "metadata": {},
   "outputs": [
    {
     "data": {
      "text/plain": [
       "True"
      ]
     },
     "execution_count": 11,
     "metadata": {},
     "output_type": "execute_result"
    }
   ],
   "source": [
    "report.workable"
   ]
  },
  {
   "cell_type": "code",
   "execution_count": 12,
   "metadata": {},
   "outputs": [
    {
     "data": {
      "text/plain": [
       "<bound method Report.next_forms of ln_id                                 fa012eda3d967563e15931ddb09f61b5\n",
       "created                                     2024-05-28T22:22:35.593686\n",
       "metadata             {'last_updated': {'input_fields': '2024-05-28T...\n",
       "content                                                           None\n",
       "embedding                                                           []\n",
       "template_name                                        default_directive\n",
       "assignment                                                   a, b -> c\n",
       "input_fields                                                 [a, b, c]\n",
       "request_fields                                                   [c]\n",
       "task                                                                  \n",
       "validation_kwargs                                                   {}\n",
       "forms                {'ln_id': '27d08d3122e1db231fb32d9e9f5e044b', ...\n",
       "form_assignments                                           [a, b -> c]\n",
       "form_template                  <class 'lionagi.core.report.form.Form'>\n",
       "a                                                                    3\n",
       "b                                                                    4\n",
       "c                                                                 None\n",
       "lion_class                                                      Report\n",
       "dtype: object>"
      ]
     },
     "execution_count": 12,
     "metadata": {},
     "output_type": "execute_result"
    }
   ],
   "source": [
    "report.next_forms"
   ]
  },
  {
   "cell_type": "code",
   "execution_count": 13,
   "metadata": {},
   "outputs": [],
   "source": [
    "report.fill(c=4)"
   ]
  },
  {
   "cell_type": "code",
   "execution_count": 14,
   "metadata": {},
   "outputs": [
    {
     "data": {
      "text/plain": [
       "{'a': 3, 'b': 4, 'c': 4}"
      ]
     },
     "execution_count": 14,
     "metadata": {},
     "output_type": "execute_result"
    }
   ],
   "source": [
    "report.work_fields"
   ]
  },
  {
   "cell_type": "code",
   "execution_count": 15,
   "metadata": {},
   "outputs": [
    {
     "data": {
      "text/plain": [
       "False"
      ]
     },
     "execution_count": 15,
     "metadata": {},
     "output_type": "execute_result"
    }
   ],
   "source": [
    "report.workable"
   ]
  },
  {
   "cell_type": "code",
   "execution_count": 16,
   "metadata": {},
   "outputs": [
    {
     "data": {
      "text/plain": [
       "True"
      ]
     },
     "execution_count": 16,
     "metadata": {},
     "output_type": "execute_result"
    }
   ],
   "source": [
    "report.filled"
   ]
  },
  {
   "cell_type": "code",
   "execution_count": 17,
   "metadata": {},
   "outputs": [
    {
     "data": {
      "text/plain": [
       "False"
      ]
     },
     "execution_count": 17,
     "metadata": {},
     "output_type": "execute_result"
    }
   ],
   "source": [
    "report.next_forms is None"
   ]
  },
  {
   "cell_type": "code",
   "execution_count": 18,
   "metadata": {},
   "outputs": [],
   "source": [
    "report = li.Report(\n",
    "    assignment=\"a, b -> h\",\n",
    "    form_assignments=[\"a, b -> c\", \"a -> e\", \"b -> f\", \"c -> g\", \"e, f, g -> h\"],\n",
    "    a=3,\n",
    "    b=4,\n",
    ")"
   ]
  },
  {
   "cell_type": "code",
   "execution_count": 19,
   "metadata": {},
   "outputs": [
    {
     "data": {
      "text/plain": [
       "{'a': None, 'b': None, 'c': None, 'e': None, 'f': None, 'g': None, 'h': None}"
      ]
     },
     "execution_count": 19,
     "metadata": {},
     "output_type": "execute_result"
    }
   ],
   "source": [
    "report.work_fields"
   ]
  },
  {
   "cell_type": "code",
   "execution_count": 20,
   "metadata": {},
   "outputs": [
    {
     "name": "stdout",
     "output_type": "stream",
     "text": [
      "{'a': None, 'b': None, 'c': None}\n",
      "{'a': None, 'e': None}\n",
      "{'b': None, 'f': None}\n",
      "{'c': None, 'g': None}\n",
      "{'e': None, 'f': None, 'g': None, 'h': None}\n"
     ]
    }
   ],
   "source": [
    "for _, k in report.forms.items():\n",
    "    print(k.work_fields)"
   ]
  },
  {
   "cell_type": "code",
   "execution_count": 21,
   "metadata": {},
   "outputs": [
    {
     "data": {
      "text/plain": [
       "                              ln_id                     created  \\\n",
       "0  d850f0adf722e4e57a578298cd7ffa66  2024-05-28T22:22:35.646978   \n",
       "1  b172ecc32e3d1e03a4542ee6c9f55740  2024-05-28T22:22:35.647121   \n",
       "2  5a5f982f0b548f52c34446be9141aaad  2024-05-28T22:22:35.647194   \n",
       "3  c1273518dd74012cf18c2476f1bc101c  2024-05-28T22:22:35.647260   \n",
       "4  d442ae9c64ce56019858c512d7c4ecd5  2024-05-28T22:22:35.647326   \n",
       "\n",
       "                                            metadata content embedding  \\\n",
       "0  {'last_updated': {'input_fields': '2024-05-28T...    None        []   \n",
       "1  {'last_updated': {'input_fields': '2024-05-28T...    None        []   \n",
       "2  {'last_updated': {'input_fields': '2024-05-28T...    None        []   \n",
       "3  {'last_updated': {'input_fields': '2024-05-28T...    None        []   \n",
       "4  {'last_updated': {'input_fields': '2024-05-28T...    None        []   \n",
       "\n",
       "       template_name    assignment input_fields request_fields task  \\\n",
       "0  default_directive     a, b -> c       [a, b]              [c]        \n",
       "1  default_directive        a -> e          [a]              [e]        \n",
       "2  default_directive        b -> f          [b]              [f]        \n",
       "3  default_directive        c -> g          [c]              [g]        \n",
       "4  default_directive  e, f, g -> h    [e, f, g]              [h]        \n",
       "\n",
       "  validation_kwargs   a   b   c lion_class   e   f   g   h  \n",
       "0                {} NaN NaN NaN       Form NaN NaN NaN NaN  \n",
       "1                {} NaN NaN NaN       Form NaN NaN NaN NaN  \n",
       "2                {} NaN NaN NaN       Form NaN NaN NaN NaN  \n",
       "3                {} NaN NaN NaN       Form NaN NaN NaN NaN  \n",
       "4                {} NaN NaN NaN       Form NaN NaN NaN NaN  "
      ]
     },
     "execution_count": 21,
     "metadata": {},
     "output_type": "execute_result"
    }
   ],
   "source": [
    "report.forms"
   ]
  },
  {
   "cell_type": "code",
   "execution_count": 22,
   "metadata": {},
   "outputs": [],
   "source": [
    "new_forms = {i: report.form_template(assignment=i) for i in report.form_assignments}"
   ]
  },
  {
   "cell_type": "code",
   "execution_count": 23,
   "metadata": {},
   "outputs": [
    {
     "data": {
      "text/plain": [
       "{'a, b -> c': ln_id                                 addb240ab3ee1728be26b3461daf92e5\n",
       " created                                     2024-05-28T22:22:35.664814\n",
       " metadata             {'last_updated': {'input_fields': '2024-05-28T...\n",
       " content                                                           None\n",
       " embedding                                                           []\n",
       " template_name                                        default_directive\n",
       " assignment                                                   a, b -> c\n",
       " input_fields                                                    [a, b]\n",
       " request_fields                                                   [c]\n",
       " task                                                                  \n",
       " validation_kwargs                                                   {}\n",
       " a                                                                 None\n",
       " b                                                                 None\n",
       " c                                                                 None\n",
       " lion_class                                                        Form\n",
       " dtype: object,\n",
       " 'a -> e': ln_id                                 f51004b3609ae27dfbf2e80862fcc5f7\n",
       " created                                     2024-05-28T22:22:35.664994\n",
       " metadata             {'last_updated': {'input_fields': '2024-05-28T...\n",
       " content                                                           None\n",
       " embedding                                                           []\n",
       " template_name                                        default_directive\n",
       " assignment                                                      a -> e\n",
       " input_fields                                                       [a]\n",
       " request_fields                                                   [e]\n",
       " task                                                                  \n",
       " validation_kwargs                                                   {}\n",
       " a                                                                 None\n",
       " e                                                                 None\n",
       " lion_class                                                        Form\n",
       " dtype: object,\n",
       " 'b -> f': ln_id                                 7cbf574a2448860dd18d4d4faff8b0e8\n",
       " created                                     2024-05-28T22:22:35.665072\n",
       " metadata             {'last_updated': {'input_fields': '2024-05-28T...\n",
       " content                                                           None\n",
       " embedding                                                           []\n",
       " template_name                                        default_directive\n",
       " assignment                                                      b -> f\n",
       " input_fields                                                       [b]\n",
       " request_fields                                                   [f]\n",
       " task                                                                  \n",
       " validation_kwargs                                                   {}\n",
       " b                                                                 None\n",
       " f                                                                 None\n",
       " lion_class                                                        Form\n",
       " dtype: object,\n",
       " 'c -> g': ln_id                                 a13c1ef6b2a560b423431bbc479b826c\n",
       " created                                     2024-05-28T22:22:35.665142\n",
       " metadata             {'last_updated': {'input_fields': '2024-05-28T...\n",
       " content                                                           None\n",
       " embedding                                                           []\n",
       " template_name                                        default_directive\n",
       " assignment                                                      c -> g\n",
       " input_fields                                                       [c]\n",
       " request_fields                                                   [g]\n",
       " task                                                                  \n",
       " validation_kwargs                                                   {}\n",
       " c                                                                 None\n",
       " g                                                                 None\n",
       " lion_class                                                        Form\n",
       " dtype: object,\n",
       " 'e, f, g -> h': ln_id                                 6ab78facd087cb7da1dd6cfd9ccd89c4\n",
       " created                                     2024-05-28T22:22:35.665210\n",
       " metadata             {'last_updated': {'input_fields': '2024-05-28T...\n",
       " content                                                           None\n",
       " embedding                                                           []\n",
       " template_name                                        default_directive\n",
       " assignment                                                e, f, g -> h\n",
       " input_fields                                                 [e, f, g]\n",
       " request_fields                                                   [h]\n",
       " task                                                                  \n",
       " validation_kwargs                                                   {}\n",
       " e                                                                 None\n",
       " f                                                                 None\n",
       " g                                                                 None\n",
       " h                                                                 None\n",
       " lion_class                                                        Form\n",
       " dtype: object}"
      ]
     },
     "execution_count": 23,
     "metadata": {},
     "output_type": "execute_result"
    }
   ],
   "source": [
    "new_forms"
   ]
  },
  {
   "cell_type": "code",
   "execution_count": 24,
   "metadata": {},
   "outputs": [],
   "source": [
    "for k, v in new_forms.items():\n",
    "    if k not in report.forms:\n",
    "        report.forms[k] = v"
   ]
  },
  {
   "cell_type": "code",
   "execution_count": 25,
   "metadata": {},
   "outputs": [
    {
     "name": "stdout",
     "output_type": "stream",
     "text": [
      "{'a': None, 'b': None, 'c': None}\n",
      "{'a': None, 'e': None}\n",
      "{'b': None, 'f': None}\n",
      "{'c': None, 'g': None}\n",
      "{'e': None, 'f': None, 'g': None, 'h': None}\n",
      "{'a': None, 'b': None, 'c': None}\n",
      "{'a': None, 'e': None}\n",
      "{'b': None, 'f': None}\n",
      "{'c': None, 'g': None}\n",
      "{'e': None, 'f': None, 'g': None, 'h': None}\n"
     ]
    }
   ],
   "source": [
    "for i in report.forms:\n",
    "    print(i.work_fields)"
   ]
  },
  {
   "cell_type": "code",
   "execution_count": 26,
   "metadata": {},
   "outputs": [
    {
     "data": {
      "text/plain": [
       "{'a': None, 'b': None, 'c': None, 'e': None, 'f': None, 'g': None, 'h': None}"
      ]
     },
     "execution_count": 26,
     "metadata": {},
     "output_type": "execute_result"
    }
   ],
   "source": [
    "report.work_fields"
   ]
  },
  {
   "cell_type": "code",
   "execution_count": 27,
   "metadata": {},
   "outputs": [
    {
     "data": {
      "text/plain": [
       "ln_id                                 b7a1512825921a970aee44f8c980b22e\n",
       "created                                     2024-05-28T22:22:35.646831\n",
       "metadata             {'last_updated': {'input_fields': '2024-05-28T...\n",
       "content                                                           None\n",
       "embedding                                                           []\n",
       "template_name                                        default_directive\n",
       "assignment                                                   a, b -> h\n",
       "input_fields                                                    [a, b]\n",
       "request_fields                                                   [h]\n",
       "task                                                                  \n",
       "validation_kwargs                                                   {}\n",
       "forms                {'ln_id': '353c97e8ec5280bf2b5975130c52356d', ...\n",
       "form_assignments     [a, b -> c, a -> e, b -> f, c -> g, e, f, g -> h]\n",
       "form_template                  <class 'lionagi.core.report.form.Form'>\n",
       "a                                                                 None\n",
       "b                                                                 None\n",
       "c                                                                 None\n",
       "e                                                                 None\n",
       "f                                                                 None\n",
       "g                                                                 None\n",
       "h                                                                 None\n",
       "lion_class                                                      Report\n",
       "dtype: object"
      ]
     },
     "execution_count": 27,
     "metadata": {},
     "output_type": "execute_result"
    }
   ],
   "source": [
    "report"
   ]
  },
  {
   "cell_type": "code",
   "execution_count": 28,
   "metadata": {},
   "outputs": [
    {
     "data": {
      "text/plain": [
       "{'ln_id': FieldInfo(annotation=str, required=False, default_factory=create_id, alias_priority=2, validation_alias=AliasChoices(choices=['node_id', 'ID', 'id']), title='ID', description='A 32-char unique hash identifier.', frozen=True),\n",
       " 'timestamp': FieldInfo(annotation=str, required=False, default_factory=<lambda>, alias='created', alias_priority=2, validation_alias=AliasChoices(choices=['created_on', 'creation_date']), title='Creation Timestamp', description='The UTC timestamp of creation', frozen=True),\n",
       " 'metadata': FieldInfo(annotation=dict[str, Any], required=False, default_factory=dict, alias_priority=2, validation_alias=AliasChoices(choices=['meta', 'info']), description='Additional metadata for the component.'),\n",
       " 'extra_fields': FieldInfo(annotation=dict[str, Any], required=False, default_factory=dict, alias_priority=2, validation_alias=AliasChoices(choices=['extra', 'additional_fields', 'schema_extra', 'extra_schema']), description='Additional fields for the component.'),\n",
       " 'content': FieldInfo(annotation=Any, required=False, default=None, alias_priority=2, validation_alias=AliasChoices(choices=['text', 'page_content', 'chunk_content', 'data']), description='The optional content of the node.'),\n",
       " 'embedding': FieldInfo(annotation=list[float], required=False, default=[], description='The optional embedding of the node.'),\n",
       " 'template_name': FieldInfo(annotation=str, required=False, default='default_directive'),\n",
       " 'assignment': FieldInfo(annotation=Union[str, NoneType], required=False, default=None, description='The objective of the form specifying input/output fields.', examples=['input1, input2 -> output']),\n",
       " 'input_fields': FieldInfo(annotation=List[str], required=False, default_factory=list, description='Fields required to carry out the objective of the form.'),\n",
       " 'request_fields': FieldInfo(annotation=List[str], required=False, default_factory=list, description='Fields requested to be filled by the user.'),\n",
       " 'task': FieldInfo(annotation=Any, required=False, default_factory=str, description='The work to be done by the form, including custom instructions.'),\n",
       " 'validation_kwargs': FieldInfo(annotation=Dict[str, Dict[str, Any]], required=False, default_factory=dict, description='Additional validation constraints for the form fields.', examples=[{'field': {'config1': 'a', 'config2': 'b'}}]),\n",
       " 'forms': FieldInfo(annotation=Pile[Form], required=False, default=None, description='A pile of forms related to the report.'),\n",
       " 'form_assignments': FieldInfo(annotation=list, required=False, default=[], description='assignment for the report', examples=[['a, b -> c', 'a -> e', 'b -> f', 'c -> g', 'e, f, g -> h']]),\n",
       " 'form_template': FieldInfo(annotation=Type[Form], required=False, default=<class 'lionagi.core.report.form.Form'>, description='The template for the forms in the report.')}"
      ]
     },
     "execution_count": 28,
     "metadata": {},
     "output_type": "execute_result"
    }
   ],
   "source": [
    "report.model_fields"
   ]
  },
  {
   "cell_type": "code",
   "execution_count": 29,
   "metadata": {},
   "outputs": [
    {
     "data": {
      "text/plain": [
       "False"
      ]
     },
     "execution_count": 29,
     "metadata": {},
     "output_type": "execute_result"
    }
   ],
   "source": [
    "report.workable"
   ]
  },
  {
   "cell_type": "code",
   "execution_count": 30,
   "metadata": {},
   "outputs": [
    {
     "data": {
      "text/plain": [
       "False"
      ]
     },
     "execution_count": 30,
     "metadata": {},
     "output_type": "execute_result"
    }
   ],
   "source": [
    "report.filled"
   ]
  },
  {
   "cell_type": "code",
   "execution_count": 31,
   "metadata": {},
   "outputs": [],
   "source": [
    "report.fill(c=5, e=6, f=7, g=8, h=10)"
   ]
  },
  {
   "cell_type": "code",
   "execution_count": 32,
   "metadata": {},
   "outputs": [
    {
     "data": {
      "text/plain": [
       "False"
      ]
     },
     "execution_count": 32,
     "metadata": {},
     "output_type": "execute_result"
    }
   ],
   "source": [
    "report.filled"
   ]
  },
  {
   "cell_type": "code",
   "execution_count": 33,
   "metadata": {},
   "outputs": [
    {
     "data": {
      "text/plain": [
       "False"
      ]
     },
     "execution_count": 33,
     "metadata": {},
     "output_type": "execute_result"
    }
   ],
   "source": [
    "report.workable"
   ]
  },
  {
   "cell_type": "code",
   "execution_count": 34,
   "metadata": {},
   "outputs": [
    {
     "data": {
      "text/plain": [
       "{'a': None, 'b': None, 'c': 5, 'e': 6, 'f': 7, 'g': 8, 'h': 10}"
      ]
     },
     "execution_count": 34,
     "metadata": {},
     "output_type": "execute_result"
    }
   ],
   "source": [
    "report.work_fields"
   ]
  },
  {
   "cell_type": "code",
   "execution_count": 35,
   "metadata": {},
   "outputs": [
    {
     "name": "stdout",
     "output_type": "stream",
     "text": [
      "Form is filled, cannot be worked on again\n"
     ]
    }
   ],
   "source": [
    "try:\n",
    "    report.fill(c=\"xx\", e=\"yy\")\n",
    "except Exception as e:\n",
    "    print(e)"
   ]
  },
  {
   "cell_type": "code",
   "execution_count": 36,
   "metadata": {},
   "outputs": [
    {
     "data": {
      "text/plain": [
       "{'a': None, 'b': None, 'c': 5, 'e': 6, 'f': 7, 'g': 8, 'h': 10}"
      ]
     },
     "execution_count": 36,
     "metadata": {},
     "output_type": "execute_result"
    }
   ],
   "source": [
    "report.work_fields"
   ]
  }
 ],
 "metadata": {
  "kernelspec": {
   "display_name": ".venv",
   "language": "python",
   "name": "python3"
  },
  "language_info": {
   "codemirror_mode": {
    "name": "ipython",
    "version": 3
   },
   "file_extension": ".py",
   "mimetype": "text/x-python",
   "name": "python",
   "nbconvert_exporter": "python",
   "pygments_lexer": "ipython3",
   "version": "3.12.1"
  }
 },
 "nbformat": 4,
 "nbformat_minor": 2
}
