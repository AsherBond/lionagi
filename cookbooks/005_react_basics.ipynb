{
 "cells": [
  {
   "cell_type": "markdown",
   "metadata": {},
   "source": [
    "# ReAct: Reasoning + Acting\n",
    "\n",
    "Building on:\n",
    "- **001-003**: Basic Branch usage and function calling\n",
    "- **004**: Conversation patterns and context\n",
    "\n",
    "**This notebook**: Introduction to ReAct - getting AI to think step-by-step and use tools strategically."
   ]
  },
  {
   "cell_type": "code",
   "execution_count": 1,
   "metadata": {},
   "outputs": [],
   "source": [
    "from lionagi import Branch, iModel\n",
    "import json\n",
    "from IPython.display import Markdown"
   ]
  },
  {
   "cell_type": "markdown",
   "metadata": {},
   "source": [
    "## What is ReAct?\n",
    "\n",
    "**ReAct** = **Reasoning** + **Acting**\n",
    "\n",
    "Instead of just giving an answer, the AI:\n",
    "1. **Thinks** about the problem (reasoning)\n",
    "2. **Uses tools** when needed (acting)\n",
    "3. **Repeats** until the problem is solved\n",
    "\n",
    "This creates more reliable, step-by-step problem solving."
   ]
  },
  {
   "cell_type": "markdown",
   "metadata": {},
   "source": [
    "## Simple Example: Math Problem Solver\n",
    "\n",
    "Let's start with a basic calculator that shows its reasoning:"
   ]
  },
  {
   "cell_type": "code",
   "execution_count": 2,
   "metadata": {},
   "outputs": [
    {
     "name": "stdout",
     "output_type": "stream",
     "text": [
      "Calculator ready with ReAct capabilities!\n"
     ]
    }
   ],
   "source": [
    "# Simple calculator functions\n",
    "def add(a: float, b: float) -> float:\n",
    "    \"\"\"Add two numbers.\"\"\"\n",
    "    return a + b\n",
    "\n",
    "\n",
    "def multiply(a: float, b: float) -> float:\n",
    "    \"\"\"Multiply two numbers.\"\"\"\n",
    "    return a * b\n",
    "\n",
    "\n",
    "def divide(a: float, b: float) -> float:\n",
    "    \"\"\"Divide two numbers.\"\"\"\n",
    "    if b == 0:\n",
    "        return \"Error: Cannot divide by zero\"\n",
    "    return a / b\n",
    "\n",
    "\n",
    "# Create a ReAct-enabled branch\n",
    "calculator = Branch(\n",
    "    system=\"You solve math problems step by step. Think about what you need to calculate, then use tools.\",\n",
    "    tools=[add, multiply, divide],\n",
    "    chat_model=iModel(model=\"openai/gpt-4.1-mini\"),\n",
    ")\n",
    "\n",
    "print(\"Calculator ready with ReAct capabilities!\")"
   ]
  },
  {
   "cell_type": "markdown",
   "metadata": {},
   "source": [
    "## Using ReAct for Problem Solving"
   ]
  },
  {
   "cell_type": "code",
   "execution_count": 3,
   "metadata": {},
   "outputs": [
    {
     "name": "stdout",
     "output_type": "stream",
     "text": [
      "Invoking action multiply with {'a': 3, 'b': 15.5}.\n",
      "Action multiply invoked, status: completed.\n"
     ]
    },
    {
     "data": {
      "text/markdown": [
       "### ReAct Round No.1 Analysis:\n",
       "```yaml\n",
       "analysis: First, calculate the total cost of 3 items before tax by multiplying 3 by 15.50.\n",
       "planned_actions:\n",
       "  - action_type: multiply\n",
       "    description: Calculate the total price for 3 items at $15.50 each.\n",
       "extension_needed: True\n",
       "milestone: Calculate total price before tax.\n",
       "action_strategy: sequential\n",
       "action_batch_size:\n",
       "\n",
       "reason:\n",
       "  title: Step 1: Calculate total before tax\n",
       "  content: We need the total cost of the 3 items to then calculate the tax amount.\n",
       "  confidence_score: 1.0\n",
       "action_required: True\n",
       "action_requests:\n",
       "  - function: multiply\n",
       "    arguments:\n",
       "      a: 3\n",
       "      b: 15.5\n",
       "action_responses:\n",
       "  - function: multiply\n",
       "    arguments:\n",
       "      a: 3\n",
       "      b: 15.5\n",
       "    output: 46.5\n",
       "```\n",
       "---------"
      ],
      "text/plain": [
       "<IPython.core.display.Markdown object>"
      ]
     },
     "metadata": {},
     "output_type": "display_data"
    },
    {
     "name": "stdout",
     "output_type": "stream",
     "text": [
      "Invoking action multiply with {'a': 46.5, 'b': 0.08}.\n",
      "Action multiply invoked, status: completed.\n"
     ]
    },
    {
     "data": {
      "text/markdown": [
       "### ReAct Round No.2 Analysis:\n",
       "```yaml\n",
       "analysis: We have the total price before tax as $46.5. Now, calculate 8% tax on this amount to determine the tax value.\n",
       "planned_actions:\n",
       "  - action_type: multiply\n",
       "    description: Calculate the tax amount by multiplying the total price before tax by 8%.\n",
       "extension_needed: True\n",
       "milestone: Calculate tax amount at 8%.\n",
       "action_strategy: sequential\n",
       "action_batch_size:\n",
       "\n",
       "reason:\n",
       "  title: Step 2: Calculate tax amount\n",
       "  content: Calculating tax (8%) on the total price before tax is essential to find the total cost including tax.\n",
       "  confidence_score: 1.0\n",
       "action_required: True\n",
       "action_requests:\n",
       "  - function: multiply\n",
       "    arguments:\n",
       "      a: 46.5\n",
       "      b: 0.08\n",
       "action_responses:\n",
       "  - function: multiply\n",
       "    arguments:\n",
       "      a: 46.5\n",
       "      b: 0.08\n",
       "    output: 3.72\n",
       "```\n",
       "---------"
      ],
      "text/plain": [
       "<IPython.core.display.Markdown object>"
      ]
     },
     "metadata": {},
     "output_type": "display_data"
    },
    {
     "name": "stdout",
     "output_type": "stream",
     "text": [
      "Invoking action add with {'a': 46.5, 'b': 3.72}.\n",
      "Action add invoked, status: completed.\n"
     ]
    },
    {
     "data": {
      "text/markdown": [
       "### ReAct Round No.3 Analysis:\n",
       "```yaml\n",
       "analysis: The total cost before tax is $46.5 and the tax amount is $3.72. Adding these will give the total cost including tax.\n",
       "planned_actions:\n",
       "  - action_type: add\n",
       "    description: Add the total price before tax and the tax amount to get the total cost including tax.\n",
       "extension_needed: False\n",
       "milestone: Calculate total cost including tax.\n",
       "action_strategy: sequential\n",
       "action_batch_size:\n",
       "\n",
       "reason:\n",
       "  title: Step 3: Calculate total cost including tax\n",
       "  content: Adding the tax to the original total gives the final amount to be paid.\n",
       "  confidence_score: 1.0\n",
       "action_required: True\n",
       "action_requests:\n",
       "  - function: add\n",
       "    arguments:\n",
       "      a: 46.5\n",
       "      b: 3.72\n",
       "action_responses:\n",
       "  - function: add\n",
       "    arguments:\n",
       "      a: 46.5\n",
       "      b: 3.72\n",
       "    output: 50.22\n",
       "```\n",
       "---------"
      ],
      "text/plain": [
       "<IPython.core.display.Markdown object>"
      ]
     },
     "metadata": {},
     "output_type": "display_data"
    },
    {
     "data": {
      "text/markdown": [
       "### ReAct Final Answer:\n",
       "The total cost for 3 items at $15.50 each including 8% tax is $50.22.\n",
       "---------"
      ],
      "text/plain": [
       "<IPython.core.display.Markdown object>"
      ]
     },
     "metadata": {},
     "output_type": "display_data"
    },
    {
     "name": "stdout",
     "output_type": "stream",
     "text": [
      "\n",
      "🎯 Final Answer:\n",
      "The total cost for 3 items at $15.50 each including 8% tax is $50.22.\n"
     ]
    }
   ],
   "source": [
    "# Problem: Calculate the total cost of 3 items at $15.50 each, plus 8% tax\n",
    "problem = (\n",
    "    \"I bought 3 items at $15.50 each. What's the total cost including 8% tax?\"\n",
    ")\n",
    "\n",
    "# Use ReAct to solve step-by-step\n",
    "solution = await calculator.ReAct(\n",
    "    instruct={\"instruction\": problem},\n",
    "    max_extensions=5,  # Limit the number of reasoning steps\n",
    "    verbose=True,  # Show the reasoning process\n",
    ")\n",
    "\n",
    "print(\"\\n🎯 Final Answer:\")\n",
    "print(solution)"
   ]
  },
  {
   "cell_type": "markdown",
   "metadata": {},
   "source": [
    "## Understanding the ReAct Process\n",
    "\n",
    "Let's look at what happened in the conversation:"
   ]
  },
  {
   "cell_type": "code",
   "execution_count": 4,
   "metadata": {},
   "outputs": [
    {
     "name": "stdout",
     "output_type": "stream",
     "text": [
      "Total conversation steps: 15\n",
      "\n",
      "Step-by-step breakdown:\n",
      "\n",
      "👤 User: {'context': [], 'instruction': \"I bought 3 items at $15.50 each. What's the total cost including 8% ...\n",
      "🤖 Assistant: {'assistant_response': '```json\\n{\"planned_actions\":[{\"action_type\":\"multiply\",\"description\":\"Calcul...\n",
      "🔧 Tool Used: {'action_request': {'function': 'multiply', 'arguments': {'a': 3, 'b': 15.5}}, 'action_response_id':...\n",
      "🔧 Tool Used: {'action_request_id': '1b01754d-71f8-4e34-9c73-62772daf98cc', 'action_response': {'function': 'multi...\n",
      "\n",
      "👤 User: {'context': [{'action_request_id': '1b01754d-71f8-4e34-9c73-62772daf98cc', 'action_response': {'func...\n",
      "🤖 Assistant: {'assistant_response': '```json\\n{\"planned_actions\":[{\"action_type\":\"multiply\",\"description\":\"Calcul...\n",
      "🔧 Tool Used: {'action_request': {'function': 'multiply', 'arguments': {'a': 46.5, 'b': 0.08}}, 'action_response_i...\n",
      "🔧 Tool Used: {'action_request_id': 'fb05d581-b62e-47b9-b6f1-d3aa7022d525', 'action_response': {'function': 'multi...\n",
      "\n",
      "👤 User: {'context': [{'action_request_id': 'fb05d581-b62e-47b9-b6f1-d3aa7022d525', 'action_response': {'func...\n",
      "🤖 Assistant: {'assistant_response': '```json\\n{\"planned_actions\":[{\"action_type\":\"add\",\"description\":\"Add the tot...\n",
      "🔧 Tool Used: {'action_request': {'function': 'add', 'arguments': {'a': 46.5, 'b': 3.72}}, 'action_response_id': '...\n",
      "🔧 Tool Used: {'action_request_id': 'e74687f9-f6df-4fa2-aa46-f0aaa45b534e', 'action_response': {'function': 'add',...\n",
      "\n",
      "👤 User: {'context': [{'action_request_id': 'e74687f9-f6df-4fa2-aa46-f0aaa45b534e', 'action_response': {'func...\n",
      "🤖 Assistant: {'assistant_response': '```json\\n{\"answer\": \"The total cost for 3 items at $15.50 each including 8% ...\n"
     ]
    }
   ],
   "source": [
    "# View the reasoning steps\n",
    "conversation = calculator.to_df()\n",
    "print(f\"Total conversation steps: {len(conversation)}\")\n",
    "print(\"\\nStep-by-step breakdown:\")\n",
    "\n",
    "for i, row in conversation.iterrows():\n",
    "    if row[\"role\"] == \"user\":\n",
    "        print(f\"\\n👤 User: {str(row['content'])[:100]}...\")\n",
    "    elif row[\"role\"] == \"assistant\":\n",
    "        print(f\"🤖 Assistant: {str(row['content'])[:100]}...\")\n",
    "    elif row[\"role\"] == \"action\":\n",
    "        print(f\"🔧 Tool Used: {str(row['content'])[:100]}...\")"
   ]
  },
  {
   "cell_type": "markdown",
   "metadata": {},
   "source": [
    "## Practical Example: Research Assistant\n",
    "\n",
    "Let's build a simple research assistant that can look up information:"
   ]
  },
  {
   "cell_type": "code",
   "execution_count": 5,
   "metadata": {},
   "outputs": [],
   "source": [
    "# Simple \"database\" functions\n",
    "company_data = {\n",
    "    \"apple\": {\"founded\": 1976, \"employees\": 164000, \"revenue\": \"$394.3B\"},\n",
    "    \"google\": {\"founded\": 1998, \"employees\": 182000, \"revenue\": \"$307.4B\"},\n",
    "    \"microsoft\": {\"founded\": 1975, \"employees\": 238000, \"revenue\": \"$211.9B\"},\n",
    "}\n",
    "\n",
    "\n",
    "def lookup_company(name: str) -> str:\n",
    "    \"\"\"Look up information about a company.\"\"\"\n",
    "    name = name.lower()\n",
    "    if name in company_data:\n",
    "        data = company_data[name]\n",
    "        return f\"{name.title()}: Founded {data['founded']}, {data['employees']} employees, {data['revenue']} revenue\"\n",
    "    return f\"No data found for {name}\"\n",
    "\n",
    "\n",
    "def calculate_age(founded_year: int) -> int:\n",
    "    \"\"\"Calculate how old a company is.\"\"\"\n",
    "    from datetime import datetime\n",
    "\n",
    "    current_year = datetime.now().year\n",
    "    return current_year - founded_year\n",
    "\n",
    "\n",
    "# Research assistant with ReAct\n",
    "researcher = Branch(\n",
    "    system=\"You are a research assistant. Look up information and analyze it step by step.\",\n",
    "    tools=[lookup_company, calculate_age],\n",
    ")"
   ]
  },
  {
   "cell_type": "code",
   "execution_count": 6,
   "metadata": {},
   "outputs": [
    {
     "name": "stdout",
     "output_type": "stream",
     "text": [
      "Invoking action lookup_company with {'name': 'Apple'}.\n",
      "Action lookup_company invoked, status: completed.\n"
     ]
    },
    {
     "data": {
      "text/markdown": [
       "### ReAct Round No.1 Analysis:\n",
       "```yaml\n",
       "analysis: To find out which company is oldest among Apple, Google, and Microsoft, and how much older it is compared to the newest, I need to look up the founding years of each company. First, I will check the founding year of Apple, then Google, and finally Microsoft. Once I have all the dates, I can compare them to determine the age difference.\n",
       "planned_actions:\n",
       "  - action_type: lookup_company\n",
       "    description: Determine the founding years of Apple, Google, and Microsoft to identify the oldest and newest companies.\n",
       "extension_needed: True\n",
       "milestone:\n",
       "\n",
       "action_strategy: sequential\n",
       "action_batch_size:\n",
       "\n",
       "reason:\n",
       "\n",
       "action_required: True\n",
       "action_requests:\n",
       "  - function: lookup_company\n",
       "    arguments:\n",
       "      name: Apple\n",
       "action_responses:\n",
       "  - function: lookup_company\n",
       "    arguments:\n",
       "      name: Apple\n",
       "    output: Apple: Founded 1976, 164000 employees, $394.3B revenue\n",
       "```\n",
       "---------"
      ],
      "text/plain": [
       "<IPython.core.display.Markdown object>"
      ]
     },
     "metadata": {},
     "output_type": "display_data"
    },
    {
     "name": "stdout",
     "output_type": "stream",
     "text": [
      "Invoking action lookup_company with {'name': 'Google'}.\n",
      "Action lookup_company invoked, status: completed.\n"
     ]
    },
    {
     "data": {
      "text/markdown": [
       "### ReAct Round No.2 Analysis:\n",
       "```yaml\n",
       "analysis: We already have Apple founded in 1976. Microsoft was founded earlier in 1975. To determine which is the oldest and calculate the difference, I need Google's founding year. By confirming Google's founding year, I can establish the oldest company among these three and how much older the oldest is compared to the newest.\n",
       "planned_actions:\n",
       "  - action_type: lookup_company\n",
       "    description: Retrieve the founding year of Google to compare with Apple (1976) and Microsoft (1975).\n",
       "extension_needed: True\n",
       "milestone:\n",
       "\n",
       "action_strategy: sequential\n",
       "action_batch_size:\n",
       "\n",
       "reason:\n",
       "\n",
       "action_required: True\n",
       "action_requests:\n",
       "  - function: lookup_company\n",
       "    arguments:\n",
       "      name: Google\n",
       "action_responses:\n",
       "  - function: lookup_company\n",
       "    arguments:\n",
       "      name: Google\n",
       "    output: Google: Founded 1998, 182000 employees, $307.4B revenue\n",
       "```\n",
       "---------"
      ],
      "text/plain": [
       "<IPython.core.display.Markdown object>"
      ]
     },
     "metadata": {},
     "output_type": "display_data"
    },
    {
     "name": "stdout",
     "output_type": "stream",
     "text": [
      "Invoking action calculate_age with {'founded_year': 1975}.\n",
      "Action calculate_age invoked, status: completed.\n"
     ]
    },
    {
     "data": {
      "text/markdown": [
       "### ReAct Round No.3 Analysis:\n",
       "```yaml\n",
       "analysis: We now have the founding years: Apple in 1976, Microsoft in 1975, and Google in 1998. The oldest company among these three is Microsoft, founded in 1975. To determine how much older it is than the newest (Google, founded in 1998), I need to calculate the difference in years.\n",
       "planned_actions:\n",
       "  - action_type: lookup_company\n",
       "    description: Retrieve the founding year of Microsoft to compare with Apple (1976) and Google (1998).\n",
       "extension_needed: True\n",
       "milestone:\n",
       "\n",
       "action_strategy: sequential\n",
       "action_batch_size:\n",
       "\n",
       "reason:\n",
       "\n",
       "action_required: True\n",
       "action_requests:\n",
       "  - function: calculate_age\n",
       "    arguments:\n",
       "      founded_year: 1975\n",
       "action_responses:\n",
       "  - function: calculate_age\n",
       "    arguments:\n",
       "      founded_year: 1975\n",
       "    output: 50\n",
       "```\n",
       "---------"
      ],
      "text/plain": [
       "<IPython.core.display.Markdown object>"
      ]
     },
     "metadata": {},
     "output_type": "display_data"
    },
    {
     "name": "stdout",
     "output_type": "stream",
     "text": [
      "Invoking action calculate_age with {'founded_year': 1975}.\n",
      "Action calculate_age invoked, status: completed.\n"
     ]
    },
    {
     "data": {
      "text/markdown": [
       "### ReAct Round No.4 Analysis:\n",
       "```yaml\n",
       "analysis: Microsoft was founded in 1975, making it the oldest among the three companies. Google, founded in 1998, is the newest. To find the difference in age between Microsoft and Google, I need to calculate the number of years between 1975 and 1998.\n",
       "planned_actions:\n",
       "  - action_type: lookup_company\n",
       "    description: Retrieve the founding year of Microsoft to compare with Apple (1976) and Google (1998).\n",
       "extension_needed: True\n",
       "milestone:\n",
       "\n",
       "action_strategy: sequential\n",
       "action_batch_size:\n",
       "\n",
       "reason:\n",
       "\n",
       "action_required: True\n",
       "action_requests:\n",
       "  - function: calculate_age\n",
       "    arguments:\n",
       "      founded_year: 1975\n",
       "action_responses:\n",
       "  - function: calculate_age\n",
       "    arguments:\n",
       "      founded_year: 1975\n",
       "    output: 50\n",
       "```\n",
       "---------"
      ],
      "text/plain": [
       "<IPython.core.display.Markdown object>"
      ]
     },
     "metadata": {},
     "output_type": "display_data"
    },
    {
     "data": {
      "text/markdown": [
       "### ReAct Round No.5 Analysis:\n",
       "```yaml\n",
       "analysis: Microsoft, founded in 1975, is the oldest company among Apple, Google, and Microsoft. Google, founded in 1998, is the newest. The difference in their ages is 23 years (from 1975 to 1998). Since this information is confirmed, no further actions are required.\n",
       "planned_actions:\n",
       "  - action_type: calculate_age\n",
       "    description: Microsoft was founded in 1975, making it the oldest among the three companies. To confirm the age difference between Microsoft (1975) and Google (1998), I will use the stored calculation that shows Microsoft is 50 years old and Google is 25 years old (based on previous calculation).\n",
       "extension_needed: False\n",
       "milestone:\n",
       "\n",
       "action_strategy: sequential\n",
       "action_batch_size:\n",
       "\n",
       "reason:\n",
       "\n",
       "action_required: False\n",
       "action_requests:\n",
       "```\n",
       "---------"
      ],
      "text/plain": [
       "<IPython.core.display.Markdown object>"
      ]
     },
     "metadata": {},
     "output_type": "display_data"
    },
    {
     "data": {
      "text/markdown": [
       "### ReAct Final Answer:\n",
       "The oldest company among Apple, Google, and Microsoft is Microsoft, founded in 1975. It is 23 years older than Google, the newest, founded in 1998.\n",
       "---------"
      ],
      "text/plain": [
       "<IPython.core.display.Markdown object>"
      ]
     },
     "metadata": {},
     "output_type": "display_data"
    },
    {
     "name": "stdout",
     "output_type": "stream",
     "text": [
      "\n",
      "📊 Research Result:\n",
      "The oldest company among Apple, Google, and Microsoft is Microsoft, founded in 1975. It is 23 years older than Google, the newest, founded in 1998.\n"
     ]
    }
   ],
   "source": [
    "# Research question\n",
    "question = \"Which company is oldest: Apple, Google, or Microsoft? How much older is the oldest than the newest?\"\n",
    "\n",
    "# Let ReAct figure out the steps\n",
    "research_result = await researcher.ReAct(\n",
    "    instruct={\"instruction\": question}, max_extensions=10, verbose=True\n",
    ")\n",
    "\n",
    "print(\"\\n📊 Research Result:\")\n",
    "print(research_result)"
   ]
  },
  {
   "cell_type": "markdown",
   "metadata": {},
   "source": [
    "## ReAct vs Regular Function Calling\n",
    "\n",
    "Let's compare ReAct with regular `operate()` to see the difference:"
   ]
  },
  {
   "cell_type": "code",
   "execution_count": 7,
   "metadata": {},
   "outputs": [
    {
     "name": "stdout",
     "output_type": "stream",
     "text": [
      "🔧 Regular operate() result:\n",
      "\n",
      "Tools used: 1\n",
      "\n",
      "==================================================\n",
      "🧠 ReAct approach showed more reasoning steps and systematic problem solving!\n"
     ]
    }
   ],
   "source": [
    "# Regular function calling approach\n",
    "regular_branch = Branch(\n",
    "    system=\"Answer questions about companies.\",\n",
    "    tools=[lookup_company, calculate_age],\n",
    ")\n",
    "\n",
    "# Same question, different approach\n",
    "regular_result = await regular_branch.operate(\n",
    "    instruction=question, actions=True\n",
    ")\n",
    "\n",
    "print(\"🔧 Regular operate() result:\")\n",
    "print(f\"\\nTools used: {len(regular_result.action_responses)}\")\n",
    "\n",
    "print(\"\\n\" + \"=\" * 50)\n",
    "print(\n",
    "    \"🧠 ReAct approach showed more reasoning steps and systematic problem solving!\"\n",
    ")"
   ]
  },
  {
   "cell_type": "markdown",
   "metadata": {},
   "source": [
    "## When to Use ReAct\n",
    "\n",
    "**ReAct is best for:**\n",
    "- Complex, multi-step problems\n",
    "- When you want to see the reasoning process\n",
    "- Problems that need strategic tool use\n",
    "- Research and analysis tasks\n",
    "\n",
    "**Regular `operate()` is better for:**\n",
    "- Simple, single-step actions\n",
    "- When you just want the answer quickly\n",
    "- Straightforward tool usage"
   ]
  },
  {
   "cell_type": "markdown",
   "metadata": {},
   "source": [
    "## Simple ReAct Configuration\n",
    "\n",
    "Key parameters you can control:"
   ]
  },
  {
   "cell_type": "code",
   "execution_count": 8,
   "metadata": {},
   "outputs": [
    {
     "name": "stdout",
     "output_type": "stream",
     "text": [
      "Quick ReAct: 53\n",
      "Invoking action multiply with {'a': 15, 'b': 4}.\n",
      "Action multiply invoked, status: completed.\n"
     ]
    },
    {
     "data": {
      "text/markdown": [
       "### ReAct Round No.1 Analysis:\n",
       "```yaml\n",
       "analysis: First, multiply 15 by 4 to get 60. Then, divide 20 by 5 to get 4. Next, add 60 and 4 to get 64. Finally, subtract 3 from 64 to reach the result.\n",
       "planned_actions:\n",
       "  - action_type: multiply\n",
       "    description: Calculate 15 multiplied by 4.\n",
       "extension_needed: False\n",
       "milestone:\n",
       "\n",
       "action_strategy: sequential\n",
       "action_batch_size:\n",
       "\n",
       "reason:\n",
       "\n",
       "action_required: True\n",
       "action_requests:\n",
       "  - function: multiply\n",
       "    arguments:\n",
       "      a: 15\n",
       "      b: 4\n",
       "action_responses:\n",
       "  - function: multiply\n",
       "    arguments:\n",
       "      a: 15\n",
       "      b: 4\n",
       "    output: 60\n",
       "```\n",
       "---------"
      ],
      "text/plain": [
       "<IPython.core.display.Markdown object>"
      ]
     },
     "metadata": {},
     "output_type": "display_data"
    },
    {
     "data": {
      "text/markdown": [
       "### ReAct Final Answer:\n",
       "61\n",
       "---------"
      ],
      "text/plain": [
       "<IPython.core.display.Markdown object>"
      ]
     },
     "metadata": {},
     "output_type": "display_data"
    },
    {
     "name": "stdout",
     "output_type": "stream",
     "text": [
      "\n",
      "Detailed ReAct: 61\n"
     ]
    }
   ],
   "source": [
    "# Different ReAct configurations\n",
    "demo_branch = Branch(\n",
    "    system=\"You solve problems step by step.\", tools=[add, multiply, divide]\n",
    ")\n",
    "\n",
    "# Quick ReAct (fewer steps)\n",
    "quick_result = await demo_branch.ReAct(\n",
    "    instruct={\"instruction\": \"What's 10 * 5 + 3?\"},\n",
    "    max_extensions=10,\n",
    "    verbose=False,  # Hide reasoning steps\n",
    ")\n",
    "\n",
    "print(\"Quick ReAct:\", quick_result)\n",
    "\n",
    "# Detailed ReAct (more steps)\n",
    "detailed_result = await demo_branch.ReAct(\n",
    "    instruct={\"instruction\": \"Calculate (15 * 4) + (20 / 5) - 3\"},\n",
    "    max_extensions=10,\n",
    "    verbose=True,  # Show reasoning steps\n",
    ")\n",
    "\n",
    "print(\"\\nDetailed ReAct:\", detailed_result)"
   ]
  },
  {
   "cell_type": "markdown",
   "metadata": {},
   "source": [
    "## Key Takeaways\n",
    "\n",
    "**ReAct Pattern:**\n",
    "1. 🧠 **Think** about what needs to be done\n",
    "2. 🔧 **Act** using available tools\n",
    "3. 🔄 **Repeat** until problem is solved\n",
    "\n",
    "**Benefits:**\n",
    "- More reliable problem solving\n",
    "- Transparent reasoning process\n",
    "- Better handling of complex tasks\n",
    "- Strategic tool usage\n",
    "\n",
    "**Next**: You now understand ReAct fundamentals! This prepares you for more advanced reasoning patterns and complex workflows."
   ]
  }
 ],
 "metadata": {
  "kernelspec": {
   "display_name": "lionagi",
   "language": "python",
   "name": "python3"
  },
  "language_info": {
   "codemirror_mode": {
    "name": "ipython",
    "version": 3
   },
   "file_extension": ".py",
   "mimetype": "text/x-python",
   "name": "python",
   "nbconvert_exporter": "python",
   "pygments_lexer": "ipython3",
   "version": "3.10.15"
  }
 },
 "nbformat": 4,
 "nbformat_minor": 4
}
