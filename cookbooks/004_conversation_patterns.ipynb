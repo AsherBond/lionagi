{
 "cells": [
  {
   "cell_type": "markdown",
   "metadata": {},
   "source": [
    "# Conversation Patterns & Context\n",
    "\n",
    "Building on:\n",
    "- **001**: `chat()` vs `communicate()`\n",
    "- **002**: Multi-agent collaboration \n",
    "- **003**: `operate()` with function calling\n",
    "\n",
    "**This notebook**: Practical conversation patterns and context management."
   ]
  },
  {
   "cell_type": "code",
   "execution_count": 1,
   "metadata": {},
   "outputs": [],
   "source": [
    "from lionagi import Branch, iModel"
   ]
  },
  {
   "cell_type": "markdown",
   "metadata": {},
   "source": [
    "## Pattern 1: Customer Service with Context\n",
    "\n",
    "Using `communicate()` to maintain conversation state:"
   ]
  },
  {
   "cell_type": "code",
   "execution_count": 2,
   "metadata": {},
   "outputs": [],
   "source": [
    "# Simple password reset function\n",
    "def reset_password(user_id: str) -> str:\n",
    "    \"\"\"Reset user password and return new temporary password.\"\"\"\n",
    "    return f\"Password reset for {user_id}. Temporary password: temp123\"\n",
    "\n",
    "\n",
    "# Customer service agent\n",
    "agent = Branch(\n",
    "    system=\"You are a helpful customer service agent. Be concise and friendly.\",\n",
    "    tools=[reset_password],\n",
    "    chat_model=iModel(model=\"openai/gpt-4.1-mini\"),\n",
    ")"
   ]
  },
  {
   "cell_type": "code",
   "execution_count": 3,
   "metadata": {},
   "outputs": [
    {
     "name": "stdout",
     "output_type": "stream",
     "text": [
      "Agent: Hi Alice! Sorry to hear you're having trouble logging in. Could you please let me know if you're seeing any error messages? Meanwhile, you might try resetting your password using the \"Forgot Password\" link. Let me know if you need further help!\n",
      "\n",
      "Agent: Hi Alice! I’ve sent a password reset link to your registered email. Please check your inbox and follow the instructions. Let me know if you don’t receive it!\n"
     ]
    }
   ],
   "source": [
    "# Multi-turn conversation with context\n",
    "user_id = \"alice123\"\n",
    "\n",
    "# First message\n",
    "response1 = await agent.communicate(\n",
    "    \"Hi, I can't log into my account\", context={\"user_id\": user_id}\n",
    ")\n",
    "print(\"Agent:\", response1)\n",
    "\n",
    "# Follow-up (context is maintained)\n",
    "response2 = await agent.communicate(\"I think I need a password reset\")\n",
    "print(\"\\nAgent:\", response2)\n",
    "\n",
    "# Check if any tools were used\n",
    "if hasattr(agent, \"last_response\") and agent.last_response:\n",
    "    print(\n",
    "        f\"\\nTools used: {len([msg for msg in agent.messages if msg.role == 'action'])}\"\n",
    "    )"
   ]
  },
  {
   "cell_type": "markdown",
   "metadata": {},
   "source": [
    "## Pattern 2: Conversation with Memory\n",
    "\n",
    "Building context across multiple exchanges:"
   ]
  },
  {
   "cell_type": "code",
   "execution_count": 4,
   "metadata": {},
   "outputs": [
    {
     "name": "stdout",
     "output_type": "stream",
     "text": [
      "Assistant: Thank you for sharing your preferences! Based on your love for blue colors and minimalist design, I recommend exploring the following options:\n",
      "\n",
      "1. **Blue Minimalist Smartphone Case** – Sleek, solid blue, and simple in design, perfect for a modern look.\n",
      "2. **Minimalist Blue Watch** – A clean, uncluttered face with a simple blue strap for everyday elegance.\n",
      "3. **Blue Ceramic Vase** – Elegant, with smooth lines and a minimalist aesthetic that complements any space.\n",
      "4. **Blue Leather Wallet** – Streamlined design with a vibrant blue hue, ideal for a minimalist style.\n",
      "5. **Blue Abstract Art Print** – Simple yet striking artwork featuring shades of blue, perfect for minimalist decor.\n",
      "\n",
      "Would you like me to find specific brands or shops for any of these items?\n",
      "\n",
      "Assistant: Great! With a budget of $100-200, you can find high-quality minimalist blue items within your price range. Here are some tailored recommendations:\n",
      "\n",
      "1. **Blue Minimalist Smartwatch** – Brands like Garmin or Withings offer stylish, simple designs around $150-$200.\n",
      "2. **Minimalist Blue Leather Wallet** – Premium options from brands like Bellroy or Fossil typically fall between $100-$180.\n",
      "3. **Blue Ceramic Vase** – Elegant pieces from design brands or home decor stores often range from $80 to $200.\n",
      "4. **Blue Minimalist Art Print** – High-quality prints or framed artworks from online art stores are usually between $50 and $150.\n",
      "5. **Blue Minimalist Bluetooth Speaker** – Compact and sleek designs from brands like Bose or Sonos can be found around $150-$200.\n",
      "\n",
      "Would you like specific store recommendations or more options in a particular product category?\n",
      "\n",
      "Recommendation: **Response**:\n",
      "Considering your preferences for minimalism and possibly a sleek, stylish design, here are some laptop options that combine modern aesthetics with performance, all within a budget-friendly range:\n",
      "\n",
      "1. **Apple MacBook Air (M2)** – Slim, minimalistic design with a vibrant display and excellent performance, typically around $999 (if outside your budget, consider previous models or refurbished).\n",
      "2. **Dell XPS 13** – Known for its sleek, minimalist look and powerful specs, usually priced between $999 and $1,300.\n",
      "3. **HP Spectre x360** – Elegant design with a lightweight body and convertible features, available around $900-$1,200.\n",
      "4. **ASUS ZenBook 14** – Stylish and portable, generally around $800-$1,000.\n",
      "5. **Microsoft Surface Laptop 4/5** – Minimalist design with a clean look, priced around $900-$1,200.\n",
      "\n",
      "If you're looking for a more budget-friendly option under $1,000, consider the **Acer Swift 3** or **Lenovo IdeaPad Slim 7**, which offer good performance and a minimalist style at a lower price.\n",
      "\n",
      "Would you prefer a specific operating system (Windows, macOS, Chrome OS) or certain features like portability, battery life, or performance?\n",
      "\n",
      "Conversation has 7 messages\n"
     ]
    }
   ],
   "source": [
    "# Shopping assistant that remembers preferences\n",
    "shopper = Branch(\n",
    "    system=\"You are a shopping assistant. Remember user preferences and make personalized recommendations.\"\n",
    ")\n",
    "\n",
    "# Build up preferences over time\n",
    "pref1 = await shopper.communicate(\"I like blue colors and minimalist design\")\n",
    "print(\"Assistant:\", pref1)\n",
    "\n",
    "pref2 = await shopper.communicate(\"My budget is around $100-200\")\n",
    "print(\"\\nAssistant:\", pref2)\n",
    "\n",
    "# Now ask for recommendations (uses accumulated context)\n",
    "rec = await shopper.communicate(\"What laptop should I buy?\")\n",
    "print(\"\\nRecommendation:\", rec)\n",
    "\n",
    "# Check conversation length\n",
    "print(f\"\\nConversation has {len(shopper.messages)} messages\")"
   ]
  },
  {
   "cell_type": "markdown",
   "metadata": {},
   "source": [
    "## Pattern 3: Conversation State Management\n",
    "\n",
    "Viewing and managing conversation history:"
   ]
  },
  {
   "cell_type": "code",
   "execution_count": 5,
   "metadata": {},
   "outputs": [
    {
     "name": "stdout",
     "output_type": "stream",
     "text": [
      "Conversation overview:\n",
      "        role                                            content\n",
      "0     system  {'system_message': 'You are a shopping assista...\n",
      "1       user  {'context': [], 'instruction': 'I like blue co...\n",
      "2  assistant  {'assistant_response': 'Thank you for sharing ...\n",
      "3       user  {'context': [], 'instruction': 'My budget is a...\n",
      "4  assistant  {'assistant_response': 'Great! With a budget o...\n",
      "\n",
      "User said 3 things\n",
      "Assistant responded 3 times\n"
     ]
    }
   ],
   "source": [
    "# View conversation as DataFrame\n",
    "conversation_df = shopper.to_df()\n",
    "print(\"Conversation overview:\")\n",
    "print(conversation_df[[\"role\", \"content\"]].head())\n",
    "\n",
    "# Get just user messages\n",
    "user_messages = [msg for msg in shopper.messages if msg.role == \"user\"]\n",
    "print(f\"\\nUser said {len(user_messages)} things\")\n",
    "\n",
    "# Get just assistant responses\n",
    "assistant_messages = [\n",
    "    msg for msg in shopper.messages if msg.role == \"assistant\"\n",
    "]\n",
    "print(f\"Assistant responded {len(assistant_messages)} times\")"
   ]
  },
  {
   "cell_type": "markdown",
   "metadata": {},
   "source": [
    "## Pattern 4: Context-Aware Operations\n",
    "\n",
    "Combining `operate()` with conversation context:"
   ]
  },
  {
   "cell_type": "code",
   "execution_count": 6,
   "metadata": {},
   "outputs": [],
   "source": [
    "def search_products(category: str, max_price: float) -> str:\n",
    "    \"\"\"Search for products in category under max price.\"\"\"\n",
    "    return f\"Found 5 {category} items under ${max_price}\"\n",
    "\n",
    "\n",
    "def add_to_cart(product_name: str) -> str:\n",
    "    \"\"\"Add product to shopping cart.\"\"\"\n",
    "    return f\"Added {product_name} to cart\"\n",
    "\n",
    "\n",
    "# Shopping bot with tools\n",
    "shop_bot = Branch(\n",
    "    system=\"You help users shop. Use tools when needed.\",\n",
    "    tools=[search_products, add_to_cart],\n",
    ")"
   ]
  },
  {
   "cell_type": "code",
   "execution_count": 7,
   "metadata": {},
   "outputs": [
    {
     "name": "stdout",
     "output_type": "stream",
     "text": [
      "\n",
      "Actions taken:\n",
      "- search_products: Found 5 wireless headphones items under $150\n"
     ]
    }
   ],
   "source": [
    "# Set shopping context\n",
    "await shop_bot.communicate(\"I'm looking for wireless headphones under $150\")\n",
    "\n",
    "# Use operate() with accumulated context\n",
    "result = await shop_bot.operate(\n",
    "    instruction=\"Find me some options and add the best one to my cart\",\n",
    "    actions=True,\n",
    ")\n",
    "\n",
    "print(\"\\nActions taken:\")\n",
    "for action in result.action_responses:\n",
    "    print(f\"- {action.function}: {action.output}\")"
   ]
  },
  {
   "cell_type": "markdown",
   "metadata": {},
   "source": [
    "## Key Patterns Summary\n",
    "\n",
    "1. **Contextual Communication**: Use `context` parameter to provide relevant information\n",
    "2. **Memory Building**: `communicate()` automatically maintains conversation history\n",
    "3. **State Inspection**: Access `branch.messages` and `branch.to_df()` to understand conversation\n",
    "4. **Context + Actions**: Combine conversation memory with `operate()` for context-aware tool usage\n",
    "\n",
    "These patterns form the foundation for building conversational AI applications!"
   ]
  }
 ],
 "metadata": {
  "kernelspec": {
   "display_name": "lionagi",
   "language": "python",
   "name": "python3"
  },
  "language_info": {
   "codemirror_mode": {
    "name": "ipython",
    "version": 3
   },
   "file_extension": ".py",
   "mimetype": "text/x-python",
   "name": "python",
   "nbconvert_exporter": "python",
   "pygments_lexer": "ipython3",
   "version": "3.10.15"
  }
 },
 "nbformat": 4,
 "nbformat_minor": 4
}
