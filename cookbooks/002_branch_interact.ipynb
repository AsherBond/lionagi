{
 "cells": [
  {
   "cell_type": "markdown",
   "metadata": {},
   "source": [
    "# Multi-Branch Interactions & Patterns\n",
    "\n",
    "This notebook demonstrates how to orchestrate multiple AI agents working together, showcasing the power of lionagi's branch system for complex AI workflows.\n",
    "\n",
    "**What you'll learn:**\n",
    "- Creating separate AI agents with distinct personalities and roles\n",
    "- Passing context between different branches for collaboration\n",
    "- Implementing feedback loops for iterative improvement\n",
    "- Persisting and reloading conversation state"
   ]
  },
  {
   "cell_type": "code",
   "execution_count": 1,
   "metadata": {},
   "outputs": [],
   "source": [
    "from lionagi import Branch\n",
    "from IPython.display import Markdown"
   ]
  },
  {
   "cell_type": "code",
   "execution_count": 2,
   "metadata": {},
   "outputs": [],
   "source": [
    "sys_comedian = \"As a comedian, you are sarcastically funny\"\n",
    "\n",
    "prompt1 = \"short joke: a blue whale and a big shark meet at the bar and start dancing\"\n",
    "prompt2 = \"continue the joke: and then they stopped\""
   ]
  },
  {
   "cell_type": "code",
   "execution_count": 3,
   "metadata": {},
   "outputs": [],
   "source": [
    "# start a LLM session and have consecutive conversation with it\n",
    "comedian = Branch(system=sys_comedian)\n",
    "\n",
    "joke1 = await comedian.communicate(prompt1)\n",
    "joke2 = await comedian.communicate(prompt2)"
   ]
  },
  {
   "cell_type": "code",
   "execution_count": 4,
   "metadata": {},
   "outputs": [
    {
     "data": {
      "text/markdown": [
       "A blue whale and a big shark walk into a bar, spot each other, and start dancing. Turns out, one's just there to whale out, and the other's just looking to fin-ish the night on a high note!"
      ],
      "text/plain": [
       "<IPython.core.display.Markdown object>"
      ]
     },
     "execution_count": 4,
     "metadata": {},
     "output_type": "execute_result"
    }
   ],
   "source": [
    "Markdown(joke1)"
   ]
  },
  {
   "cell_type": "code",
   "execution_count": 5,
   "metadata": {},
   "outputs": [
    {
     "data": {
      "text/markdown": [
       "And then they stopped... because even a giant whale and a massive shark knew it’s hard to keep dancing when the music’s just a little too *fin*-tastic."
      ],
      "text/plain": [
       "<IPython.core.display.Markdown object>"
      ]
     },
     "execution_count": 5,
     "metadata": {},
     "output_type": "execute_result"
    }
   ],
   "source": [
    "Markdown(joke2)"
   ]
  },
  {
   "cell_type": "markdown",
   "metadata": {},
   "source": [
    "**Introducing Multi-Agent Collaboration:**\n",
    "\n",
    "Now we'll create a second AI agent with a different role and personality. This demonstrates a common pattern in AI applications: having specialized agents that excel at different tasks.\n",
    "\n",
    "**The Multi-Agent Pattern:**\n",
    "- **Comedian**: Creative, humorous, focused on entertainment\n",
    "- **Critic**: Analytical, logical, focused on evaluation and improvement\n",
    "\n",
    "This separation of concerns allows each agent to specialize in what they do best, leading to higher quality results through collaboration."
   ]
  },
  {
   "cell_type": "code",
   "execution_count": 6,
   "metadata": {},
   "outputs": [],
   "source": [
    "# some messages for the critic\n",
    "sys_critic = \"you are a respected commentator, you are artistically logical\"\n",
    "\n",
    "prompt3 = \"short comments, what do you think about the first joke?\"\n",
    "prompt4 = \"provide a concise artistic critique on both jokes, and rate from 1-10\""
   ]
  },
  {
   "cell_type": "code",
   "execution_count": 7,
   "metadata": {},
   "outputs": [],
   "source": [
    "# create a session with the critic and generate some comments in a multi-turn conversation\n",
    "critic = Branch(system=sys_critic)\n",
    "\n",
    "# provide context for the critic, context needs to be string or string mappings/iterables\n",
    "context = {\n",
    "    \"joke1\": {\"prompt\": prompt1, \"response\": joke1},\n",
    "    \"joke2\": {\"prompt\": prompt2, \"response\": joke2},\n",
    "}\n",
    "\n",
    "# you only need to provide same context once in a conversation\n",
    "comment1 = await critic.communicate(prompt3, context=context)\n",
    "comment2 = await critic.communicate(prompt4)"
   ]
  },
  {
   "cell_type": "code",
   "execution_count": 8,
   "metadata": {},
   "outputs": [
    {
     "data": {
      "text/markdown": [
       "The first joke charmingly plays with oceanic imagery and puns, giving the animals human-like social traits. It's a whimsical, light-hearted setup that invites a fun visual—two giant sea creatures dancing in a bar—highlighting humor through clever wordplay. A delightful way to animate the marine world with playful humor!"
      ],
      "text/plain": [
       "<IPython.core.display.Markdown object>"
      ]
     },
     "execution_count": 8,
     "metadata": {},
     "output_type": "execute_result"
    }
   ],
   "source": [
    "Markdown(comment1)"
   ]
  },
  {
   "cell_type": "code",
   "execution_count": 9,
   "metadata": {},
   "outputs": [
    {
     "data": {
      "text/markdown": [
       "The first joke creatively merges marine life with barroom social scene, using puns like \"whale out\" and \"fin-ish\" to evoke humor through wordplay. Its vivid imagery and light tone make it engaging.  \n",
       "**Rating: 7/10**\n",
       "\n",
       "The second joke extends the pun theme, ending with a clever twist on the difficulty of dancing to \"fintastic\" music. It employs a nice callback while maintaining playful language.  \n",
       "**Rating: 6.5/10**"
      ],
      "text/plain": [
       "<IPython.core.display.Markdown object>"
      ]
     },
     "execution_count": 9,
     "metadata": {},
     "output_type": "execute_result"
    }
   ],
   "source": [
    "Markdown(comment2)"
   ]
  },
  {
   "cell_type": "markdown",
   "metadata": {},
   "source": [
    "**Implementing Feedback Loops:**\n",
    "\n",
    "One of the most powerful patterns in AI workflows is the feedback loop, where one agent's output becomes another agent's input. This creates an iterative improvement cycle.\n",
    "\n",
    "**The Feedback Process:**\n",
    "1. **Initial Creation**: Comedian generates content\n",
    "2. **Critical Analysis**: Critic evaluates the content  \n",
    "3. **Reflection & Improvement**: Comedian receives feedback and refines their work\n",
    "\n",
    "This pattern mimics real-world creative processes and often leads to significantly improved results compared to single-shot generation."
   ]
  },
  {
   "cell_type": "code",
   "execution_count": 10,
   "metadata": {},
   "outputs": [],
   "source": [
    "# messages for comedian again\n",
    "prompt5 = \"your jokes were evaluated by a critic, does it make sense to you? why?\"\n",
    "prompt6 = \"basing on your reflection, write joke1 again\"\n",
    "prompt7 = \"write joke2 again\"\n",
    "\n",
    "# let us provide critic's feedback to comedian\n",
    "context2 = [i.response for i in critic.msgs.assistant_responses]"
   ]
  },
  {
   "cell_type": "code",
   "execution_count": 11,
   "metadata": {},
   "outputs": [],
   "source": [
    "# run the instructions\n",
    "reflect = await comedian.communicate(prompt5, context=context2)\n",
    "joke11 = await comedian.communicate(prompt6)\n",
    "joke22 = await comedian.communicate(prompt7)"
   ]
  },
  {
   "cell_type": "code",
   "execution_count": 12,
   "metadata": {},
   "outputs": [
    {
     "data": {
      "text/markdown": [
       "Yes, it makes sense to me. The jokes rely on vivid oceanic imagery and clever puns—\"whale out,\" \"fin-ish,\" \"fintastic\"—which create a fun, playful mental picture. They work because they anthropomorphize marine creatures in an unexpected social setting, making the humor accessible and entertaining. The punchlines cleverly twist the situation, reinforcing the humor through wordplay. Given the ratings and the critic’s positive remarks about the visual and pun-based humor, it seems thoughtfully crafted to amuse an audience familiar with marine themes and puns."
      ],
      "text/plain": [
       "<IPython.core.display.Markdown object>"
      ]
     },
     "execution_count": 12,
     "metadata": {},
     "output_type": "execute_result"
    }
   ],
   "source": [
    "Markdown(reflect)"
   ]
  },
  {
   "cell_type": "code",
   "execution_count": 13,
   "metadata": {},
   "outputs": [
    {
     "data": {
      "text/markdown": [
       "Sure! Here's a refreshed version of Joke 1, keeping in line with the witty oceanic imagery and wordplay:\n",
       "\n",
       "A blue whale and a big shark walk into a bar, spot each other, and start dancing. Turns out, one just wants to whale out, and the other’s ready to fin-ish the night with a splash!"
      ],
      "text/plain": [
       "<IPython.core.display.Markdown object>"
      ]
     },
     "execution_count": 13,
     "metadata": {},
     "output_type": "execute_result"
    }
   ],
   "source": [
    "Markdown(joke11)"
   ]
  },
  {
   "cell_type": "code",
   "execution_count": 14,
   "metadata": {},
   "outputs": [
    {
     "data": {
      "text/markdown": [
       "# Assistant Response\n",
       "\n",
       "**Response**:\n",
       "And then they stopped—because even a giant whale and a massive shark knew it’s hard to keep dancing when the music’s just a little too *fintastic*."
      ],
      "text/plain": [
       "<IPython.core.display.Markdown object>"
      ]
     },
     "execution_count": 14,
     "metadata": {},
     "output_type": "execute_result"
    }
   ],
   "source": [
    "Markdown(joke22)"
   ]
  },
  {
   "cell_type": "code",
   "execution_count": 15,
   "metadata": {},
   "outputs": [
    {
     "data": {
      "text/html": [
       "<div>\n",
       "<style scoped>\n",
       "    .dataframe tbody tr th:only-of-type {\n",
       "        vertical-align: middle;\n",
       "    }\n",
       "\n",
       "    .dataframe tbody tr th {\n",
       "        vertical-align: top;\n",
       "    }\n",
       "\n",
       "    .dataframe thead th {\n",
       "        text-align: right;\n",
       "    }\n",
       "</style>\n",
       "<table border=\"1\" class=\"dataframe\">\n",
       "  <thead>\n",
       "    <tr style=\"text-align: right;\">\n",
       "      <th></th>\n",
       "      <th>created_at</th>\n",
       "      <th>role</th>\n",
       "      <th>content</th>\n",
       "      <th>id</th>\n",
       "      <th>sender</th>\n",
       "      <th>recipient</th>\n",
       "      <th>metadata</th>\n",
       "    </tr>\n",
       "  </thead>\n",
       "  <tbody>\n",
       "    <tr>\n",
       "      <th>0</th>\n",
       "      <td>1.753196e+09</td>\n",
       "      <td>system</td>\n",
       "      <td>{'system_message': 'As a comedian, you are sar...</td>\n",
       "      <td>3b518c53-5bbc-4d38-8cec-7601af2cda68</td>\n",
       "      <td>system</td>\n",
       "      <td>466fec09-0bfa-46bc-9c6d-5e00c6390ae6</td>\n",
       "      <td>{'lion_class': 'lionagi.protocols.messages.sys...</td>\n",
       "    </tr>\n",
       "    <tr>\n",
       "      <th>1</th>\n",
       "      <td>1.753196e+09</td>\n",
       "      <td>user</td>\n",
       "      <td>{'context': [], 'instruction': 'short joke: a ...</td>\n",
       "      <td>58120383-0218-4cc2-b0d1-848020d660cf</td>\n",
       "      <td>user</td>\n",
       "      <td>466fec09-0bfa-46bc-9c6d-5e00c6390ae6</td>\n",
       "      <td>{'lion_class': 'lionagi.protocols.messages.ins...</td>\n",
       "    </tr>\n",
       "    <tr>\n",
       "      <th>2</th>\n",
       "      <td>1.753196e+09</td>\n",
       "      <td>assistant</td>\n",
       "      <td>{'assistant_response': 'A blue whale and a big...</td>\n",
       "      <td>e312733a-c22f-4996-9b0f-57c76127bbc4</td>\n",
       "      <td>466fec09-0bfa-46bc-9c6d-5e00c6390ae6</td>\n",
       "      <td>user</td>\n",
       "      <td>{'model_response': {'id': 'chatcmpl-Bw8kZu6vZc...</td>\n",
       "    </tr>\n",
       "    <tr>\n",
       "      <th>3</th>\n",
       "      <td>1.753196e+09</td>\n",
       "      <td>user</td>\n",
       "      <td>{'context': [], 'instruction': 'continue the j...</td>\n",
       "      <td>c7699d50-20f8-4ea1-8ac6-afa68d8ae10e</td>\n",
       "      <td>user</td>\n",
       "      <td>466fec09-0bfa-46bc-9c6d-5e00c6390ae6</td>\n",
       "      <td>{'lion_class': 'lionagi.protocols.messages.ins...</td>\n",
       "    </tr>\n",
       "    <tr>\n",
       "      <th>4</th>\n",
       "      <td>1.753196e+09</td>\n",
       "      <td>assistant</td>\n",
       "      <td>{'assistant_response': 'And then they stopped....</td>\n",
       "      <td>602c39b2-436f-4027-8d2a-2db25930dcd7</td>\n",
       "      <td>466fec09-0bfa-46bc-9c6d-5e00c6390ae6</td>\n",
       "      <td>user</td>\n",
       "      <td>{'model_response': {'id': 'chatcmpl-Bw8ka5TX4t...</td>\n",
       "    </tr>\n",
       "    <tr>\n",
       "      <th>5</th>\n",
       "      <td>1.753196e+09</td>\n",
       "      <td>user</td>\n",
       "      <td>{'context': ['The first joke charmingly plays ...</td>\n",
       "      <td>510f6958-cb4e-428a-9cbb-c0cc100cd059</td>\n",
       "      <td>user</td>\n",
       "      <td>466fec09-0bfa-46bc-9c6d-5e00c6390ae6</td>\n",
       "      <td>{'lion_class': 'lionagi.protocols.messages.ins...</td>\n",
       "    </tr>\n",
       "    <tr>\n",
       "      <th>6</th>\n",
       "      <td>1.753196e+09</td>\n",
       "      <td>assistant</td>\n",
       "      <td>{'assistant_response': 'Yes, it makes sense to...</td>\n",
       "      <td>f9383621-c009-4ece-843c-b64261703938</td>\n",
       "      <td>466fec09-0bfa-46bc-9c6d-5e00c6390ae6</td>\n",
       "      <td>user</td>\n",
       "      <td>{'model_response': {'id': 'chatcmpl-Bw8kfGGPtr...</td>\n",
       "    </tr>\n",
       "    <tr>\n",
       "      <th>7</th>\n",
       "      <td>1.753196e+09</td>\n",
       "      <td>user</td>\n",
       "      <td>{'context': [], 'instruction': 'basing on your...</td>\n",
       "      <td>e580bf5e-8c97-450f-b4ff-efd5b2f85133</td>\n",
       "      <td>user</td>\n",
       "      <td>466fec09-0bfa-46bc-9c6d-5e00c6390ae6</td>\n",
       "      <td>{'lion_class': 'lionagi.protocols.messages.ins...</td>\n",
       "    </tr>\n",
       "    <tr>\n",
       "      <th>8</th>\n",
       "      <td>1.753196e+09</td>\n",
       "      <td>assistant</td>\n",
       "      <td>{'assistant_response': 'Sure! Here's a refresh...</td>\n",
       "      <td>4f09a1b2-2741-4859-a885-55c1ca835fa3</td>\n",
       "      <td>466fec09-0bfa-46bc-9c6d-5e00c6390ae6</td>\n",
       "      <td>user</td>\n",
       "      <td>{'model_response': {'id': 'chatcmpl-Bw8khpuvxO...</td>\n",
       "    </tr>\n",
       "    <tr>\n",
       "      <th>9</th>\n",
       "      <td>1.753196e+09</td>\n",
       "      <td>user</td>\n",
       "      <td>{'context': [], 'instruction': 'write joke2 ag...</td>\n",
       "      <td>fa52197b-086b-446d-b77b-5bcc94768698</td>\n",
       "      <td>user</td>\n",
       "      <td>466fec09-0bfa-46bc-9c6d-5e00c6390ae6</td>\n",
       "      <td>{'lion_class': 'lionagi.protocols.messages.ins...</td>\n",
       "    </tr>\n",
       "    <tr>\n",
       "      <th>10</th>\n",
       "      <td>1.753196e+09</td>\n",
       "      <td>assistant</td>\n",
       "      <td>{'assistant_response': '# Assistant Response\n",
       "\n",
       "...</td>\n",
       "      <td>41ada2a3-5637-4b2f-a9d5-5b5e00207e81</td>\n",
       "      <td>466fec09-0bfa-46bc-9c6d-5e00c6390ae6</td>\n",
       "      <td>user</td>\n",
       "      <td>{'model_response': {'id': 'chatcmpl-Bw8kjYVXsa...</td>\n",
       "    </tr>\n",
       "  </tbody>\n",
       "</table>\n",
       "</div>"
      ],
      "text/plain": [
       "      created_at       role  \\\n",
       "0   1.753196e+09     system   \n",
       "1   1.753196e+09       user   \n",
       "2   1.753196e+09  assistant   \n",
       "3   1.753196e+09       user   \n",
       "4   1.753196e+09  assistant   \n",
       "5   1.753196e+09       user   \n",
       "6   1.753196e+09  assistant   \n",
       "7   1.753196e+09       user   \n",
       "8   1.753196e+09  assistant   \n",
       "9   1.753196e+09       user   \n",
       "10  1.753196e+09  assistant   \n",
       "\n",
       "                                              content  \\\n",
       "0   {'system_message': 'As a comedian, you are sar...   \n",
       "1   {'context': [], 'instruction': 'short joke: a ...   \n",
       "2   {'assistant_response': 'A blue whale and a big...   \n",
       "3   {'context': [], 'instruction': 'continue the j...   \n",
       "4   {'assistant_response': 'And then they stopped....   \n",
       "5   {'context': ['The first joke charmingly plays ...   \n",
       "6   {'assistant_response': 'Yes, it makes sense to...   \n",
       "7   {'context': [], 'instruction': 'basing on your...   \n",
       "8   {'assistant_response': 'Sure! Here's a refresh...   \n",
       "9   {'context': [], 'instruction': 'write joke2 ag...   \n",
       "10  {'assistant_response': '# Assistant Response\n",
       "\n",
       "...   \n",
       "\n",
       "                                      id  \\\n",
       "0   3b518c53-5bbc-4d38-8cec-7601af2cda68   \n",
       "1   58120383-0218-4cc2-b0d1-848020d660cf   \n",
       "2   e312733a-c22f-4996-9b0f-57c76127bbc4   \n",
       "3   c7699d50-20f8-4ea1-8ac6-afa68d8ae10e   \n",
       "4   602c39b2-436f-4027-8d2a-2db25930dcd7   \n",
       "5   510f6958-cb4e-428a-9cbb-c0cc100cd059   \n",
       "6   f9383621-c009-4ece-843c-b64261703938   \n",
       "7   e580bf5e-8c97-450f-b4ff-efd5b2f85133   \n",
       "8   4f09a1b2-2741-4859-a885-55c1ca835fa3   \n",
       "9   fa52197b-086b-446d-b77b-5bcc94768698   \n",
       "10  41ada2a3-5637-4b2f-a9d5-5b5e00207e81   \n",
       "\n",
       "                                  sender  \\\n",
       "0                                 system   \n",
       "1                                   user   \n",
       "2   466fec09-0bfa-46bc-9c6d-5e00c6390ae6   \n",
       "3                                   user   \n",
       "4   466fec09-0bfa-46bc-9c6d-5e00c6390ae6   \n",
       "5                                   user   \n",
       "6   466fec09-0bfa-46bc-9c6d-5e00c6390ae6   \n",
       "7                                   user   \n",
       "8   466fec09-0bfa-46bc-9c6d-5e00c6390ae6   \n",
       "9                                   user   \n",
       "10  466fec09-0bfa-46bc-9c6d-5e00c6390ae6   \n",
       "\n",
       "                               recipient  \\\n",
       "0   466fec09-0bfa-46bc-9c6d-5e00c6390ae6   \n",
       "1   466fec09-0bfa-46bc-9c6d-5e00c6390ae6   \n",
       "2                                   user   \n",
       "3   466fec09-0bfa-46bc-9c6d-5e00c6390ae6   \n",
       "4                                   user   \n",
       "5   466fec09-0bfa-46bc-9c6d-5e00c6390ae6   \n",
       "6                                   user   \n",
       "7   466fec09-0bfa-46bc-9c6d-5e00c6390ae6   \n",
       "8                                   user   \n",
       "9   466fec09-0bfa-46bc-9c6d-5e00c6390ae6   \n",
       "10                                  user   \n",
       "\n",
       "                                             metadata  \n",
       "0   {'lion_class': 'lionagi.protocols.messages.sys...  \n",
       "1   {'lion_class': 'lionagi.protocols.messages.ins...  \n",
       "2   {'model_response': {'id': 'chatcmpl-Bw8kZu6vZc...  \n",
       "3   {'lion_class': 'lionagi.protocols.messages.ins...  \n",
       "4   {'model_response': {'id': 'chatcmpl-Bw8ka5TX4t...  \n",
       "5   {'lion_class': 'lionagi.protocols.messages.ins...  \n",
       "6   {'model_response': {'id': 'chatcmpl-Bw8kfGGPtr...  \n",
       "7   {'lion_class': 'lionagi.protocols.messages.ins...  \n",
       "8   {'model_response': {'id': 'chatcmpl-Bw8khpuvxO...  \n",
       "9   {'lion_class': 'lionagi.protocols.messages.ins...  \n",
       "10  {'model_response': {'id': 'chatcmpl-Bw8kjYVXsa...  "
      ]
     },
     "execution_count": 15,
     "metadata": {},
     "output_type": "execute_result"
    }
   ],
   "source": [
    "comedian.to_df()"
   ]
  },
  {
   "cell_type": "code",
   "execution_count": 16,
   "metadata": {},
   "outputs": [
    {
     "data": {
      "text/html": [
       "<div>\n",
       "<style scoped>\n",
       "    .dataframe tbody tr th:only-of-type {\n",
       "        vertical-align: middle;\n",
       "    }\n",
       "\n",
       "    .dataframe tbody tr th {\n",
       "        vertical-align: top;\n",
       "    }\n",
       "\n",
       "    .dataframe thead th {\n",
       "        text-align: right;\n",
       "    }\n",
       "</style>\n",
       "<table border=\"1\" class=\"dataframe\">\n",
       "  <thead>\n",
       "    <tr style=\"text-align: right;\">\n",
       "      <th></th>\n",
       "      <th>created_at</th>\n",
       "      <th>role</th>\n",
       "      <th>content</th>\n",
       "      <th>id</th>\n",
       "      <th>sender</th>\n",
       "      <th>recipient</th>\n",
       "      <th>metadata</th>\n",
       "    </tr>\n",
       "  </thead>\n",
       "  <tbody>\n",
       "    <tr>\n",
       "      <th>0</th>\n",
       "      <td>1.753196e+09</td>\n",
       "      <td>system</td>\n",
       "      <td>{'system_message': 'you are a respected commen...</td>\n",
       "      <td>efed13b2-5e13-418a-a282-6eeaa165f9eb</td>\n",
       "      <td>system</td>\n",
       "      <td>75e84403-697d-455f-82c1-34627e5a2edd</td>\n",
       "      <td>{'lion_class': 'lionagi.protocols.messages.sys...</td>\n",
       "    </tr>\n",
       "    <tr>\n",
       "      <th>1</th>\n",
       "      <td>1.753196e+09</td>\n",
       "      <td>user</td>\n",
       "      <td>{'context': [{'joke1': {'prompt': 'short joke:...</td>\n",
       "      <td>69721cd5-a17d-4e3b-8cb1-0d33a2e83725</td>\n",
       "      <td>user</td>\n",
       "      <td>75e84403-697d-455f-82c1-34627e5a2edd</td>\n",
       "      <td>{'lion_class': 'lionagi.protocols.messages.ins...</td>\n",
       "    </tr>\n",
       "    <tr>\n",
       "      <th>2</th>\n",
       "      <td>1.753196e+09</td>\n",
       "      <td>assistant</td>\n",
       "      <td>{'assistant_response': 'The first joke charmin...</td>\n",
       "      <td>a1f0d69b-d64a-40bb-a1e3-3632761e90c3</td>\n",
       "      <td>75e84403-697d-455f-82c1-34627e5a2edd</td>\n",
       "      <td>user</td>\n",
       "      <td>{'model_response': {'id': 'chatcmpl-Bw8kbOEO1c...</td>\n",
       "    </tr>\n",
       "    <tr>\n",
       "      <th>3</th>\n",
       "      <td>1.753196e+09</td>\n",
       "      <td>user</td>\n",
       "      <td>{'context': [], 'instruction': 'provide a conc...</td>\n",
       "      <td>eecb954e-825f-43f8-b569-7251d403e69d</td>\n",
       "      <td>user</td>\n",
       "      <td>75e84403-697d-455f-82c1-34627e5a2edd</td>\n",
       "      <td>{'lion_class': 'lionagi.protocols.messages.ins...</td>\n",
       "    </tr>\n",
       "    <tr>\n",
       "      <th>4</th>\n",
       "      <td>1.753196e+09</td>\n",
       "      <td>assistant</td>\n",
       "      <td>{'assistant_response': 'The first joke creativ...</td>\n",
       "      <td>a0967acf-bce2-4b67-9817-00052b5d36ce</td>\n",
       "      <td>75e84403-697d-455f-82c1-34627e5a2edd</td>\n",
       "      <td>user</td>\n",
       "      <td>{'model_response': {'id': 'chatcmpl-Bw8kdNUI0r...</td>\n",
       "    </tr>\n",
       "  </tbody>\n",
       "</table>\n",
       "</div>"
      ],
      "text/plain": [
       "     created_at       role                                            content  \\\n",
       "0  1.753196e+09     system  {'system_message': 'you are a respected commen...   \n",
       "1  1.753196e+09       user  {'context': [{'joke1': {'prompt': 'short joke:...   \n",
       "2  1.753196e+09  assistant  {'assistant_response': 'The first joke charmin...   \n",
       "3  1.753196e+09       user  {'context': [], 'instruction': 'provide a conc...   \n",
       "4  1.753196e+09  assistant  {'assistant_response': 'The first joke creativ...   \n",
       "\n",
       "                                     id                                sender  \\\n",
       "0  efed13b2-5e13-418a-a282-6eeaa165f9eb                                system   \n",
       "1  69721cd5-a17d-4e3b-8cb1-0d33a2e83725                                  user   \n",
       "2  a1f0d69b-d64a-40bb-a1e3-3632761e90c3  75e84403-697d-455f-82c1-34627e5a2edd   \n",
       "3  eecb954e-825f-43f8-b569-7251d403e69d                                  user   \n",
       "4  a0967acf-bce2-4b67-9817-00052b5d36ce  75e84403-697d-455f-82c1-34627e5a2edd   \n",
       "\n",
       "                              recipient  \\\n",
       "0  75e84403-697d-455f-82c1-34627e5a2edd   \n",
       "1  75e84403-697d-455f-82c1-34627e5a2edd   \n",
       "2                                  user   \n",
       "3  75e84403-697d-455f-82c1-34627e5a2edd   \n",
       "4                                  user   \n",
       "\n",
       "                                            metadata  \n",
       "0  {'lion_class': 'lionagi.protocols.messages.sys...  \n",
       "1  {'lion_class': 'lionagi.protocols.messages.ins...  \n",
       "2  {'model_response': {'id': 'chatcmpl-Bw8kbOEO1c...  \n",
       "3  {'lion_class': 'lionagi.protocols.messages.ins...  \n",
       "4  {'model_response': {'id': 'chatcmpl-Bw8kdNUI0r...  "
      ]
     },
     "execution_count": 16,
     "metadata": {},
     "output_type": "execute_result"
    }
   ],
   "source": [
    "critic.to_df()"
   ]
  },
  {
   "cell_type": "markdown",
   "metadata": {},
   "source": [
    "**Branch Persistence: Saving & Loading State**\n",
    "\n",
    "One of lionagi's powerful features is the ability to serialize and persist entire conversation branches. This enables:\n",
    "\n",
    "**Production Use Cases:**\n",
    "- **Session Recovery**: Resume conversations after system restarts\n",
    "- **Conversation Archiving**: Store important dialogues for future reference  \n",
    "- **A/B Testing**: Save different conversation branches for comparison\n",
    "- **Audit Trails**: Maintain complete records of AI interactions\n",
    "\n",
    "The serialization captures not just the messages, but the entire conversation state including metadata, model responses, and conversation flow."
   ]
  },
  {
   "cell_type": "code",
   "execution_count": 17,
   "metadata": {},
   "outputs": [],
   "source": [
    "import json\n",
    "\n",
    "with open(\"data/002_comedian.json\", \"w\") as f:\n",
    "    json.dump(comedian.to_dict(), f, indent=4)\n",
    "\n",
    "with open(\"data/002_critic.json\", \"w\") as f:\n",
    "    json.dump(critic.to_dict(), f, indent=4)"
   ]
  },
  {
   "cell_type": "code",
   "execution_count": 18,
   "metadata": {},
   "outputs": [
    {
     "data": {
      "text/html": [
       "<div>\n",
       "<style scoped>\n",
       "    .dataframe tbody tr th:only-of-type {\n",
       "        vertical-align: middle;\n",
       "    }\n",
       "\n",
       "    .dataframe tbody tr th {\n",
       "        vertical-align: top;\n",
       "    }\n",
       "\n",
       "    .dataframe thead th {\n",
       "        text-align: right;\n",
       "    }\n",
       "</style>\n",
       "<table border=\"1\" class=\"dataframe\">\n",
       "  <thead>\n",
       "    <tr style=\"text-align: right;\">\n",
       "      <th></th>\n",
       "      <th>created_at</th>\n",
       "      <th>role</th>\n",
       "      <th>content</th>\n",
       "      <th>id</th>\n",
       "      <th>sender</th>\n",
       "      <th>recipient</th>\n",
       "      <th>metadata</th>\n",
       "    </tr>\n",
       "  </thead>\n",
       "  <tbody>\n",
       "    <tr>\n",
       "      <th>0</th>\n",
       "      <td>1.753196e+09</td>\n",
       "      <td>system</td>\n",
       "      <td>{'system_message': {'id': '3b518c53-5bbc-4d38-...</td>\n",
       "      <td>e3946ed4-5fdf-4e25-a40c-8721c06b34bd</td>\n",
       "      <td>system</td>\n",
       "      <td>466fec09-0bfa-46bc-9c6d-5e00c6390ae6</td>\n",
       "      <td>{'lion_class': 'lionagi.protocols.messages.sys...</td>\n",
       "    </tr>\n",
       "    <tr>\n",
       "      <th>1</th>\n",
       "      <td>1.753196e+09</td>\n",
       "      <td>system</td>\n",
       "      <td>{'system_message': 'As a comedian, you are sar...</td>\n",
       "      <td>3b518c53-5bbc-4d38-8cec-7601af2cda68</td>\n",
       "      <td>system</td>\n",
       "      <td>466fec09-0bfa-46bc-9c6d-5e00c6390ae6</td>\n",
       "      <td>{'lion_class': 'lionagi.protocols.messages.sys...</td>\n",
       "    </tr>\n",
       "    <tr>\n",
       "      <th>2</th>\n",
       "      <td>1.753196e+09</td>\n",
       "      <td>user</td>\n",
       "      <td>{'context': [], 'instruction': 'short joke: a ...</td>\n",
       "      <td>58120383-0218-4cc2-b0d1-848020d660cf</td>\n",
       "      <td>user</td>\n",
       "      <td>466fec09-0bfa-46bc-9c6d-5e00c6390ae6</td>\n",
       "      <td>{'lion_class': 'lionagi.protocols.messages.ins...</td>\n",
       "    </tr>\n",
       "    <tr>\n",
       "      <th>3</th>\n",
       "      <td>1.753196e+09</td>\n",
       "      <td>assistant</td>\n",
       "      <td>{'assistant_response': 'A blue whale and a big...</td>\n",
       "      <td>e312733a-c22f-4996-9b0f-57c76127bbc4</td>\n",
       "      <td>466fec09-0bfa-46bc-9c6d-5e00c6390ae6</td>\n",
       "      <td>user</td>\n",
       "      <td>{'model_response': {'id': 'chatcmpl-Bw8kZu6vZc...</td>\n",
       "    </tr>\n",
       "    <tr>\n",
       "      <th>4</th>\n",
       "      <td>1.753196e+09</td>\n",
       "      <td>user</td>\n",
       "      <td>{'context': [], 'instruction': 'continue the j...</td>\n",
       "      <td>c7699d50-20f8-4ea1-8ac6-afa68d8ae10e</td>\n",
       "      <td>user</td>\n",
       "      <td>466fec09-0bfa-46bc-9c6d-5e00c6390ae6</td>\n",
       "      <td>{'lion_class': 'lionagi.protocols.messages.ins...</td>\n",
       "    </tr>\n",
       "    <tr>\n",
       "      <th>5</th>\n",
       "      <td>1.753196e+09</td>\n",
       "      <td>assistant</td>\n",
       "      <td>{'assistant_response': 'And then they stopped....</td>\n",
       "      <td>602c39b2-436f-4027-8d2a-2db25930dcd7</td>\n",
       "      <td>466fec09-0bfa-46bc-9c6d-5e00c6390ae6</td>\n",
       "      <td>user</td>\n",
       "      <td>{'model_response': {'id': 'chatcmpl-Bw8ka5TX4t...</td>\n",
       "    </tr>\n",
       "    <tr>\n",
       "      <th>6</th>\n",
       "      <td>1.753196e+09</td>\n",
       "      <td>user</td>\n",
       "      <td>{'context': ['The first joke charmingly plays ...</td>\n",
       "      <td>510f6958-cb4e-428a-9cbb-c0cc100cd059</td>\n",
       "      <td>user</td>\n",
       "      <td>466fec09-0bfa-46bc-9c6d-5e00c6390ae6</td>\n",
       "      <td>{'lion_class': 'lionagi.protocols.messages.ins...</td>\n",
       "    </tr>\n",
       "    <tr>\n",
       "      <th>7</th>\n",
       "      <td>1.753196e+09</td>\n",
       "      <td>assistant</td>\n",
       "      <td>{'assistant_response': 'Yes, it makes sense to...</td>\n",
       "      <td>f9383621-c009-4ece-843c-b64261703938</td>\n",
       "      <td>466fec09-0bfa-46bc-9c6d-5e00c6390ae6</td>\n",
       "      <td>user</td>\n",
       "      <td>{'model_response': {'id': 'chatcmpl-Bw8kfGGPtr...</td>\n",
       "    </tr>\n",
       "    <tr>\n",
       "      <th>8</th>\n",
       "      <td>1.753196e+09</td>\n",
       "      <td>user</td>\n",
       "      <td>{'context': [], 'instruction': 'basing on your...</td>\n",
       "      <td>e580bf5e-8c97-450f-b4ff-efd5b2f85133</td>\n",
       "      <td>user</td>\n",
       "      <td>466fec09-0bfa-46bc-9c6d-5e00c6390ae6</td>\n",
       "      <td>{'lion_class': 'lionagi.protocols.messages.ins...</td>\n",
       "    </tr>\n",
       "    <tr>\n",
       "      <th>9</th>\n",
       "      <td>1.753196e+09</td>\n",
       "      <td>assistant</td>\n",
       "      <td>{'assistant_response': 'Sure! Here's a refresh...</td>\n",
       "      <td>4f09a1b2-2741-4859-a885-55c1ca835fa3</td>\n",
       "      <td>466fec09-0bfa-46bc-9c6d-5e00c6390ae6</td>\n",
       "      <td>user</td>\n",
       "      <td>{'model_response': {'id': 'chatcmpl-Bw8khpuvxO...</td>\n",
       "    </tr>\n",
       "    <tr>\n",
       "      <th>10</th>\n",
       "      <td>1.753196e+09</td>\n",
       "      <td>user</td>\n",
       "      <td>{'context': [], 'instruction': 'write joke2 ag...</td>\n",
       "      <td>fa52197b-086b-446d-b77b-5bcc94768698</td>\n",
       "      <td>user</td>\n",
       "      <td>466fec09-0bfa-46bc-9c6d-5e00c6390ae6</td>\n",
       "      <td>{'lion_class': 'lionagi.protocols.messages.ins...</td>\n",
       "    </tr>\n",
       "    <tr>\n",
       "      <th>11</th>\n",
       "      <td>1.753196e+09</td>\n",
       "      <td>assistant</td>\n",
       "      <td>{'assistant_response': '# Assistant Response\n",
       "\n",
       "...</td>\n",
       "      <td>41ada2a3-5637-4b2f-a9d5-5b5e00207e81</td>\n",
       "      <td>466fec09-0bfa-46bc-9c6d-5e00c6390ae6</td>\n",
       "      <td>user</td>\n",
       "      <td>{'model_response': {'id': 'chatcmpl-Bw8kjYVXsa...</td>\n",
       "    </tr>\n",
       "  </tbody>\n",
       "</table>\n",
       "</div>"
      ],
      "text/plain": [
       "      created_at       role  \\\n",
       "0   1.753196e+09     system   \n",
       "1   1.753196e+09     system   \n",
       "2   1.753196e+09       user   \n",
       "3   1.753196e+09  assistant   \n",
       "4   1.753196e+09       user   \n",
       "5   1.753196e+09  assistant   \n",
       "6   1.753196e+09       user   \n",
       "7   1.753196e+09  assistant   \n",
       "8   1.753196e+09       user   \n",
       "9   1.753196e+09  assistant   \n",
       "10  1.753196e+09       user   \n",
       "11  1.753196e+09  assistant   \n",
       "\n",
       "                                              content  \\\n",
       "0   {'system_message': {'id': '3b518c53-5bbc-4d38-...   \n",
       "1   {'system_message': 'As a comedian, you are sar...   \n",
       "2   {'context': [], 'instruction': 'short joke: a ...   \n",
       "3   {'assistant_response': 'A blue whale and a big...   \n",
       "4   {'context': [], 'instruction': 'continue the j...   \n",
       "5   {'assistant_response': 'And then they stopped....   \n",
       "6   {'context': ['The first joke charmingly plays ...   \n",
       "7   {'assistant_response': 'Yes, it makes sense to...   \n",
       "8   {'context': [], 'instruction': 'basing on your...   \n",
       "9   {'assistant_response': 'Sure! Here's a refresh...   \n",
       "10  {'context': [], 'instruction': 'write joke2 ag...   \n",
       "11  {'assistant_response': '# Assistant Response\n",
       "\n",
       "...   \n",
       "\n",
       "                                      id  \\\n",
       "0   e3946ed4-5fdf-4e25-a40c-8721c06b34bd   \n",
       "1   3b518c53-5bbc-4d38-8cec-7601af2cda68   \n",
       "2   58120383-0218-4cc2-b0d1-848020d660cf   \n",
       "3   e312733a-c22f-4996-9b0f-57c76127bbc4   \n",
       "4   c7699d50-20f8-4ea1-8ac6-afa68d8ae10e   \n",
       "5   602c39b2-436f-4027-8d2a-2db25930dcd7   \n",
       "6   510f6958-cb4e-428a-9cbb-c0cc100cd059   \n",
       "7   f9383621-c009-4ece-843c-b64261703938   \n",
       "8   e580bf5e-8c97-450f-b4ff-efd5b2f85133   \n",
       "9   4f09a1b2-2741-4859-a885-55c1ca835fa3   \n",
       "10  fa52197b-086b-446d-b77b-5bcc94768698   \n",
       "11  41ada2a3-5637-4b2f-a9d5-5b5e00207e81   \n",
       "\n",
       "                                  sender  \\\n",
       "0                                 system   \n",
       "1                                 system   \n",
       "2                                   user   \n",
       "3   466fec09-0bfa-46bc-9c6d-5e00c6390ae6   \n",
       "4                                   user   \n",
       "5   466fec09-0bfa-46bc-9c6d-5e00c6390ae6   \n",
       "6                                   user   \n",
       "7   466fec09-0bfa-46bc-9c6d-5e00c6390ae6   \n",
       "8                                   user   \n",
       "9   466fec09-0bfa-46bc-9c6d-5e00c6390ae6   \n",
       "10                                  user   \n",
       "11  466fec09-0bfa-46bc-9c6d-5e00c6390ae6   \n",
       "\n",
       "                               recipient  \\\n",
       "0   466fec09-0bfa-46bc-9c6d-5e00c6390ae6   \n",
       "1   466fec09-0bfa-46bc-9c6d-5e00c6390ae6   \n",
       "2   466fec09-0bfa-46bc-9c6d-5e00c6390ae6   \n",
       "3                                   user   \n",
       "4   466fec09-0bfa-46bc-9c6d-5e00c6390ae6   \n",
       "5                                   user   \n",
       "6   466fec09-0bfa-46bc-9c6d-5e00c6390ae6   \n",
       "7                                   user   \n",
       "8   466fec09-0bfa-46bc-9c6d-5e00c6390ae6   \n",
       "9                                   user   \n",
       "10  466fec09-0bfa-46bc-9c6d-5e00c6390ae6   \n",
       "11                                  user   \n",
       "\n",
       "                                             metadata  \n",
       "0   {'lion_class': 'lionagi.protocols.messages.sys...  \n",
       "1   {'lion_class': 'lionagi.protocols.messages.sys...  \n",
       "2   {'lion_class': 'lionagi.protocols.messages.ins...  \n",
       "3   {'model_response': {'id': 'chatcmpl-Bw8kZu6vZc...  \n",
       "4   {'lion_class': 'lionagi.protocols.messages.ins...  \n",
       "5   {'model_response': {'id': 'chatcmpl-Bw8ka5TX4t...  \n",
       "6   {'lion_class': 'lionagi.protocols.messages.ins...  \n",
       "7   {'model_response': {'id': 'chatcmpl-Bw8kfGGPtr...  \n",
       "8   {'lion_class': 'lionagi.protocols.messages.ins...  \n",
       "9   {'model_response': {'id': 'chatcmpl-Bw8khpuvxO...  \n",
       "10  {'lion_class': 'lionagi.protocols.messages.ins...  \n",
       "11  {'model_response': {'id': 'chatcmpl-Bw8kjYVXsa...  "
      ]
     },
     "execution_count": 18,
     "metadata": {},
     "output_type": "execute_result"
    }
   ],
   "source": [
    "# To use them again\n",
    "\n",
    "with open(\"data/002_comedian.json\") as f:\n",
    "    dict_ = json.load(f)\n",
    "    comedian = Branch.from_dict(dict_)\n",
    "\n",
    "comedian.to_df()"
   ]
  }
 ],
 "metadata": {
  "kernelspec": {
   "display_name": "lionagi",
   "language": "python",
   "name": "python3"
  },
  "language_info": {
   "codemirror_mode": {
    "name": "ipython",
    "version": 3
   },
   "file_extension": ".py",
   "mimetype": "text/x-python",
   "name": "python",
   "nbconvert_exporter": "python",
   "pygments_lexer": "ipython3",
   "version": "3.10.15"
  }
 },
 "nbformat": 4,
 "nbformat_minor": 2
}
